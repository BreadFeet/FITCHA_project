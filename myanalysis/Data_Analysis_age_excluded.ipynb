{
 "cells": [
  {
   "cell_type": "markdown",
   "id": "0d0a412e",
   "metadata": {},
   "source": [
    "# Clothes Size Classification"
   ]
  },
  {
   "cell_type": "markdown",
   "id": "817a5ba9",
   "metadata": {
    "heading_collapsed": true
   },
   "source": [
    "## Preprocessing"
   ]
  },
  {
   "cell_type": "code",
   "execution_count": 188,
   "id": "41b1009c",
   "metadata": {
    "ExecuteTime": {
     "end_time": "2021-09-07T09:22:38.970440Z",
     "start_time": "2021-09-07T09:22:38.960438Z"
    },
    "hidden": true
   },
   "outputs": [],
   "source": [
    "import pandas as pd\n",
    "import numpy as np"
   ]
  },
  {
   "cell_type": "code",
   "execution_count": 189,
   "id": "225af997",
   "metadata": {
    "ExecuteTime": {
     "end_time": "2021-09-07T09:22:39.143538Z",
     "start_time": "2021-09-07T09:22:38.973952Z"
    },
    "hidden": true
   },
   "outputs": [
    {
     "data": {
      "text/html": [
       "<div>\n",
       "<style scoped>\n",
       "    .dataframe tbody tr th:only-of-type {\n",
       "        vertical-align: middle;\n",
       "    }\n",
       "\n",
       "    .dataframe tbody tr th {\n",
       "        vertical-align: top;\n",
       "    }\n",
       "\n",
       "    .dataframe thead th {\n",
       "        text-align: right;\n",
       "    }\n",
       "</style>\n",
       "<table border=\"1\" class=\"dataframe\">\n",
       "  <thead>\n",
       "    <tr style=\"text-align: right;\">\n",
       "      <th></th>\n",
       "      <th>weight</th>\n",
       "      <th>age</th>\n",
       "      <th>height</th>\n",
       "      <th>size</th>\n",
       "    </tr>\n",
       "  </thead>\n",
       "  <tbody>\n",
       "    <tr>\n",
       "      <th>0</th>\n",
       "      <td>62</td>\n",
       "      <td>28.0</td>\n",
       "      <td>172.72</td>\n",
       "      <td>XL</td>\n",
       "    </tr>\n",
       "    <tr>\n",
       "      <th>1</th>\n",
       "      <td>59</td>\n",
       "      <td>36.0</td>\n",
       "      <td>167.64</td>\n",
       "      <td>L</td>\n",
       "    </tr>\n",
       "    <tr>\n",
       "      <th>2</th>\n",
       "      <td>61</td>\n",
       "      <td>34.0</td>\n",
       "      <td>165.10</td>\n",
       "      <td>M</td>\n",
       "    </tr>\n",
       "    <tr>\n",
       "      <th>3</th>\n",
       "      <td>65</td>\n",
       "      <td>27.0</td>\n",
       "      <td>175.26</td>\n",
       "      <td>L</td>\n",
       "    </tr>\n",
       "    <tr>\n",
       "      <th>4</th>\n",
       "      <td>62</td>\n",
       "      <td>45.0</td>\n",
       "      <td>172.72</td>\n",
       "      <td>M</td>\n",
       "    </tr>\n",
       "    <tr>\n",
       "      <th>...</th>\n",
       "      <td>...</td>\n",
       "      <td>...</td>\n",
       "      <td>...</td>\n",
       "      <td>...</td>\n",
       "    </tr>\n",
       "    <tr>\n",
       "      <th>119729</th>\n",
       "      <td>63</td>\n",
       "      <td>42.0</td>\n",
       "      <td>175.26</td>\n",
       "      <td>M</td>\n",
       "    </tr>\n",
       "    <tr>\n",
       "      <th>119730</th>\n",
       "      <td>45</td>\n",
       "      <td>29.0</td>\n",
       "      <td>154.94</td>\n",
       "      <td>S</td>\n",
       "    </tr>\n",
       "    <tr>\n",
       "      <th>119731</th>\n",
       "      <td>61</td>\n",
       "      <td>31.0</td>\n",
       "      <td>172.72</td>\n",
       "      <td>M</td>\n",
       "    </tr>\n",
       "    <tr>\n",
       "      <th>119732</th>\n",
       "      <td>74</td>\n",
       "      <td>31.0</td>\n",
       "      <td>167.64</td>\n",
       "      <td>XL</td>\n",
       "    </tr>\n",
       "    <tr>\n",
       "      <th>119733</th>\n",
       "      <td>70</td>\n",
       "      <td>30.0</td>\n",
       "      <td>167.64</td>\n",
       "      <td>XL</td>\n",
       "    </tr>\n",
       "  </tbody>\n",
       "</table>\n",
       "<p>119734 rows × 4 columns</p>\n",
       "</div>"
      ],
      "text/plain": [
       "        weight   age  height size\n",
       "0           62  28.0  172.72   XL\n",
       "1           59  36.0  167.64    L\n",
       "2           61  34.0  165.10    M\n",
       "3           65  27.0  175.26    L\n",
       "4           62  45.0  172.72    M\n",
       "...        ...   ...     ...  ...\n",
       "119729      63  42.0  175.26    M\n",
       "119730      45  29.0  154.94    S\n",
       "119731      61  31.0  172.72    M\n",
       "119732      74  31.0  167.64   XL\n",
       "119733      70  30.0  167.64   XL\n",
       "\n",
       "[119734 rows x 4 columns]"
      ]
     },
     "execution_count": 189,
     "metadata": {},
     "output_type": "execute_result"
    }
   ],
   "source": [
    "data = pd.read_csv('data/raw_data.csv')\n",
    "data"
   ]
  },
  {
   "cell_type": "code",
   "execution_count": 190,
   "id": "dee0342b",
   "metadata": {
    "ExecuteTime": {
     "end_time": "2021-09-07T09:22:39.222123Z",
     "start_time": "2021-09-07T09:22:39.148539Z"
    },
    "hidden": true
   },
   "outputs": [
    {
     "name": "stdout",
     "output_type": "stream",
     "text": [
      "<class 'pandas.core.frame.DataFrame'>\n",
      "RangeIndex: 119734 entries, 0 to 119733\n",
      "Data columns (total 4 columns):\n",
      " #   Column  Non-Null Count   Dtype  \n",
      "---  ------  --------------   -----  \n",
      " 0   weight  119734 non-null  int64  \n",
      " 1   age     119477 non-null  float64\n",
      " 2   height  119404 non-null  float64\n",
      " 3   size    119734 non-null  object \n",
      "dtypes: float64(2), int64(1), object(1)\n",
      "memory usage: 3.7+ MB\n"
     ]
    }
   ],
   "source": [
    "data.info()"
   ]
  },
  {
   "cell_type": "code",
   "execution_count": 191,
   "id": "f26fffab",
   "metadata": {
    "ExecuteTime": {
     "end_time": "2021-09-07T09:22:39.302142Z",
     "start_time": "2021-09-07T09:22:39.227123Z"
    },
    "hidden": true
   },
   "outputs": [
    {
     "data": {
      "text/html": [
       "<div>\n",
       "<style scoped>\n",
       "    .dataframe tbody tr th:only-of-type {\n",
       "        vertical-align: middle;\n",
       "    }\n",
       "\n",
       "    .dataframe tbody tr th {\n",
       "        vertical-align: top;\n",
       "    }\n",
       "\n",
       "    .dataframe thead th {\n",
       "        text-align: right;\n",
       "    }\n",
       "</style>\n",
       "<table border=\"1\" class=\"dataframe\">\n",
       "  <thead>\n",
       "    <tr style=\"text-align: right;\">\n",
       "      <th></th>\n",
       "      <th>weight</th>\n",
       "      <th>age</th>\n",
       "      <th>height</th>\n",
       "      <th>size</th>\n",
       "    </tr>\n",
       "  </thead>\n",
       "  <tbody>\n",
       "    <tr>\n",
       "      <th>0</th>\n",
       "      <td>62</td>\n",
       "      <td>28.0</td>\n",
       "      <td>172.72</td>\n",
       "      <td>XL</td>\n",
       "    </tr>\n",
       "    <tr>\n",
       "      <th>1</th>\n",
       "      <td>59</td>\n",
       "      <td>36.0</td>\n",
       "      <td>167.64</td>\n",
       "      <td>L</td>\n",
       "    </tr>\n",
       "    <tr>\n",
       "      <th>2</th>\n",
       "      <td>61</td>\n",
       "      <td>34.0</td>\n",
       "      <td>165.10</td>\n",
       "      <td>M</td>\n",
       "    </tr>\n",
       "    <tr>\n",
       "      <th>3</th>\n",
       "      <td>65</td>\n",
       "      <td>27.0</td>\n",
       "      <td>175.26</td>\n",
       "      <td>L</td>\n",
       "    </tr>\n",
       "    <tr>\n",
       "      <th>4</th>\n",
       "      <td>62</td>\n",
       "      <td>45.0</td>\n",
       "      <td>172.72</td>\n",
       "      <td>M</td>\n",
       "    </tr>\n",
       "    <tr>\n",
       "      <th>...</th>\n",
       "      <td>...</td>\n",
       "      <td>...</td>\n",
       "      <td>...</td>\n",
       "      <td>...</td>\n",
       "    </tr>\n",
       "    <tr>\n",
       "      <th>119729</th>\n",
       "      <td>63</td>\n",
       "      <td>42.0</td>\n",
       "      <td>175.26</td>\n",
       "      <td>M</td>\n",
       "    </tr>\n",
       "    <tr>\n",
       "      <th>119730</th>\n",
       "      <td>45</td>\n",
       "      <td>29.0</td>\n",
       "      <td>154.94</td>\n",
       "      <td>S</td>\n",
       "    </tr>\n",
       "    <tr>\n",
       "      <th>119731</th>\n",
       "      <td>61</td>\n",
       "      <td>31.0</td>\n",
       "      <td>172.72</td>\n",
       "      <td>M</td>\n",
       "    </tr>\n",
       "    <tr>\n",
       "      <th>119732</th>\n",
       "      <td>74</td>\n",
       "      <td>31.0</td>\n",
       "      <td>167.64</td>\n",
       "      <td>XL</td>\n",
       "    </tr>\n",
       "    <tr>\n",
       "      <th>119733</th>\n",
       "      <td>70</td>\n",
       "      <td>30.0</td>\n",
       "      <td>167.64</td>\n",
       "      <td>XL</td>\n",
       "    </tr>\n",
       "  </tbody>\n",
       "</table>\n",
       "<p>119153 rows × 4 columns</p>\n",
       "</div>"
      ],
      "text/plain": [
       "        weight   age  height size\n",
       "0           62  28.0  172.72   XL\n",
       "1           59  36.0  167.64    L\n",
       "2           61  34.0  165.10    M\n",
       "3           65  27.0  175.26    L\n",
       "4           62  45.0  172.72    M\n",
       "...        ...   ...     ...  ...\n",
       "119729      63  42.0  175.26    M\n",
       "119730      45  29.0  154.94    S\n",
       "119731      61  31.0  172.72    M\n",
       "119732      74  31.0  167.64   XL\n",
       "119733      70  30.0  167.64   XL\n",
       "\n",
       "[119153 rows x 4 columns]"
      ]
     },
     "execution_count": 191,
     "metadata": {},
     "output_type": "execute_result"
    }
   ],
   "source": [
    "# 1. NaN processing\n",
    "data.isnull().sum()   # age: 257, height: 330\n",
    "\n",
    "# Drop NaN\n",
    "data.dropna(inplace=True)\n",
    "data"
   ]
  },
  {
   "cell_type": "code",
   "execution_count": 192,
   "id": "05149d46",
   "metadata": {
    "ExecuteTime": {
     "end_time": "2021-09-07T09:22:39.350152Z",
     "start_time": "2021-09-07T09:22:39.305161Z"
    },
    "hidden": true
   },
   "outputs": [
    {
     "name": "stdout",
     "output_type": "stream",
     "text": [
      "<class 'pandas.core.frame.DataFrame'>\n",
      "Int64Index: 119153 entries, 0 to 119733\n",
      "Data columns (total 4 columns):\n",
      " #   Column  Non-Null Count   Dtype  \n",
      "---  ------  --------------   -----  \n",
      " 0   weight  119153 non-null  int64  \n",
      " 1   age     119153 non-null  int32  \n",
      " 2   height  119153 non-null  float64\n",
      " 3   size    119153 non-null  object \n",
      "dtypes: float64(1), int32(1), int64(1), object(1)\n",
      "memory usage: 4.1+ MB\n"
     ]
    }
   ],
   "source": [
    "# 2. age dtype: float -> int\n",
    "data = data.astype({'age':'int'})\n",
    "data.info()"
   ]
  },
  {
   "cell_type": "code",
   "execution_count": 193,
   "id": "91325910",
   "metadata": {
    "ExecuteTime": {
     "end_time": "2021-09-07T09:22:39.398162Z",
     "start_time": "2021-09-07T09:22:39.354155Z"
    },
    "hidden": true
   },
   "outputs": [
    {
     "data": {
      "text/html": [
       "<div>\n",
       "<style scoped>\n",
       "    .dataframe tbody tr th:only-of-type {\n",
       "        vertical-align: middle;\n",
       "    }\n",
       "\n",
       "    .dataframe tbody tr th {\n",
       "        vertical-align: top;\n",
       "    }\n",
       "\n",
       "    .dataframe thead th {\n",
       "        text-align: right;\n",
       "    }\n",
       "</style>\n",
       "<table border=\"1\" class=\"dataframe\">\n",
       "  <thead>\n",
       "    <tr style=\"text-align: right;\">\n",
       "      <th></th>\n",
       "      <th>weight</th>\n",
       "      <th>age</th>\n",
       "      <th>height</th>\n",
       "      <th>size</th>\n",
       "    </tr>\n",
       "  </thead>\n",
       "  <tbody>\n",
       "    <tr>\n",
       "      <th>0</th>\n",
       "      <td>62</td>\n",
       "      <td>28</td>\n",
       "      <td>172.7</td>\n",
       "      <td>XL</td>\n",
       "    </tr>\n",
       "    <tr>\n",
       "      <th>1</th>\n",
       "      <td>59</td>\n",
       "      <td>36</td>\n",
       "      <td>167.6</td>\n",
       "      <td>L</td>\n",
       "    </tr>\n",
       "    <tr>\n",
       "      <th>2</th>\n",
       "      <td>61</td>\n",
       "      <td>34</td>\n",
       "      <td>165.1</td>\n",
       "      <td>M</td>\n",
       "    </tr>\n",
       "    <tr>\n",
       "      <th>3</th>\n",
       "      <td>65</td>\n",
       "      <td>27</td>\n",
       "      <td>175.3</td>\n",
       "      <td>L</td>\n",
       "    </tr>\n",
       "    <tr>\n",
       "      <th>4</th>\n",
       "      <td>62</td>\n",
       "      <td>45</td>\n",
       "      <td>172.7</td>\n",
       "      <td>M</td>\n",
       "    </tr>\n",
       "    <tr>\n",
       "      <th>...</th>\n",
       "      <td>...</td>\n",
       "      <td>...</td>\n",
       "      <td>...</td>\n",
       "      <td>...</td>\n",
       "    </tr>\n",
       "    <tr>\n",
       "      <th>119729</th>\n",
       "      <td>63</td>\n",
       "      <td>42</td>\n",
       "      <td>175.3</td>\n",
       "      <td>M</td>\n",
       "    </tr>\n",
       "    <tr>\n",
       "      <th>119730</th>\n",
       "      <td>45</td>\n",
       "      <td>29</td>\n",
       "      <td>154.9</td>\n",
       "      <td>S</td>\n",
       "    </tr>\n",
       "    <tr>\n",
       "      <th>119731</th>\n",
       "      <td>61</td>\n",
       "      <td>31</td>\n",
       "      <td>172.7</td>\n",
       "      <td>M</td>\n",
       "    </tr>\n",
       "    <tr>\n",
       "      <th>119732</th>\n",
       "      <td>74</td>\n",
       "      <td>31</td>\n",
       "      <td>167.6</td>\n",
       "      <td>XL</td>\n",
       "    </tr>\n",
       "    <tr>\n",
       "      <th>119733</th>\n",
       "      <td>70</td>\n",
       "      <td>30</td>\n",
       "      <td>167.6</td>\n",
       "      <td>XL</td>\n",
       "    </tr>\n",
       "  </tbody>\n",
       "</table>\n",
       "<p>119153 rows × 4 columns</p>\n",
       "</div>"
      ],
      "text/plain": [
       "        weight  age  height size\n",
       "0           62   28   172.7   XL\n",
       "1           59   36   167.6    L\n",
       "2           61   34   165.1    M\n",
       "3           65   27   175.3    L\n",
       "4           62   45   172.7    M\n",
       "...        ...  ...     ...  ...\n",
       "119729      63   42   175.3    M\n",
       "119730      45   29   154.9    S\n",
       "119731      61   31   172.7    M\n",
       "119732      74   31   167.6   XL\n",
       "119733      70   30   167.6   XL\n",
       "\n",
       "[119153 rows x 4 columns]"
      ]
     },
     "execution_count": 193,
     "metadata": {},
     "output_type": "execute_result"
    }
   ],
   "source": [
    "# 3. height: rounded to one decimal place\n",
    "data['height'] = round(data['height'], 1)\n",
    "data"
   ]
  },
  {
   "cell_type": "markdown",
   "id": "5e6b16bc",
   "metadata": {
    "hidden": true
   },
   "source": [
    "### Change the Age Range"
   ]
  },
  {
   "cell_type": "code",
   "execution_count": 194,
   "id": "81a7cb2a",
   "metadata": {
    "ExecuteTime": {
     "end_time": "2021-09-07T09:22:39.462176Z",
     "start_time": "2021-09-07T09:22:39.402163Z"
    },
    "hidden": true
   },
   "outputs": [
    {
     "data": {
      "text/html": [
       "<div>\n",
       "<style scoped>\n",
       "    .dataframe tbody tr th:only-of-type {\n",
       "        vertical-align: middle;\n",
       "    }\n",
       "\n",
       "    .dataframe tbody tr th {\n",
       "        vertical-align: top;\n",
       "    }\n",
       "\n",
       "    .dataframe thead th {\n",
       "        text-align: right;\n",
       "    }\n",
       "</style>\n",
       "<table border=\"1\" class=\"dataframe\">\n",
       "  <thead>\n",
       "    <tr style=\"text-align: right;\">\n",
       "      <th></th>\n",
       "      <th>weight</th>\n",
       "      <th>age</th>\n",
       "      <th>height</th>\n",
       "    </tr>\n",
       "  </thead>\n",
       "  <tbody>\n",
       "    <tr>\n",
       "      <th>count</th>\n",
       "      <td>119153.000000</td>\n",
       "      <td>119153.000000</td>\n",
       "      <td>119153.000000</td>\n",
       "    </tr>\n",
       "    <tr>\n",
       "      <th>mean</th>\n",
       "      <td>61.756095</td>\n",
       "      <td>34.032714</td>\n",
       "      <td>165.808586</td>\n",
       "    </tr>\n",
       "    <tr>\n",
       "      <th>std</th>\n",
       "      <td>9.942877</td>\n",
       "      <td>8.148302</td>\n",
       "      <td>6.737398</td>\n",
       "    </tr>\n",
       "    <tr>\n",
       "      <th>min</th>\n",
       "      <td>22.000000</td>\n",
       "      <td>0.000000</td>\n",
       "      <td>137.200000</td>\n",
       "    </tr>\n",
       "    <tr>\n",
       "      <th>25%</th>\n",
       "      <td>55.000000</td>\n",
       "      <td>29.000000</td>\n",
       "      <td>160.000000</td>\n",
       "    </tr>\n",
       "    <tr>\n",
       "      <th>50%</th>\n",
       "      <td>61.000000</td>\n",
       "      <td>32.000000</td>\n",
       "      <td>165.100000</td>\n",
       "    </tr>\n",
       "    <tr>\n",
       "      <th>75%</th>\n",
       "      <td>67.000000</td>\n",
       "      <td>37.000000</td>\n",
       "      <td>170.200000</td>\n",
       "    </tr>\n",
       "    <tr>\n",
       "      <th>max</th>\n",
       "      <td>136.000000</td>\n",
       "      <td>117.000000</td>\n",
       "      <td>193.000000</td>\n",
       "    </tr>\n",
       "  </tbody>\n",
       "</table>\n",
       "</div>"
      ],
      "text/plain": [
       "              weight            age         height\n",
       "count  119153.000000  119153.000000  119153.000000\n",
       "mean       61.756095      34.032714     165.808586\n",
       "std         9.942877       8.148302       6.737398\n",
       "min        22.000000       0.000000     137.200000\n",
       "25%        55.000000      29.000000     160.000000\n",
       "50%        61.000000      32.000000     165.100000\n",
       "75%        67.000000      37.000000     170.200000\n",
       "max       136.000000     117.000000     193.000000"
      ]
     },
     "execution_count": 194,
     "metadata": {},
     "output_type": "execute_result"
    }
   ],
   "source": [
    "data.describe()        # Age ranges from 0 to 117 -> unreliable"
   ]
  },
  {
   "cell_type": "code",
   "execution_count": 197,
   "id": "2f139500",
   "metadata": {
    "ExecuteTime": {
     "end_time": "2021-09-07T09:22:51.287177Z",
     "start_time": "2021-09-07T09:22:51.264019Z"
    },
    "collapsed": true,
    "hidden": true
   },
   "outputs": [
    {
     "data": {
      "text/plain": [
       "3      8\n",
       "71     8\n",
       "4      8\n",
       "72     7\n",
       "5      4\n",
       "76     4\n",
       "73     4\n",
       "14     3\n",
       "77     2\n",
       "87     2\n",
       "85     1\n",
       "81     1\n",
       "100    1\n",
       "113    1\n",
       "88     1\n",
       "92     1\n",
       "99     1\n",
       "9      1\n",
       "1      1\n",
       "112    1\n",
       "Name: age, dtype: int64"
      ]
     },
     "execution_count": 197,
     "metadata": {},
     "output_type": "execute_result"
    }
   ],
   "source": [
    "# Age range\n",
    "data.age.value_counts().tail(20)"
   ]
  },
  {
   "cell_type": "code",
   "execution_count": 196,
   "id": "7d2fd747",
   "metadata": {
    "ExecuteTime": {
     "end_time": "2021-09-07T09:22:39.541194Z",
     "start_time": "2021-09-07T09:22:39.498184Z"
    },
    "collapsed": true,
    "hidden": true
   },
   "outputs": [
    {
     "data": {
      "text/html": [
       "<div>\n",
       "<style scoped>\n",
       "    .dataframe tbody tr th:only-of-type {\n",
       "        vertical-align: middle;\n",
       "    }\n",
       "\n",
       "    .dataframe tbody tr th {\n",
       "        vertical-align: top;\n",
       "    }\n",
       "\n",
       "    .dataframe thead th {\n",
       "        text-align: right;\n",
       "    }\n",
       "</style>\n",
       "<table border=\"1\" class=\"dataframe\">\n",
       "  <thead>\n",
       "    <tr style=\"text-align: right;\">\n",
       "      <th></th>\n",
       "      <th>weight</th>\n",
       "      <th>age</th>\n",
       "      <th>height</th>\n",
       "      <th>size</th>\n",
       "    </tr>\n",
       "  </thead>\n",
       "  <tbody>\n",
       "    <tr>\n",
       "      <th>0</th>\n",
       "      <td>62</td>\n",
       "      <td>28</td>\n",
       "      <td>172.7</td>\n",
       "      <td>XL</td>\n",
       "    </tr>\n",
       "    <tr>\n",
       "      <th>1</th>\n",
       "      <td>59</td>\n",
       "      <td>36</td>\n",
       "      <td>167.6</td>\n",
       "      <td>L</td>\n",
       "    </tr>\n",
       "    <tr>\n",
       "      <th>2</th>\n",
       "      <td>61</td>\n",
       "      <td>34</td>\n",
       "      <td>165.1</td>\n",
       "      <td>M</td>\n",
       "    </tr>\n",
       "    <tr>\n",
       "      <th>3</th>\n",
       "      <td>65</td>\n",
       "      <td>27</td>\n",
       "      <td>175.3</td>\n",
       "      <td>L</td>\n",
       "    </tr>\n",
       "    <tr>\n",
       "      <th>4</th>\n",
       "      <td>62</td>\n",
       "      <td>45</td>\n",
       "      <td>172.7</td>\n",
       "      <td>M</td>\n",
       "    </tr>\n",
       "    <tr>\n",
       "      <th>...</th>\n",
       "      <td>...</td>\n",
       "      <td>...</td>\n",
       "      <td>...</td>\n",
       "      <td>...</td>\n",
       "    </tr>\n",
       "    <tr>\n",
       "      <th>119729</th>\n",
       "      <td>63</td>\n",
       "      <td>42</td>\n",
       "      <td>175.3</td>\n",
       "      <td>M</td>\n",
       "    </tr>\n",
       "    <tr>\n",
       "      <th>119730</th>\n",
       "      <td>45</td>\n",
       "      <td>29</td>\n",
       "      <td>154.9</td>\n",
       "      <td>S</td>\n",
       "    </tr>\n",
       "    <tr>\n",
       "      <th>119731</th>\n",
       "      <td>61</td>\n",
       "      <td>31</td>\n",
       "      <td>172.7</td>\n",
       "      <td>M</td>\n",
       "    </tr>\n",
       "    <tr>\n",
       "      <th>119732</th>\n",
       "      <td>74</td>\n",
       "      <td>31</td>\n",
       "      <td>167.6</td>\n",
       "      <td>XL</td>\n",
       "    </tr>\n",
       "    <tr>\n",
       "      <th>119733</th>\n",
       "      <td>70</td>\n",
       "      <td>30</td>\n",
       "      <td>167.6</td>\n",
       "      <td>XL</td>\n",
       "    </tr>\n",
       "  </tbody>\n",
       "</table>\n",
       "<p>117375 rows × 4 columns</p>\n",
       "</div>"
      ],
      "text/plain": [
       "        weight  age  height size\n",
       "0           62   28   172.7   XL\n",
       "1           59   36   167.6    L\n",
       "2           61   34   165.1    M\n",
       "3           65   27   175.3    L\n",
       "4           62   45   172.7    M\n",
       "...        ...  ...     ...  ...\n",
       "119729      63   42   175.3    M\n",
       "119730      45   29   154.9    S\n",
       "119731      61   31   172.7    M\n",
       "119732      74   31   167.6   XL\n",
       "119733      70   30   167.6   XL\n",
       "\n",
       "[117375 rows x 4 columns]"
      ]
     },
     "execution_count": 196,
     "metadata": {},
     "output_type": "execute_result"
    }
   ],
   "source": [
    "# Data is narrowed down with age between 20~60\n",
    "data1 = data[(data.age >= 20) & (data.age <= 60)]\n",
    "data1"
   ]
  },
  {
   "cell_type": "code",
   "execution_count": 198,
   "id": "48e6100d",
   "metadata": {
    "ExecuteTime": {
     "end_time": "2021-09-07T09:23:04.938726Z",
     "start_time": "2021-09-07T09:23:04.472889Z"
    },
    "hidden": true
   },
   "outputs": [
    {
     "name": "stdout",
     "output_type": "stream",
     "text": [
      "Export completed-------------------------------------\n"
     ]
    }
   ],
   "source": [
    "# Export to csv\n",
    "data1.to_csv('data/data1.csv')\n",
    "print('Export completed-------------------------------------')"
   ]
  },
  {
   "cell_type": "markdown",
   "id": "cdf95b0d",
   "metadata": {
    "hidden": true
   },
   "source": [
    "### Remove Outliers"
   ]
  },
  {
   "cell_type": "code",
   "execution_count": 168,
   "id": "c862b471",
   "metadata": {
    "ExecuteTime": {
     "end_time": "2021-09-07T08:05:19.379410Z",
     "start_time": "2021-09-07T08:05:19.304565Z"
    },
    "hidden": true
   },
   "outputs": [
    {
     "data": {
      "text/html": [
       "<div>\n",
       "<style scoped>\n",
       "    .dataframe tbody tr th:only-of-type {\n",
       "        vertical-align: middle;\n",
       "    }\n",
       "\n",
       "    .dataframe tbody tr th {\n",
       "        vertical-align: top;\n",
       "    }\n",
       "\n",
       "    .dataframe thead th {\n",
       "        text-align: right;\n",
       "    }\n",
       "</style>\n",
       "<table border=\"1\" class=\"dataframe\">\n",
       "  <thead>\n",
       "    <tr style=\"text-align: right;\">\n",
       "      <th></th>\n",
       "      <th>weight</th>\n",
       "      <th>age</th>\n",
       "      <th>height</th>\n",
       "    </tr>\n",
       "  </thead>\n",
       "  <tbody>\n",
       "    <tr>\n",
       "      <th>count</th>\n",
       "      <td>117375.000000</td>\n",
       "      <td>117375.000000</td>\n",
       "      <td>117375.000000</td>\n",
       "    </tr>\n",
       "    <tr>\n",
       "      <th>mean</th>\n",
       "      <td>61.772124</td>\n",
       "      <td>33.877504</td>\n",
       "      <td>165.814159</td>\n",
       "    </tr>\n",
       "    <tr>\n",
       "      <th>std</th>\n",
       "      <td>9.939778</td>\n",
       "      <td>7.454046</td>\n",
       "      <td>6.741833</td>\n",
       "    </tr>\n",
       "    <tr>\n",
       "      <th>min</th>\n",
       "      <td>22.000000</td>\n",
       "      <td>20.000000</td>\n",
       "      <td>137.200000</td>\n",
       "    </tr>\n",
       "    <tr>\n",
       "      <th>25%</th>\n",
       "      <td>55.000000</td>\n",
       "      <td>29.000000</td>\n",
       "      <td>160.000000</td>\n",
       "    </tr>\n",
       "    <tr>\n",
       "      <th>50%</th>\n",
       "      <td>61.000000</td>\n",
       "      <td>32.000000</td>\n",
       "      <td>165.100000</td>\n",
       "    </tr>\n",
       "    <tr>\n",
       "      <th>75%</th>\n",
       "      <td>67.000000</td>\n",
       "      <td>37.000000</td>\n",
       "      <td>170.200000</td>\n",
       "    </tr>\n",
       "    <tr>\n",
       "      <th>max</th>\n",
       "      <td>136.000000</td>\n",
       "      <td>60.000000</td>\n",
       "      <td>193.000000</td>\n",
       "    </tr>\n",
       "  </tbody>\n",
       "</table>\n",
       "</div>"
      ],
      "text/plain": [
       "              weight            age         height\n",
       "count  117375.000000  117375.000000  117375.000000\n",
       "mean       61.772124      33.877504     165.814159\n",
       "std         9.939778       7.454046       6.741833\n",
       "min        22.000000      20.000000     137.200000\n",
       "25%        55.000000      29.000000     160.000000\n",
       "50%        61.000000      32.000000     165.100000\n",
       "75%        67.000000      37.000000     170.200000\n",
       "max       136.000000      60.000000     193.000000"
      ]
     },
     "execution_count": 168,
     "metadata": {},
     "output_type": "execute_result"
    }
   ],
   "source": [
    "data1.describe()"
   ]
  },
  {
   "cell_type": "code",
   "execution_count": 186,
   "id": "14ecef41",
   "metadata": {
    "ExecuteTime": {
     "end_time": "2021-09-07T09:17:57.626781Z",
     "start_time": "2021-09-07T09:17:57.489252Z"
    },
    "collapsed": true,
    "hidden": true
   },
   "outputs": [
    {
     "data": {
      "text/html": [
       "<div>\n",
       "<style scoped>\n",
       "    .dataframe tbody tr th:only-of-type {\n",
       "        vertical-align: middle;\n",
       "    }\n",
       "\n",
       "    .dataframe tbody tr th {\n",
       "        vertical-align: top;\n",
       "    }\n",
       "\n",
       "    .dataframe thead th {\n",
       "        text-align: right;\n",
       "    }\n",
       "</style>\n",
       "<table border=\"1\" class=\"dataframe\">\n",
       "  <thead>\n",
       "    <tr style=\"text-align: right;\">\n",
       "      <th></th>\n",
       "      <th>weight</th>\n",
       "      <th>age</th>\n",
       "      <th>height</th>\n",
       "      <th>size</th>\n",
       "    </tr>\n",
       "  </thead>\n",
       "  <tbody>\n",
       "    <tr>\n",
       "      <th>22</th>\n",
       "      <td>55</td>\n",
       "      <td>50</td>\n",
       "      <td>165.1</td>\n",
       "      <td>S</td>\n",
       "    </tr>\n",
       "    <tr>\n",
       "      <th>33</th>\n",
       "      <td>86</td>\n",
       "      <td>48</td>\n",
       "      <td>172.7</td>\n",
       "      <td>XXXL</td>\n",
       "    </tr>\n",
       "    <tr>\n",
       "      <th>40</th>\n",
       "      <td>58</td>\n",
       "      <td>52</td>\n",
       "      <td>162.6</td>\n",
       "      <td>XXXL</td>\n",
       "    </tr>\n",
       "    <tr>\n",
       "      <th>73</th>\n",
       "      <td>113</td>\n",
       "      <td>27</td>\n",
       "      <td>167.6</td>\n",
       "      <td>XXXL</td>\n",
       "    </tr>\n",
       "    <tr>\n",
       "      <th>74</th>\n",
       "      <td>88</td>\n",
       "      <td>30</td>\n",
       "      <td>162.6</td>\n",
       "      <td>XXXL</td>\n",
       "    </tr>\n",
       "    <tr>\n",
       "      <th>...</th>\n",
       "      <td>...</td>\n",
       "      <td>...</td>\n",
       "      <td>...</td>\n",
       "      <td>...</td>\n",
       "    </tr>\n",
       "    <tr>\n",
       "      <th>119685</th>\n",
       "      <td>87</td>\n",
       "      <td>29</td>\n",
       "      <td>165.1</td>\n",
       "      <td>XXXL</td>\n",
       "    </tr>\n",
       "    <tr>\n",
       "      <th>119699</th>\n",
       "      <td>63</td>\n",
       "      <td>50</td>\n",
       "      <td>160.0</td>\n",
       "      <td>XXXL</td>\n",
       "    </tr>\n",
       "    <tr>\n",
       "      <th>119704</th>\n",
       "      <td>70</td>\n",
       "      <td>55</td>\n",
       "      <td>165.1</td>\n",
       "      <td>XXXL</td>\n",
       "    </tr>\n",
       "    <tr>\n",
       "      <th>119710</th>\n",
       "      <td>77</td>\n",
       "      <td>51</td>\n",
       "      <td>165.1</td>\n",
       "      <td>XXXL</td>\n",
       "    </tr>\n",
       "    <tr>\n",
       "      <th>119716</th>\n",
       "      <td>91</td>\n",
       "      <td>28</td>\n",
       "      <td>175.3</td>\n",
       "      <td>XXXL</td>\n",
       "    </tr>\n",
       "  </tbody>\n",
       "</table>\n",
       "<p>8976 rows × 4 columns</p>\n",
       "</div>"
      ],
      "text/plain": [
       "        weight  age  height  size\n",
       "22          55   50   165.1     S\n",
       "33          86   48   172.7  XXXL\n",
       "40          58   52   162.6  XXXL\n",
       "73         113   27   167.6  XXXL\n",
       "74          88   30   162.6  XXXL\n",
       "...        ...  ...     ...   ...\n",
       "119685      87   29   165.1  XXXL\n",
       "119699      63   50   160.0  XXXL\n",
       "119704      70   55   165.1  XXXL\n",
       "119710      77   51   165.1  XXXL\n",
       "119716      91   28   175.3  XXXL\n",
       "\n",
       "[8976 rows x 4 columns]"
      ]
     },
     "execution_count": 186,
     "metadata": {},
     "output_type": "execute_result"
    }
   ],
   "source": [
    "# Calculate IQR\n",
    "q1 = data1.quantile(0.25)    # Return a series\n",
    "q3 = data1.quantile(0.75)\n",
    "IQR = q3 - q1\n",
    "outlier_con = (data1 < q1 - 1.5 * IQR) | (data1 > q3 + 1.5 * IQR)\n",
    "outlier_con = outlier_con.any(axis=1)   # When there's at least one True, it returns True\n",
    "outlier_df = data1[outlier_con]    # Outliers\n",
    "outlier_df"
   ]
  },
  {
   "cell_type": "code",
   "execution_count": 187,
   "id": "293f3d77",
   "metadata": {
    "ExecuteTime": {
     "end_time": "2021-09-07T09:18:58.892657Z",
     "start_time": "2021-09-07T09:18:58.846647Z"
    },
    "collapsed": true,
    "hidden": true
   },
   "outputs": [
    {
     "data": {
      "text/html": [
       "<div>\n",
       "<style scoped>\n",
       "    .dataframe tbody tr th:only-of-type {\n",
       "        vertical-align: middle;\n",
       "    }\n",
       "\n",
       "    .dataframe tbody tr th {\n",
       "        vertical-align: top;\n",
       "    }\n",
       "\n",
       "    .dataframe thead th {\n",
       "        text-align: right;\n",
       "    }\n",
       "</style>\n",
       "<table border=\"1\" class=\"dataframe\">\n",
       "  <thead>\n",
       "    <tr style=\"text-align: right;\">\n",
       "      <th></th>\n",
       "      <th>weight</th>\n",
       "      <th>age</th>\n",
       "      <th>height</th>\n",
       "      <th>size</th>\n",
       "    </tr>\n",
       "  </thead>\n",
       "  <tbody>\n",
       "    <tr>\n",
       "      <th>0</th>\n",
       "      <td>62</td>\n",
       "      <td>28</td>\n",
       "      <td>172.7</td>\n",
       "      <td>XL</td>\n",
       "    </tr>\n",
       "    <tr>\n",
       "      <th>1</th>\n",
       "      <td>59</td>\n",
       "      <td>36</td>\n",
       "      <td>167.6</td>\n",
       "      <td>L</td>\n",
       "    </tr>\n",
       "    <tr>\n",
       "      <th>2</th>\n",
       "      <td>61</td>\n",
       "      <td>34</td>\n",
       "      <td>165.1</td>\n",
       "      <td>M</td>\n",
       "    </tr>\n",
       "    <tr>\n",
       "      <th>3</th>\n",
       "      <td>65</td>\n",
       "      <td>27</td>\n",
       "      <td>175.3</td>\n",
       "      <td>L</td>\n",
       "    </tr>\n",
       "    <tr>\n",
       "      <th>4</th>\n",
       "      <td>62</td>\n",
       "      <td>45</td>\n",
       "      <td>172.7</td>\n",
       "      <td>M</td>\n",
       "    </tr>\n",
       "    <tr>\n",
       "      <th>...</th>\n",
       "      <td>...</td>\n",
       "      <td>...</td>\n",
       "      <td>...</td>\n",
       "      <td>...</td>\n",
       "    </tr>\n",
       "    <tr>\n",
       "      <th>119729</th>\n",
       "      <td>63</td>\n",
       "      <td>42</td>\n",
       "      <td>175.3</td>\n",
       "      <td>M</td>\n",
       "    </tr>\n",
       "    <tr>\n",
       "      <th>119730</th>\n",
       "      <td>45</td>\n",
       "      <td>29</td>\n",
       "      <td>154.9</td>\n",
       "      <td>S</td>\n",
       "    </tr>\n",
       "    <tr>\n",
       "      <th>119731</th>\n",
       "      <td>61</td>\n",
       "      <td>31</td>\n",
       "      <td>172.7</td>\n",
       "      <td>M</td>\n",
       "    </tr>\n",
       "    <tr>\n",
       "      <th>119732</th>\n",
       "      <td>74</td>\n",
       "      <td>31</td>\n",
       "      <td>167.6</td>\n",
       "      <td>XL</td>\n",
       "    </tr>\n",
       "    <tr>\n",
       "      <th>119733</th>\n",
       "      <td>70</td>\n",
       "      <td>30</td>\n",
       "      <td>167.6</td>\n",
       "      <td>XL</td>\n",
       "    </tr>\n",
       "  </tbody>\n",
       "</table>\n",
       "<p>108399 rows × 4 columns</p>\n",
       "</div>"
      ],
      "text/plain": [
       "        weight  age  height size\n",
       "0           62   28   172.7   XL\n",
       "1           59   36   167.6    L\n",
       "2           61   34   165.1    M\n",
       "3           65   27   175.3    L\n",
       "4           62   45   172.7    M\n",
       "...        ...  ...     ...  ...\n",
       "119729      63   42   175.3    M\n",
       "119730      45   29   154.9    S\n",
       "119731      61   31   172.7    M\n",
       "119732      74   31   167.6   XL\n",
       "119733      70   30   167.6   XL\n",
       "\n",
       "[108399 rows x 4 columns]"
      ]
     },
     "execution_count": 187,
     "metadata": {},
     "output_type": "execute_result"
    }
   ],
   "source": [
    "data2 = data1.drop(outlier_df.index, axis=0)\n",
    "data2     # Data without outliers"
   ]
  },
  {
   "cell_type": "code",
   "execution_count": 199,
   "id": "cddbed4c",
   "metadata": {
    "ExecuteTime": {
     "end_time": "2021-09-07T09:23:44.450817Z",
     "start_time": "2021-09-07T09:23:44.018682Z"
    },
    "hidden": true
   },
   "outputs": [
    {
     "name": "stdout",
     "output_type": "stream",
     "text": [
      "Export completed------------------------------------\n"
     ]
    }
   ],
   "source": [
    "# Export to excel\n",
    "data2.to_csv('data/data2.csv')\n",
    "print('Export completed------------------------------------')"
   ]
  },
  {
   "cell_type": "markdown",
   "id": "4e31ae73",
   "metadata": {
    "hidden": true
   },
   "source": [
    "### Remove Outliers by Size"
   ]
  },
  {
   "cell_type": "code",
   "execution_count": 219,
   "id": "7a6a567e",
   "metadata": {
    "ExecuteTime": {
     "end_time": "2021-09-07T17:10:51.345501Z",
     "start_time": "2021-09-07T17:10:51.234445Z"
    },
    "hidden": true
   },
   "outputs": [],
   "source": [
    "# Define function to remove outlier\n",
    "def remove_outliers(df):\n",
    "    q1 = df.quantile(0.25)\n",
    "    q3 = df.quantile(0.75)\n",
    "    IQR = q3 - q1\n",
    "    condition = (df < q1 - 1.5 * IQR) | (df > q3 + 1.5 * IQR)\n",
    "    condition = condition.any(axis=1)   # True: outliers\n",
    "    outlier_index = df[condition].index\n",
    "    result = df.drop(outlier_index, axis=0)\n",
    "    return result\n",
    "\n",
    "if __name__ == '__main__':      # Test the function\n",
    "    remove_outliers(data2)"
   ]
  },
  {
   "cell_type": "code",
   "execution_count": 252,
   "id": "3d9ac8fa",
   "metadata": {
    "ExecuteTime": {
     "end_time": "2021-09-07T18:02:01.550026Z",
     "start_time": "2021-09-07T18:02:01.285351Z"
    },
    "hidden": true
   },
   "outputs": [
    {
     "data": {
      "text/html": [
       "<div>\n",
       "<style scoped>\n",
       "    .dataframe tbody tr th:only-of-type {\n",
       "        vertical-align: middle;\n",
       "    }\n",
       "\n",
       "    .dataframe tbody tr th {\n",
       "        vertical-align: top;\n",
       "    }\n",
       "\n",
       "    .dataframe thead th {\n",
       "        text-align: right;\n",
       "    }\n",
       "</style>\n",
       "<table border=\"1\" class=\"dataframe\">\n",
       "  <thead>\n",
       "    <tr style=\"text-align: right;\">\n",
       "      <th></th>\n",
       "      <th>weight</th>\n",
       "      <th>age</th>\n",
       "      <th>height</th>\n",
       "      <th>size</th>\n",
       "    </tr>\n",
       "  </thead>\n",
       "  <tbody>\n",
       "    <tr>\n",
       "      <th>1</th>\n",
       "      <td>59</td>\n",
       "      <td>36</td>\n",
       "      <td>167.6</td>\n",
       "      <td>L</td>\n",
       "    </tr>\n",
       "    <tr>\n",
       "      <th>3</th>\n",
       "      <td>65</td>\n",
       "      <td>27</td>\n",
       "      <td>175.3</td>\n",
       "      <td>L</td>\n",
       "    </tr>\n",
       "    <tr>\n",
       "      <th>12</th>\n",
       "      <td>64</td>\n",
       "      <td>26</td>\n",
       "      <td>165.1</td>\n",
       "      <td>L</td>\n",
       "    </tr>\n",
       "    <tr>\n",
       "      <th>14</th>\n",
       "      <td>65</td>\n",
       "      <td>33</td>\n",
       "      <td>165.1</td>\n",
       "      <td>L</td>\n",
       "    </tr>\n",
       "    <tr>\n",
       "      <th>15</th>\n",
       "      <td>63</td>\n",
       "      <td>30</td>\n",
       "      <td>167.6</td>\n",
       "      <td>L</td>\n",
       "    </tr>\n",
       "    <tr>\n",
       "      <th>...</th>\n",
       "      <td>...</td>\n",
       "      <td>...</td>\n",
       "      <td>...</td>\n",
       "      <td>...</td>\n",
       "    </tr>\n",
       "    <tr>\n",
       "      <th>119692</th>\n",
       "      <td>76</td>\n",
       "      <td>30</td>\n",
       "      <td>167.6</td>\n",
       "      <td>XXXL</td>\n",
       "    </tr>\n",
       "    <tr>\n",
       "      <th>119707</th>\n",
       "      <td>72</td>\n",
       "      <td>44</td>\n",
       "      <td>162.6</td>\n",
       "      <td>XXXL</td>\n",
       "    </tr>\n",
       "    <tr>\n",
       "      <th>119720</th>\n",
       "      <td>58</td>\n",
       "      <td>35</td>\n",
       "      <td>167.6</td>\n",
       "      <td>XXXL</td>\n",
       "    </tr>\n",
       "    <tr>\n",
       "      <th>119721</th>\n",
       "      <td>62</td>\n",
       "      <td>40</td>\n",
       "      <td>160.0</td>\n",
       "      <td>XXXL</td>\n",
       "    </tr>\n",
       "    <tr>\n",
       "      <th>119727</th>\n",
       "      <td>68</td>\n",
       "      <td>28</td>\n",
       "      <td>170.2</td>\n",
       "      <td>XXXL</td>\n",
       "    </tr>\n",
       "  </tbody>\n",
       "</table>\n",
       "<p>104928 rows × 4 columns</p>\n",
       "</div>"
      ],
      "text/plain": [
       "        weight  age  height  size\n",
       "1           59   36   167.6     L\n",
       "3           65   27   175.3     L\n",
       "12          64   26   165.1     L\n",
       "14          65   33   165.1     L\n",
       "15          63   30   167.6     L\n",
       "...        ...  ...     ...   ...\n",
       "119692      76   30   167.6  XXXL\n",
       "119707      72   44   162.6  XXXL\n",
       "119720      58   35   167.6  XXXL\n",
       "119721      62   40   160.0  XXXL\n",
       "119727      68   28   170.2  XXXL\n",
       "\n",
       "[104928 rows x 4 columns]"
      ]
     },
     "execution_count": 252,
     "metadata": {},
     "output_type": "execute_result"
    }
   ],
   "source": [
    "# Groupby & apply the function above\n",
    "df = data2.groupby(['size']).apply(lambda x: remove_outliers(x))\n",
    "data3 = df.set_index(df.index.get_level_values(1))      # Remove multi-index\n",
    "data3"
   ]
  },
  {
   "cell_type": "code",
   "execution_count": 253,
   "id": "5eab1cfb",
   "metadata": {
    "ExecuteTime": {
     "end_time": "2021-09-07T18:02:39.051289Z",
     "start_time": "2021-09-07T18:02:38.676959Z"
    },
    "hidden": true
   },
   "outputs": [
    {
     "name": "stdout",
     "output_type": "stream",
     "text": [
      "Export completed-------------------------------------------\n"
     ]
    }
   ],
   "source": [
    "# Export to csv\n",
    "data3.to_csv('data/data3.csv')\n",
    "print('Export completed-------------------------------------------')"
   ]
  },
  {
   "cell_type": "code",
   "execution_count": 281,
   "id": "6effb401",
   "metadata": {
    "ExecuteTime": {
     "end_time": "2021-09-08T01:51:12.694934Z",
     "start_time": "2021-09-08T01:51:12.552903Z"
    },
    "hidden": true
   },
   "outputs": [
    {
     "data": {
      "text/html": [
       "<div>\n",
       "<style scoped>\n",
       "    .dataframe tbody tr th:only-of-type {\n",
       "        vertical-align: middle;\n",
       "    }\n",
       "\n",
       "    .dataframe tbody tr th {\n",
       "        vertical-align: top;\n",
       "    }\n",
       "\n",
       "    .dataframe thead th {\n",
       "        text-align: right;\n",
       "    }\n",
       "</style>\n",
       "<table border=\"1\" class=\"dataframe\">\n",
       "  <thead>\n",
       "    <tr style=\"text-align: right;\">\n",
       "      <th></th>\n",
       "      <th>weight</th>\n",
       "      <th>age</th>\n",
       "      <th>height</th>\n",
       "    </tr>\n",
       "  </thead>\n",
       "  <tbody>\n",
       "    <tr>\n",
       "      <th>count</th>\n",
       "      <td>104928.000000</td>\n",
       "      <td>104928.000000</td>\n",
       "      <td>104928.000000</td>\n",
       "    </tr>\n",
       "    <tr>\n",
       "      <th>mean</th>\n",
       "      <td>60.843388</td>\n",
       "      <td>32.721523</td>\n",
       "      <td>165.716827</td>\n",
       "    </tr>\n",
       "    <tr>\n",
       "      <th>std</th>\n",
       "      <td>7.995893</td>\n",
       "      <td>5.913624</td>\n",
       "      <td>6.559870</td>\n",
       "    </tr>\n",
       "    <tr>\n",
       "      <th>min</th>\n",
       "      <td>41.000000</td>\n",
       "      <td>20.000000</td>\n",
       "      <td>144.800000</td>\n",
       "    </tr>\n",
       "    <tr>\n",
       "      <th>25%</th>\n",
       "      <td>55.000000</td>\n",
       "      <td>29.000000</td>\n",
       "      <td>160.000000</td>\n",
       "    </tr>\n",
       "    <tr>\n",
       "      <th>50%</th>\n",
       "      <td>61.000000</td>\n",
       "      <td>32.000000</td>\n",
       "      <td>165.100000</td>\n",
       "    </tr>\n",
       "    <tr>\n",
       "      <th>75%</th>\n",
       "      <td>65.000000</td>\n",
       "      <td>36.000000</td>\n",
       "      <td>170.200000</td>\n",
       "    </tr>\n",
       "    <tr>\n",
       "      <th>max</th>\n",
       "      <td>85.000000</td>\n",
       "      <td>49.000000</td>\n",
       "      <td>185.400000</td>\n",
       "    </tr>\n",
       "  </tbody>\n",
       "</table>\n",
       "</div>"
      ],
      "text/plain": [
       "              weight            age         height\n",
       "count  104928.000000  104928.000000  104928.000000\n",
       "mean       60.843388      32.721523     165.716827\n",
       "std         7.995893       5.913624       6.559870\n",
       "min        41.000000      20.000000     144.800000\n",
       "25%        55.000000      29.000000     160.000000\n",
       "50%        61.000000      32.000000     165.100000\n",
       "75%        65.000000      36.000000     170.200000\n",
       "max        85.000000      49.000000     185.400000"
      ]
     },
     "execution_count": 281,
     "metadata": {},
     "output_type": "execute_result"
    }
   ],
   "source": [
    "data3.describe()"
   ]
  },
  {
   "cell_type": "markdown",
   "id": "cc8fe05e",
   "metadata": {
    "heading_collapsed": true
   },
   "source": [
    "## Explore Data"
   ]
  },
  {
   "cell_type": "code",
   "execution_count": 143,
   "id": "e083ee4b",
   "metadata": {
    "ExecuteTime": {
     "end_time": "2021-09-07T03:26:29.318856Z",
     "start_time": "2021-09-07T03:26:29.284310Z"
    },
    "hidden": true
   },
   "outputs": [
    {
     "data": {
      "text/plain": [
       "array(['XL', 'L', 'M', 'S', 'XXS', 'XXXL', 'XXL'], dtype=object)"
      ]
     },
     "execution_count": 143,
     "metadata": {},
     "output_type": "execute_result"
    }
   ],
   "source": [
    "# Check what sizes there are\n",
    "data1['size'].unique()     # XXS ~ XXXL withoug XS"
   ]
  },
  {
   "cell_type": "code",
   "execution_count": 144,
   "id": "e866fcb0",
   "metadata": {
    "ExecuteTime": {
     "end_time": "2021-09-07T03:26:32.217371Z",
     "start_time": "2021-09-07T03:26:32.181350Z"
    },
    "hidden": true
   },
   "outputs": [
    {
     "data": {
      "text/plain": [
       "M       29191\n",
       "S       21515\n",
       "XXXL    20809\n",
       "XL      18785\n",
       "L       17249\n",
       "XXS      9760\n",
       "XXL        66\n",
       "Name: size, dtype: int64"
      ]
     },
     "execution_count": 144,
     "metadata": {},
     "output_type": "execute_result"
    }
   ],
   "source": [
    "# Check data balance\n",
    "data1['size'].value_counts()   # Very small number in XXL"
   ]
  },
  {
   "cell_type": "markdown",
   "id": "ef3a1fc5",
   "metadata": {
    "heading_collapsed": true
   },
   "source": [
    "## Train/Test Split"
   ]
  },
  {
   "cell_type": "code",
   "execution_count": 145,
   "id": "c2c5a6ca",
   "metadata": {
    "ExecuteTime": {
     "end_time": "2021-09-07T03:27:13.047745Z",
     "start_time": "2021-09-07T03:27:13.000307Z"
    },
    "hidden": true
   },
   "outputs": [],
   "source": [
    "from sklearn.model_selection import train_test_split"
   ]
  },
  {
   "cell_type": "code",
   "execution_count": 256,
   "id": "20a13331",
   "metadata": {
    "ExecuteTime": {
     "end_time": "2021-09-07T21:02:48.987690Z",
     "start_time": "2021-09-07T21:02:48.932678Z"
    },
    "hidden": true
   },
   "outputs": [
    {
     "data": {
      "text/html": [
       "<div>\n",
       "<style scoped>\n",
       "    .dataframe tbody tr th:only-of-type {\n",
       "        vertical-align: middle;\n",
       "    }\n",
       "\n",
       "    .dataframe tbody tr th {\n",
       "        vertical-align: top;\n",
       "    }\n",
       "\n",
       "    .dataframe thead th {\n",
       "        text-align: right;\n",
       "    }\n",
       "</style>\n",
       "<table border=\"1\" class=\"dataframe\">\n",
       "  <thead>\n",
       "    <tr style=\"text-align: right;\">\n",
       "      <th></th>\n",
       "      <th>weight</th>\n",
       "      <th>age</th>\n",
       "      <th>height</th>\n",
       "      <th>size</th>\n",
       "    </tr>\n",
       "  </thead>\n",
       "  <tbody>\n",
       "    <tr>\n",
       "      <th>119692</th>\n",
       "      <td>76</td>\n",
       "      <td>30</td>\n",
       "      <td>167.6</td>\n",
       "      <td>XXXL</td>\n",
       "    </tr>\n",
       "    <tr>\n",
       "      <th>119707</th>\n",
       "      <td>72</td>\n",
       "      <td>44</td>\n",
       "      <td>162.6</td>\n",
       "      <td>XXXL</td>\n",
       "    </tr>\n",
       "    <tr>\n",
       "      <th>119720</th>\n",
       "      <td>58</td>\n",
       "      <td>35</td>\n",
       "      <td>167.6</td>\n",
       "      <td>XXXL</td>\n",
       "    </tr>\n",
       "    <tr>\n",
       "      <th>119721</th>\n",
       "      <td>62</td>\n",
       "      <td>40</td>\n",
       "      <td>160.0</td>\n",
       "      <td>XXXL</td>\n",
       "    </tr>\n",
       "    <tr>\n",
       "      <th>119727</th>\n",
       "      <td>68</td>\n",
       "      <td>28</td>\n",
       "      <td>170.2</td>\n",
       "      <td>XXXL</td>\n",
       "    </tr>\n",
       "  </tbody>\n",
       "</table>\n",
       "</div>"
      ],
      "text/plain": [
       "        weight  age  height  size\n",
       "119692      76   30   167.6  XXXL\n",
       "119707      72   44   162.6  XXXL\n",
       "119720      58   35   167.6  XXXL\n",
       "119721      62   40   160.0  XXXL\n",
       "119727      68   28   170.2  XXXL"
      ]
     },
     "execution_count": 256,
     "metadata": {},
     "output_type": "execute_result"
    }
   ],
   "source": [
    "# Import data\n",
    "data = pd.read_csv('data/data3.csv', index_col=0)\n",
    "data.tail()"
   ]
  },
  {
   "cell_type": "code",
   "execution_count": 282,
   "id": "1a6e1d77",
   "metadata": {
    "ExecuteTime": {
     "end_time": "2021-09-08T02:20:52.746361Z",
     "start_time": "2021-09-08T02:20:52.728851Z"
    },
    "hidden": true
   },
   "outputs": [],
   "source": [
    "X = data[['height', 'weight']]\n",
    "y = data['size']"
   ]
  },
  {
   "cell_type": "code",
   "execution_count": 283,
   "id": "caa84d4c",
   "metadata": {
    "ExecuteTime": {
     "end_time": "2021-09-08T02:20:58.147119Z",
     "start_time": "2021-09-08T02:20:58.111099Z"
    },
    "hidden": true
   },
   "outputs": [
    {
     "data": {
      "text/plain": [
       "((73449, 2), (31479,))"
      ]
     },
     "execution_count": 283,
     "metadata": {},
     "output_type": "execute_result"
    }
   ],
   "source": [
    "X_train, X_test, y_train, y_test = train_test_split(X, y, test_size=0.3, random_state=5)\n",
    "X_train.shape, y_test.shape"
   ]
  },
  {
   "cell_type": "markdown",
   "id": "595ab11f",
   "metadata": {
    "heading_collapsed": true
   },
   "source": [
    "## X data standardization"
   ]
  },
  {
   "cell_type": "code",
   "execution_count": 284,
   "id": "219769ec",
   "metadata": {
    "ExecuteTime": {
     "end_time": "2021-09-08T02:21:19.116845Z",
     "start_time": "2021-09-08T02:21:19.107844Z"
    },
    "hidden": true
   },
   "outputs": [],
   "source": [
    "from sklearn.preprocessing import StandardScaler"
   ]
  },
  {
   "cell_type": "code",
   "execution_count": 285,
   "id": "0a3d5d91",
   "metadata": {
    "ExecuteTime": {
     "end_time": "2021-09-08T02:21:24.711754Z",
     "start_time": "2021-09-08T02:21:24.683244Z"
    },
    "hidden": true
   },
   "outputs": [
    {
     "data": {
      "text/plain": [
       "array([[ 1.06632893,  0.89425032],\n",
       "       [-0.09407571, -0.60708781],\n",
       "       [-0.09407571,  0.51891579],\n",
       "       ...,\n",
       "       [-0.47578776, -0.35686479],\n",
       "       [ 1.84502152,  0.51891579],\n",
       "       [-1.65146089, -0.85731083]])"
      ]
     },
     "execution_count": 285,
     "metadata": {},
     "output_type": "execute_result"
    }
   ],
   "source": [
    "# X_train: fit & transform\n",
    "scaler = StandardScaler()\n",
    "X_train_sc = scaler.fit_transform(X_train)\n",
    "X_train_sc"
   ]
  },
  {
   "cell_type": "code",
   "execution_count": 286,
   "id": "0cb112e6",
   "metadata": {
    "ExecuteTime": {
     "end_time": "2021-09-08T02:21:32.248973Z",
     "start_time": "2021-09-08T02:21:32.239470Z"
    },
    "hidden": true
   },
   "outputs": [
    {
     "data": {
      "text/plain": [
       "array([[ 1.46330947,  0.51891579],\n",
       "       [ 2.22673357,  0.89425032],\n",
       "       [-1.65146089,  0.01846974],\n",
       "       ...,\n",
       "       [-0.47578776, -1.73309141],\n",
       "       [ 1.46330947,  0.89425032],\n",
       "       [-0.47578776,  0.01846974]])"
      ]
     },
     "execution_count": 286,
     "metadata": {},
     "output_type": "execute_result"
    }
   ],
   "source": [
    "# X_test: transform\n",
    "X_test_sc = scaler.transform(X_test)\n",
    "X_test_sc"
   ]
  },
  {
   "cell_type": "markdown",
   "id": "56514b02",
   "metadata": {},
   "source": [
    "## Logistic Regression"
   ]
  },
  {
   "cell_type": "code",
   "execution_count": 287,
   "id": "c66601cb",
   "metadata": {
    "ExecuteTime": {
     "end_time": "2021-09-08T02:21:38.729713Z",
     "start_time": "2021-09-08T02:21:38.724722Z"
    }
   },
   "outputs": [],
   "source": [
    "from sklearn.linear_model import LogisticRegression"
   ]
  },
  {
   "cell_type": "code",
   "execution_count": 288,
   "id": "e988caef",
   "metadata": {
    "ExecuteTime": {
     "end_time": "2021-09-08T02:21:49.332790Z",
     "start_time": "2021-09-08T02:21:48.969654Z"
    }
   },
   "outputs": [
    {
     "data": {
      "text/plain": [
       "LogisticRegression(solver='saga')"
      ]
     },
     "execution_count": 288,
     "metadata": {},
     "output_type": "execute_result"
    }
   ],
   "source": [
    "logi = LogisticRegression(solver='saga')    # multiclass solver needed\n",
    "logi.fit(X_train_sc, y_train)"
   ]
  },
  {
   "cell_type": "code",
   "execution_count": 289,
   "id": "0404660e",
   "metadata": {
    "ExecuteTime": {
     "end_time": "2021-09-08T02:22:01.041861Z",
     "start_time": "2021-09-08T02:22:01.012412Z"
    }
   },
   "outputs": [
    {
     "data": {
      "text/plain": [
       "0.5039867848406875"
      ]
     },
     "execution_count": 289,
     "metadata": {},
     "output_type": "execute_result"
    }
   ],
   "source": [
    "# Accuracy\n",
    "logi.score(X_test_sc, y_test)"
   ]
  },
  {
   "cell_type": "code",
   "execution_count": 290,
   "id": "3f132c2e",
   "metadata": {
    "ExecuteTime": {
     "end_time": "2021-09-08T02:22:09.709373Z",
     "start_time": "2021-09-08T02:22:09.216105Z"
    }
   },
   "outputs": [
    {
     "name": "stdout",
     "output_type": "stream",
     "text": [
      "              precision    recall  f1-score   support\n",
      "\n",
      "           L       0.36      0.11      0.17      4809\n",
      "           M       0.47      0.65      0.55      8262\n",
      "           S       0.49      0.49      0.49      5787\n",
      "          XL       0.42      0.48      0.44      5115\n",
      "         XXL       0.00      0.00      0.00        10\n",
      "         XXS       0.60      0.47      0.52      2722\n",
      "        XXXL       0.72      0.71      0.72      4774\n",
      "\n",
      "    accuracy                           0.50     31479\n",
      "   macro avg       0.44      0.42      0.41     31479\n",
      "weighted avg       0.50      0.50      0.49     31479\n",
      "\n"
     ]
    }
   ],
   "source": [
    "# Classification report\n",
    "from sklearn.metrics import classification_report\n",
    "\n",
    "print(classification_report(y_test, logi.predict(X_test_sc), zero_division=0))   # Due to the warning, zero_division is set"
   ]
  },
  {
   "cell_type": "markdown",
   "id": "cd65d7be",
   "metadata": {},
   "source": [
    "> **Accuracy: 50.4%, f1 score(weighted): 0.49**"
   ]
  },
  {
   "cell_type": "markdown",
   "id": "4aa59a19",
   "metadata": {},
   "source": [
    "The warning appears without zero_division, as there are some labels that appear in `y_test` but not in `y_pred`. The label can be found through processes as below, and it is `XXL`. References: https://stackoverflow.com/questions/43162506/undefinedmetricwarning-f-score-is-ill-defined-and-being-set-to-0-0-in-labels-wi"
   ]
  },
  {
   "cell_type": "code",
   "execution_count": 291,
   "id": "a627e502",
   "metadata": {
    "ExecuteTime": {
     "end_time": "2021-09-08T02:22:41.603109Z",
     "start_time": "2021-09-08T02:22:41.507088Z"
    }
   },
   "outputs": [
    {
     "data": {
      "text/plain": [
       "array([[ 540, 2320,  175, 1567,    0,    1,  206],\n",
       "       [ 480, 5404, 1538,  727,    0,   95,   18],\n",
       "       [  16, 2181, 2833,    1,    0,  756,    0],\n",
       "       [ 380, 1171,   63, 2432,    0,    0, 1069],\n",
       "       [   1,    1,    0,    3,    0,    0,    5],\n",
       "       [   0,  233, 1220,    0,    0, 1269,    0],\n",
       "       [  72,  185,    0, 1130,    0,    0, 3387]], dtype=int64)"
      ]
     },
     "execution_count": 291,
     "metadata": {},
     "output_type": "execute_result"
    }
   ],
   "source": [
    "# Confusion matrix\n",
    "from sklearn.metrics import confusion_matrix\n",
    "\n",
    "confusion_matrix(y_test, logi.predict(X_test_sc))"
   ]
  },
  {
   "cell_type": "code",
   "execution_count": 292,
   "id": "229684c2",
   "metadata": {
    "ExecuteTime": {
     "end_time": "2021-09-08T02:22:43.949115Z",
     "start_time": "2021-09-08T02:22:43.939609Z"
    }
   },
   "outputs": [
    {
     "data": {
      "text/plain": [
       "array(['L', 'M', 'S', 'XL', 'XXL', 'XXS', 'XXXL'], dtype=object)"
      ]
     },
     "execution_count": 292,
     "metadata": {},
     "output_type": "execute_result"
    }
   ],
   "source": [
    "logi.classes_    # The order of labels above"
   ]
  },
  {
   "cell_type": "code",
   "execution_count": 293,
   "id": "585b414d",
   "metadata": {
    "ExecuteTime": {
     "end_time": "2021-09-08T02:23:25.337916Z",
     "start_time": "2021-09-08T02:23:25.313912Z"
    }
   },
   "outputs": [
    {
     "data": {
      "text/plain": [
       "M       11495\n",
       "XL       5860\n",
       "S        5829\n",
       "XXXL     4685\n",
       "XXS      2121\n",
       "L        1489\n",
       "dtype: int64"
      ]
     },
     "execution_count": 293,
     "metadata": {},
     "output_type": "execute_result"
    }
   ],
   "source": [
    "# y_pred\n",
    "pd.DataFrame(logi.predict(X_test_sc)).value_counts()"
   ]
  },
  {
   "cell_type": "code",
   "execution_count": 294,
   "id": "a1ee9da9",
   "metadata": {
    "ExecuteTime": {
     "end_time": "2021-09-08T02:23:44.719766Z",
     "start_time": "2021-09-08T02:23:44.695259Z"
    }
   },
   "outputs": [
    {
     "data": {
      "text/plain": [
       "{'XXL'}"
      ]
     },
     "execution_count": 294,
     "metadata": {},
     "output_type": "execute_result"
    }
   ],
   "source": [
    "set(y_test) - set(logi.predict(X_test_sc))"
   ]
  },
  {
   "cell_type": "markdown",
   "id": "076f3818",
   "metadata": {},
   "source": [
    "## Support Vector Machine"
   ]
  },
  {
   "cell_type": "code",
   "execution_count": 295,
   "id": "adf05b26",
   "metadata": {
    "ExecuteTime": {
     "end_time": "2021-09-08T02:24:14.426686Z",
     "start_time": "2021-09-08T02:24:14.420137Z"
    }
   },
   "outputs": [],
   "source": [
    "from sklearn.svm import SVC    # Support Vector Classification"
   ]
  },
  {
   "cell_type": "markdown",
   "id": "45559318",
   "metadata": {},
   "source": [
    "* C: the bigger, the harder margin\n",
    "* gamma: the bigger, the more overfitted"
   ]
  },
  {
   "cell_type": "code",
   "execution_count": 296,
   "id": "2fa5c7c0",
   "metadata": {
    "ExecuteTime": {
     "end_time": "2021-09-08T02:27:20.200046Z",
     "start_time": "2021-09-08T02:24:37.346635Z"
    }
   },
   "outputs": [
    {
     "data": {
      "text/plain": [
       "SVC()"
      ]
     },
     "execution_count": 296,
     "metadata": {},
     "output_type": "execute_result"
    }
   ],
   "source": [
    "svm = SVC()\n",
    "svm.fit(X_train_sc, y_train)   # Takes 3m"
   ]
  },
  {
   "cell_type": "code",
   "execution_count": 297,
   "id": "6218d911",
   "metadata": {
    "ExecuteTime": {
     "end_time": "2021-09-08T02:50:55.126259Z",
     "start_time": "2021-09-08T02:50:55.122258Z"
    }
   },
   "outputs": [
    {
     "data": {
      "text/plain": [
       "array(['L', 'M', 'S', 'XL', 'XXL', 'XXS', 'XXXL'], dtype=object)"
      ]
     },
     "execution_count": 297,
     "metadata": {},
     "output_type": "execute_result"
    }
   ],
   "source": [
    "# Explore trributes\n",
    "svm.classes_"
   ]
  },
  {
   "cell_type": "code",
   "execution_count": 298,
   "id": "5f82a70b",
   "metadata": {
    "ExecuteTime": {
     "end_time": "2021-09-08T02:50:56.944849Z",
     "start_time": "2021-09-08T02:50:56.932840Z"
    }
   },
   "outputs": [
    {
     "data": {
      "text/plain": [
       "0"
      ]
     },
     "execution_count": 298,
     "metadata": {},
     "output_type": "execute_result"
    }
   ],
   "source": [
    "svm.fit_status_    # Correctly fitted: 0"
   ]
  },
  {
   "cell_type": "code",
   "execution_count": 299,
   "id": "a17115f7",
   "metadata": {
    "ExecuteTime": {
     "end_time": "2021-09-08T02:51:00.847096Z",
     "start_time": "2021-09-08T02:51:00.833548Z"
    }
   },
   "outputs": [
    {
     "data": {
      "text/plain": [
       "66051"
      ]
     },
     "execution_count": 299,
     "metadata": {},
     "output_type": "execute_result"
    }
   ],
   "source": [
    "len(svm.support_)    # Indices of support vectors"
   ]
  },
  {
   "cell_type": "code",
   "execution_count": 300,
   "id": "c40d3e29",
   "metadata": {
    "ExecuteTime": {
     "end_time": "2021-09-08T02:51:05.093515Z",
     "start_time": "2021-09-08T02:51:05.074498Z"
    }
   },
   "outputs": [
    {
     "data": {
      "text/plain": [
       "array([[ 1.06632893,  0.89425032],\n",
       "       [ 0.68461688,  0.51891579],\n",
       "       [ 0.68461688,  0.01846974],\n",
       "       ...,\n",
       "       [ 1.06632893,  1.39469636],\n",
       "       [-0.47578776, -0.4819763 ],\n",
       "       [-0.09407571,  1.14447334]])"
      ]
     },
     "execution_count": 300,
     "metadata": {},
     "output_type": "execute_result"
    }
   ],
   "source": [
    "svm.support_vectors_"
   ]
  },
  {
   "cell_type": "code",
   "execution_count": 301,
   "id": "2b956bee",
   "metadata": {
    "ExecuteTime": {
     "end_time": "2021-09-08T02:51:14.450821Z",
     "start_time": "2021-09-08T02:51:14.445831Z"
    }
   },
   "outputs": [
    {
     "data": {
      "text/plain": [
       "(73449, 2)"
      ]
     },
     "execution_count": 301,
     "metadata": {},
     "output_type": "execute_result"
    }
   ],
   "source": [
    "svm.shape_fit_    # (dimensions of training vector X, features)"
   ]
  },
  {
   "cell_type": "code",
   "execution_count": 302,
   "id": "6abdeeb7",
   "metadata": {
    "ExecuteTime": {
     "end_time": "2021-09-08T02:54:14.662642Z",
     "start_time": "2021-09-08T02:52:00.158297Z"
    }
   },
   "outputs": [
    {
     "data": {
      "text/plain": [
       "0.502874932494679"
      ]
     },
     "execution_count": 302,
     "metadata": {},
     "output_type": "execute_result"
    }
   ],
   "source": [
    "# Evaluation\n",
    "svm.score(X_test_sc, y_test)"
   ]
  },
  {
   "cell_type": "markdown",
   "id": "7cc00206",
   "metadata": {},
   "source": [
    "### Grid Search for Hyperparameters"
   ]
  },
  {
   "cell_type": "code",
   "execution_count": 278,
   "id": "8e505884",
   "metadata": {
    "ExecuteTime": {
     "end_time": "2021-09-07T21:08:08.266994Z",
     "start_time": "2021-09-07T21:08:08.254487Z"
    }
   },
   "outputs": [],
   "source": [
    "from sklearn.model_selection import GridSearchCV"
   ]
  },
  {
   "cell_type": "markdown",
   "id": "970e7f02",
   "metadata": {},
   "source": [
    "#### Grid Search Model 1"
   ]
  },
  {
   "cell_type": "code",
   "execution_count": 303,
   "id": "a704ceea",
   "metadata": {
    "ExecuteTime": {
     "end_time": "2021-09-08T02:57:37.032049Z",
     "start_time": "2021-09-08T02:57:37.024043Z"
    }
   },
   "outputs": [],
   "source": [
    "svm = SVC()\n",
    "params = {'kernel':['poly', 'rbf'], 'C':[0.1, 1], 'gamma':[0.5, 1]} \n",
    "clf = GridSearchCV(svm, params, cv=5)"
   ]
  },
  {
   "cell_type": "code",
   "execution_count": 304,
   "id": "94365471",
   "metadata": {
    "ExecuteTime": {
     "end_time": "2021-09-08T04:39:55.242341Z",
     "start_time": "2021-09-08T02:57:40.171000Z"
    }
   },
   "outputs": [
    {
     "data": {
      "text/plain": [
       "GridSearchCV(cv=5, estimator=SVC(),\n",
       "             param_grid={'C': [0.1, 1], 'gamma': [0.5, 1],\n",
       "                         'kernel': ['poly', 'rbf']})"
      ]
     },
     "execution_count": 304,
     "metadata": {},
     "output_type": "execute_result"
    }
   ],
   "source": [
    "clf.fit(X_train_sc, y_train)"
   ]
  },
  {
   "cell_type": "code",
   "execution_count": 310,
   "id": "15f807ef",
   "metadata": {
    "ExecuteTime": {
     "end_time": "2021-09-08T06:20:10.230163Z",
     "start_time": "2021-09-08T06:20:10.182786Z"
    },
    "collapsed": true
   },
   "outputs": [
    {
     "data": {
      "text/plain": [
       "{'mean_fit_time': array([ 92.2408824 , 104.30282063, 111.92932773, 111.61334004,\n",
       "        110.09257727, 104.58453641, 171.39850979, 104.20360293]),\n",
       " 'std_fit_time': array([0.58836199, 2.73775452, 2.71419559, 3.33079984, 2.54381582,\n",
       "        1.32381295, 3.58862938, 0.48057289]),\n",
       " 'mean_score_time': array([19.24407616, 53.62220683, 21.18106375, 55.9107821 , 19.6670908 ,\n",
       "        49.19888515, 18.72789674, 47.88249993]),\n",
       " 'std_score_time': array([0.05975177, 2.03308635, 0.4725994 , 2.21472472, 0.1722881 ,\n",
       "        0.56245156, 0.02680176, 0.11999807]),\n",
       " 'param_C': masked_array(data=[0.1, 0.1, 0.1, 0.1, 1, 1, 1, 1],\n",
       "              mask=[False, False, False, False, False, False, False, False],\n",
       "        fill_value='?',\n",
       "             dtype=object),\n",
       " 'param_gamma': masked_array(data=[0.5, 0.5, 1, 1, 0.5, 0.5, 1, 1],\n",
       "              mask=[False, False, False, False, False, False, False, False],\n",
       "        fill_value='?',\n",
       "             dtype=object),\n",
       " 'param_kernel': masked_array(data=['poly', 'rbf', 'poly', 'rbf', 'poly', 'rbf', 'poly',\n",
       "                    'rbf'],\n",
       "              mask=[False, False, False, False, False, False, False, False],\n",
       "        fill_value='?',\n",
       "             dtype=object),\n",
       " 'params': [{'C': 0.1, 'gamma': 0.5, 'kernel': 'poly'},\n",
       "  {'C': 0.1, 'gamma': 0.5, 'kernel': 'rbf'},\n",
       "  {'C': 0.1, 'gamma': 1, 'kernel': 'poly'},\n",
       "  {'C': 0.1, 'gamma': 1, 'kernel': 'rbf'},\n",
       "  {'C': 1, 'gamma': 0.5, 'kernel': 'poly'},\n",
       "  {'C': 1, 'gamma': 0.5, 'kernel': 'rbf'},\n",
       "  {'C': 1, 'gamma': 1, 'kernel': 'poly'},\n",
       "  {'C': 1, 'gamma': 1, 'kernel': 'rbf'}],\n",
       " 'split0_test_score': array([0.45881552, 0.50197413, 0.45895167, 0.50340368, 0.45874745,\n",
       "        0.50013615, 0.46201498, 0.50265487]),\n",
       " 'split1_test_score': array([0.45718176, 0.49795779, 0.46609939, 0.49850238, 0.46609939,\n",
       "        0.49795779, 0.46609939, 0.49795779]),\n",
       " 'split2_test_score': array([0.44635807, 0.49162696, 0.45302927, 0.49257999, 0.45302927,\n",
       "        0.49257999, 0.45302927, 0.49264806]),\n",
       " 'split3_test_score': array([0.45711368, 0.49829816, 0.45820286, 0.49938734, 0.45820286,\n",
       "        0.49557522, 0.45820286, 0.49938734]),\n",
       " 'split4_test_score': array([0.46197835, 0.51031384, 0.46694806, 0.50990537, 0.46694806,\n",
       "        0.50820342, 0.46694806, 0.50820342]),\n",
       " 'mean_test_score': array([0.45628948, 0.50003418, 0.46064625, 0.50075575, 0.4606054 ,\n",
       "        0.49889051, 0.46125891, 0.5001703 ]),\n",
       " 'std_test_score': array([0.00526977, 0.00612277, 0.00522129, 0.00573621, 0.00523517,\n",
       "        0.00529085, 0.00516594, 0.00515357]),\n",
       " 'rank_test_score': array([8, 3, 6, 1, 7, 4, 5, 2])}"
      ]
     },
     "execution_count": 310,
     "metadata": {},
     "output_type": "execute_result"
    }
   ],
   "source": [
    "clf.cv_results_    # rbf showed the explicitly better result"
   ]
  },
  {
   "cell_type": "code",
   "execution_count": 305,
   "id": "ebb72746",
   "metadata": {
    "ExecuteTime": {
     "end_time": "2021-09-08T05:59:44.175184Z",
     "start_time": "2021-09-08T05:59:44.155165Z"
    }
   },
   "outputs": [
    {
     "data": {
      "text/plain": [
       "0.5007557509240486"
      ]
     },
     "execution_count": 305,
     "metadata": {},
     "output_type": "execute_result"
    }
   ],
   "source": [
    "clf.best_score_"
   ]
  },
  {
   "cell_type": "code",
   "execution_count": 306,
   "id": "0629b6c7",
   "metadata": {
    "ExecuteTime": {
     "end_time": "2021-09-08T05:59:46.223116Z",
     "start_time": "2021-09-08T05:59:46.211097Z"
    }
   },
   "outputs": [
    {
     "data": {
      "text/plain": [
       "{'C': 0.1, 'gamma': 1, 'kernel': 'rbf'}"
      ]
     },
     "execution_count": 306,
     "metadata": {},
     "output_type": "execute_result"
    }
   ],
   "source": [
    "clf.best_params_"
   ]
  },
  {
   "cell_type": "code",
   "execution_count": 307,
   "id": "4848f109",
   "metadata": {
    "ExecuteTime": {
     "end_time": "2021-09-08T06:00:32.439693Z",
     "start_time": "2021-09-08T06:00:32.416724Z"
    }
   },
   "outputs": [
    {
     "data": {
      "text/plain": [
       "SVC(C=0.1, gamma=1)"
      ]
     },
     "execution_count": 307,
     "metadata": {},
     "output_type": "execute_result"
    }
   ],
   "source": [
    "clf.best_estimator_"
   ]
  },
  {
   "cell_type": "code",
   "execution_count": 308,
   "id": "c3cddd94",
   "metadata": {
    "ExecuteTime": {
     "end_time": "2021-09-08T06:06:24.731488Z",
     "start_time": "2021-09-08T06:01:00.717221Z"
    }
   },
   "outputs": [
    {
     "data": {
      "text/plain": [
       "0.5047491978779504"
      ]
     },
     "execution_count": 308,
     "metadata": {},
     "output_type": "execute_result"
    }
   ],
   "source": [
    "# Evaluation\n",
    "clf.score(X_test_sc, y_test)"
   ]
  },
  {
   "cell_type": "markdown",
   "id": "fa20d856",
   "metadata": {},
   "source": [
    "#### Grid Search Model 2"
   ]
  },
  {
   "cell_type": "code",
   "execution_count": 311,
   "id": "805f3211",
   "metadata": {
    "ExecuteTime": {
     "end_time": "2021-09-08T06:25:18.187278Z",
     "start_time": "2021-09-08T06:25:18.169753Z"
    }
   },
   "outputs": [],
   "source": [
    "svm = SVC()\n",
    "params = {'kernel':['rbf'], 'C':[0.01, 0.05], 'gamma':[1, 5]} \n",
    "clf = GridSearchCV(svm, params, cv=5)"
   ]
  },
  {
   "cell_type": "code",
   "execution_count": 312,
   "id": "3f8b90fb",
   "metadata": {
    "ExecuteTime": {
     "end_time": "2021-09-08T08:40:09.004858Z",
     "start_time": "2021-09-08T06:25:54.774680Z"
    }
   },
   "outputs": [
    {
     "data": {
      "text/plain": [
       "GridSearchCV(cv=5, estimator=SVC(),\n",
       "             param_grid={'C': [0.01, 0.05], 'gamma': [1, 5], 'kernel': ['rbf']})"
      ]
     },
     "execution_count": 312,
     "metadata": {},
     "output_type": "execute_result"
    }
   ],
   "source": [
    "clf.fit(X_train_sc, y_train)"
   ]
  },
  {
   "cell_type": "code",
   "execution_count": 314,
   "id": "5311b8b0",
   "metadata": {
    "ExecuteTime": {
     "end_time": "2021-09-08T09:19:47.235162Z",
     "start_time": "2021-09-08T09:19:47.225160Z"
    },
    "collapsed": true
   },
   "outputs": [
    {
     "data": {
      "text/plain": [
       "{'mean_fit_time': array([271.09075837, 298.22245598, 241.79241285, 240.84935436]),\n",
       " 'std_fit_time': array([3.94237975, 4.42202087, 2.84840485, 5.47092458]),\n",
       " 'mean_score_time': array([126.11090684, 124.58015199, 117.29099774, 116.00609708]),\n",
       " 'std_score_time': array([1.49001951, 2.50130823, 1.60785948, 2.69570347]),\n",
       " 'param_C': masked_array(data=[0.01, 0.01, 0.05, 0.05],\n",
       "              mask=[False, False, False, False],\n",
       "        fill_value='?',\n",
       "             dtype=object),\n",
       " 'param_gamma': masked_array(data=[1, 5, 1, 5],\n",
       "              mask=[False, False, False, False],\n",
       "        fill_value='?',\n",
       "             dtype=object),\n",
       " 'param_kernel': masked_array(data=['rbf', 'rbf', 'rbf', 'rbf'],\n",
       "              mask=[False, False, False, False],\n",
       "        fill_value='?',\n",
       "             dtype=object),\n",
       " 'params': [{'C': 0.01, 'gamma': 1, 'kernel': 'rbf'},\n",
       "  {'C': 0.01, 'gamma': 5, 'kernel': 'rbf'},\n",
       "  {'C': 0.05, 'gamma': 1, 'kernel': 'rbf'},\n",
       "  {'C': 0.05, 'gamma': 5, 'kernel': 'rbf'}],\n",
       " 'split0_test_score': array([0.49979578, 0.50034037, 0.50265487, 0.50789653]),\n",
       " 'split1_test_score': array([0.49646018, 0.49714091, 0.49782165, 0.50006807]),\n",
       " 'split2_test_score': array([0.49271613, 0.49230769, 0.49183118, 0.49680054]),\n",
       " 'split3_test_score': array([0.49734513, 0.49959156, 0.49809394, 0.50313138]),\n",
       " 'split4_test_score': array([0.50745456, 0.51017768, 0.51072231, 0.50990537]),\n",
       " 'mean_test_score': array([0.49875436, 0.49991164, 0.50022479, 0.50356038]),\n",
       " 'std_test_score': array([0.00490892, 0.00585107, 0.00627489, 0.00484018]),\n",
       " 'rank_test_score': array([4, 3, 2, 1])}"
      ]
     },
     "execution_count": 314,
     "metadata": {},
     "output_type": "execute_result"
    }
   ],
   "source": [
    "clf.cv_results_"
   ]
  },
  {
   "cell_type": "code",
   "execution_count": 316,
   "id": "b2d1c241",
   "metadata": {
    "ExecuteTime": {
     "end_time": "2021-09-08T09:22:33.437132Z",
     "start_time": "2021-09-08T09:22:33.428625Z"
    }
   },
   "outputs": [
    {
     "data": {
      "text/plain": [
       "0.5035603799233679"
      ]
     },
     "execution_count": 316,
     "metadata": {},
     "output_type": "execute_result"
    }
   ],
   "source": [
    "clf.best_score_"
   ]
  },
  {
   "cell_type": "code",
   "execution_count": 317,
   "id": "cf537fcb",
   "metadata": {
    "ExecuteTime": {
     "end_time": "2021-09-08T09:22:57.048465Z",
     "start_time": "2021-09-08T09:22:57.037486Z"
    }
   },
   "outputs": [
    {
     "data": {
      "text/plain": [
       "{'C': 0.05, 'gamma': 5, 'kernel': 'rbf'}"
      ]
     },
     "execution_count": 317,
     "metadata": {},
     "output_type": "execute_result"
    }
   ],
   "source": [
    "clf.best_params_"
   ]
  },
  {
   "cell_type": "code",
   "execution_count": 318,
   "id": "7d094bca",
   "metadata": {
    "ExecuteTime": {
     "end_time": "2021-09-08T09:23:08.270237Z",
     "start_time": "2021-09-08T09:23:08.264235Z"
    }
   },
   "outputs": [
    {
     "data": {
      "text/plain": [
       "SVC(C=0.05, gamma=5)"
      ]
     },
     "execution_count": 318,
     "metadata": {},
     "output_type": "execute_result"
    }
   ],
   "source": [
    "clf.best_estimator_"
   ]
  },
  {
   "cell_type": "code",
   "execution_count": 313,
   "id": "fa2a8fde",
   "metadata": {
    "ExecuteTime": {
     "end_time": "2021-09-08T08:56:08.572865Z",
     "start_time": "2021-09-08T08:53:49.340947Z"
    }
   },
   "outputs": [
    {
     "data": {
      "text/plain": [
       "0.505733981384415"
      ]
     },
     "execution_count": 313,
     "metadata": {},
     "output_type": "execute_result"
    }
   ],
   "source": [
    "# Evaluation\n",
    "clf.score(X_test_sc, y_test)"
   ]
  },
  {
   "cell_type": "markdown",
   "id": "0429808c",
   "metadata": {},
   "source": [
    "> **Best parameter among above: `kernel` = rbf, `C` = 0.05, `gamma` = 5** <br>\n",
    "> **Accuracy: 50.6%**"
   ]
  },
  {
   "cell_type": "markdown",
   "id": "3f4d4ef3",
   "metadata": {
    "heading_collapsed": true
   },
   "source": [
    "## K-nearest Neighbors"
   ]
  },
  {
   "cell_type": "code",
   "execution_count": 321,
   "id": "b3e57c59",
   "metadata": {
    "ExecuteTime": {
     "end_time": "2021-09-08T09:38:02.910147Z",
     "start_time": "2021-09-08T09:38:02.896143Z"
    },
    "hidden": true
   },
   "outputs": [],
   "source": [
    "from sklearn.neighbors import KNeighborsClassifier"
   ]
  },
  {
   "cell_type": "code",
   "execution_count": 337,
   "id": "ac4ceaaf",
   "metadata": {
    "ExecuteTime": {
     "end_time": "2021-09-09T01:22:28.339225Z",
     "start_time": "2021-09-09T01:22:11.436596Z"
    },
    "hidden": true
   },
   "outputs": [
    {
     "data": {
      "text/plain": [
       "GridSearchCV(cv=5, estimator=KNeighborsClassifier(), n_jobs=-1,\n",
       "             param_grid={'n_neighbors': range(5, 52, 2)})"
      ]
     },
     "execution_count": 337,
     "metadata": {},
     "output_type": "execute_result"
    }
   ],
   "source": [
    "# Grid search for the number of neighbors\n",
    "knn = KNeighborsClassifier()\n",
    "params = {'n_neighbors': range(5, 52, 2)}\n",
    "clf = GridSearchCV(knn, params, cv=5, n_jobs=-1)\n",
    "clf.fit(X_train_sc, y_train)    # Scaling isn't need for KNN"
   ]
  },
  {
   "cell_type": "code",
   "execution_count": 338,
   "id": "463fd5b6",
   "metadata": {
    "ExecuteTime": {
     "end_time": "2021-09-09T01:22:33.775544Z",
     "start_time": "2021-09-09T01:22:33.766542Z"
    },
    "collapsed": true,
    "hidden": true
   },
   "outputs": [
    {
     "data": {
      "text/plain": [
       "{'mean_fit_time': array([0.47961445, 0.47921419, 0.49521847, 0.48496032, 0.52727752,\n",
       "        0.49787254, 0.47803898, 0.51471572, 0.50111847, 0.47063661,\n",
       "        0.49516268, 0.4951344 , 0.47444253, 0.50195074, 0.50074396,\n",
       "        0.48071265, 0.47971969, 0.50403757, 0.473318  , 0.48276129,\n",
       "        0.49550557, 0.47560654, 0.46765981, 0.4285543 ]),\n",
       " 'std_fit_time': array([0.0632668 , 0.06440311, 0.06169333, 0.06559776, 0.07065929,\n",
       "        0.07447275, 0.06321531, 0.06689273, 0.07291052, 0.07093915,\n",
       "        0.05536807, 0.08028305, 0.06479322, 0.054679  , 0.07878104,\n",
       "        0.07886261, 0.05125794, 0.06090314, 0.08000702, 0.051348  ,\n",
       "        0.09084398, 0.07035686, 0.06665547, 0.07283136]),\n",
       " 'mean_score_time': array([0.99302821, 1.00855098, 1.04596686, 1.0450069 , 1.08071327,\n",
       "        1.14092145, 1.11487832, 1.07518945, 1.11863461, 1.116325  ,\n",
       "        1.11459913, 1.14871316, 1.15532265, 1.17241197, 1.145503  ,\n",
       "        1.19992843, 1.19601617, 1.21184549, 1.22910075, 1.18913383,\n",
       "        1.22990327, 1.22794518, 0.95871882, 0.62507577]),\n",
       " 'std_score_time': array([0.01988716, 0.03042165, 0.03737987, 0.04304472, 0.05937544,\n",
       "        0.05529401, 0.06385237, 0.03257717, 0.05201763, 0.01287441,\n",
       "        0.03186593, 0.05185454, 0.05028582, 0.03410299, 0.03009622,\n",
       "        0.01888936, 0.0418708 , 0.03636849, 0.04965981, 0.04013819,\n",
       "        0.01892698, 0.02241301, 0.19522311, 0.03261949]),\n",
       " 'param_n_neighbors': masked_array(data=[5, 7, 9, 11, 13, 15, 17, 19, 21, 23, 25, 27, 29, 31,\n",
       "                    33, 35, 37, 39, 41, 43, 45, 47, 49, 51],\n",
       "              mask=[False, False, False, False, False, False, False, False,\n",
       "                    False, False, False, False, False, False, False, False,\n",
       "                    False, False, False, False, False, False, False, False],\n",
       "        fill_value='?',\n",
       "             dtype=object),\n",
       " 'params': [{'n_neighbors': 5},\n",
       "  {'n_neighbors': 7},\n",
       "  {'n_neighbors': 9},\n",
       "  {'n_neighbors': 11},\n",
       "  {'n_neighbors': 13},\n",
       "  {'n_neighbors': 15},\n",
       "  {'n_neighbors': 17},\n",
       "  {'n_neighbors': 19},\n",
       "  {'n_neighbors': 21},\n",
       "  {'n_neighbors': 23},\n",
       "  {'n_neighbors': 25},\n",
       "  {'n_neighbors': 27},\n",
       "  {'n_neighbors': 29},\n",
       "  {'n_neighbors': 31},\n",
       "  {'n_neighbors': 33},\n",
       "  {'n_neighbors': 35},\n",
       "  {'n_neighbors': 37},\n",
       "  {'n_neighbors': 39},\n",
       "  {'n_neighbors': 41},\n",
       "  {'n_neighbors': 43},\n",
       "  {'n_neighbors': 45},\n",
       "  {'n_neighbors': 47},\n",
       "  {'n_neighbors': 49},\n",
       "  {'n_neighbors': 51}],\n",
       " 'split0_test_score': array([0.4424098 , 0.46085773, 0.46487406, 0.46923077, 0.4724983 ,\n",
       "        0.47862491, 0.48570456, 0.48325391, 0.48291355, 0.48720218,\n",
       "        0.48733833, 0.49196732, 0.49421375, 0.49482641, 0.49373724,\n",
       "        0.49782165, 0.49387338, 0.49264806, 0.49564329, 0.49632403,\n",
       "        0.4963921 , 0.49496256, 0.49802587, 0.49918312]),\n",
       " 'split1_test_score': array([0.42961198, 0.4529612 , 0.4642614 , 0.4735194 , 0.46528251,\n",
       "        0.47066031, 0.48100749, 0.47950987, 0.48012253, 0.48366236,\n",
       "        0.48434309, 0.49128659, 0.48938053, 0.4884275 , 0.4894486 ,\n",
       "        0.48781484, 0.49019741, 0.48577263, 0.48917631, 0.49196732,\n",
       "        0.48985705, 0.49237577, 0.49155888, 0.49162696]),\n",
       " 'split2_test_score': array([0.45085092, 0.45616065, 0.46044929, 0.47474472, 0.46739278,\n",
       "        0.47535739, 0.47624234, 0.48019061, 0.48127978, 0.48223281,\n",
       "        0.481484  , 0.48291355, 0.48441116, 0.48284547, 0.48359428,\n",
       "        0.48359428, 0.48373043, 0.48747447, 0.48754255, 0.48584071,\n",
       "        0.48801906, 0.48706603, 0.48822328, 0.48679374]),\n",
       " 'split3_test_score': array([0.43560245, 0.45643295, 0.46725664, 0.46249149, 0.46249149,\n",
       "        0.4668482 , 0.46970728, 0.46773315, 0.48162015, 0.48168822,\n",
       "        0.48386658, 0.48481961, 0.47637849, 0.47637849, 0.48427502,\n",
       "        0.48339006, 0.48543227, 0.48815521, 0.48883594, 0.4886998 ,\n",
       "        0.48876787, 0.48801906, 0.48890402, 0.49251191]),\n",
       " 'split4_test_score': array([0.45625979, 0.46259105, 0.46252298, 0.47790864, 0.48219756,\n",
       "        0.47457281, 0.47613861, 0.47300701, 0.48206141, 0.48410375,\n",
       "        0.48158486, 0.49091157, 0.49002655, 0.48287834, 0.48723535,\n",
       "        0.49458779, 0.49315815, 0.49533665, 0.49445163, 0.49438355,\n",
       "        0.49663013, 0.49622166, 0.49628974, 0.49710668]),\n",
       " 'mean_test_score': array([0.44294699, 0.45780072, 0.46387287, 0.471579  , 0.46997253,\n",
       "        0.47321272, 0.47776006, 0.47673891, 0.48159948, 0.48377786,\n",
       "        0.48372337, 0.48837973, 0.4868821 , 0.48507124, 0.4876581 ,\n",
       "        0.48944172, 0.48927833, 0.4898774 , 0.49112994, 0.49144308,\n",
       "        0.49193324, 0.49172902, 0.49260036, 0.49344448]),\n",
       " 'std_test_score': array([0.00971345, 0.00347201, 0.00228676, 0.00532819, 0.00693467,\n",
       "        0.00406849, 0.00535613, 0.00560479, 0.00091915, 0.00192869,\n",
       "        0.00214758, 0.00374925, 0.00610433, 0.00619281, 0.00369595,\n",
       "        0.00583382, 0.00406408, 0.00355159, 0.00326657, 0.00378569,\n",
       "        0.003784  , 0.0036487 , 0.00392311, 0.00435314]),\n",
       " 'rank_test_score': array([24, 23, 22, 20, 21, 19, 17, 18, 16, 14, 15, 10, 12, 13, 11,  8,  9,\n",
       "         7,  6,  5,  3,  4,  2,  1])}"
      ]
     },
     "execution_count": 338,
     "metadata": {},
     "output_type": "execute_result"
    }
   ],
   "source": [
    "# Fitting result\n",
    "clf.cv_results_"
   ]
  },
  {
   "cell_type": "markdown",
   "id": "bfa2adaa",
   "metadata": {
    "hidden": true
   },
   "source": [
    "> Best parameter=41"
   ]
  },
  {
   "cell_type": "code",
   "execution_count": 340,
   "id": "e38e6e2e",
   "metadata": {
    "ExecuteTime": {
     "end_time": "2021-09-09T01:23:07.508023Z",
     "start_time": "2021-09-09T01:23:06.398341Z"
    },
    "hidden": true
   },
   "outputs": [
    {
     "data": {
      "text/plain": [
       "0.4983322214809873"
      ]
     },
     "execution_count": 340,
     "metadata": {},
     "output_type": "execute_result"
    }
   ],
   "source": [
    "# Evaluation with best parameter setting\n",
    "knn = KNeighborsClassifier(n_neighbors=41)\n",
    "knn.fit(X_train_sc, y_train)\n",
    "knn.score(X_test_sc, y_test)"
   ]
  },
  {
   "cell_type": "code",
   "execution_count": 341,
   "id": "87879e2d",
   "metadata": {
    "ExecuteTime": {
     "end_time": "2021-09-09T01:23:13.910820Z",
     "start_time": "2021-09-09T01:23:12.560788Z"
    },
    "hidden": true
   },
   "outputs": [
    {
     "name": "stdout",
     "output_type": "stream",
     "text": [
      "              precision    recall  f1-score   support\n",
      "\n",
      "           L       0.35      0.20      0.25      4809\n",
      "           M       0.47      0.62      0.53      8262\n",
      "           S       0.48      0.53      0.50      5787\n",
      "          XL       0.43      0.41      0.42      5115\n",
      "         XXL       0.00      0.00      0.00        10\n",
      "         XXS       0.59      0.42      0.49      2722\n",
      "        XXXL       0.72      0.70      0.71      4774\n",
      "\n",
      "    accuracy                           0.50     31479\n",
      "   macro avg       0.43      0.41      0.41     31479\n",
      "weighted avg       0.49      0.50      0.49     31479\n",
      "\n"
     ]
    }
   ],
   "source": [
    "print(classification_report(y_test, knn.predict(X_test_sc), zero_division=0))"
   ]
  },
  {
   "cell_type": "markdown",
   "id": "7b1f139d",
   "metadata": {
    "hidden": true
   },
   "source": [
    "> **Accuracy: 49.8%, f1-score(weighted): 0.49**"
   ]
  },
  {
   "cell_type": "markdown",
   "id": "e59f5e58",
   "metadata": {
    "heading_collapsed": true
   },
   "source": [
    "## Decision Tree"
   ]
  },
  {
   "cell_type": "code",
   "execution_count": 343,
   "id": "fc444eaa",
   "metadata": {
    "ExecuteTime": {
     "end_time": "2021-09-09T01:27:07.995726Z",
     "start_time": "2021-09-09T01:27:07.991729Z"
    },
    "hidden": true
   },
   "outputs": [],
   "source": [
    "from sklearn.tree import DecisionTreeClassifier\n",
    "from sklearn.tree import plot_tree\n",
    "import matplotlib.pyplot as plt"
   ]
  },
  {
   "cell_type": "code",
   "execution_count": 344,
   "id": "25a20d26",
   "metadata": {
    "ExecuteTime": {
     "end_time": "2021-09-09T01:27:09.458736Z",
     "start_time": "2021-09-09T01:27:09.356712Z"
    },
    "hidden": true
   },
   "outputs": [
    {
     "data": {
      "text/plain": [
       "0.5005876933828902"
      ]
     },
     "execution_count": 344,
     "metadata": {},
     "output_type": "execute_result"
    }
   ],
   "source": [
    "dt = DecisionTreeClassifier(max_depth=5, min_samples_split=10, min_samples_leaf=5)\n",
    "dt.fit(X_train, y_train)    # doesn't need to standardize\n",
    "dt.score(X_test, y_test)"
   ]
  },
  {
   "cell_type": "code",
   "execution_count": 345,
   "id": "9ecc27d2",
   "metadata": {
    "ExecuteTime": {
     "end_time": "2021-09-09T01:27:17.471664Z",
     "start_time": "2021-09-09T01:27:15.005037Z"
    },
    "collapsed": true,
    "hidden": true
   },
   "outputs": [
    {
     "data": {
      "text/plain": [
       "[Text(1395.0, 2989.7999999999997, 'age <= 62.5\\ngini = 0.818\\nsamples = 73449\\nvalue = [11150, 19059, 13459, 12298, 48, 6375, 11060]\\nclass = y[1]'),\n",
       " Text(637.3706896551724, 2446.2, 'age <= 54.5\\ngini = 0.742\\nsamples = 44914\\nvalue = [5505, 16066, 13459, 3011, 8, 6375, 490]\\nclass = y[1]'),\n",
       " Text(264.5689655172414, 1902.6, 'age <= 49.5\\ngini = 0.65\\nsamples = 17342\\nvalue = [312, 3382, 7823, 115, 1, 5709, 0]\\nclass = y[2]'),\n",
       " Text(96.20689655172414, 1358.9999999999998, 'age <= 45.5\\ngini = 0.515\\nsamples = 4957\\nvalue = [0, 222, 1798, 0, 0, 2937, 0]\\nclass = y[5]'),\n",
       " Text(48.10344827586207, 815.3999999999996, 'gini = 0.0\\nsamples = 588\\nvalue = [0, 0, 0, 0, 0, 588, 0]\\nclass = y[5]'),\n",
       " Text(144.31034482758622, 815.3999999999996, 'age <= 48.5\\ngini = 0.539\\nsamples = 4369\\nvalue = [0, 222, 1798, 0, 0, 2349, 0]\\nclass = y[5]'),\n",
       " Text(96.20689655172414, 271.7999999999997, 'gini = 0.482\\nsamples = 2034\\nvalue = [0, 0, 823, 0, 0, 1211, 0]\\nclass = y[5]'),\n",
       " Text(192.41379310344828, 271.7999999999997, 'gini = 0.579\\nsamples = 2335\\nvalue = [0, 222, 975, 0, 0, 1138, 0]\\nclass = y[5]'),\n",
       " Text(432.93103448275866, 1358.9999999999998, 'age <= 52.5\\ngini = 0.647\\nsamples = 12385\\nvalue = [312, 3160, 6025, 115, 1, 2772, 0]\\nclass = y[2]'),\n",
       " Text(336.7241379310345, 815.3999999999996, 'weight <= 158.75\\ngini = 0.627\\nsamples = 5150\\nvalue = [72, 910, 2513, 0, 0, 1655, 0]\\nclass = y[2]'),\n",
       " Text(288.62068965517244, 271.7999999999997, 'gini = 0.641\\nsamples = 1692\\nvalue = [32, 399, 820, 0, 0, 441, 0]\\nclass = y[2]'),\n",
       " Text(384.82758620689657, 271.7999999999997, 'gini = 0.615\\nsamples = 3458\\nvalue = [40, 511, 1693, 0, 0, 1214, 0]\\nclass = y[2]'),\n",
       " Text(529.1379310344828, 815.3999999999996, 'weight <= 158.75\\ngini = 0.642\\nsamples = 7235\\nvalue = [240, 2250, 3512, 115, 1, 1117, 0]\\nclass = y[2]'),\n",
       " Text(481.0344827586207, 271.7999999999997, 'gini = 0.663\\nsamples = 1670\\nvalue = [88, 615, 710, 36, 0, 221, 0]\\nclass = y[2]'),\n",
       " Text(577.2413793103449, 271.7999999999997, 'gini = 0.633\\nsamples = 5565\\nvalue = [152, 1635, 2802, 79, 1, 896, 0]\\nclass = y[2]'),\n",
       " Text(1010.1724137931035, 1902.6, 'age <= 58.5\\ngini = 0.699\\nsamples = 27572\\nvalue = [5193, 12684, 5636, 2896, 7, 666, 490]\\nclass = y[1]'),\n",
       " Text(817.7586206896552, 1358.9999999999998, 'age <= 56.5\\ngini = 0.666\\nsamples = 17635\\nvalue = [2342, 8556, 4846, 1090, 3, 654, 144]\\nclass = y[1]'),\n",
       " Text(721.551724137931, 815.3999999999996, 'weight <= 161.3\\ngini = 0.652\\nsamples = 7744\\nvalue = [656, 3475, 2843, 277, 0, 463, 30]\\nclass = y[1]'),\n",
       " Text(673.448275862069, 271.7999999999997, 'gini = 0.653\\nsamples = 2408\\nvalue = [304, 1201, 672, 111, 0, 107, 13]\\nclass = y[1]'),\n",
       " Text(769.6551724137931, 271.7999999999997, 'gini = 0.643\\nsamples = 5336\\nvalue = [352, 2274, 2171, 166, 0, 356, 17]\\nclass = y[1]'),\n",
       " Text(913.9655172413793, 815.3999999999996, 'weight <= 168.9\\ngini = 0.659\\nsamples = 9891\\nvalue = [1686, 5081, 2003, 813, 3, 191, 114]\\nclass = y[1]'),\n",
       " Text(865.8620689655173, 271.7999999999997, 'gini = 0.663\\nsamples = 7036\\nvalue = [1358, 3595, 1201, 667, 3, 118, 94]\\nclass = y[1]'),\n",
       " Text(962.0689655172414, 271.7999999999997, 'gini = 0.634\\nsamples = 2855\\nvalue = [328, 1486, 802, 146, 0, 73, 20]\\nclass = y[1]'),\n",
       " Text(1202.5862068965519, 1358.9999999999998, 'weight <= 163.85\\ngini = 0.705\\nsamples = 9937\\nvalue = [2851, 4128, 790, 1806, 4, 12, 346]\\nclass = y[1]'),\n",
       " Text(1106.3793103448277, 815.3999999999996, 'weight <= 158.75\\ngini = 0.721\\nsamples = 3327\\nvalue = [1057, 1127, 185, 804, 4, 6, 144]\\nclass = y[1]'),\n",
       " Text(1058.2758620689656, 271.7999999999997, 'gini = 0.74\\nsamples = 870\\nvalue = [264, 239, 36, 251, 4, 1, 75]\\nclass = y[0]'),\n",
       " Text(1154.4827586206898, 271.7999999999997, 'gini = 0.71\\nsamples = 2457\\nvalue = [793, 888, 149, 553, 0, 5, 69]\\nclass = y[1]'),\n",
       " Text(1298.7931034482758, 815.3999999999996, 'weight <= 171.45\\ngini = 0.688\\nsamples = 6610\\nvalue = [1794, 3001, 605, 1002, 0, 6, 202]\\nclass = y[1]'),\n",
       " Text(1250.689655172414, 271.7999999999997, 'gini = 0.696\\nsamples = 4412\\nvalue = [1263, 1910, 332, 737, 0, 4, 166]\\nclass = y[1]'),\n",
       " Text(1346.896551724138, 271.7999999999997, 'gini = 0.665\\nsamples = 2198\\nvalue = [531, 1091, 273, 265, 0, 2, 36]\\nclass = y[1]'),\n",
       " Text(2152.629310344828, 2446.2, 'age <= 70.5\\ngini = 0.707\\nsamples = 28535\\nvalue = [5645, 2993, 0, 9287, 40, 0, 10570]\\nclass = y[6]'),\n",
       " Text(1779.8275862068967, 1902.6, 'age <= 66.5\\ngini = 0.72\\nsamples = 19245\\nvalue = [5315, 2993, 0, 7310, 34, 0, 3593]\\nclass = y[3]'),\n",
       " Text(1587.4137931034484, 1358.9999999999998, 'age <= 64.5\\ngini = 0.712\\nsamples = 11556\\nvalue = [3823, 2597, 0, 3966, 16, 0, 1154]\\nclass = y[3]'),\n",
       " Text(1491.2068965517242, 815.3999999999996, 'weight <= 163.85\\ngini = 0.708\\nsamples = 6531\\nvalue = [2259, 1787, 0, 1983, 8, 0, 494]\\nclass = y[0]'),\n",
       " Text(1443.103448275862, 271.7999999999997, 'gini = 0.72\\nsamples = 1925\\nvalue = [602, 340, 0, 692, 8, 0, 283]\\nclass = y[3]'),\n",
       " Text(1539.3103448275863, 271.7999999999997, 'gini = 0.691\\nsamples = 4606\\nvalue = [1657, 1447, 0, 1291, 0, 0, 211]\\nclass = y[0]'),\n",
       " Text(1683.6206896551726, 815.3999999999996, 'weight <= 168.9\\ngini = 0.704\\nsamples = 5025\\nvalue = [1564, 810, 0, 1983, 8, 0, 660]\\nclass = y[3]'),\n",
       " Text(1635.5172413793105, 271.7999999999997, 'gini = 0.702\\nsamples = 2627\\nvalue = [729, 324, 0, 1092, 8, 0, 474]\\nclass = y[3]'),\n",
       " Text(1731.7241379310346, 271.7999999999997, 'gini = 0.694\\nsamples = 2398\\nvalue = [835, 486, 0, 891, 0, 0, 186]\\nclass = y[3]'),\n",
       " Text(1972.2413793103449, 1358.9999999999998, 'weight <= 163.85\\ngini = 0.67\\nsamples = 7689\\nvalue = [1492, 396, 0, 3344, 18, 0, 2439]\\nclass = y[3]'),\n",
       " Text(1876.0344827586207, 815.3999999999996, 'age <= 68.5\\ngini = 0.639\\nsamples = 1879\\nvalue = [248, 81, 0, 643, 16, 0, 891]\\nclass = y[6]'),\n",
       " Text(1827.9310344827586, 271.7999999999997, 'gini = 0.67\\nsamples = 1276\\nvalue = [196, 81, 0, 456, 10, 0, 533]\\nclass = y[6]'),\n",
       " Text(1924.1379310344828, 271.7999999999997, 'gini = 0.544\\nsamples = 603\\nvalue = [52, 0, 0, 187, 6, 0, 358]\\nclass = y[6]'),\n",
       " Text(2068.448275862069, 815.3999999999996, 'age <= 69.5\\ngini = 0.664\\nsamples = 5810\\nvalue = [1244, 315, 0, 2701, 2, 0, 1548]\\nclass = y[3]'),\n",
       " Text(2020.344827586207, 271.7999999999997, 'gini = 0.673\\nsamples = 3923\\nvalue = [947, 315, 0, 1827, 1, 0, 833]\\nclass = y[3]'),\n",
       " Text(2116.551724137931, 271.7999999999997, 'gini = 0.617\\nsamples = 1887\\nvalue = [297, 0, 0, 874, 1, 0, 715]\\nclass = y[3]'),\n",
       " Text(2525.4310344827586, 1902.6, 'age <= 75.5\\ngini = 0.389\\nsamples = 9290\\nvalue = [330, 0, 0, 1977, 6, 0, 6977]\\nclass = y[6]'),\n",
       " Text(2357.0689655172414, 1358.9999999999998, 'weight <= 166.35\\ngini = 0.507\\nsamples = 5223\\nvalue = [330, 0, 0, 1616, 3, 0, 3274]\\nclass = y[6]'),\n",
       " Text(2260.862068965517, 815.3999999999996, 'age <= 73.5\\ngini = 0.413\\nsamples = 1725\\nvalue = [73, 0, 0, 387, 3, 0, 1262]\\nclass = y[6]'),\n",
       " Text(2212.7586206896553, 271.7999999999997, 'gini = 0.447\\nsamples = 1116\\nvalue = [54, 0, 0, 281, 2, 0, 779]\\nclass = y[6]'),\n",
       " Text(2308.9655172413795, 271.7999999999997, 'gini = 0.34\\nsamples = 609\\nvalue = [19, 0, 0, 106, 1, 0, 483]\\nclass = y[6]'),\n",
       " Text(2453.2758620689656, 815.3999999999996, 'age <= 72.5\\ngini = 0.54\\nsamples = 3498\\nvalue = [257, 0, 0, 1229, 0, 0, 2012]\\nclass = y[6]'),\n",
       " Text(2405.1724137931037, 271.7999999999997, 'gini = 0.578\\nsamples = 2091\\nvalue = [203, 0, 0, 838, 0, 0, 1050]\\nclass = y[6]'),\n",
       " Text(2501.379310344828, 271.7999999999997, 'gini = 0.454\\nsamples = 1407\\nvalue = [54, 0, 0, 391, 0, 0, 962]\\nclass = y[6]'),\n",
       " Text(2693.793103448276, 1358.9999999999998, 'age <= 80.5\\ngini = 0.163\\nsamples = 4067\\nvalue = [0, 0, 0, 361, 3, 0, 3703]\\nclass = y[6]'),\n",
       " Text(2645.689655172414, 815.3999999999996, 'weight <= 174.0\\ngini = 0.24\\nsamples = 2610\\nvalue = [0, 0, 0, 361, 3, 0, 2246]\\nclass = y[6]'),\n",
       " Text(2597.5862068965516, 271.7999999999997, 'gini = 0.21\\nsamples = 1926\\nvalue = [0, 0, 0, 226, 3, 0, 1697]\\nclass = y[6]'),\n",
       " Text(2693.793103448276, 271.7999999999997, 'gini = 0.317\\nsamples = 684\\nvalue = [0, 0, 0, 135, 0, 0, 549]\\nclass = y[6]'),\n",
       " Text(2741.896551724138, 815.3999999999996, 'gini = 0.0\\nsamples = 1457\\nvalue = [0, 0, 0, 0, 0, 0, 1457]\\nclass = y[6]')]"
      ]
     },
     "execution_count": 345,
     "metadata": {},
     "output_type": "execute_result"
    },
    {
     "data": {
      "image/png": "[encoded data removed]",
      "text/plain": [
       "<Figure size 3600x4320 with 1 Axes>"
      ]
     },
     "metadata": {
      "needs_background": "light"
     },
     "output_type": "display_data"
    }
   ],
   "source": [
    "# Plot tree\n",
    "plt.figure(figsize=(50, 60))\n",
    "plot_tree(dt, feature_names=['weight', 'age', 'height'], class_names=True)"
   ]
  },
  {
   "cell_type": "code",
   "execution_count": 346,
   "id": "5d4049d3",
   "metadata": {
    "ExecuteTime": {
     "end_time": "2021-09-09T01:27:26.154643Z",
     "start_time": "2021-09-09T01:27:25.670010Z"
    },
    "hidden": true
   },
   "outputs": [
    {
     "name": "stdout",
     "output_type": "stream",
     "text": [
      "              precision    recall  f1-score   support\n",
      "\n",
      "           L       0.35      0.17      0.23      4809\n",
      "           M       0.47      0.66      0.55      8262\n",
      "           S       0.49      0.45      0.46      5787\n",
      "          XL       0.42      0.45      0.43      5115\n",
      "         XXL       0.00      0.00      0.00        10\n",
      "         XXS       0.60      0.46      0.52      2722\n",
      "        XXXL       0.71      0.71      0.71      4774\n",
      "\n",
      "    accuracy                           0.50     31479\n",
      "   macro avg       0.43      0.41      0.42     31479\n",
      "weighted avg       0.49      0.50      0.49     31479\n",
      "\n"
     ]
    }
   ],
   "source": [
    "# Evaluation\n",
    "print(classification_report(y_test, dt.predict(X_test), zero_division=0))"
   ]
  },
  {
   "cell_type": "markdown",
   "id": "a2a4cfad",
   "metadata": {
    "hidden": true
   },
   "source": [
    "> **Accuracy: 50%, f1-score(weighted): 0.49**"
   ]
  },
  {
   "cell_type": "markdown",
   "id": "f558055d",
   "metadata": {
    "heading_collapsed": true
   },
   "source": [
    "## Naive Bayes"
   ]
  },
  {
   "cell_type": "code",
   "execution_count": 347,
   "id": "9b722f3d",
   "metadata": {
    "ExecuteTime": {
     "end_time": "2021-09-09T01:27:33.573548Z",
     "start_time": "2021-09-09T01:27:33.568002Z"
    },
    "hidden": true
   },
   "outputs": [],
   "source": [
    "from sklearn.naive_bayes import GaussianNB"
   ]
  },
  {
   "cell_type": "code",
   "execution_count": 348,
   "id": "df807170",
   "metadata": {
    "ExecuteTime": {
     "end_time": "2021-09-09T01:27:44.906447Z",
     "start_time": "2021-09-09T01:27:44.812409Z"
    },
    "hidden": true
   },
   "outputs": [
    {
     "data": {
      "text/plain": [
       "0.47924012833952795"
      ]
     },
     "execution_count": 348,
     "metadata": {},
     "output_type": "execute_result"
    }
   ],
   "source": [
    "nb = GaussianNB()\n",
    "nb.fit(X_train_sc, y_train)\n",
    "nb.score(X_test_sc, y_test)"
   ]
  },
  {
   "cell_type": "code",
   "execution_count": 349,
   "id": "da935924",
   "metadata": {
    "ExecuteTime": {
     "end_time": "2021-09-09T01:27:47.573474Z",
     "start_time": "2021-09-09T01:27:47.235209Z"
    },
    "hidden": true
   },
   "outputs": [
    {
     "name": "stdout",
     "output_type": "stream",
     "text": [
      "              precision    recall  f1-score   support\n",
      "\n",
      "           L       0.35      0.18      0.24      4809\n",
      "           M       0.45      0.60      0.51      8262\n",
      "           S       0.44      0.48      0.46      5787\n",
      "          XL       0.40      0.42      0.41      5115\n",
      "         XXL       0.00      0.00      0.00        10\n",
      "         XXS       0.57      0.49      0.53      2722\n",
      "        XXXL       0.74      0.65      0.69      4774\n",
      "\n",
      "    accuracy                           0.48     31479\n",
      "   macro avg       0.42      0.40      0.40     31479\n",
      "weighted avg       0.48      0.48      0.47     31479\n",
      "\n"
     ]
    }
   ],
   "source": [
    "print(classification_report(y_test, nb.predict(X_test_sc)))"
   ]
  },
  {
   "cell_type": "markdown",
   "id": "69f38328",
   "metadata": {
    "hidden": true
   },
   "source": [
    "> **Accuracy: 47.9%, f1-score(weighted): 0.47**"
   ]
  },
  {
   "cell_type": "markdown",
   "id": "34ebc1da",
   "metadata": {
    "heading_collapsed": true
   },
   "source": [
    "## Ensemble Model 1)  Voting"
   ]
  },
  {
   "cell_type": "code",
   "execution_count": 350,
   "id": "b43df1f1",
   "metadata": {
    "ExecuteTime": {
     "end_time": "2021-09-09T01:28:01.200540Z",
     "start_time": "2021-09-09T01:28:01.183536Z"
    },
    "hidden": true
   },
   "outputs": [],
   "source": [
    "from sklearn.ensemble import VotingClassifier"
   ]
  },
  {
   "cell_type": "code",
   "execution_count": 353,
   "id": "386842ce",
   "metadata": {
    "ExecuteTime": {
     "end_time": "2021-09-09T01:49:27.808821Z",
     "start_time": "2021-09-09T01:49:27.800819Z"
    },
    "hidden": true
   },
   "outputs": [],
   "source": [
    "# All classification models used above\n",
    "logi = LogisticRegression(solver='saga')\n",
    "svm = SVC(kernel='rbf', C=0.05, gamma=5, probability=True)\n",
    "knn = KNeighborsClassifier(n_neighbors=41)\n",
    "dt = DecisionTreeClassifier(max_depth=5, min_samples_split=10, min_samples_leaf=5)\n",
    "nb = GaussianNB()\n",
    "\n",
    "vot = VotingClassifier(estimators=[('logi', logi), ('svm', svm), ('knn', knn), ('dt', dt), ('nb', nb)], voting='soft')"
   ]
  },
  {
   "cell_type": "code",
   "execution_count": 354,
   "id": "65e647a8",
   "metadata": {
    "ExecuteTime": {
     "end_time": "2021-09-09T02:06:44.402885Z",
     "start_time": "2021-09-09T01:49:29.543714Z"
    },
    "hidden": true
   },
   "outputs": [
    {
     "data": {
      "text/plain": [
       "0.5048127322977223"
      ]
     },
     "execution_count": 354,
     "metadata": {},
     "output_type": "execute_result"
    }
   ],
   "source": [
    "vot.fit(X_train_sc, y_train)\n",
    "vot.score(X_test_sc, y_test)"
   ]
  },
  {
   "cell_type": "markdown",
   "id": "a832f468",
   "metadata": {
    "heading_collapsed": true
   },
   "source": [
    "## Ensemble Model 2) Bagging - Random Forest"
   ]
  },
  {
   "cell_type": "code",
   "execution_count": 355,
   "id": "3a8de8d3",
   "metadata": {
    "ExecuteTime": {
     "end_time": "2021-09-09T02:06:44.418889Z",
     "start_time": "2021-09-09T02:06:44.404885Z"
    },
    "hidden": true
   },
   "outputs": [],
   "source": [
    "from sklearn.ensemble import RandomForestClassifier"
   ]
  },
  {
   "cell_type": "code",
   "execution_count": 356,
   "id": "143d2fa1",
   "metadata": {
    "ExecuteTime": {
     "end_time": "2021-09-09T02:06:45.124387Z",
     "start_time": "2021-09-09T02:06:44.420889Z"
    },
    "hidden": true
   },
   "outputs": [
    {
     "data": {
      "text/plain": [
       "0.5029702341243368"
      ]
     },
     "execution_count": 356,
     "metadata": {},
     "output_type": "execute_result"
    }
   ],
   "source": [
    "rf = RandomForestClassifier(max_depth=5, min_samples_split=10, min_samples_leaf=5, n_jobs=-1)\n",
    "rf.fit(X_train, y_train)    # Decision tree doesn't need scaling\n",
    "rf.score(X_test, y_test)"
   ]
  },
  {
   "cell_type": "code",
   "execution_count": 357,
   "id": "078b2995",
   "metadata": {
    "ExecuteTime": {
     "end_time": "2021-09-09T02:06:45.172398Z",
     "start_time": "2021-09-09T02:06:45.126388Z"
    },
    "hidden": true
   },
   "outputs": [
    {
     "name": "stdout",
     "output_type": "stream",
     "text": [
      "Estimators: [DecisionTreeClassifier(max_depth=5, max_features='auto', min_samples_leaf=5,\n",
      "                       min_samples_split=10, random_state=183003830), DecisionTreeClassifier(max_depth=5, max_features='auto', min_samples_leaf=5,\n",
      "                       min_samples_split=10, random_state=1590139562), DecisionTreeClassifier(max_depth=5, max_features='auto', min_samples_leaf=5,\n",
      "                       min_samples_split=10, random_state=1984896453), DecisionTreeClassifier(max_depth=5, max_features='auto', min_samples_leaf=5,\n",
      "                       min_samples_split=10, random_state=2088637021), DecisionTreeClassifier(max_depth=5, max_features='auto', min_samples_leaf=5,\n",
      "                       min_samples_split=10, random_state=1479774744), DecisionTreeClassifier(max_depth=5, max_features='auto', min_samples_leaf=5,\n",
      "                       min_samples_split=10, random_state=1846050415), DecisionTreeClassifier(max_depth=5, max_features='auto', min_samples_leaf=5,\n",
      "                       min_samples_split=10, random_state=2108133405), DecisionTreeClassifier(max_depth=5, max_features='auto', min_samples_leaf=5,\n",
      "                       min_samples_split=10, random_state=1563161551), DecisionTreeClassifier(max_depth=5, max_features='auto', min_samples_leaf=5,\n",
      "                       min_samples_split=10, random_state=2055103424), DecisionTreeClassifier(max_depth=5, max_features='auto', min_samples_leaf=5,\n",
      "                       min_samples_split=10, random_state=1022355416), DecisionTreeClassifier(max_depth=5, max_features='auto', min_samples_leaf=5,\n",
      "                       min_samples_split=10, random_state=1716385774), DecisionTreeClassifier(max_depth=5, max_features='auto', min_samples_leaf=5,\n",
      "                       min_samples_split=10, random_state=1187372751), DecisionTreeClassifier(max_depth=5, max_features='auto', min_samples_leaf=5,\n",
      "                       min_samples_split=10, random_state=379038799), DecisionTreeClassifier(max_depth=5, max_features='auto', min_samples_leaf=5,\n",
      "                       min_samples_split=10, random_state=224371150), DecisionTreeClassifier(max_depth=5, max_features='auto', min_samples_leaf=5,\n",
      "                       min_samples_split=10, random_state=1006878074), DecisionTreeClassifier(max_depth=5, max_features='auto', min_samples_leaf=5,\n",
      "                       min_samples_split=10, random_state=400846245), DecisionTreeClassifier(max_depth=5, max_features='auto', min_samples_leaf=5,\n",
      "                       min_samples_split=10, random_state=404894760), DecisionTreeClassifier(max_depth=5, max_features='auto', min_samples_leaf=5,\n",
      "                       min_samples_split=10, random_state=1789673131), DecisionTreeClassifier(max_depth=5, max_features='auto', min_samples_leaf=5,\n",
      "                       min_samples_split=10, random_state=804310129), DecisionTreeClassifier(max_depth=5, max_features='auto', min_samples_leaf=5,\n",
      "                       min_samples_split=10, random_state=63413603), DecisionTreeClassifier(max_depth=5, max_features='auto', min_samples_leaf=5,\n",
      "                       min_samples_split=10, random_state=1101688456), DecisionTreeClassifier(max_depth=5, max_features='auto', min_samples_leaf=5,\n",
      "                       min_samples_split=10, random_state=369577230), DecisionTreeClassifier(max_depth=5, max_features='auto', min_samples_leaf=5,\n",
      "                       min_samples_split=10, random_state=443563264), DecisionTreeClassifier(max_depth=5, max_features='auto', min_samples_leaf=5,\n",
      "                       min_samples_split=10, random_state=1676128926), DecisionTreeClassifier(max_depth=5, max_features='auto', min_samples_leaf=5,\n",
      "                       min_samples_split=10, random_state=1421277753), DecisionTreeClassifier(max_depth=5, max_features='auto', min_samples_leaf=5,\n",
      "                       min_samples_split=10, random_state=1931180645), DecisionTreeClassifier(max_depth=5, max_features='auto', min_samples_leaf=5,\n",
      "                       min_samples_split=10, random_state=845704387), DecisionTreeClassifier(max_depth=5, max_features='auto', min_samples_leaf=5,\n",
      "                       min_samples_split=10, random_state=707577545), DecisionTreeClassifier(max_depth=5, max_features='auto', min_samples_leaf=5,\n",
      "                       min_samples_split=10, random_state=1280901551), DecisionTreeClassifier(max_depth=5, max_features='auto', min_samples_leaf=5,\n",
      "                       min_samples_split=10, random_state=932018749), DecisionTreeClassifier(max_depth=5, max_features='auto', min_samples_leaf=5,\n",
      "                       min_samples_split=10, random_state=1116370847), DecisionTreeClassifier(max_depth=5, max_features='auto', min_samples_leaf=5,\n",
      "                       min_samples_split=10, random_state=946769333), DecisionTreeClassifier(max_depth=5, max_features='auto', min_samples_leaf=5,\n",
      "                       min_samples_split=10, random_state=62945920), DecisionTreeClassifier(max_depth=5, max_features='auto', min_samples_leaf=5,\n",
      "                       min_samples_split=10, random_state=369002016), DecisionTreeClassifier(max_depth=5, max_features='auto', min_samples_leaf=5,\n",
      "                       min_samples_split=10, random_state=1718934952), DecisionTreeClassifier(max_depth=5, max_features='auto', min_samples_leaf=5,\n",
      "                       min_samples_split=10, random_state=1814705841), DecisionTreeClassifier(max_depth=5, max_features='auto', min_samples_leaf=5,\n",
      "                       min_samples_split=10, random_state=245160304), DecisionTreeClassifier(max_depth=5, max_features='auto', min_samples_leaf=5,\n",
      "                       min_samples_split=10, random_state=335070272), DecisionTreeClassifier(max_depth=5, max_features='auto', min_samples_leaf=5,\n",
      "                       min_samples_split=10, random_state=429226483), DecisionTreeClassifier(max_depth=5, max_features='auto', min_samples_leaf=5,\n",
      "                       min_samples_split=10, random_state=1404719353), DecisionTreeClassifier(max_depth=5, max_features='auto', min_samples_leaf=5,\n",
      "                       min_samples_split=10, random_state=1279330590), DecisionTreeClassifier(max_depth=5, max_features='auto', min_samples_leaf=5,\n",
      "                       min_samples_split=10, random_state=967271048), DecisionTreeClassifier(max_depth=5, max_features='auto', min_samples_leaf=5,\n",
      "                       min_samples_split=10, random_state=193577240), DecisionTreeClassifier(max_depth=5, max_features='auto', min_samples_leaf=5,\n",
      "                       min_samples_split=10, random_state=723749454), DecisionTreeClassifier(max_depth=5, max_features='auto', min_samples_leaf=5,\n",
      "                       min_samples_split=10, random_state=1231794559), DecisionTreeClassifier(max_depth=5, max_features='auto', min_samples_leaf=5,\n",
      "                       min_samples_split=10, random_state=1963625539), DecisionTreeClassifier(max_depth=5, max_features='auto', min_samples_leaf=5,\n",
      "                       min_samples_split=10, random_state=137879715), DecisionTreeClassifier(max_depth=5, max_features='auto', min_samples_leaf=5,\n",
      "                       min_samples_split=10, random_state=1671410227), DecisionTreeClassifier(max_depth=5, max_features='auto', min_samples_leaf=5,\n",
      "                       min_samples_split=10, random_state=1315981270), DecisionTreeClassifier(max_depth=5, max_features='auto', min_samples_leaf=5,\n",
      "                       min_samples_split=10, random_state=2127042661), DecisionTreeClassifier(max_depth=5, max_features='auto', min_samples_leaf=5,\n",
      "                       min_samples_split=10, random_state=1678797641), DecisionTreeClassifier(max_depth=5, max_features='auto', min_samples_leaf=5,\n",
      "                       min_samples_split=10, random_state=546686720), DecisionTreeClassifier(max_depth=5, max_features='auto', min_samples_leaf=5,\n",
      "                       min_samples_split=10, random_state=793784354), DecisionTreeClassifier(max_depth=5, max_features='auto', min_samples_leaf=5,\n",
      "                       min_samples_split=10, random_state=61359686), DecisionTreeClassifier(max_depth=5, max_features='auto', min_samples_leaf=5,\n",
      "                       min_samples_split=10, random_state=1183456495), DecisionTreeClassifier(max_depth=5, max_features='auto', min_samples_leaf=5,\n",
      "                       min_samples_split=10, random_state=1588763959), DecisionTreeClassifier(max_depth=5, max_features='auto', min_samples_leaf=5,\n",
      "                       min_samples_split=10, random_state=1202708579), DecisionTreeClassifier(max_depth=5, max_features='auto', min_samples_leaf=5,\n",
      "                       min_samples_split=10, random_state=1368083965), DecisionTreeClassifier(max_depth=5, max_features='auto', min_samples_leaf=5,\n",
      "                       min_samples_split=10, random_state=1910488227), DecisionTreeClassifier(max_depth=5, max_features='auto', min_samples_leaf=5,\n",
      "                       min_samples_split=10, random_state=711888217), DecisionTreeClassifier(max_depth=5, max_features='auto', min_samples_leaf=5,\n",
      "                       min_samples_split=10, random_state=1842760483), DecisionTreeClassifier(max_depth=5, max_features='auto', min_samples_leaf=5,\n",
      "                       min_samples_split=10, random_state=1486579044), DecisionTreeClassifier(max_depth=5, max_features='auto', min_samples_leaf=5,\n",
      "                       min_samples_split=10, random_state=589571387), DecisionTreeClassifier(max_depth=5, max_features='auto', min_samples_leaf=5,\n",
      "                       min_samples_split=10, random_state=1528084291), DecisionTreeClassifier(max_depth=5, max_features='auto', min_samples_leaf=5,\n",
      "                       min_samples_split=10, random_state=1118389614), DecisionTreeClassifier(max_depth=5, max_features='auto', min_samples_leaf=5,\n",
      "                       min_samples_split=10, random_state=1037175872), DecisionTreeClassifier(max_depth=5, max_features='auto', min_samples_leaf=5,\n",
      "                       min_samples_split=10, random_state=1300761596), DecisionTreeClassifier(max_depth=5, max_features='auto', min_samples_leaf=5,\n",
      "                       min_samples_split=10, random_state=1605068374), DecisionTreeClassifier(max_depth=5, max_features='auto', min_samples_leaf=5,\n",
      "                       min_samples_split=10, random_state=911192840), DecisionTreeClassifier(max_depth=5, max_features='auto', min_samples_leaf=5,\n",
      "                       min_samples_split=10, random_state=1462086353), DecisionTreeClassifier(max_depth=5, max_features='auto', min_samples_leaf=5,\n",
      "                       min_samples_split=10, random_state=408528621), DecisionTreeClassifier(max_depth=5, max_features='auto', min_samples_leaf=5,\n",
      "                       min_samples_split=10, random_state=145325827), DecisionTreeClassifier(max_depth=5, max_features='auto', min_samples_leaf=5,\n",
      "                       min_samples_split=10, random_state=1572534159), DecisionTreeClassifier(max_depth=5, max_features='auto', min_samples_leaf=5,\n",
      "                       min_samples_split=10, random_state=405673177), DecisionTreeClassifier(max_depth=5, max_features='auto', min_samples_leaf=5,\n",
      "                       min_samples_split=10, random_state=915936619), DecisionTreeClassifier(max_depth=5, max_features='auto', min_samples_leaf=5,\n",
      "                       min_samples_split=10, random_state=2063516448), DecisionTreeClassifier(max_depth=5, max_features='auto', min_samples_leaf=5,\n",
      "                       min_samples_split=10, random_state=1742970747), DecisionTreeClassifier(max_depth=5, max_features='auto', min_samples_leaf=5,\n",
      "                       min_samples_split=10, random_state=1857800000), DecisionTreeClassifier(max_depth=5, max_features='auto', min_samples_leaf=5,\n",
      "                       min_samples_split=10, random_state=134825843), DecisionTreeClassifier(max_depth=5, max_features='auto', min_samples_leaf=5,\n",
      "                       min_samples_split=10, random_state=1844941087), DecisionTreeClassifier(max_depth=5, max_features='auto', min_samples_leaf=5,\n",
      "                       min_samples_split=10, random_state=1228100674), DecisionTreeClassifier(max_depth=5, max_features='auto', min_samples_leaf=5,\n",
      "                       min_samples_split=10, random_state=1486319251), DecisionTreeClassifier(max_depth=5, max_features='auto', min_samples_leaf=5,\n",
      "                       min_samples_split=10, random_state=1183456925), DecisionTreeClassifier(max_depth=5, max_features='auto', min_samples_leaf=5,\n",
      "                       min_samples_split=10, random_state=2088193124), DecisionTreeClassifier(max_depth=5, max_features='auto', min_samples_leaf=5,\n",
      "                       min_samples_split=10, random_state=1588369202), DecisionTreeClassifier(max_depth=5, max_features='auto', min_samples_leaf=5,\n",
      "                       min_samples_split=10, random_state=2091931199), DecisionTreeClassifier(max_depth=5, max_features='auto', min_samples_leaf=5,\n",
      "                       min_samples_split=10, random_state=1109132835), DecisionTreeClassifier(max_depth=5, max_features='auto', min_samples_leaf=5,\n",
      "                       min_samples_split=10, random_state=954379310), DecisionTreeClassifier(max_depth=5, max_features='auto', min_samples_leaf=5,\n",
      "                       min_samples_split=10, random_state=1314809115), DecisionTreeClassifier(max_depth=5, max_features='auto', min_samples_leaf=5,\n",
      "                       min_samples_split=10, random_state=1558440087), DecisionTreeClassifier(max_depth=5, max_features='auto', min_samples_leaf=5,\n",
      "                       min_samples_split=10, random_state=2090950764), DecisionTreeClassifier(max_depth=5, max_features='auto', min_samples_leaf=5,\n",
      "                       min_samples_split=10, random_state=1037015327), DecisionTreeClassifier(max_depth=5, max_features='auto', min_samples_leaf=5,\n",
      "                       min_samples_split=10, random_state=575770370), DecisionTreeClassifier(max_depth=5, max_features='auto', min_samples_leaf=5,\n",
      "                       min_samples_split=10, random_state=696889038), DecisionTreeClassifier(max_depth=5, max_features='auto', min_samples_leaf=5,\n",
      "                       min_samples_split=10, random_state=893545202), DecisionTreeClassifier(max_depth=5, max_features='auto', min_samples_leaf=5,\n",
      "                       min_samples_split=10, random_state=1326315627), DecisionTreeClassifier(max_depth=5, max_features='auto', min_samples_leaf=5,\n",
      "                       min_samples_split=10, random_state=1686792486), DecisionTreeClassifier(max_depth=5, max_features='auto', min_samples_leaf=5,\n",
      "                       min_samples_split=10, random_state=1067652165), DecisionTreeClassifier(max_depth=5, max_features='auto', min_samples_leaf=5,\n",
      "                       min_samples_split=10, random_state=721492374), DecisionTreeClassifier(max_depth=5, max_features='auto', min_samples_leaf=5,\n",
      "                       min_samples_split=10, random_state=1705454890)]\n",
      "Base estimator: DecisionTreeClassifier()\n",
      "Features: 2\n",
      "Outputs: 1\n",
      "Feature importances: [0.04944218 0.95055782]\n"
     ]
    }
   ],
   "source": [
    "# Attributes of random forest classifier\n",
    "print('Estimators:', rf.estimators_)\n",
    "print('Base estimator:', rf.base_estimator_)\n",
    "print('Features:', rf.n_features_)\n",
    "print('Outputs:', rf.n_outputs_)\n",
    "print('Feature importances:', rf.feature_importances_)  # The higher, the more important the feature. "
   ]
  },
  {
   "cell_type": "code",
   "execution_count": 358,
   "id": "677e2154",
   "metadata": {
    "ExecuteTime": {
     "end_time": "2021-09-09T02:06:45.188185Z",
     "start_time": "2021-09-09T02:06:45.173398Z"
    },
    "hidden": true
   },
   "outputs": [],
   "source": [
    "# Grid search\n",
    "rf = RandomForestClassifier()\n",
    "params = {'max_depth':[5, 7, 9, 11], 'min_samples_split':[10, 20, 30, 50], 'min_samples_leaf':[5, 10, 15]}\n",
    "clf = GridSearchCV(rf, params, cv=5, n_jobs=-1)"
   ]
  },
  {
   "cell_type": "code",
   "execution_count": 359,
   "id": "b221b013",
   "metadata": {
    "ExecuteTime": {
     "end_time": "2021-09-09T02:08:01.660363Z",
     "start_time": "2021-09-09T02:06:45.190187Z"
    },
    "hidden": true
   },
   "outputs": [
    {
     "data": {
      "text/plain": [
       "0.5050668699768099"
      ]
     },
     "execution_count": 359,
     "metadata": {},
     "output_type": "execute_result"
    }
   ],
   "source": [
    "clf.fit(X_train, y_train)\n",
    "clf.score(X_test, y_test)"
   ]
  },
  {
   "cell_type": "code",
   "execution_count": 360,
   "id": "346e574b",
   "metadata": {
    "ExecuteTime": {
     "end_time": "2021-09-09T02:08:01.676367Z",
     "start_time": "2021-09-09T02:08:01.662364Z"
    },
    "hidden": true
   },
   "outputs": [
    {
     "data": {
      "text/plain": [
       "{'max_depth': 9, 'min_samples_leaf': 5, 'min_samples_split': 30}"
      ]
     },
     "execution_count": 360,
     "metadata": {},
     "output_type": "execute_result"
    }
   ],
   "source": [
    "clf.best_params_"
   ]
  },
  {
   "cell_type": "code",
   "execution_count": 361,
   "id": "d7f0b66e",
   "metadata": {
    "ExecuteTime": {
     "end_time": "2021-09-09T02:08:02.521103Z",
     "start_time": "2021-09-09T02:08:01.679367Z"
    },
    "hidden": true
   },
   "outputs": [
    {
     "name": "stdout",
     "output_type": "stream",
     "text": [
      "              precision    recall  f1-score   support\n",
      "\n",
      "           L       0.36      0.18      0.24      4809\n",
      "           M       0.48      0.62      0.54      8262\n",
      "           S       0.49      0.52      0.50      5787\n",
      "          XL       0.43      0.42      0.42      5115\n",
      "         XXL       0.00      0.00      0.00        10\n",
      "         XXS       0.60      0.47      0.52      2722\n",
      "        XXXL       0.71      0.73      0.72      4774\n",
      "\n",
      "    accuracy                           0.51     31479\n",
      "   macro avg       0.44      0.42      0.42     31479\n",
      "weighted avg       0.50      0.51      0.49     31479\n",
      "\n"
     ]
    }
   ],
   "source": [
    "print(classification_report(y_test, clf.predict(X_test), zero_division=0))"
   ]
  },
  {
   "cell_type": "markdown",
   "id": "df5154a4",
   "metadata": {
    "hidden": true
   },
   "source": [
    "> **Accuracy: 50.5%, f1-score(weighted): 0.49**"
   ]
  },
  {
   "cell_type": "markdown",
   "id": "d467d2f1",
   "metadata": {
    "heading_collapsed": true
   },
   "source": [
    "## Ensemble Model 3) Boosting - XGboost"
   ]
  },
  {
   "cell_type": "code",
   "execution_count": null,
   "id": "f70e2866",
   "metadata": {
    "ExecuteTime": {
     "end_time": "2021-09-07T21:11:53.763493Z",
     "start_time": "2021-09-07T21:02:48.993Z"
    },
    "hidden": true
   },
   "outputs": [],
   "source": [
    "# Install Xgboost library\n",
    "!pip install C:\\Users\\SK\\anaconda3\\Lib\\site-packages\\xgboost-1.4.2-cp38-cp38-win_amd64.whl"
   ]
  },
  {
   "cell_type": "code",
   "execution_count": 362,
   "id": "53e9d63b",
   "metadata": {
    "ExecuteTime": {
     "end_time": "2021-09-09T02:08:02.536976Z",
     "start_time": "2021-09-09T02:08:02.523103Z"
    },
    "hidden": true
   },
   "outputs": [],
   "source": [
    "from xgboost import XGBClassifier"
   ]
  },
  {
   "cell_type": "code",
   "execution_count": 363,
   "id": "8e1fbba0",
   "metadata": {
    "ExecuteTime": {
     "end_time": "2021-09-09T02:08:02.567089Z",
     "start_time": "2021-09-09T02:08:02.538976Z"
    },
    "hidden": true
   },
   "outputs": [
    {
     "data": {
      "text/plain": [
       "((51414, 2), (22035,))"
      ]
     },
     "execution_count": 363,
     "metadata": {},
     "output_type": "execute_result"
    }
   ],
   "source": [
    "# Prepare validation set from train set\n",
    "X_train_xgb, X_val_xgb, y_train_xgb, y_val_xgb = train_test_split(X_train, y_train, test_size=0.3, random_state=5)\n",
    "X_train_xgb.shape, y_val_xgb.shape    # Standardization isn't needed"
   ]
  },
  {
   "cell_type": "code",
   "execution_count": 370,
   "id": "f3a9ae16",
   "metadata": {
    "ExecuteTime": {
     "end_time": "2021-09-09T03:06:13.334205Z",
     "start_time": "2021-09-09T03:06:00.053364Z"
    },
    "collapsed": true,
    "hidden": true
   },
   "outputs": [
    {
     "name": "stdout",
     "output_type": "stream",
     "text": [
      "[0]\tvalidation_0-mlogloss:1.84668\n",
      "[1]\tvalidation_0-mlogloss:1.76611\n",
      "[2]\tvalidation_0-mlogloss:1.69849\n",
      "[3]\tvalidation_0-mlogloss:1.64061\n",
      "[4]\tvalidation_0-mlogloss:1.59046\n",
      "[5]\tvalidation_0-mlogloss:1.54661\n",
      "[6]\tvalidation_0-mlogloss:1.50795\n",
      "[7]\tvalidation_0-mlogloss:1.47365\n",
      "[8]\tvalidation_0-mlogloss:1.44313\n",
      "[9]\tvalidation_0-mlogloss:1.41581\n",
      "[10]\tvalidation_0-mlogloss:1.39129\n",
      "[11]\tvalidation_0-mlogloss:1.36919\n",
      "[12]\tvalidation_0-mlogloss:1.34922\n",
      "[13]\tvalidation_0-mlogloss:1.33113\n",
      "[14]\tvalidation_0-mlogloss:1.31471\n",
      "[15]\tvalidation_0-mlogloss:1.29978\n",
      "[16]\tvalidation_0-mlogloss:1.28618\n",
      "[17]\tvalidation_0-mlogloss:1.27375\n",
      "[18]\tvalidation_0-mlogloss:1.26238\n",
      "[19]\tvalidation_0-mlogloss:1.25198\n",
      "[20]\tvalidation_0-mlogloss:1.24242\n",
      "[21]\tvalidation_0-mlogloss:1.23366\n",
      "[22]\tvalidation_0-mlogloss:1.22559\n",
      "[23]\tvalidation_0-mlogloss:1.21815\n",
      "[24]\tvalidation_0-mlogloss:1.21132\n",
      "[25]\tvalidation_0-mlogloss:1.20500\n",
      "[26]\tvalidation_0-mlogloss:1.19915\n",
      "[27]\tvalidation_0-mlogloss:1.19372\n",
      "[28]\tvalidation_0-mlogloss:1.18871\n",
      "[29]\tvalidation_0-mlogloss:1.18406\n",
      "[30]\tvalidation_0-mlogloss:1.17971\n",
      "[31]\tvalidation_0-mlogloss:1.17567\n",
      "[32]\tvalidation_0-mlogloss:1.17191\n",
      "[33]\tvalidation_0-mlogloss:1.16843\n",
      "[34]\tvalidation_0-mlogloss:1.16518\n",
      "[35]\tvalidation_0-mlogloss:1.16214\n",
      "[36]\tvalidation_0-mlogloss:1.15932\n",
      "[37]\tvalidation_0-mlogloss:1.15669\n",
      "[38]\tvalidation_0-mlogloss:1.15424\n",
      "[39]\tvalidation_0-mlogloss:1.15194\n",
      "[40]\tvalidation_0-mlogloss:1.14978\n",
      "[41]\tvalidation_0-mlogloss:1.14776\n",
      "[42]\tvalidation_0-mlogloss:1.14588\n",
      "[43]\tvalidation_0-mlogloss:1.14410\n",
      "[44]\tvalidation_0-mlogloss:1.14244\n",
      "[45]\tvalidation_0-mlogloss:1.14090\n",
      "[46]\tvalidation_0-mlogloss:1.13945\n",
      "[47]\tvalidation_0-mlogloss:1.13808\n",
      "[48]\tvalidation_0-mlogloss:1.13680\n",
      "[49]\tvalidation_0-mlogloss:1.13561\n",
      "[50]\tvalidation_0-mlogloss:1.13448\n",
      "[51]\tvalidation_0-mlogloss:1.13342\n",
      "[52]\tvalidation_0-mlogloss:1.13241\n",
      "[53]\tvalidation_0-mlogloss:1.13146\n",
      "[54]\tvalidation_0-mlogloss:1.13057\n",
      "[55]\tvalidation_0-mlogloss:1.12973\n",
      "[56]\tvalidation_0-mlogloss:1.12894\n",
      "[57]\tvalidation_0-mlogloss:1.12819\n",
      "[58]\tvalidation_0-mlogloss:1.12750\n",
      "[59]\tvalidation_0-mlogloss:1.12686\n",
      "[60]\tvalidation_0-mlogloss:1.12626\n",
      "[61]\tvalidation_0-mlogloss:1.12568\n",
      "[62]\tvalidation_0-mlogloss:1.12514\n",
      "[63]\tvalidation_0-mlogloss:1.12463\n",
      "[64]\tvalidation_0-mlogloss:1.12416\n",
      "[65]\tvalidation_0-mlogloss:1.12370\n",
      "[66]\tvalidation_0-mlogloss:1.12326\n",
      "[67]\tvalidation_0-mlogloss:1.12286\n",
      "[68]\tvalidation_0-mlogloss:1.12248\n",
      "[69]\tvalidation_0-mlogloss:1.12213\n",
      "[70]\tvalidation_0-mlogloss:1.12180\n",
      "[71]\tvalidation_0-mlogloss:1.12149\n",
      "[72]\tvalidation_0-mlogloss:1.12119\n",
      "[73]\tvalidation_0-mlogloss:1.12092\n",
      "[74]\tvalidation_0-mlogloss:1.12066\n",
      "[75]\tvalidation_0-mlogloss:1.12040\n",
      "[76]\tvalidation_0-mlogloss:1.12017\n",
      "[77]\tvalidation_0-mlogloss:1.11995\n",
      "[78]\tvalidation_0-mlogloss:1.11975\n",
      "[79]\tvalidation_0-mlogloss:1.11956\n",
      "[80]\tvalidation_0-mlogloss:1.11938\n",
      "[81]\tvalidation_0-mlogloss:1.11921\n",
      "[82]\tvalidation_0-mlogloss:1.11906\n",
      "[83]\tvalidation_0-mlogloss:1.11891\n",
      "[84]\tvalidation_0-mlogloss:1.11878\n",
      "[85]\tvalidation_0-mlogloss:1.11864\n",
      "[86]\tvalidation_0-mlogloss:1.11852\n",
      "[87]\tvalidation_0-mlogloss:1.11842\n",
      "[88]\tvalidation_0-mlogloss:1.11833\n",
      "[89]\tvalidation_0-mlogloss:1.11823\n",
      "[90]\tvalidation_0-mlogloss:1.11814\n",
      "[91]\tvalidation_0-mlogloss:1.11807\n",
      "[92]\tvalidation_0-mlogloss:1.11799\n",
      "[93]\tvalidation_0-mlogloss:1.11791\n",
      "[94]\tvalidation_0-mlogloss:1.11785\n",
      "[95]\tvalidation_0-mlogloss:1.11778\n",
      "[96]\tvalidation_0-mlogloss:1.11772\n",
      "[97]\tvalidation_0-mlogloss:1.11767\n",
      "[98]\tvalidation_0-mlogloss:1.11762\n",
      "[99]\tvalidation_0-mlogloss:1.11757\n",
      "[100]\tvalidation_0-mlogloss:1.11753\n",
      "[101]\tvalidation_0-mlogloss:1.11749\n",
      "[102]\tvalidation_0-mlogloss:1.11744\n",
      "[103]\tvalidation_0-mlogloss:1.11740\n",
      "[104]\tvalidation_0-mlogloss:1.11738\n",
      "[105]\tvalidation_0-mlogloss:1.11736\n",
      "[106]\tvalidation_0-mlogloss:1.11734\n",
      "[107]\tvalidation_0-mlogloss:1.11733\n",
      "[108]\tvalidation_0-mlogloss:1.11731\n",
      "[109]\tvalidation_0-mlogloss:1.11729\n",
      "[110]\tvalidation_0-mlogloss:1.11727\n",
      "[111]\tvalidation_0-mlogloss:1.11726\n",
      "[112]\tvalidation_0-mlogloss:1.11724\n",
      "[113]\tvalidation_0-mlogloss:1.11723\n",
      "[114]\tvalidation_0-mlogloss:1.11723\n",
      "[115]\tvalidation_0-mlogloss:1.11723\n",
      "[116]\tvalidation_0-mlogloss:1.11723\n",
      "[117]\tvalidation_0-mlogloss:1.11724\n",
      "[118]\tvalidation_0-mlogloss:1.11725\n",
      "[119]\tvalidation_0-mlogloss:1.11726\n",
      "[120]\tvalidation_0-mlogloss:1.11726\n",
      "[121]\tvalidation_0-mlogloss:1.11726\n",
      "[122]\tvalidation_0-mlogloss:1.11727\n",
      "[123]\tvalidation_0-mlogloss:1.11727\n",
      "[124]\tvalidation_0-mlogloss:1.11728\n",
      "[125]\tvalidation_0-mlogloss:1.11728\n",
      "[126]\tvalidation_0-mlogloss:1.11729\n",
      "[127]\tvalidation_0-mlogloss:1.11729\n",
      "[128]\tvalidation_0-mlogloss:1.11729\n",
      "[129]\tvalidation_0-mlogloss:1.11729\n",
      "[130]\tvalidation_0-mlogloss:1.11729\n",
      "[131]\tvalidation_0-mlogloss:1.11730\n",
      "[132]\tvalidation_0-mlogloss:1.11731\n",
      "[133]\tvalidation_0-mlogloss:1.11731\n",
      "[134]\tvalidation_0-mlogloss:1.11733\n",
      "[135]\tvalidation_0-mlogloss:1.11734\n",
      "[136]\tvalidation_0-mlogloss:1.11734\n",
      "[137]\tvalidation_0-mlogloss:1.11735\n",
      "[138]\tvalidation_0-mlogloss:1.11736\n",
      "[139]\tvalidation_0-mlogloss:1.11737\n",
      "[140]\tvalidation_0-mlogloss:1.11737\n",
      "[141]\tvalidation_0-mlogloss:1.11737\n",
      "[142]\tvalidation_0-mlogloss:1.11738\n",
      "[143]\tvalidation_0-mlogloss:1.11739\n",
      "[144]\tvalidation_0-mlogloss:1.11739\n",
      "[145]\tvalidation_0-mlogloss:1.11740\n",
      "[146]\tvalidation_0-mlogloss:1.11742\n",
      "[147]\tvalidation_0-mlogloss:1.11742\n",
      "[148]\tvalidation_0-mlogloss:1.11743\n",
      "[149]\tvalidation_0-mlogloss:1.11745\n",
      "[150]\tvalidation_0-mlogloss:1.11746\n",
      "[151]\tvalidation_0-mlogloss:1.11748\n",
      "[152]\tvalidation_0-mlogloss:1.11749\n",
      "[153]\tvalidation_0-mlogloss:1.11750\n",
      "[154]\tvalidation_0-mlogloss:1.11751\n",
      "[155]\tvalidation_0-mlogloss:1.11751\n",
      "[156]\tvalidation_0-mlogloss:1.11752\n",
      "[157]\tvalidation_0-mlogloss:1.11753\n",
      "[158]\tvalidation_0-mlogloss:1.11753\n",
      "[159]\tvalidation_0-mlogloss:1.11755\n",
      "[160]\tvalidation_0-mlogloss:1.11756\n",
      "[161]\tvalidation_0-mlogloss:1.11756\n",
      "[162]\tvalidation_0-mlogloss:1.11757\n",
      "[163]\tvalidation_0-mlogloss:1.11758\n",
      "[164]\tvalidation_0-mlogloss:1.11760\n",
      "[165]\tvalidation_0-mlogloss:1.11761\n",
      "[166]\tvalidation_0-mlogloss:1.11763\n",
      "[167]\tvalidation_0-mlogloss:1.11764\n",
      "[168]\tvalidation_0-mlogloss:1.11765\n",
      "[169]\tvalidation_0-mlogloss:1.11766\n",
      "[170]\tvalidation_0-mlogloss:1.11767\n",
      "[171]\tvalidation_0-mlogloss:1.11769\n",
      "[172]\tvalidation_0-mlogloss:1.11770\n",
      "[173]\tvalidation_0-mlogloss:1.11771\n",
      "[174]\tvalidation_0-mlogloss:1.11772\n",
      "[175]\tvalidation_0-mlogloss:1.11773\n",
      "[176]\tvalidation_0-mlogloss:1.11773\n",
      "[177]\tvalidation_0-mlogloss:1.11774\n",
      "[178]\tvalidation_0-mlogloss:1.11775\n",
      "[179]\tvalidation_0-mlogloss:1.11776\n",
      "[180]\tvalidation_0-mlogloss:1.11777\n",
      "[181]\tvalidation_0-mlogloss:1.11778\n",
      "[182]\tvalidation_0-mlogloss:1.11779\n",
      "[183]\tvalidation_0-mlogloss:1.11780\n",
      "[184]\tvalidation_0-mlogloss:1.11780\n",
      "[185]\tvalidation_0-mlogloss:1.11783\n",
      "[186]\tvalidation_0-mlogloss:1.11784\n",
      "[187]\tvalidation_0-mlogloss:1.11785\n",
      "[188]\tvalidation_0-mlogloss:1.11786\n",
      "[189]\tvalidation_0-mlogloss:1.11787\n",
      "[190]\tvalidation_0-mlogloss:1.11788\n",
      "[191]\tvalidation_0-mlogloss:1.11789\n",
      "[192]\tvalidation_0-mlogloss:1.11790\n",
      "[193]\tvalidation_0-mlogloss:1.11790\n",
      "[194]\tvalidation_0-mlogloss:1.11791\n",
      "[195]\tvalidation_0-mlogloss:1.11792\n",
      "[196]\tvalidation_0-mlogloss:1.11794\n",
      "[197]\tvalidation_0-mlogloss:1.11795\n",
      "[198]\tvalidation_0-mlogloss:1.11796\n",
      "[199]\tvalidation_0-mlogloss:1.11797\n",
      "[200]\tvalidation_0-mlogloss:1.11798\n",
      "[201]\tvalidation_0-mlogloss:1.11799\n",
      "[202]\tvalidation_0-mlogloss:1.11799\n",
      "[203]\tvalidation_0-mlogloss:1.11800\n",
      "[204]\tvalidation_0-mlogloss:1.11801\n",
      "[205]\tvalidation_0-mlogloss:1.11802\n",
      "[206]\tvalidation_0-mlogloss:1.11803\n",
      "[207]\tvalidation_0-mlogloss:1.11804\n",
      "[208]\tvalidation_0-mlogloss:1.11805\n",
      "[209]\tvalidation_0-mlogloss:1.11806\n",
      "[210]\tvalidation_0-mlogloss:1.11807\n",
      "[211]\tvalidation_0-mlogloss:1.11808\n",
      "[212]\tvalidation_0-mlogloss:1.11808\n",
      "[213]\tvalidation_0-mlogloss:1.11809\n",
      "[214]\tvalidation_0-mlogloss:1.11810\n"
     ]
    },
    {
     "data": {
      "text/plain": [
       "XGBClassifier(base_score=0.5, booster='gbtree', colsample_bylevel=1,\n",
       "              colsample_bynode=1, colsample_bytree=1, gamma=0, gpu_id=-1,\n",
       "              importance_type='gain', interaction_constraints='',\n",
       "              learning_rate=0.1, max_delta_step=0, max_depth=10,\n",
       "              min_child_weight=1, missing=nan, monotone_constraints='()',\n",
       "              n_estimators=400, n_jobs=16, num_parallel_tree=1,\n",
       "              objective='multi:softprob', random_state=0, reg_alpha=0,\n",
       "              reg_lambda=1, scale_pos_weight=None, subsample=1,\n",
       "              tree_method='exact', validate_parameters=1, verbosity=None)"
      ]
     },
     "execution_count": 370,
     "metadata": {},
     "output_type": "execute_result"
    }
   ],
   "source": [
    "xgb = XGBClassifier(n_estimators=400, learning_rate=0.1, n_jobs=16, max_depth=10, objective='multi:softmax')\n",
    "xgb.fit(X_train_xgb, y_train_xgb, eval_set=[(X_val_xgb, y_val_xgb)], eval_metric='mlogloss', early_stopping_rounds=100)"
   ]
  },
  {
   "cell_type": "code",
   "execution_count": 365,
   "id": "323fa230",
   "metadata": {
    "ExecuteTime": {
     "end_time": "2021-09-09T02:08:19.866595Z",
     "start_time": "2021-09-09T02:08:19.587533Z"
    },
    "hidden": true
   },
   "outputs": [
    {
     "data": {
      "text/plain": [
       "0.5033832078528543"
      ]
     },
     "execution_count": 365,
     "metadata": {},
     "output_type": "execute_result"
    }
   ],
   "source": [
    "# Predict with test data\n",
    "y_pred = xgb.predict(X_test)\n",
    "xgb.score(X_test, y_test)"
   ]
  },
  {
   "cell_type": "code",
   "execution_count": 366,
   "id": "1e68baab",
   "metadata": {
    "ExecuteTime": {
     "end_time": "2021-09-09T02:08:20.388295Z",
     "start_time": "2021-09-09T02:08:19.868596Z"
    },
    "hidden": true
   },
   "outputs": [
    {
     "name": "stdout",
     "output_type": "stream",
     "text": [
      "              precision    recall  f1-score   support\n",
      "\n",
      "           L       0.36      0.19      0.25      4809\n",
      "           M       0.48      0.63      0.54      8262\n",
      "           S       0.48      0.51      0.50      5787\n",
      "          XL       0.43      0.43      0.43      5115\n",
      "         XXL       0.00      0.00      0.00        10\n",
      "         XXS       0.59      0.44      0.51      2722\n",
      "        XXXL       0.72      0.71      0.71      4774\n",
      "\n",
      "    accuracy                           0.50     31479\n",
      "   macro avg       0.44      0.42      0.42     31479\n",
      "weighted avg       0.50      0.50      0.49     31479\n",
      "\n"
     ]
    }
   ],
   "source": [
    "# Evaluation\n",
    "import warnings\n",
    "warnings.filterwarnings('ignore')   # To stop getting warning messages\n",
    "\n",
    "print(classification_report(y_test, y_pred))"
   ]
  },
  {
   "cell_type": "markdown",
   "id": "1a57a3f2",
   "metadata": {
    "hidden": true
   },
   "source": [
    "### Grid Search 1"
   ]
  },
  {
   "cell_type": "code",
   "execution_count": 378,
   "id": "20ce44bd",
   "metadata": {
    "ExecuteTime": {
     "end_time": "2021-09-09T03:38:51.176871Z",
     "start_time": "2021-09-09T03:34:00.149869Z"
    },
    "hidden": true
   },
   "outputs": [
    {
     "name": "stdout",
     "output_type": "stream",
     "text": [
      "[0]\tvalidation_0-mlogloss:1.93586\n",
      "[1]\tvalidation_0-mlogloss:1.92602\n",
      "[2]\tvalidation_0-mlogloss:1.91637\n",
      "[3]\tvalidation_0-mlogloss:1.90691\n",
      "[4]\tvalidation_0-mlogloss:1.89764\n",
      "[5]\tvalidation_0-mlogloss:1.88854\n",
      "[6]\tvalidation_0-mlogloss:1.87962\n",
      "[7]\tvalidation_0-mlogloss:1.87086\n",
      "[8]\tvalidation_0-mlogloss:1.86226\n",
      "[9]\tvalidation_0-mlogloss:1.85381\n",
      "[10]\tvalidation_0-mlogloss:1.84551\n",
      "[11]\tvalidation_0-mlogloss:1.83734\n",
      "[12]\tvalidation_0-mlogloss:1.82932\n",
      "[13]\tvalidation_0-mlogloss:1.82144\n",
      "[14]\tvalidation_0-mlogloss:1.81370\n",
      "[15]\tvalidation_0-mlogloss:1.80608\n",
      "[16]\tvalidation_0-mlogloss:1.79859\n",
      "[17]\tvalidation_0-mlogloss:1.79122\n",
      "[18]\tvalidation_0-mlogloss:1.78396\n",
      "[19]\tvalidation_0-mlogloss:1.77683\n",
      "[20]\tvalidation_0-mlogloss:1.76979\n",
      "[21]\tvalidation_0-mlogloss:1.76288\n",
      "[22]\tvalidation_0-mlogloss:1.75607\n",
      "[23]\tvalidation_0-mlogloss:1.74936\n",
      "[24]\tvalidation_0-mlogloss:1.74275\n",
      "[25]\tvalidation_0-mlogloss:1.73624\n",
      "[26]\tvalidation_0-mlogloss:1.72983\n",
      "[27]\tvalidation_0-mlogloss:1.72352\n",
      "[28]\tvalidation_0-mlogloss:1.71728\n",
      "[29]\tvalidation_0-mlogloss:1.71115\n",
      "[30]\tvalidation_0-mlogloss:1.70510\n",
      "[31]\tvalidation_0-mlogloss:1.69914\n",
      "[32]\tvalidation_0-mlogloss:1.69326\n",
      "[33]\tvalidation_0-mlogloss:1.68746\n",
      "[34]\tvalidation_0-mlogloss:1.68175\n",
      "[35]\tvalidation_0-mlogloss:1.67610\n",
      "[36]\tvalidation_0-mlogloss:1.67055\n",
      "[37]\tvalidation_0-mlogloss:1.66506\n",
      "[38]\tvalidation_0-mlogloss:1.65965\n",
      "[39]\tvalidation_0-mlogloss:1.65431\n",
      "[40]\tvalidation_0-mlogloss:1.64904\n",
      "[41]\tvalidation_0-mlogloss:1.64384\n",
      "[42]\tvalidation_0-mlogloss:1.63871\n",
      "[43]\tvalidation_0-mlogloss:1.63366\n",
      "[44]\tvalidation_0-mlogloss:1.62865\n",
      "[45]\tvalidation_0-mlogloss:1.62373\n",
      "[46]\tvalidation_0-mlogloss:1.61885\n",
      "[47]\tvalidation_0-mlogloss:1.61405\n",
      "[48]\tvalidation_0-mlogloss:1.60930\n",
      "[49]\tvalidation_0-mlogloss:1.60462\n",
      "[50]\tvalidation_0-mlogloss:1.59999\n",
      "[51]\tvalidation_0-mlogloss:1.59541\n",
      "[52]\tvalidation_0-mlogloss:1.59091\n",
      "[53]\tvalidation_0-mlogloss:1.58645\n",
      "[54]\tvalidation_0-mlogloss:1.58205\n",
      "[55]\tvalidation_0-mlogloss:1.57770\n",
      "[56]\tvalidation_0-mlogloss:1.57340\n",
      "[57]\tvalidation_0-mlogloss:1.56916\n",
      "[58]\tvalidation_0-mlogloss:1.56497\n",
      "[59]\tvalidation_0-mlogloss:1.56083\n",
      "[60]\tvalidation_0-mlogloss:1.55674\n",
      "[61]\tvalidation_0-mlogloss:1.55269\n",
      "[62]\tvalidation_0-mlogloss:1.54870\n",
      "[63]\tvalidation_0-mlogloss:1.54474\n",
      "[64]\tvalidation_0-mlogloss:1.54084\n",
      "[65]\tvalidation_0-mlogloss:1.53698\n",
      "[66]\tvalidation_0-mlogloss:1.53317\n",
      "[67]\tvalidation_0-mlogloss:1.52940\n",
      "[68]\tvalidation_0-mlogloss:1.52567\n",
      "[69]\tvalidation_0-mlogloss:1.52199\n",
      "[70]\tvalidation_0-mlogloss:1.51835\n",
      "[71]\tvalidation_0-mlogloss:1.51475\n",
      "[72]\tvalidation_0-mlogloss:1.51119\n",
      "[73]\tvalidation_0-mlogloss:1.50767\n",
      "[74]\tvalidation_0-mlogloss:1.50419\n",
      "[75]\tvalidation_0-mlogloss:1.50075\n",
      "[76]\tvalidation_0-mlogloss:1.49735\n",
      "[77]\tvalidation_0-mlogloss:1.49399\n",
      "[78]\tvalidation_0-mlogloss:1.49066\n",
      "[79]\tvalidation_0-mlogloss:1.48738\n",
      "[80]\tvalidation_0-mlogloss:1.48412\n",
      "[81]\tvalidation_0-mlogloss:1.48090\n",
      "[82]\tvalidation_0-mlogloss:1.47772\n",
      "[83]\tvalidation_0-mlogloss:1.47457\n",
      "[84]\tvalidation_0-mlogloss:1.47146\n",
      "[85]\tvalidation_0-mlogloss:1.46837\n",
      "[86]\tvalidation_0-mlogloss:1.46533\n",
      "[87]\tvalidation_0-mlogloss:1.46231\n",
      "[88]\tvalidation_0-mlogloss:1.45933\n",
      "[89]\tvalidation_0-mlogloss:1.45638\n",
      "[90]\tvalidation_0-mlogloss:1.45345\n",
      "[91]\tvalidation_0-mlogloss:1.45057\n",
      "[92]\tvalidation_0-mlogloss:1.44771\n",
      "[93]\tvalidation_0-mlogloss:1.44488\n",
      "[94]\tvalidation_0-mlogloss:1.44208\n",
      "[95]\tvalidation_0-mlogloss:1.43931\n",
      "[96]\tvalidation_0-mlogloss:1.43657\n",
      "[97]\tvalidation_0-mlogloss:1.43386\n",
      "[98]\tvalidation_0-mlogloss:1.43117\n",
      "[99]\tvalidation_0-mlogloss:1.42852\n",
      "[100]\tvalidation_0-mlogloss:1.42590\n",
      "[101]\tvalidation_0-mlogloss:1.42330\n",
      "[102]\tvalidation_0-mlogloss:1.42073\n",
      "[103]\tvalidation_0-mlogloss:1.41818\n",
      "[104]\tvalidation_0-mlogloss:1.41567\n",
      "[105]\tvalidation_0-mlogloss:1.41317\n",
      "[106]\tvalidation_0-mlogloss:1.41069\n",
      "[107]\tvalidation_0-mlogloss:1.40825\n",
      "[108]\tvalidation_0-mlogloss:1.40583\n",
      "[109]\tvalidation_0-mlogloss:1.40343\n",
      "[110]\tvalidation_0-mlogloss:1.40106\n",
      "[111]\tvalidation_0-mlogloss:1.39872\n",
      "[112]\tvalidation_0-mlogloss:1.39639\n",
      "[113]\tvalidation_0-mlogloss:1.39409\n",
      "[114]\tvalidation_0-mlogloss:1.39182\n",
      "[115]\tvalidation_0-mlogloss:1.38956\n",
      "[116]\tvalidation_0-mlogloss:1.38733\n",
      "[117]\tvalidation_0-mlogloss:1.38512\n",
      "[118]\tvalidation_0-mlogloss:1.38292\n",
      "[119]\tvalidation_0-mlogloss:1.38076\n",
      "[120]\tvalidation_0-mlogloss:1.37861\n",
      "[121]\tvalidation_0-mlogloss:1.37649\n",
      "[122]\tvalidation_0-mlogloss:1.37439\n",
      "[123]\tvalidation_0-mlogloss:1.37230\n",
      "[124]\tvalidation_0-mlogloss:1.37024\n",
      "[125]\tvalidation_0-mlogloss:1.36820\n",
      "[126]\tvalidation_0-mlogloss:1.36618\n",
      "[127]\tvalidation_0-mlogloss:1.36418\n",
      "[128]\tvalidation_0-mlogloss:1.36219\n",
      "[129]\tvalidation_0-mlogloss:1.36023\n",
      "[130]\tvalidation_0-mlogloss:1.35828\n",
      "[131]\tvalidation_0-mlogloss:1.35635\n",
      "[132]\tvalidation_0-mlogloss:1.35444\n",
      "[133]\tvalidation_0-mlogloss:1.35255\n",
      "[134]\tvalidation_0-mlogloss:1.35068\n",
      "[135]\tvalidation_0-mlogloss:1.34882\n",
      "[136]\tvalidation_0-mlogloss:1.34698\n",
      "[137]\tvalidation_0-mlogloss:1.34516\n",
      "[138]\tvalidation_0-mlogloss:1.34336\n",
      "[139]\tvalidation_0-mlogloss:1.34157\n",
      "[140]\tvalidation_0-mlogloss:1.33980\n",
      "[141]\tvalidation_0-mlogloss:1.33805\n",
      "[142]\tvalidation_0-mlogloss:1.33632\n",
      "[143]\tvalidation_0-mlogloss:1.33460\n",
      "[144]\tvalidation_0-mlogloss:1.33290\n",
      "[145]\tvalidation_0-mlogloss:1.33122\n",
      "[146]\tvalidation_0-mlogloss:1.32954\n",
      "[147]\tvalidation_0-mlogloss:1.32789\n",
      "[148]\tvalidation_0-mlogloss:1.32625\n",
      "[149]\tvalidation_0-mlogloss:1.32462\n",
      "[150]\tvalidation_0-mlogloss:1.32301\n",
      "[151]\tvalidation_0-mlogloss:1.32141\n",
      "[152]\tvalidation_0-mlogloss:1.31983\n",
      "[153]\tvalidation_0-mlogloss:1.31826\n",
      "[154]\tvalidation_0-mlogloss:1.31671\n",
      "[155]\tvalidation_0-mlogloss:1.31517\n",
      "[156]\tvalidation_0-mlogloss:1.31364\n",
      "[157]\tvalidation_0-mlogloss:1.31213\n",
      "[158]\tvalidation_0-mlogloss:1.31063\n",
      "[159]\tvalidation_0-mlogloss:1.30915\n",
      "[160]\tvalidation_0-mlogloss:1.30768\n",
      "[161]\tvalidation_0-mlogloss:1.30621\n",
      "[162]\tvalidation_0-mlogloss:1.30477\n",
      "[163]\tvalidation_0-mlogloss:1.30333\n",
      "[164]\tvalidation_0-mlogloss:1.30191\n",
      "[165]\tvalidation_0-mlogloss:1.30051\n",
      "[166]\tvalidation_0-mlogloss:1.29911\n",
      "[167]\tvalidation_0-mlogloss:1.29773\n",
      "[168]\tvalidation_0-mlogloss:1.29636\n",
      "[169]\tvalidation_0-mlogloss:1.29501\n",
      "[170]\tvalidation_0-mlogloss:1.29366\n",
      "[171]\tvalidation_0-mlogloss:1.29233\n",
      "[172]\tvalidation_0-mlogloss:1.29101\n",
      "[173]\tvalidation_0-mlogloss:1.28970\n",
      "[174]\tvalidation_0-mlogloss:1.28840\n",
      "[175]\tvalidation_0-mlogloss:1.28712\n",
      "[176]\tvalidation_0-mlogloss:1.28584\n",
      "[177]\tvalidation_0-mlogloss:1.28458\n",
      "[178]\tvalidation_0-mlogloss:1.28332\n",
      "[179]\tvalidation_0-mlogloss:1.28207\n",
      "[180]\tvalidation_0-mlogloss:1.28084\n",
      "[181]\tvalidation_0-mlogloss:1.27962\n",
      "[182]\tvalidation_0-mlogloss:1.27840\n",
      "[183]\tvalidation_0-mlogloss:1.27720\n",
      "[184]\tvalidation_0-mlogloss:1.27601\n",
      "[185]\tvalidation_0-mlogloss:1.27482\n",
      "[186]\tvalidation_0-mlogloss:1.27365\n",
      "[187]\tvalidation_0-mlogloss:1.27250\n",
      "[188]\tvalidation_0-mlogloss:1.27135\n",
      "[189]\tvalidation_0-mlogloss:1.27021\n",
      "[190]\tvalidation_0-mlogloss:1.26908\n",
      "[191]\tvalidation_0-mlogloss:1.26796\n",
      "[192]\tvalidation_0-mlogloss:1.26685\n",
      "[193]\tvalidation_0-mlogloss:1.26574\n",
      "[194]\tvalidation_0-mlogloss:1.26465\n",
      "[195]\tvalidation_0-mlogloss:1.26357\n",
      "[196]\tvalidation_0-mlogloss:1.26249\n",
      "[197]\tvalidation_0-mlogloss:1.26143\n",
      "[198]\tvalidation_0-mlogloss:1.26037\n",
      "[199]\tvalidation_0-mlogloss:1.25932\n",
      "[200]\tvalidation_0-mlogloss:1.25828\n",
      "[201]\tvalidation_0-mlogloss:1.25725\n",
      "[202]\tvalidation_0-mlogloss:1.25622\n",
      "[203]\tvalidation_0-mlogloss:1.25521\n",
      "[204]\tvalidation_0-mlogloss:1.25420\n",
      "[205]\tvalidation_0-mlogloss:1.25320\n",
      "[206]\tvalidation_0-mlogloss:1.25221\n",
      "[207]\tvalidation_0-mlogloss:1.25123\n",
      "[208]\tvalidation_0-mlogloss:1.25025\n",
      "[209]\tvalidation_0-mlogloss:1.24928\n",
      "[210]\tvalidation_0-mlogloss:1.24833\n",
      "[211]\tvalidation_0-mlogloss:1.24738\n",
      "[212]\tvalidation_0-mlogloss:1.24643\n",
      "[213]\tvalidation_0-mlogloss:1.24550\n",
      "[214]\tvalidation_0-mlogloss:1.24457\n",
      "[215]\tvalidation_0-mlogloss:1.24365\n",
      "[216]\tvalidation_0-mlogloss:1.24274\n",
      "[217]\tvalidation_0-mlogloss:1.24183\n",
      "[218]\tvalidation_0-mlogloss:1.24093\n",
      "[219]\tvalidation_0-mlogloss:1.24004\n",
      "[220]\tvalidation_0-mlogloss:1.23916\n",
      "[221]\tvalidation_0-mlogloss:1.23828\n",
      "[222]\tvalidation_0-mlogloss:1.23741\n",
      "[223]\tvalidation_0-mlogloss:1.23656\n",
      "[224]\tvalidation_0-mlogloss:1.23570\n",
      "[225]\tvalidation_0-mlogloss:1.23485\n",
      "[226]\tvalidation_0-mlogloss:1.23401\n",
      "[227]\tvalidation_0-mlogloss:1.23318\n",
      "[228]\tvalidation_0-mlogloss:1.23235\n",
      "[229]\tvalidation_0-mlogloss:1.23153\n",
      "[230]\tvalidation_0-mlogloss:1.23072\n"
     ]
    },
    {
     "name": "stdout",
     "output_type": "stream",
     "text": [
      "[231]\tvalidation_0-mlogloss:1.22991\n",
      "[232]\tvalidation_0-mlogloss:1.22910\n",
      "[233]\tvalidation_0-mlogloss:1.22831\n",
      "[234]\tvalidation_0-mlogloss:1.22752\n",
      "[235]\tvalidation_0-mlogloss:1.22674\n",
      "[236]\tvalidation_0-mlogloss:1.22596\n",
      "[237]\tvalidation_0-mlogloss:1.22519\n",
      "[238]\tvalidation_0-mlogloss:1.22443\n",
      "[239]\tvalidation_0-mlogloss:1.22367\n",
      "[240]\tvalidation_0-mlogloss:1.22292\n",
      "[241]\tvalidation_0-mlogloss:1.22217\n",
      "[242]\tvalidation_0-mlogloss:1.22143\n",
      "[243]\tvalidation_0-mlogloss:1.22070\n",
      "[244]\tvalidation_0-mlogloss:1.21997\n",
      "[245]\tvalidation_0-mlogloss:1.21924\n",
      "[246]\tvalidation_0-mlogloss:1.21852\n",
      "[247]\tvalidation_0-mlogloss:1.21781\n",
      "[248]\tvalidation_0-mlogloss:1.21710\n",
      "[249]\tvalidation_0-mlogloss:1.21639\n",
      "[250]\tvalidation_0-mlogloss:1.21570\n",
      "[251]\tvalidation_0-mlogloss:1.21501\n",
      "[252]\tvalidation_0-mlogloss:1.21432\n",
      "[253]\tvalidation_0-mlogloss:1.21364\n",
      "[254]\tvalidation_0-mlogloss:1.21296\n",
      "[255]\tvalidation_0-mlogloss:1.21229\n",
      "[256]\tvalidation_0-mlogloss:1.21163\n",
      "[257]\tvalidation_0-mlogloss:1.21097\n",
      "[258]\tvalidation_0-mlogloss:1.21031\n",
      "[259]\tvalidation_0-mlogloss:1.20966\n",
      "[260]\tvalidation_0-mlogloss:1.20902\n",
      "[261]\tvalidation_0-mlogloss:1.20838\n",
      "[262]\tvalidation_0-mlogloss:1.20774\n",
      "[263]\tvalidation_0-mlogloss:1.20711\n",
      "[264]\tvalidation_0-mlogloss:1.20648\n",
      "[265]\tvalidation_0-mlogloss:1.20586\n",
      "[266]\tvalidation_0-mlogloss:1.20524\n",
      "[267]\tvalidation_0-mlogloss:1.20463\n",
      "[268]\tvalidation_0-mlogloss:1.20401\n",
      "[269]\tvalidation_0-mlogloss:1.20341\n",
      "[270]\tvalidation_0-mlogloss:1.20281\n",
      "[271]\tvalidation_0-mlogloss:1.20221\n",
      "[272]\tvalidation_0-mlogloss:1.20162\n",
      "[273]\tvalidation_0-mlogloss:1.20103\n",
      "[274]\tvalidation_0-mlogloss:1.20044\n",
      "[275]\tvalidation_0-mlogloss:1.19987\n",
      "[276]\tvalidation_0-mlogloss:1.19929\n",
      "[277]\tvalidation_0-mlogloss:1.19872\n",
      "[278]\tvalidation_0-mlogloss:1.19816\n",
      "[279]\tvalidation_0-mlogloss:1.19759\n",
      "[280]\tvalidation_0-mlogloss:1.19704\n",
      "[281]\tvalidation_0-mlogloss:1.19648\n",
      "[282]\tvalidation_0-mlogloss:1.19593\n",
      "[283]\tvalidation_0-mlogloss:1.19539\n",
      "[284]\tvalidation_0-mlogloss:1.19484\n",
      "[285]\tvalidation_0-mlogloss:1.19431\n",
      "[286]\tvalidation_0-mlogloss:1.19377\n",
      "[287]\tvalidation_0-mlogloss:1.19325\n",
      "[288]\tvalidation_0-mlogloss:1.19272\n",
      "[289]\tvalidation_0-mlogloss:1.19219\n",
      "[290]\tvalidation_0-mlogloss:1.19168\n",
      "[291]\tvalidation_0-mlogloss:1.19116\n",
      "[292]\tvalidation_0-mlogloss:1.19066\n",
      "[293]\tvalidation_0-mlogloss:1.19015\n",
      "[294]\tvalidation_0-mlogloss:1.18964\n",
      "[295]\tvalidation_0-mlogloss:1.18915\n",
      "[296]\tvalidation_0-mlogloss:1.18865\n",
      "[297]\tvalidation_0-mlogloss:1.18816\n",
      "[298]\tvalidation_0-mlogloss:1.18767\n",
      "[299]\tvalidation_0-mlogloss:1.18719\n",
      "[300]\tvalidation_0-mlogloss:1.18671\n",
      "[301]\tvalidation_0-mlogloss:1.18623\n",
      "[302]\tvalidation_0-mlogloss:1.18576\n",
      "[303]\tvalidation_0-mlogloss:1.18529\n",
      "[304]\tvalidation_0-mlogloss:1.18482\n",
      "[305]\tvalidation_0-mlogloss:1.18436\n",
      "[306]\tvalidation_0-mlogloss:1.18389\n",
      "[307]\tvalidation_0-mlogloss:1.18343\n",
      "[308]\tvalidation_0-mlogloss:1.18298\n",
      "[309]\tvalidation_0-mlogloss:1.18253\n",
      "[310]\tvalidation_0-mlogloss:1.18208\n",
      "[311]\tvalidation_0-mlogloss:1.18163\n",
      "[312]\tvalidation_0-mlogloss:1.18119\n",
      "[313]\tvalidation_0-mlogloss:1.18075\n",
      "[314]\tvalidation_0-mlogloss:1.18032\n",
      "[315]\tvalidation_0-mlogloss:1.17988\n",
      "[316]\tvalidation_0-mlogloss:1.17945\n",
      "[317]\tvalidation_0-mlogloss:1.17902\n",
      "[318]\tvalidation_0-mlogloss:1.17860\n",
      "[319]\tvalidation_0-mlogloss:1.17818\n",
      "[320]\tvalidation_0-mlogloss:1.17776\n",
      "[321]\tvalidation_0-mlogloss:1.17735\n",
      "[322]\tvalidation_0-mlogloss:1.17694\n",
      "[323]\tvalidation_0-mlogloss:1.17653\n",
      "[324]\tvalidation_0-mlogloss:1.17612\n",
      "[325]\tvalidation_0-mlogloss:1.17572\n",
      "[326]\tvalidation_0-mlogloss:1.17531\n",
      "[327]\tvalidation_0-mlogloss:1.17492\n",
      "[328]\tvalidation_0-mlogloss:1.17453\n",
      "[329]\tvalidation_0-mlogloss:1.17413\n",
      "[330]\tvalidation_0-mlogloss:1.17374\n",
      "[331]\tvalidation_0-mlogloss:1.17336\n",
      "[332]\tvalidation_0-mlogloss:1.17298\n",
      "[333]\tvalidation_0-mlogloss:1.17260\n",
      "[334]\tvalidation_0-mlogloss:1.17222\n",
      "[335]\tvalidation_0-mlogloss:1.17184\n",
      "[336]\tvalidation_0-mlogloss:1.17147\n",
      "[337]\tvalidation_0-mlogloss:1.17110\n",
      "[338]\tvalidation_0-mlogloss:1.17073\n",
      "[339]\tvalidation_0-mlogloss:1.17037\n",
      "[340]\tvalidation_0-mlogloss:1.17000\n",
      "[341]\tvalidation_0-mlogloss:1.16964\n",
      "[342]\tvalidation_0-mlogloss:1.16928\n",
      "[343]\tvalidation_0-mlogloss:1.16893\n",
      "[344]\tvalidation_0-mlogloss:1.16857\n",
      "[345]\tvalidation_0-mlogloss:1.16822\n",
      "[346]\tvalidation_0-mlogloss:1.16787\n",
      "[347]\tvalidation_0-mlogloss:1.16752\n",
      "[348]\tvalidation_0-mlogloss:1.16718\n",
      "[349]\tvalidation_0-mlogloss:1.16684\n",
      "[350]\tvalidation_0-mlogloss:1.16650\n",
      "[351]\tvalidation_0-mlogloss:1.16617\n",
      "[352]\tvalidation_0-mlogloss:1.16583\n",
      "[353]\tvalidation_0-mlogloss:1.16551\n",
      "[354]\tvalidation_0-mlogloss:1.16518\n",
      "[355]\tvalidation_0-mlogloss:1.16485\n",
      "[356]\tvalidation_0-mlogloss:1.16453\n",
      "[357]\tvalidation_0-mlogloss:1.16421\n",
      "[358]\tvalidation_0-mlogloss:1.16389\n",
      "[359]\tvalidation_0-mlogloss:1.16357\n",
      "[360]\tvalidation_0-mlogloss:1.16325\n",
      "[361]\tvalidation_0-mlogloss:1.16294\n",
      "[362]\tvalidation_0-mlogloss:1.16263\n",
      "[363]\tvalidation_0-mlogloss:1.16232\n",
      "[364]\tvalidation_0-mlogloss:1.16201\n",
      "[365]\tvalidation_0-mlogloss:1.16170\n",
      "[366]\tvalidation_0-mlogloss:1.16140\n",
      "[367]\tvalidation_0-mlogloss:1.16110\n",
      "[368]\tvalidation_0-mlogloss:1.16080\n",
      "[369]\tvalidation_0-mlogloss:1.16050\n",
      "[370]\tvalidation_0-mlogloss:1.16021\n",
      "[371]\tvalidation_0-mlogloss:1.15992\n",
      "[372]\tvalidation_0-mlogloss:1.15963\n",
      "[373]\tvalidation_0-mlogloss:1.15934\n",
      "[374]\tvalidation_0-mlogloss:1.15905\n",
      "[375]\tvalidation_0-mlogloss:1.15876\n",
      "[376]\tvalidation_0-mlogloss:1.15848\n",
      "[377]\tvalidation_0-mlogloss:1.15820\n",
      "[378]\tvalidation_0-mlogloss:1.15792\n",
      "[379]\tvalidation_0-mlogloss:1.15764\n",
      "[380]\tvalidation_0-mlogloss:1.15736\n",
      "[381]\tvalidation_0-mlogloss:1.15708\n",
      "[382]\tvalidation_0-mlogloss:1.15681\n",
      "[383]\tvalidation_0-mlogloss:1.15654\n",
      "[384]\tvalidation_0-mlogloss:1.15627\n",
      "[385]\tvalidation_0-mlogloss:1.15600\n",
      "[386]\tvalidation_0-mlogloss:1.15573\n",
      "[387]\tvalidation_0-mlogloss:1.15546\n",
      "[388]\tvalidation_0-mlogloss:1.15521\n",
      "[389]\tvalidation_0-mlogloss:1.15494\n",
      "[390]\tvalidation_0-mlogloss:1.15468\n",
      "[391]\tvalidation_0-mlogloss:1.15442\n",
      "[392]\tvalidation_0-mlogloss:1.15417\n",
      "[393]\tvalidation_0-mlogloss:1.15391\n",
      "[394]\tvalidation_0-mlogloss:1.15366\n",
      "[395]\tvalidation_0-mlogloss:1.15341\n",
      "[396]\tvalidation_0-mlogloss:1.15316\n",
      "[397]\tvalidation_0-mlogloss:1.15291\n",
      "[398]\tvalidation_0-mlogloss:1.15266\n",
      "[399]\tvalidation_0-mlogloss:1.15242\n",
      "[400]\tvalidation_0-mlogloss:1.15217\n",
      "[401]\tvalidation_0-mlogloss:1.15193\n",
      "[402]\tvalidation_0-mlogloss:1.15169\n",
      "[403]\tvalidation_0-mlogloss:1.15145\n",
      "[404]\tvalidation_0-mlogloss:1.15122\n",
      "[405]\tvalidation_0-mlogloss:1.15098\n",
      "[406]\tvalidation_0-mlogloss:1.15075\n",
      "[407]\tvalidation_0-mlogloss:1.15052\n",
      "[408]\tvalidation_0-mlogloss:1.15029\n",
      "[409]\tvalidation_0-mlogloss:1.15006\n",
      "[410]\tvalidation_0-mlogloss:1.14983\n",
      "[411]\tvalidation_0-mlogloss:1.14960\n",
      "[412]\tvalidation_0-mlogloss:1.14938\n",
      "[413]\tvalidation_0-mlogloss:1.14915\n",
      "[414]\tvalidation_0-mlogloss:1.14894\n",
      "[415]\tvalidation_0-mlogloss:1.14871\n",
      "[416]\tvalidation_0-mlogloss:1.14849\n",
      "[417]\tvalidation_0-mlogloss:1.14828\n",
      "[418]\tvalidation_0-mlogloss:1.14806\n",
      "[419]\tvalidation_0-mlogloss:1.14785\n",
      "[420]\tvalidation_0-mlogloss:1.14763\n",
      "[421]\tvalidation_0-mlogloss:1.14742\n",
      "[422]\tvalidation_0-mlogloss:1.14722\n",
      "[423]\tvalidation_0-mlogloss:1.14701\n",
      "[424]\tvalidation_0-mlogloss:1.14680\n",
      "[425]\tvalidation_0-mlogloss:1.14659\n",
      "[426]\tvalidation_0-mlogloss:1.14639\n",
      "[427]\tvalidation_0-mlogloss:1.14618\n",
      "[428]\tvalidation_0-mlogloss:1.14598\n",
      "[429]\tvalidation_0-mlogloss:1.14578\n",
      "[430]\tvalidation_0-mlogloss:1.14558\n",
      "[431]\tvalidation_0-mlogloss:1.14538\n",
      "[432]\tvalidation_0-mlogloss:1.14519\n",
      "[433]\tvalidation_0-mlogloss:1.14499\n",
      "[434]\tvalidation_0-mlogloss:1.14480\n",
      "[435]\tvalidation_0-mlogloss:1.14461\n",
      "[436]\tvalidation_0-mlogloss:1.14441\n",
      "[437]\tvalidation_0-mlogloss:1.14423\n",
      "[438]\tvalidation_0-mlogloss:1.14403\n",
      "[439]\tvalidation_0-mlogloss:1.14385\n",
      "[440]\tvalidation_0-mlogloss:1.14366\n",
      "[441]\tvalidation_0-mlogloss:1.14348\n",
      "[442]\tvalidation_0-mlogloss:1.14329\n",
      "[443]\tvalidation_0-mlogloss:1.14310\n",
      "[444]\tvalidation_0-mlogloss:1.14292\n",
      "[445]\tvalidation_0-mlogloss:1.14274\n",
      "[446]\tvalidation_0-mlogloss:1.14256\n",
      "[447]\tvalidation_0-mlogloss:1.14238\n",
      "[448]\tvalidation_0-mlogloss:1.14220\n",
      "[449]\tvalidation_0-mlogloss:1.14203\n",
      "[450]\tvalidation_0-mlogloss:1.14185\n",
      "[451]\tvalidation_0-mlogloss:1.14167\n",
      "[452]\tvalidation_0-mlogloss:1.14150\n",
      "[453]\tvalidation_0-mlogloss:1.14133\n",
      "[454]\tvalidation_0-mlogloss:1.14116\n",
      "[455]\tvalidation_0-mlogloss:1.14099\n",
      "[456]\tvalidation_0-mlogloss:1.14082\n",
      "[457]\tvalidation_0-mlogloss:1.14065\n",
      "[458]\tvalidation_0-mlogloss:1.14049\n"
     ]
    },
    {
     "name": "stdout",
     "output_type": "stream",
     "text": [
      "[459]\tvalidation_0-mlogloss:1.14032\n",
      "[460]\tvalidation_0-mlogloss:1.14016\n",
      "[461]\tvalidation_0-mlogloss:1.13999\n",
      "[462]\tvalidation_0-mlogloss:1.13983\n",
      "[463]\tvalidation_0-mlogloss:1.13967\n",
      "[464]\tvalidation_0-mlogloss:1.13951\n",
      "[465]\tvalidation_0-mlogloss:1.13935\n",
      "[466]\tvalidation_0-mlogloss:1.13919\n",
      "[467]\tvalidation_0-mlogloss:1.13903\n",
      "[468]\tvalidation_0-mlogloss:1.13887\n",
      "[469]\tvalidation_0-mlogloss:1.13871\n",
      "[470]\tvalidation_0-mlogloss:1.13856\n",
      "[471]\tvalidation_0-mlogloss:1.13841\n",
      "[472]\tvalidation_0-mlogloss:1.13826\n",
      "[473]\tvalidation_0-mlogloss:1.13810\n",
      "[474]\tvalidation_0-mlogloss:1.13795\n",
      "[475]\tvalidation_0-mlogloss:1.13780\n",
      "[476]\tvalidation_0-mlogloss:1.13765\n",
      "[477]\tvalidation_0-mlogloss:1.13750\n",
      "[478]\tvalidation_0-mlogloss:1.13735\n",
      "[479]\tvalidation_0-mlogloss:1.13721\n",
      "[480]\tvalidation_0-mlogloss:1.13706\n",
      "[481]\tvalidation_0-mlogloss:1.13691\n",
      "[482]\tvalidation_0-mlogloss:1.13677\n",
      "[483]\tvalidation_0-mlogloss:1.13662\n",
      "[484]\tvalidation_0-mlogloss:1.13648\n",
      "[485]\tvalidation_0-mlogloss:1.13634\n",
      "[486]\tvalidation_0-mlogloss:1.13620\n",
      "[487]\tvalidation_0-mlogloss:1.13606\n",
      "[488]\tvalidation_0-mlogloss:1.13592\n",
      "[489]\tvalidation_0-mlogloss:1.13578\n",
      "[490]\tvalidation_0-mlogloss:1.13564\n",
      "[491]\tvalidation_0-mlogloss:1.13551\n",
      "[492]\tvalidation_0-mlogloss:1.13537\n",
      "[493]\tvalidation_0-mlogloss:1.13524\n",
      "[494]\tvalidation_0-mlogloss:1.13510\n",
      "[495]\tvalidation_0-mlogloss:1.13497\n",
      "[496]\tvalidation_0-mlogloss:1.13484\n",
      "[497]\tvalidation_0-mlogloss:1.13471\n",
      "[498]\tvalidation_0-mlogloss:1.13458\n",
      "[499]\tvalidation_0-mlogloss:1.13444\n"
     ]
    },
    {
     "data": {
      "text/plain": [
       "GridSearchCV(cv=5,\n",
       "             estimator=XGBClassifier(base_score=None, booster=None,\n",
       "                                     colsample_bylevel=None,\n",
       "                                     colsample_bynode=None,\n",
       "                                     colsample_bytree=None, gamma=None,\n",
       "                                     gpu_id=None, importance_type='gain',\n",
       "                                     interaction_constraints=None,\n",
       "                                     learning_rate=None, max_delta_step=None,\n",
       "                                     max_depth=None, min_child_weight=None,\n",
       "                                     missing=nan, monotone_constraints=None,\n",
       "                                     n_estimators=100, n_jobs=16,\n",
       "                                     num_parallel_tree=None,\n",
       "                                     objective='multi:softmax',\n",
       "                                     random_state=None, reg_alpha=None,\n",
       "                                     reg_lambda=None, scale_pos_weight=None,\n",
       "                                     subsample=None, tree_method=None,\n",
       "                                     validate_parameters=None, verbosity=None),\n",
       "             n_jobs=-1,\n",
       "             param_grid={'learning_rate': [0.001, 0.01], 'max_depth': [5, 15],\n",
       "                         'n_estimators': [500]},\n",
       "             scoring='accuracy')"
      ]
     },
     "execution_count": 378,
     "metadata": {},
     "output_type": "execute_result"
    }
   ],
   "source": [
    "xgb = XGBClassifier(n_jobs=16, objective='multi:softmax')\n",
    "params = {'n_estimators':[500], 'learning_rate':[0.001, 0.01], 'max_depth':[5, 15]}\n",
    "\n",
    "clf = GridSearchCV(xgb, params, cv=5, n_jobs=-1, scoring='accuracy')\n",
    "clf.fit(X_train_xgb, y_train_xgb, eval_set=[(X_val_xgb, y_val_xgb)], eval_metric='mlogloss', early_stopping_rounds=100)"
   ]
  },
  {
   "cell_type": "code",
   "execution_count": 379,
   "id": "be2f9005",
   "metadata": {
    "ExecuteTime": {
     "end_time": "2021-09-09T03:38:51.192874Z",
     "start_time": "2021-09-09T03:38:51.178871Z"
    },
    "hidden": true
   },
   "outputs": [
    {
     "name": "stdout",
     "output_type": "stream",
     "text": [
      "{'learning_rate': 0.01, 'max_depth': 5, 'n_estimators': 500}\n",
      "XGBClassifier(base_score=0.5, booster='gbtree', colsample_bylevel=1,\n",
      "              colsample_bynode=1, colsample_bytree=1, gamma=0, gpu_id=-1,\n",
      "              importance_type='gain', interaction_constraints='',\n",
      "              learning_rate=0.01, max_delta_step=0, max_depth=5,\n",
      "              min_child_weight=1, missing=nan, monotone_constraints='()',\n",
      "              n_estimators=500, n_jobs=16, num_parallel_tree=1,\n",
      "              objective='multi:softprob', random_state=0, reg_alpha=0,\n",
      "              reg_lambda=1, scale_pos_weight=None, subsample=1,\n",
      "              tree_method='exact', validate_parameters=1, verbosity=None)\n"
     ]
    }
   ],
   "source": [
    "print(clf.best_params_)\n",
    "print(clf.best_estimator_)"
   ]
  },
  {
   "cell_type": "code",
   "execution_count": 380,
   "id": "f1b36a08",
   "metadata": {
    "ExecuteTime": {
     "end_time": "2021-09-09T03:38:51.427431Z",
     "start_time": "2021-09-09T03:38:51.194874Z"
    },
    "hidden": true
   },
   "outputs": [
    {
     "data": {
      "text/plain": [
       "0.5055116109152133"
      ]
     },
     "execution_count": 380,
     "metadata": {},
     "output_type": "execute_result"
    }
   ],
   "source": [
    "# Evaluation\n",
    "clf.score(X_test, y_test)"
   ]
  },
  {
   "cell_type": "markdown",
   "id": "a0ba622b",
   "metadata": {
    "hidden": true
   },
   "source": [
    "### Grid Search 2"
   ]
  },
  {
   "cell_type": "code",
   "execution_count": 381,
   "id": "69c44a41",
   "metadata": {
    "ExecuteTime": {
     "end_time": "2021-09-09T03:43:22.163080Z",
     "start_time": "2021-09-09T03:38:51.429432Z"
    },
    "collapsed": true,
    "hidden": true
   },
   "outputs": [
    {
     "name": "stdout",
     "output_type": "stream",
     "text": [
      "[0]\tvalidation_0-mlogloss:1.93586\n",
      "[1]\tvalidation_0-mlogloss:1.92602\n",
      "[2]\tvalidation_0-mlogloss:1.91637\n",
      "[3]\tvalidation_0-mlogloss:1.90691\n",
      "[4]\tvalidation_0-mlogloss:1.89764\n",
      "[5]\tvalidation_0-mlogloss:1.88854\n",
      "[6]\tvalidation_0-mlogloss:1.87962\n",
      "[7]\tvalidation_0-mlogloss:1.87086\n",
      "[8]\tvalidation_0-mlogloss:1.86226\n",
      "[9]\tvalidation_0-mlogloss:1.85381\n",
      "[10]\tvalidation_0-mlogloss:1.84551\n",
      "[11]\tvalidation_0-mlogloss:1.83734\n",
      "[12]\tvalidation_0-mlogloss:1.82932\n",
      "[13]\tvalidation_0-mlogloss:1.82144\n",
      "[14]\tvalidation_0-mlogloss:1.81370\n",
      "[15]\tvalidation_0-mlogloss:1.80608\n",
      "[16]\tvalidation_0-mlogloss:1.79859\n",
      "[17]\tvalidation_0-mlogloss:1.79122\n",
      "[18]\tvalidation_0-mlogloss:1.78396\n",
      "[19]\tvalidation_0-mlogloss:1.77683\n",
      "[20]\tvalidation_0-mlogloss:1.76979\n",
      "[21]\tvalidation_0-mlogloss:1.76288\n",
      "[22]\tvalidation_0-mlogloss:1.75607\n",
      "[23]\tvalidation_0-mlogloss:1.74936\n",
      "[24]\tvalidation_0-mlogloss:1.74275\n",
      "[25]\tvalidation_0-mlogloss:1.73624\n",
      "[26]\tvalidation_0-mlogloss:1.72983\n",
      "[27]\tvalidation_0-mlogloss:1.72352\n",
      "[28]\tvalidation_0-mlogloss:1.71728\n",
      "[29]\tvalidation_0-mlogloss:1.71115\n",
      "[30]\tvalidation_0-mlogloss:1.70510\n",
      "[31]\tvalidation_0-mlogloss:1.69914\n",
      "[32]\tvalidation_0-mlogloss:1.69326\n",
      "[33]\tvalidation_0-mlogloss:1.68746\n",
      "[34]\tvalidation_0-mlogloss:1.68175\n",
      "[35]\tvalidation_0-mlogloss:1.67610\n",
      "[36]\tvalidation_0-mlogloss:1.67055\n",
      "[37]\tvalidation_0-mlogloss:1.66506\n",
      "[38]\tvalidation_0-mlogloss:1.65965\n",
      "[39]\tvalidation_0-mlogloss:1.65431\n",
      "[40]\tvalidation_0-mlogloss:1.64904\n",
      "[41]\tvalidation_0-mlogloss:1.64384\n",
      "[42]\tvalidation_0-mlogloss:1.63871\n",
      "[43]\tvalidation_0-mlogloss:1.63366\n",
      "[44]\tvalidation_0-mlogloss:1.62865\n",
      "[45]\tvalidation_0-mlogloss:1.62373\n",
      "[46]\tvalidation_0-mlogloss:1.61885\n",
      "[47]\tvalidation_0-mlogloss:1.61405\n",
      "[48]\tvalidation_0-mlogloss:1.60930\n",
      "[49]\tvalidation_0-mlogloss:1.60462\n",
      "[50]\tvalidation_0-mlogloss:1.59999\n",
      "[51]\tvalidation_0-mlogloss:1.59541\n",
      "[52]\tvalidation_0-mlogloss:1.59091\n",
      "[53]\tvalidation_0-mlogloss:1.58645\n",
      "[54]\tvalidation_0-mlogloss:1.58205\n",
      "[55]\tvalidation_0-mlogloss:1.57770\n",
      "[56]\tvalidation_0-mlogloss:1.57340\n",
      "[57]\tvalidation_0-mlogloss:1.56916\n",
      "[58]\tvalidation_0-mlogloss:1.56497\n",
      "[59]\tvalidation_0-mlogloss:1.56083\n",
      "[60]\tvalidation_0-mlogloss:1.55674\n",
      "[61]\tvalidation_0-mlogloss:1.55269\n",
      "[62]\tvalidation_0-mlogloss:1.54870\n",
      "[63]\tvalidation_0-mlogloss:1.54474\n",
      "[64]\tvalidation_0-mlogloss:1.54084\n",
      "[65]\tvalidation_0-mlogloss:1.53698\n",
      "[66]\tvalidation_0-mlogloss:1.53317\n",
      "[67]\tvalidation_0-mlogloss:1.52940\n",
      "[68]\tvalidation_0-mlogloss:1.52567\n",
      "[69]\tvalidation_0-mlogloss:1.52199\n",
      "[70]\tvalidation_0-mlogloss:1.51835\n",
      "[71]\tvalidation_0-mlogloss:1.51475\n",
      "[72]\tvalidation_0-mlogloss:1.51119\n",
      "[73]\tvalidation_0-mlogloss:1.50767\n",
      "[74]\tvalidation_0-mlogloss:1.50419\n",
      "[75]\tvalidation_0-mlogloss:1.50075\n",
      "[76]\tvalidation_0-mlogloss:1.49735\n",
      "[77]\tvalidation_0-mlogloss:1.49399\n",
      "[78]\tvalidation_0-mlogloss:1.49066\n",
      "[79]\tvalidation_0-mlogloss:1.48738\n",
      "[80]\tvalidation_0-mlogloss:1.48412\n",
      "[81]\tvalidation_0-mlogloss:1.48090\n",
      "[82]\tvalidation_0-mlogloss:1.47772\n",
      "[83]\tvalidation_0-mlogloss:1.47457\n",
      "[84]\tvalidation_0-mlogloss:1.47146\n",
      "[85]\tvalidation_0-mlogloss:1.46837\n",
      "[86]\tvalidation_0-mlogloss:1.46533\n",
      "[87]\tvalidation_0-mlogloss:1.46231\n",
      "[88]\tvalidation_0-mlogloss:1.45933\n",
      "[89]\tvalidation_0-mlogloss:1.45638\n",
      "[90]\tvalidation_0-mlogloss:1.45345\n",
      "[91]\tvalidation_0-mlogloss:1.45057\n",
      "[92]\tvalidation_0-mlogloss:1.44771\n",
      "[93]\tvalidation_0-mlogloss:1.44488\n",
      "[94]\tvalidation_0-mlogloss:1.44208\n",
      "[95]\tvalidation_0-mlogloss:1.43931\n",
      "[96]\tvalidation_0-mlogloss:1.43657\n",
      "[97]\tvalidation_0-mlogloss:1.43386\n",
      "[98]\tvalidation_0-mlogloss:1.43117\n",
      "[99]\tvalidation_0-mlogloss:1.42852\n",
      "[100]\tvalidation_0-mlogloss:1.42590\n",
      "[101]\tvalidation_0-mlogloss:1.42330\n",
      "[102]\tvalidation_0-mlogloss:1.42073\n",
      "[103]\tvalidation_0-mlogloss:1.41818\n",
      "[104]\tvalidation_0-mlogloss:1.41567\n",
      "[105]\tvalidation_0-mlogloss:1.41317\n",
      "[106]\tvalidation_0-mlogloss:1.41069\n",
      "[107]\tvalidation_0-mlogloss:1.40825\n",
      "[108]\tvalidation_0-mlogloss:1.40583\n",
      "[109]\tvalidation_0-mlogloss:1.40343\n",
      "[110]\tvalidation_0-mlogloss:1.40106\n",
      "[111]\tvalidation_0-mlogloss:1.39872\n",
      "[112]\tvalidation_0-mlogloss:1.39639\n",
      "[113]\tvalidation_0-mlogloss:1.39409\n",
      "[114]\tvalidation_0-mlogloss:1.39182\n",
      "[115]\tvalidation_0-mlogloss:1.38956\n",
      "[116]\tvalidation_0-mlogloss:1.38733\n",
      "[117]\tvalidation_0-mlogloss:1.38512\n",
      "[118]\tvalidation_0-mlogloss:1.38292\n",
      "[119]\tvalidation_0-mlogloss:1.38076\n",
      "[120]\tvalidation_0-mlogloss:1.37861\n",
      "[121]\tvalidation_0-mlogloss:1.37649\n",
      "[122]\tvalidation_0-mlogloss:1.37439\n",
      "[123]\tvalidation_0-mlogloss:1.37230\n",
      "[124]\tvalidation_0-mlogloss:1.37024\n",
      "[125]\tvalidation_0-mlogloss:1.36820\n",
      "[126]\tvalidation_0-mlogloss:1.36618\n",
      "[127]\tvalidation_0-mlogloss:1.36418\n",
      "[128]\tvalidation_0-mlogloss:1.36219\n",
      "[129]\tvalidation_0-mlogloss:1.36023\n",
      "[130]\tvalidation_0-mlogloss:1.35828\n",
      "[131]\tvalidation_0-mlogloss:1.35635\n",
      "[132]\tvalidation_0-mlogloss:1.35444\n",
      "[133]\tvalidation_0-mlogloss:1.35255\n",
      "[134]\tvalidation_0-mlogloss:1.35068\n",
      "[135]\tvalidation_0-mlogloss:1.34882\n",
      "[136]\tvalidation_0-mlogloss:1.34698\n",
      "[137]\tvalidation_0-mlogloss:1.34516\n",
      "[138]\tvalidation_0-mlogloss:1.34336\n",
      "[139]\tvalidation_0-mlogloss:1.34157\n",
      "[140]\tvalidation_0-mlogloss:1.33980\n",
      "[141]\tvalidation_0-mlogloss:1.33805\n",
      "[142]\tvalidation_0-mlogloss:1.33632\n",
      "[143]\tvalidation_0-mlogloss:1.33460\n",
      "[144]\tvalidation_0-mlogloss:1.33290\n",
      "[145]\tvalidation_0-mlogloss:1.33122\n",
      "[146]\tvalidation_0-mlogloss:1.32954\n",
      "[147]\tvalidation_0-mlogloss:1.32789\n",
      "[148]\tvalidation_0-mlogloss:1.32625\n",
      "[149]\tvalidation_0-mlogloss:1.32462\n",
      "[150]\tvalidation_0-mlogloss:1.32301\n",
      "[151]\tvalidation_0-mlogloss:1.32141\n",
      "[152]\tvalidation_0-mlogloss:1.31983\n",
      "[153]\tvalidation_0-mlogloss:1.31826\n",
      "[154]\tvalidation_0-mlogloss:1.31671\n",
      "[155]\tvalidation_0-mlogloss:1.31517\n",
      "[156]\tvalidation_0-mlogloss:1.31364\n",
      "[157]\tvalidation_0-mlogloss:1.31213\n",
      "[158]\tvalidation_0-mlogloss:1.31063\n",
      "[159]\tvalidation_0-mlogloss:1.30915\n",
      "[160]\tvalidation_0-mlogloss:1.30768\n",
      "[161]\tvalidation_0-mlogloss:1.30621\n",
      "[162]\tvalidation_0-mlogloss:1.30477\n",
      "[163]\tvalidation_0-mlogloss:1.30333\n",
      "[164]\tvalidation_0-mlogloss:1.30191\n",
      "[165]\tvalidation_0-mlogloss:1.30051\n",
      "[166]\tvalidation_0-mlogloss:1.29911\n",
      "[167]\tvalidation_0-mlogloss:1.29773\n",
      "[168]\tvalidation_0-mlogloss:1.29636\n",
      "[169]\tvalidation_0-mlogloss:1.29501\n",
      "[170]\tvalidation_0-mlogloss:1.29366\n",
      "[171]\tvalidation_0-mlogloss:1.29233\n",
      "[172]\tvalidation_0-mlogloss:1.29101\n",
      "[173]\tvalidation_0-mlogloss:1.28970\n",
      "[174]\tvalidation_0-mlogloss:1.28840\n",
      "[175]\tvalidation_0-mlogloss:1.28712\n",
      "[176]\tvalidation_0-mlogloss:1.28584\n",
      "[177]\tvalidation_0-mlogloss:1.28458\n",
      "[178]\tvalidation_0-mlogloss:1.28332\n",
      "[179]\tvalidation_0-mlogloss:1.28207\n",
      "[180]\tvalidation_0-mlogloss:1.28084\n",
      "[181]\tvalidation_0-mlogloss:1.27962\n",
      "[182]\tvalidation_0-mlogloss:1.27840\n",
      "[183]\tvalidation_0-mlogloss:1.27720\n",
      "[184]\tvalidation_0-mlogloss:1.27601\n",
      "[185]\tvalidation_0-mlogloss:1.27482\n",
      "[186]\tvalidation_0-mlogloss:1.27365\n",
      "[187]\tvalidation_0-mlogloss:1.27250\n",
      "[188]\tvalidation_0-mlogloss:1.27135\n",
      "[189]\tvalidation_0-mlogloss:1.27021\n",
      "[190]\tvalidation_0-mlogloss:1.26908\n",
      "[191]\tvalidation_0-mlogloss:1.26796\n",
      "[192]\tvalidation_0-mlogloss:1.26685\n",
      "[193]\tvalidation_0-mlogloss:1.26574\n",
      "[194]\tvalidation_0-mlogloss:1.26465\n",
      "[195]\tvalidation_0-mlogloss:1.26357\n",
      "[196]\tvalidation_0-mlogloss:1.26249\n",
      "[197]\tvalidation_0-mlogloss:1.26143\n",
      "[198]\tvalidation_0-mlogloss:1.26037\n",
      "[199]\tvalidation_0-mlogloss:1.25932\n",
      "[200]\tvalidation_0-mlogloss:1.25828\n",
      "[201]\tvalidation_0-mlogloss:1.25725\n",
      "[202]\tvalidation_0-mlogloss:1.25622\n",
      "[203]\tvalidation_0-mlogloss:1.25521\n",
      "[204]\tvalidation_0-mlogloss:1.25420\n",
      "[205]\tvalidation_0-mlogloss:1.25320\n",
      "[206]\tvalidation_0-mlogloss:1.25221\n",
      "[207]\tvalidation_0-mlogloss:1.25123\n",
      "[208]\tvalidation_0-mlogloss:1.25025\n",
      "[209]\tvalidation_0-mlogloss:1.24928\n",
      "[210]\tvalidation_0-mlogloss:1.24833\n",
      "[211]\tvalidation_0-mlogloss:1.24738\n",
      "[212]\tvalidation_0-mlogloss:1.24643\n",
      "[213]\tvalidation_0-mlogloss:1.24550\n",
      "[214]\tvalidation_0-mlogloss:1.24457\n",
      "[215]\tvalidation_0-mlogloss:1.24365\n",
      "[216]\tvalidation_0-mlogloss:1.24274\n",
      "[217]\tvalidation_0-mlogloss:1.24183\n",
      "[218]\tvalidation_0-mlogloss:1.24093\n",
      "[219]\tvalidation_0-mlogloss:1.24004\n",
      "[220]\tvalidation_0-mlogloss:1.23916\n",
      "[221]\tvalidation_0-mlogloss:1.23828\n",
      "[222]\tvalidation_0-mlogloss:1.23741\n",
      "[223]\tvalidation_0-mlogloss:1.23656\n",
      "[224]\tvalidation_0-mlogloss:1.23570\n",
      "[225]\tvalidation_0-mlogloss:1.23485\n",
      "[226]\tvalidation_0-mlogloss:1.23401\n",
      "[227]\tvalidation_0-mlogloss:1.23318\n",
      "[228]\tvalidation_0-mlogloss:1.23235\n",
      "[229]\tvalidation_0-mlogloss:1.23153\n",
      "[230]\tvalidation_0-mlogloss:1.23072\n"
     ]
    },
    {
     "name": "stdout",
     "output_type": "stream",
     "text": [
      "[231]\tvalidation_0-mlogloss:1.22991\n",
      "[232]\tvalidation_0-mlogloss:1.22910\n",
      "[233]\tvalidation_0-mlogloss:1.22831\n",
      "[234]\tvalidation_0-mlogloss:1.22752\n",
      "[235]\tvalidation_0-mlogloss:1.22674\n",
      "[236]\tvalidation_0-mlogloss:1.22596\n",
      "[237]\tvalidation_0-mlogloss:1.22519\n",
      "[238]\tvalidation_0-mlogloss:1.22443\n",
      "[239]\tvalidation_0-mlogloss:1.22367\n",
      "[240]\tvalidation_0-mlogloss:1.22292\n",
      "[241]\tvalidation_0-mlogloss:1.22217\n",
      "[242]\tvalidation_0-mlogloss:1.22143\n",
      "[243]\tvalidation_0-mlogloss:1.22070\n",
      "[244]\tvalidation_0-mlogloss:1.21997\n",
      "[245]\tvalidation_0-mlogloss:1.21924\n",
      "[246]\tvalidation_0-mlogloss:1.21852\n",
      "[247]\tvalidation_0-mlogloss:1.21781\n",
      "[248]\tvalidation_0-mlogloss:1.21710\n",
      "[249]\tvalidation_0-mlogloss:1.21639\n",
      "[250]\tvalidation_0-mlogloss:1.21570\n",
      "[251]\tvalidation_0-mlogloss:1.21501\n",
      "[252]\tvalidation_0-mlogloss:1.21432\n",
      "[253]\tvalidation_0-mlogloss:1.21364\n",
      "[254]\tvalidation_0-mlogloss:1.21296\n",
      "[255]\tvalidation_0-mlogloss:1.21229\n",
      "[256]\tvalidation_0-mlogloss:1.21163\n",
      "[257]\tvalidation_0-mlogloss:1.21097\n",
      "[258]\tvalidation_0-mlogloss:1.21031\n",
      "[259]\tvalidation_0-mlogloss:1.20966\n",
      "[260]\tvalidation_0-mlogloss:1.20902\n",
      "[261]\tvalidation_0-mlogloss:1.20838\n",
      "[262]\tvalidation_0-mlogloss:1.20774\n",
      "[263]\tvalidation_0-mlogloss:1.20711\n",
      "[264]\tvalidation_0-mlogloss:1.20648\n",
      "[265]\tvalidation_0-mlogloss:1.20586\n",
      "[266]\tvalidation_0-mlogloss:1.20524\n",
      "[267]\tvalidation_0-mlogloss:1.20463\n",
      "[268]\tvalidation_0-mlogloss:1.20401\n",
      "[269]\tvalidation_0-mlogloss:1.20341\n",
      "[270]\tvalidation_0-mlogloss:1.20281\n",
      "[271]\tvalidation_0-mlogloss:1.20221\n",
      "[272]\tvalidation_0-mlogloss:1.20162\n",
      "[273]\tvalidation_0-mlogloss:1.20103\n",
      "[274]\tvalidation_0-mlogloss:1.20044\n",
      "[275]\tvalidation_0-mlogloss:1.19987\n",
      "[276]\tvalidation_0-mlogloss:1.19929\n",
      "[277]\tvalidation_0-mlogloss:1.19872\n",
      "[278]\tvalidation_0-mlogloss:1.19816\n",
      "[279]\tvalidation_0-mlogloss:1.19759\n",
      "[280]\tvalidation_0-mlogloss:1.19704\n",
      "[281]\tvalidation_0-mlogloss:1.19648\n",
      "[282]\tvalidation_0-mlogloss:1.19593\n",
      "[283]\tvalidation_0-mlogloss:1.19539\n",
      "[284]\tvalidation_0-mlogloss:1.19484\n",
      "[285]\tvalidation_0-mlogloss:1.19431\n",
      "[286]\tvalidation_0-mlogloss:1.19377\n",
      "[287]\tvalidation_0-mlogloss:1.19325\n",
      "[288]\tvalidation_0-mlogloss:1.19272\n",
      "[289]\tvalidation_0-mlogloss:1.19219\n",
      "[290]\tvalidation_0-mlogloss:1.19168\n",
      "[291]\tvalidation_0-mlogloss:1.19116\n",
      "[292]\tvalidation_0-mlogloss:1.19066\n",
      "[293]\tvalidation_0-mlogloss:1.19015\n",
      "[294]\tvalidation_0-mlogloss:1.18964\n",
      "[295]\tvalidation_0-mlogloss:1.18915\n",
      "[296]\tvalidation_0-mlogloss:1.18865\n",
      "[297]\tvalidation_0-mlogloss:1.18816\n",
      "[298]\tvalidation_0-mlogloss:1.18767\n",
      "[299]\tvalidation_0-mlogloss:1.18719\n",
      "[300]\tvalidation_0-mlogloss:1.18671\n",
      "[301]\tvalidation_0-mlogloss:1.18623\n",
      "[302]\tvalidation_0-mlogloss:1.18576\n",
      "[303]\tvalidation_0-mlogloss:1.18529\n",
      "[304]\tvalidation_0-mlogloss:1.18482\n",
      "[305]\tvalidation_0-mlogloss:1.18436\n",
      "[306]\tvalidation_0-mlogloss:1.18389\n",
      "[307]\tvalidation_0-mlogloss:1.18343\n",
      "[308]\tvalidation_0-mlogloss:1.18298\n",
      "[309]\tvalidation_0-mlogloss:1.18253\n",
      "[310]\tvalidation_0-mlogloss:1.18208\n",
      "[311]\tvalidation_0-mlogloss:1.18163\n",
      "[312]\tvalidation_0-mlogloss:1.18119\n",
      "[313]\tvalidation_0-mlogloss:1.18075\n",
      "[314]\tvalidation_0-mlogloss:1.18032\n",
      "[315]\tvalidation_0-mlogloss:1.17988\n",
      "[316]\tvalidation_0-mlogloss:1.17945\n",
      "[317]\tvalidation_0-mlogloss:1.17902\n",
      "[318]\tvalidation_0-mlogloss:1.17860\n",
      "[319]\tvalidation_0-mlogloss:1.17818\n",
      "[320]\tvalidation_0-mlogloss:1.17776\n",
      "[321]\tvalidation_0-mlogloss:1.17735\n",
      "[322]\tvalidation_0-mlogloss:1.17694\n",
      "[323]\tvalidation_0-mlogloss:1.17653\n",
      "[324]\tvalidation_0-mlogloss:1.17612\n",
      "[325]\tvalidation_0-mlogloss:1.17572\n",
      "[326]\tvalidation_0-mlogloss:1.17531\n",
      "[327]\tvalidation_0-mlogloss:1.17492\n",
      "[328]\tvalidation_0-mlogloss:1.17453\n",
      "[329]\tvalidation_0-mlogloss:1.17413\n",
      "[330]\tvalidation_0-mlogloss:1.17374\n",
      "[331]\tvalidation_0-mlogloss:1.17336\n",
      "[332]\tvalidation_0-mlogloss:1.17298\n",
      "[333]\tvalidation_0-mlogloss:1.17260\n",
      "[334]\tvalidation_0-mlogloss:1.17222\n",
      "[335]\tvalidation_0-mlogloss:1.17184\n",
      "[336]\tvalidation_0-mlogloss:1.17147\n",
      "[337]\tvalidation_0-mlogloss:1.17110\n",
      "[338]\tvalidation_0-mlogloss:1.17073\n",
      "[339]\tvalidation_0-mlogloss:1.17037\n",
      "[340]\tvalidation_0-mlogloss:1.17000\n",
      "[341]\tvalidation_0-mlogloss:1.16964\n",
      "[342]\tvalidation_0-mlogloss:1.16928\n",
      "[343]\tvalidation_0-mlogloss:1.16893\n",
      "[344]\tvalidation_0-mlogloss:1.16857\n",
      "[345]\tvalidation_0-mlogloss:1.16822\n",
      "[346]\tvalidation_0-mlogloss:1.16787\n",
      "[347]\tvalidation_0-mlogloss:1.16752\n",
      "[348]\tvalidation_0-mlogloss:1.16718\n",
      "[349]\tvalidation_0-mlogloss:1.16684\n",
      "[350]\tvalidation_0-mlogloss:1.16650\n",
      "[351]\tvalidation_0-mlogloss:1.16617\n",
      "[352]\tvalidation_0-mlogloss:1.16583\n",
      "[353]\tvalidation_0-mlogloss:1.16551\n",
      "[354]\tvalidation_0-mlogloss:1.16518\n",
      "[355]\tvalidation_0-mlogloss:1.16485\n",
      "[356]\tvalidation_0-mlogloss:1.16453\n",
      "[357]\tvalidation_0-mlogloss:1.16421\n",
      "[358]\tvalidation_0-mlogloss:1.16389\n",
      "[359]\tvalidation_0-mlogloss:1.16357\n",
      "[360]\tvalidation_0-mlogloss:1.16325\n",
      "[361]\tvalidation_0-mlogloss:1.16294\n",
      "[362]\tvalidation_0-mlogloss:1.16263\n",
      "[363]\tvalidation_0-mlogloss:1.16232\n",
      "[364]\tvalidation_0-mlogloss:1.16201\n",
      "[365]\tvalidation_0-mlogloss:1.16170\n",
      "[366]\tvalidation_0-mlogloss:1.16140\n",
      "[367]\tvalidation_0-mlogloss:1.16110\n",
      "[368]\tvalidation_0-mlogloss:1.16080\n",
      "[369]\tvalidation_0-mlogloss:1.16050\n",
      "[370]\tvalidation_0-mlogloss:1.16021\n",
      "[371]\tvalidation_0-mlogloss:1.15992\n",
      "[372]\tvalidation_0-mlogloss:1.15963\n",
      "[373]\tvalidation_0-mlogloss:1.15934\n",
      "[374]\tvalidation_0-mlogloss:1.15905\n",
      "[375]\tvalidation_0-mlogloss:1.15876\n",
      "[376]\tvalidation_0-mlogloss:1.15848\n",
      "[377]\tvalidation_0-mlogloss:1.15820\n",
      "[378]\tvalidation_0-mlogloss:1.15792\n",
      "[379]\tvalidation_0-mlogloss:1.15764\n",
      "[380]\tvalidation_0-mlogloss:1.15736\n",
      "[381]\tvalidation_0-mlogloss:1.15708\n",
      "[382]\tvalidation_0-mlogloss:1.15681\n",
      "[383]\tvalidation_0-mlogloss:1.15654\n",
      "[384]\tvalidation_0-mlogloss:1.15627\n",
      "[385]\tvalidation_0-mlogloss:1.15600\n",
      "[386]\tvalidation_0-mlogloss:1.15573\n",
      "[387]\tvalidation_0-mlogloss:1.15546\n",
      "[388]\tvalidation_0-mlogloss:1.15521\n",
      "[389]\tvalidation_0-mlogloss:1.15494\n",
      "[390]\tvalidation_0-mlogloss:1.15468\n",
      "[391]\tvalidation_0-mlogloss:1.15442\n",
      "[392]\tvalidation_0-mlogloss:1.15417\n",
      "[393]\tvalidation_0-mlogloss:1.15391\n",
      "[394]\tvalidation_0-mlogloss:1.15366\n",
      "[395]\tvalidation_0-mlogloss:1.15341\n",
      "[396]\tvalidation_0-mlogloss:1.15316\n",
      "[397]\tvalidation_0-mlogloss:1.15291\n",
      "[398]\tvalidation_0-mlogloss:1.15266\n",
      "[399]\tvalidation_0-mlogloss:1.15242\n",
      "[400]\tvalidation_0-mlogloss:1.15217\n",
      "[401]\tvalidation_0-mlogloss:1.15193\n",
      "[402]\tvalidation_0-mlogloss:1.15169\n",
      "[403]\tvalidation_0-mlogloss:1.15145\n",
      "[404]\tvalidation_0-mlogloss:1.15122\n",
      "[405]\tvalidation_0-mlogloss:1.15098\n",
      "[406]\tvalidation_0-mlogloss:1.15075\n",
      "[407]\tvalidation_0-mlogloss:1.15052\n",
      "[408]\tvalidation_0-mlogloss:1.15029\n",
      "[409]\tvalidation_0-mlogloss:1.15006\n",
      "[410]\tvalidation_0-mlogloss:1.14983\n",
      "[411]\tvalidation_0-mlogloss:1.14960\n",
      "[412]\tvalidation_0-mlogloss:1.14938\n",
      "[413]\tvalidation_0-mlogloss:1.14915\n",
      "[414]\tvalidation_0-mlogloss:1.14894\n",
      "[415]\tvalidation_0-mlogloss:1.14871\n",
      "[416]\tvalidation_0-mlogloss:1.14849\n",
      "[417]\tvalidation_0-mlogloss:1.14828\n",
      "[418]\tvalidation_0-mlogloss:1.14806\n",
      "[419]\tvalidation_0-mlogloss:1.14785\n",
      "[420]\tvalidation_0-mlogloss:1.14763\n",
      "[421]\tvalidation_0-mlogloss:1.14742\n",
      "[422]\tvalidation_0-mlogloss:1.14722\n",
      "[423]\tvalidation_0-mlogloss:1.14701\n",
      "[424]\tvalidation_0-mlogloss:1.14680\n",
      "[425]\tvalidation_0-mlogloss:1.14659\n",
      "[426]\tvalidation_0-mlogloss:1.14639\n",
      "[427]\tvalidation_0-mlogloss:1.14618\n",
      "[428]\tvalidation_0-mlogloss:1.14598\n",
      "[429]\tvalidation_0-mlogloss:1.14578\n",
      "[430]\tvalidation_0-mlogloss:1.14558\n",
      "[431]\tvalidation_0-mlogloss:1.14538\n",
      "[432]\tvalidation_0-mlogloss:1.14519\n",
      "[433]\tvalidation_0-mlogloss:1.14499\n",
      "[434]\tvalidation_0-mlogloss:1.14480\n",
      "[435]\tvalidation_0-mlogloss:1.14461\n",
      "[436]\tvalidation_0-mlogloss:1.14441\n",
      "[437]\tvalidation_0-mlogloss:1.14423\n",
      "[438]\tvalidation_0-mlogloss:1.14403\n",
      "[439]\tvalidation_0-mlogloss:1.14385\n",
      "[440]\tvalidation_0-mlogloss:1.14366\n",
      "[441]\tvalidation_0-mlogloss:1.14348\n",
      "[442]\tvalidation_0-mlogloss:1.14329\n",
      "[443]\tvalidation_0-mlogloss:1.14310\n",
      "[444]\tvalidation_0-mlogloss:1.14292\n",
      "[445]\tvalidation_0-mlogloss:1.14274\n",
      "[446]\tvalidation_0-mlogloss:1.14256\n",
      "[447]\tvalidation_0-mlogloss:1.14238\n",
      "[448]\tvalidation_0-mlogloss:1.14220\n",
      "[449]\tvalidation_0-mlogloss:1.14203\n",
      "[450]\tvalidation_0-mlogloss:1.14185\n",
      "[451]\tvalidation_0-mlogloss:1.14167\n",
      "[452]\tvalidation_0-mlogloss:1.14150\n",
      "[453]\tvalidation_0-mlogloss:1.14133\n",
      "[454]\tvalidation_0-mlogloss:1.14116\n",
      "[455]\tvalidation_0-mlogloss:1.14099\n",
      "[456]\tvalidation_0-mlogloss:1.14082\n",
      "[457]\tvalidation_0-mlogloss:1.14065\n",
      "[458]\tvalidation_0-mlogloss:1.14049\n"
     ]
    },
    {
     "name": "stdout",
     "output_type": "stream",
     "text": [
      "[459]\tvalidation_0-mlogloss:1.14032\n",
      "[460]\tvalidation_0-mlogloss:1.14016\n",
      "[461]\tvalidation_0-mlogloss:1.13999\n",
      "[462]\tvalidation_0-mlogloss:1.13983\n",
      "[463]\tvalidation_0-mlogloss:1.13967\n",
      "[464]\tvalidation_0-mlogloss:1.13951\n",
      "[465]\tvalidation_0-mlogloss:1.13935\n",
      "[466]\tvalidation_0-mlogloss:1.13919\n",
      "[467]\tvalidation_0-mlogloss:1.13903\n",
      "[468]\tvalidation_0-mlogloss:1.13887\n",
      "[469]\tvalidation_0-mlogloss:1.13871\n",
      "[470]\tvalidation_0-mlogloss:1.13856\n",
      "[471]\tvalidation_0-mlogloss:1.13841\n",
      "[472]\tvalidation_0-mlogloss:1.13826\n",
      "[473]\tvalidation_0-mlogloss:1.13810\n",
      "[474]\tvalidation_0-mlogloss:1.13795\n",
      "[475]\tvalidation_0-mlogloss:1.13780\n",
      "[476]\tvalidation_0-mlogloss:1.13765\n",
      "[477]\tvalidation_0-mlogloss:1.13750\n",
      "[478]\tvalidation_0-mlogloss:1.13735\n",
      "[479]\tvalidation_0-mlogloss:1.13721\n",
      "[480]\tvalidation_0-mlogloss:1.13706\n",
      "[481]\tvalidation_0-mlogloss:1.13691\n",
      "[482]\tvalidation_0-mlogloss:1.13677\n",
      "[483]\tvalidation_0-mlogloss:1.13662\n",
      "[484]\tvalidation_0-mlogloss:1.13648\n",
      "[485]\tvalidation_0-mlogloss:1.13634\n",
      "[486]\tvalidation_0-mlogloss:1.13620\n",
      "[487]\tvalidation_0-mlogloss:1.13606\n",
      "[488]\tvalidation_0-mlogloss:1.13592\n",
      "[489]\tvalidation_0-mlogloss:1.13578\n",
      "[490]\tvalidation_0-mlogloss:1.13564\n",
      "[491]\tvalidation_0-mlogloss:1.13551\n",
      "[492]\tvalidation_0-mlogloss:1.13537\n",
      "[493]\tvalidation_0-mlogloss:1.13524\n",
      "[494]\tvalidation_0-mlogloss:1.13510\n",
      "[495]\tvalidation_0-mlogloss:1.13497\n",
      "[496]\tvalidation_0-mlogloss:1.13484\n",
      "[497]\tvalidation_0-mlogloss:1.13471\n",
      "[498]\tvalidation_0-mlogloss:1.13458\n",
      "[499]\tvalidation_0-mlogloss:1.13444\n",
      "[500]\tvalidation_0-mlogloss:1.13431\n",
      "[501]\tvalidation_0-mlogloss:1.13418\n",
      "[502]\tvalidation_0-mlogloss:1.13406\n",
      "[503]\tvalidation_0-mlogloss:1.13393\n",
      "[504]\tvalidation_0-mlogloss:1.13380\n",
      "[505]\tvalidation_0-mlogloss:1.13367\n",
      "[506]\tvalidation_0-mlogloss:1.13355\n",
      "[507]\tvalidation_0-mlogloss:1.13342\n",
      "[508]\tvalidation_0-mlogloss:1.13330\n",
      "[509]\tvalidation_0-mlogloss:1.13318\n",
      "[510]\tvalidation_0-mlogloss:1.13305\n",
      "[511]\tvalidation_0-mlogloss:1.13293\n",
      "[512]\tvalidation_0-mlogloss:1.13281\n",
      "[513]\tvalidation_0-mlogloss:1.13269\n",
      "[514]\tvalidation_0-mlogloss:1.13257\n",
      "[515]\tvalidation_0-mlogloss:1.13245\n",
      "[516]\tvalidation_0-mlogloss:1.13233\n",
      "[517]\tvalidation_0-mlogloss:1.13222\n",
      "[518]\tvalidation_0-mlogloss:1.13210\n",
      "[519]\tvalidation_0-mlogloss:1.13199\n",
      "[520]\tvalidation_0-mlogloss:1.13187\n",
      "[521]\tvalidation_0-mlogloss:1.13176\n",
      "[522]\tvalidation_0-mlogloss:1.13164\n",
      "[523]\tvalidation_0-mlogloss:1.13153\n",
      "[524]\tvalidation_0-mlogloss:1.13141\n",
      "[525]\tvalidation_0-mlogloss:1.13130\n",
      "[526]\tvalidation_0-mlogloss:1.13119\n",
      "[527]\tvalidation_0-mlogloss:1.13108\n",
      "[528]\tvalidation_0-mlogloss:1.13097\n",
      "[529]\tvalidation_0-mlogloss:1.13085\n",
      "[530]\tvalidation_0-mlogloss:1.13075\n",
      "[531]\tvalidation_0-mlogloss:1.13064\n",
      "[532]\tvalidation_0-mlogloss:1.13053\n",
      "[533]\tvalidation_0-mlogloss:1.13042\n",
      "[534]\tvalidation_0-mlogloss:1.13032\n",
      "[535]\tvalidation_0-mlogloss:1.13021\n",
      "[536]\tvalidation_0-mlogloss:1.13011\n",
      "[537]\tvalidation_0-mlogloss:1.13000\n",
      "[538]\tvalidation_0-mlogloss:1.12989\n",
      "[539]\tvalidation_0-mlogloss:1.12979\n",
      "[540]\tvalidation_0-mlogloss:1.12969\n",
      "[541]\tvalidation_0-mlogloss:1.12959\n",
      "[542]\tvalidation_0-mlogloss:1.12949\n",
      "[543]\tvalidation_0-mlogloss:1.12938\n",
      "[544]\tvalidation_0-mlogloss:1.12929\n",
      "[545]\tvalidation_0-mlogloss:1.12919\n",
      "[546]\tvalidation_0-mlogloss:1.12909\n",
      "[547]\tvalidation_0-mlogloss:1.12899\n",
      "[548]\tvalidation_0-mlogloss:1.12889\n",
      "[549]\tvalidation_0-mlogloss:1.12879\n",
      "[550]\tvalidation_0-mlogloss:1.12870\n",
      "[551]\tvalidation_0-mlogloss:1.12860\n",
      "[552]\tvalidation_0-mlogloss:1.12850\n",
      "[553]\tvalidation_0-mlogloss:1.12841\n",
      "[554]\tvalidation_0-mlogloss:1.12831\n",
      "[555]\tvalidation_0-mlogloss:1.12822\n",
      "[556]\tvalidation_0-mlogloss:1.12813\n",
      "[557]\tvalidation_0-mlogloss:1.12803\n",
      "[558]\tvalidation_0-mlogloss:1.12794\n",
      "[559]\tvalidation_0-mlogloss:1.12785\n",
      "[560]\tvalidation_0-mlogloss:1.12776\n",
      "[561]\tvalidation_0-mlogloss:1.12767\n",
      "[562]\tvalidation_0-mlogloss:1.12758\n",
      "[563]\tvalidation_0-mlogloss:1.12749\n",
      "[564]\tvalidation_0-mlogloss:1.12741\n",
      "[565]\tvalidation_0-mlogloss:1.12732\n",
      "[566]\tvalidation_0-mlogloss:1.12723\n",
      "[567]\tvalidation_0-mlogloss:1.12714\n",
      "[568]\tvalidation_0-mlogloss:1.12706\n",
      "[569]\tvalidation_0-mlogloss:1.12697\n",
      "[570]\tvalidation_0-mlogloss:1.12688\n",
      "[571]\tvalidation_0-mlogloss:1.12680\n",
      "[572]\tvalidation_0-mlogloss:1.12671\n",
      "[573]\tvalidation_0-mlogloss:1.12663\n",
      "[574]\tvalidation_0-mlogloss:1.12655\n",
      "[575]\tvalidation_0-mlogloss:1.12647\n",
      "[576]\tvalidation_0-mlogloss:1.12638\n",
      "[577]\tvalidation_0-mlogloss:1.12630\n",
      "[578]\tvalidation_0-mlogloss:1.12622\n",
      "[579]\tvalidation_0-mlogloss:1.12614\n",
      "[580]\tvalidation_0-mlogloss:1.12606\n",
      "[581]\tvalidation_0-mlogloss:1.12598\n",
      "[582]\tvalidation_0-mlogloss:1.12590\n",
      "[583]\tvalidation_0-mlogloss:1.12582\n",
      "[584]\tvalidation_0-mlogloss:1.12574\n",
      "[585]\tvalidation_0-mlogloss:1.12567\n",
      "[586]\tvalidation_0-mlogloss:1.12559\n",
      "[587]\tvalidation_0-mlogloss:1.12551\n",
      "[588]\tvalidation_0-mlogloss:1.12543\n",
      "[589]\tvalidation_0-mlogloss:1.12536\n",
      "[590]\tvalidation_0-mlogloss:1.12528\n",
      "[591]\tvalidation_0-mlogloss:1.12521\n",
      "[592]\tvalidation_0-mlogloss:1.12513\n",
      "[593]\tvalidation_0-mlogloss:1.12506\n",
      "[594]\tvalidation_0-mlogloss:1.12498\n",
      "[595]\tvalidation_0-mlogloss:1.12491\n",
      "[596]\tvalidation_0-mlogloss:1.12484\n",
      "[597]\tvalidation_0-mlogloss:1.12476\n",
      "[598]\tvalidation_0-mlogloss:1.12469\n",
      "[599]\tvalidation_0-mlogloss:1.12462\n"
     ]
    },
    {
     "data": {
      "text/plain": [
       "GridSearchCV(cv=5,\n",
       "             estimator=XGBClassifier(base_score=None, booster=None,\n",
       "                                     colsample_bylevel=None,\n",
       "                                     colsample_bynode=None,\n",
       "                                     colsample_bytree=None, gamma=None,\n",
       "                                     gpu_id=None, importance_type='gain',\n",
       "                                     interaction_constraints=None,\n",
       "                                     learning_rate=None, max_delta_step=None,\n",
       "                                     max_depth=None, min_child_weight=None,\n",
       "                                     missing=nan, monotone_constraints=None,\n",
       "                                     n_estimators=100, n_jobs=16,\n",
       "                                     num_parallel_tree=None,\n",
       "                                     objective='multi:softmax',\n",
       "                                     random_state=None, reg_alpha=None,\n",
       "                                     reg_lambda=None, scale_pos_weight=None,\n",
       "                                     subsample=None, tree_method=None,\n",
       "                                     validate_parameters=None, verbosity=None),\n",
       "             n_jobs=-1,\n",
       "             param_grid={'learning_rate': [0.001, 0.01], 'max_depth': [5, 10],\n",
       "                         'n_estimators': [600]},\n",
       "             scoring='accuracy')"
      ]
     },
     "execution_count": 381,
     "metadata": {},
     "output_type": "execute_result"
    }
   ],
   "source": [
    "# Grid search 2\n",
    "xgb = XGBClassifier(n_jobs=16, objective='multi:softmax')\n",
    "params = {'n_estimators':[600], 'learning_rate':[0.001, 0.01], 'max_depth':[5, 10]}\n",
    "\n",
    "clf = GridSearchCV(xgb, params, cv=5, n_jobs=-1, scoring='accuracy')\n",
    "clf.fit(X_train_xgb, y_train_xgb, eval_set=[(X_val_xgb, y_val_xgb)], eval_metric='mlogloss', early_stopping_rounds=100)"
   ]
  },
  {
   "cell_type": "code",
   "execution_count": 382,
   "id": "b7004a34",
   "metadata": {
    "ExecuteTime": {
     "end_time": "2021-09-09T03:43:22.178406Z",
     "start_time": "2021-09-09T03:43:22.164081Z"
    },
    "hidden": true
   },
   "outputs": [
    {
     "data": {
      "text/plain": [
       "{'learning_rate': 0.01, 'max_depth': 5, 'n_estimators': 600}"
      ]
     },
     "execution_count": 382,
     "metadata": {},
     "output_type": "execute_result"
    }
   ],
   "source": [
    "clf.best_params_"
   ]
  },
  {
   "cell_type": "code",
   "execution_count": 383,
   "id": "655a1baf",
   "metadata": {
    "ExecuteTime": {
     "end_time": "2021-09-09T03:43:22.382451Z",
     "start_time": "2021-09-09T03:43:22.179406Z"
    },
    "hidden": true
   },
   "outputs": [
    {
     "data": {
      "text/plain": [
       "0.5054163092855555"
      ]
     },
     "execution_count": 383,
     "metadata": {},
     "output_type": "execute_result"
    }
   ],
   "source": [
    "clf.score(X_test, y_test)"
   ]
  },
  {
   "cell_type": "markdown",
   "id": "cd4cbcfd",
   "metadata": {
    "heading_collapsed": true
   },
   "source": [
    "## Linear Discriminant Analysis (LDA)"
   ]
  },
  {
   "cell_type": "code",
   "execution_count": 403,
   "id": "2e55fce1",
   "metadata": {
    "ExecuteTime": {
     "end_time": "2021-09-09T06:51:49.520705Z",
     "start_time": "2021-09-09T06:51:49.503197Z"
    },
    "hidden": true
   },
   "outputs": [],
   "source": [
    "from sklearn.discriminant_analysis import LinearDiscriminantAnalysis as LDA"
   ]
  },
  {
   "cell_type": "code",
   "execution_count": 408,
   "id": "089c8621",
   "metadata": {
    "ExecuteTime": {
     "end_time": "2021-09-09T07:07:41.280431Z",
     "start_time": "2021-09-09T07:07:41.141400Z"
    },
    "hidden": true
   },
   "outputs": [
    {
     "data": {
      "text/plain": [
       "0.49918993614790813"
      ]
     },
     "execution_count": 408,
     "metadata": {},
     "output_type": "execute_result"
    }
   ],
   "source": [
    "lda = LDA(n_components=2)\n",
    "lda.fit(X_train_sc, y_train)\n",
    "lda.score(X_test_sc, y_test)"
   ]
  },
  {
   "cell_type": "code",
   "execution_count": 411,
   "id": "10e3b9cf",
   "metadata": {
    "ExecuteTime": {
     "end_time": "2021-09-09T07:16:11.543771Z",
     "start_time": "2021-09-09T07:16:11.536268Z"
    },
    "collapsed": true,
    "hidden": true
   },
   "outputs": [
    {
     "data": {
      "text/plain": [
       "array([[-0.68828084, -1.43503996],\n",
       "       [-1.24963015, -2.14741908],\n",
       "       [-0.39126891,  1.82916205],\n",
       "       ...,\n",
       "       [ 3.24851529, -0.07618875],\n",
       "       [-1.4139944 , -1.30481113],\n",
       "       [-0.13814796,  0.5315458 ]])"
      ]
     },
     "execution_count": 411,
     "metadata": {},
     "output_type": "execute_result"
    }
   ],
   "source": [
    "# For Tableau visualization\n",
    "X_test_comp = lda.transform(X_test_sc)\n",
    "X_test_comp    # LDA component1, component2"
   ]
  },
  {
   "cell_type": "code",
   "execution_count": 415,
   "id": "953f18fc",
   "metadata": {
    "ExecuteTime": {
     "end_time": "2021-09-09T07:21:27.582981Z",
     "start_time": "2021-09-09T07:21:27.553976Z"
    },
    "collapsed": true,
    "hidden": true
   },
   "outputs": [
    {
     "data": {
      "text/html": [
       "<div>\n",
       "<style scoped>\n",
       "    .dataframe tbody tr th:only-of-type {\n",
       "        vertical-align: middle;\n",
       "    }\n",
       "\n",
       "    .dataframe tbody tr th {\n",
       "        vertical-align: top;\n",
       "    }\n",
       "\n",
       "    .dataframe thead th {\n",
       "        text-align: right;\n",
       "    }\n",
       "</style>\n",
       "<table border=\"1\" class=\"dataframe\">\n",
       "  <thead>\n",
       "    <tr style=\"text-align: right;\">\n",
       "      <th></th>\n",
       "      <th>Component 1</th>\n",
       "      <th>Component 2</th>\n",
       "      <th>Prediction</th>\n",
       "    </tr>\n",
       "  </thead>\n",
       "  <tbody>\n",
       "    <tr>\n",
       "      <th>0</th>\n",
       "      <td>-0.688281</td>\n",
       "      <td>-1.435040</td>\n",
       "      <td>XL</td>\n",
       "    </tr>\n",
       "    <tr>\n",
       "      <th>1</th>\n",
       "      <td>-1.249630</td>\n",
       "      <td>-2.147419</td>\n",
       "      <td>XL</td>\n",
       "    </tr>\n",
       "    <tr>\n",
       "      <th>2</th>\n",
       "      <td>-0.391269</td>\n",
       "      <td>1.829162</td>\n",
       "      <td>M</td>\n",
       "    </tr>\n",
       "    <tr>\n",
       "      <th>3</th>\n",
       "      <td>0.111686</td>\n",
       "      <td>-0.749218</td>\n",
       "      <td>M</td>\n",
       "    </tr>\n",
       "    <tr>\n",
       "      <th>4</th>\n",
       "      <td>-1.581646</td>\n",
       "      <td>-0.445351</td>\n",
       "      <td>XL</td>\n",
       "    </tr>\n",
       "    <tr>\n",
       "      <th>...</th>\n",
       "      <td>...</td>\n",
       "      <td>...</td>\n",
       "      <td>...</td>\n",
       "    </tr>\n",
       "    <tr>\n",
       "      <th>31474</th>\n",
       "      <td>0.903723</td>\n",
       "      <td>1.173958</td>\n",
       "      <td>M</td>\n",
       "    </tr>\n",
       "    <tr>\n",
       "      <th>31475</th>\n",
       "      <td>-2.568410</td>\n",
       "      <td>2.219849</td>\n",
       "      <td>XXXL</td>\n",
       "    </tr>\n",
       "    <tr>\n",
       "      <th>31476</th>\n",
       "      <td>3.248515</td>\n",
       "      <td>-0.076189</td>\n",
       "      <td>XXS</td>\n",
       "    </tr>\n",
       "    <tr>\n",
       "      <th>31477</th>\n",
       "      <td>-1.413994</td>\n",
       "      <td>-1.304811</td>\n",
       "      <td>XL</td>\n",
       "    </tr>\n",
       "    <tr>\n",
       "      <th>31478</th>\n",
       "      <td>-0.138148</td>\n",
       "      <td>0.531546</td>\n",
       "      <td>M</td>\n",
       "    </tr>\n",
       "  </tbody>\n",
       "</table>\n",
       "<p>31479 rows × 3 columns</p>\n",
       "</div>"
      ],
      "text/plain": [
       "       Component 1  Component 2 Prediction\n",
       "0        -0.688281    -1.435040         XL\n",
       "1        -1.249630    -2.147419         XL\n",
       "2        -0.391269     1.829162          M\n",
       "3         0.111686    -0.749218          M\n",
       "4        -1.581646    -0.445351         XL\n",
       "...            ...          ...        ...\n",
       "31474     0.903723     1.173958          M\n",
       "31475    -2.568410     2.219849       XXXL\n",
       "31476     3.248515    -0.076189        XXS\n",
       "31477    -1.413994    -1.304811         XL\n",
       "31478    -0.138148     0.531546          M\n",
       "\n",
       "[31479 rows x 3 columns]"
      ]
     },
     "execution_count": 415,
     "metadata": {},
     "output_type": "execute_result"
    }
   ],
   "source": [
    "lda_df = pd.DataFrame(X_test_comp, columns=['Component 1', 'Component 2'])\n",
    "lda_df['Prediction'] = lda.predict(X_test_sc)   # Add a column of target\n",
    "lda_df"
   ]
  },
  {
   "cell_type": "code",
   "execution_count": 416,
   "id": "934a2797",
   "metadata": {
    "ExecuteTime": {
     "end_time": "2021-09-09T07:23:47.408135Z",
     "start_time": "2021-09-09T07:23:47.315620Z"
    },
    "hidden": true
   },
   "outputs": [
    {
     "name": "stdout",
     "output_type": "stream",
     "text": [
      "Export completed-------------------------------\n"
     ]
    }
   ],
   "source": [
    "# Export to csv for Tableau\n",
    "lda_df.to_csv('data/data4.csv')\n",
    "print('Export completed-------------------------------')"
   ]
  },
  {
   "cell_type": "markdown",
   "id": "ed4e55d2",
   "metadata": {
    "hidden": true
   },
   "source": [
    "### Logistic Regression after LDA"
   ]
  },
  {
   "cell_type": "code",
   "execution_count": 418,
   "id": "d2130252",
   "metadata": {
    "ExecuteTime": {
     "end_time": "2021-09-09T08:58:04.213152Z",
     "start_time": "2021-09-09T08:58:01.123109Z"
    },
    "hidden": true
   },
   "outputs": [
    {
     "data": {
      "text/plain": [
       "0.5039867848406875"
      ]
     },
     "execution_count": 418,
     "metadata": {},
     "output_type": "execute_result"
    }
   ],
   "source": [
    "# Transform X by LDA\n",
    "X_train_comp = lda.transform(X_train_sc)\n",
    "\n",
    "# Logistic Regression\n",
    "logi = LogisticRegression()\n",
    "logi.fit(X_train_comp, y_train)\n",
    "logi.score(X_test_comp, y_test)   # Not much improved"
   ]
  },
  {
   "cell_type": "markdown",
   "id": "19594d5e",
   "metadata": {
    "heading_collapsed": true
   },
   "source": [
    "## Quadratic Discriminant Analysis (QDA)"
   ]
  },
  {
   "cell_type": "code",
   "execution_count": 420,
   "id": "f1a5bd9a",
   "metadata": {
    "ExecuteTime": {
     "end_time": "2021-09-09T09:06:45.612085Z",
     "start_time": "2021-09-09T09:06:45.598578Z"
    },
    "hidden": true
   },
   "outputs": [],
   "source": [
    "from sklearn.discriminant_analysis import QuadraticDiscriminantAnalysis as QDA"
   ]
  },
  {
   "cell_type": "code",
   "execution_count": 423,
   "id": "84b92591",
   "metadata": {
    "ExecuteTime": {
     "end_time": "2021-09-09T09:13:42.568137Z",
     "start_time": "2021-09-09T09:13:42.478612Z"
    },
    "hidden": true
   },
   "outputs": [
    {
     "data": {
      "text/plain": [
       "0.5041138536802313"
      ]
     },
     "execution_count": 423,
     "metadata": {},
     "output_type": "execute_result"
    }
   ],
   "source": [
    "qda = QDA()\n",
    "qda.fit(X_train_sc, y_train)\n",
    "qda.score(X_test_sc,y_test)    # Not a big difference with LDA"
   ]
  },
  {
   "cell_type": "markdown",
   "id": "055f9fe2",
   "metadata": {},
   "source": [
    "## Conclusion"
   ]
  },
  {
   "cell_type": "markdown",
   "id": "e9df6b76",
   "metadata": {},
   "source": [
    "**1. Logistic Regression**: Accuracy: 50.4%, f1 score(weighted): 0.49<br>\n",
    "**2. Support Vector Machine**: Accuracy: 50.6%<br>\n",
    "**3. K-Nearest Neighbors**: Accuracy: 49.8%, f1-score(weighted): 0.49<br>\n",
    "**4. Decision Tree**: Accuracy: 50%, f1-score(weighted): 0.49<br>\n",
    "**5. Naive Bayes**: Accuracy: 47.9%, f1-score(weighted): 0.47<br>\n",
    "**6. Ensemble Model 1) Voting**: Accuracy: 50.5%<br>\n",
    "**7. Ensemble Model 2) Bagging - Random Forest**: Accuracy: 50.5%, f1-score(weighted): 0.49<br>\n",
    "**8. Ensemble Model 3) Boosting - XGboost**: Accuracy: 50.6%<br>\n",
    "**9. Linear Discriminant Analysis**: Accuracy: 49.9%<br>\n",
    "**10. Quadratic Discriminant Analysis**: Accuracy: 50.4%<br>"
   ]
  }
 ],
 "metadata": {
  "kernelspec": {
   "display_name": "Python 3",
   "language": "python",
   "name": "python3"
  },
  "language_info": {
   "codemirror_mode": {
    "name": "ipython",
    "version": 3
   },
   "file_extension": ".py",
   "mimetype": "text/x-python",
   "name": "python",
   "nbconvert_exporter": "python",
   "pygments_lexer": "ipython3",
   "version": "3.8.8"
  },
  "toc": {
   "base_numbering": 1,
   "nav_menu": {},
   "number_sections": true,
   "sideBar": true,
   "skip_h1_title": false,
   "title_cell": "Table of Contents",
   "title_sidebar": "Contents",
   "toc_cell": false,
   "toc_position": {},
   "toc_section_display": true,
   "toc_window_display": false
  }
 },
 "nbformat": 4,
 "nbformat_minor": 5
}
