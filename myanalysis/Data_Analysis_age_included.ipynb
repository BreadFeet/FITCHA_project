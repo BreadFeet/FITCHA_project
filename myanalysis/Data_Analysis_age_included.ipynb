{
 "cells": [
  {
   "cell_type": "markdown",
   "id": "0d0a412e",
   "metadata": {},
   "source": [
    "# Clothes Size Classification"
   ]
  },
  {
   "cell_type": "markdown",
   "id": "817a5ba9",
   "metadata": {},
   "source": [
    "## Preprocessing"
   ]
  },
  {
   "cell_type": "code",
   "execution_count": 14,
   "id": "41b1009c",
   "metadata": {
    "ExecuteTime": {
     "end_time": "2021-09-14T16:56:42.931098Z",
     "start_time": "2021-09-14T16:56:42.913094Z"
    }
   },
   "outputs": [],
   "source": [
    "import pandas as pd\n",
    "import numpy as np"
   ]
  },
  {
   "cell_type": "code",
   "execution_count": 15,
   "id": "225af997",
   "metadata": {
    "ExecuteTime": {
     "end_time": "2021-09-14T16:56:43.041123Z",
     "start_time": "2021-09-14T16:56:42.934102Z"
    }
   },
   "outputs": [
    {
     "data": {
      "text/html": [
       "<div>\n",
       "<style scoped>\n",
       "    .dataframe tbody tr th:only-of-type {\n",
       "        vertical-align: middle;\n",
       "    }\n",
       "\n",
       "    .dataframe tbody tr th {\n",
       "        vertical-align: top;\n",
       "    }\n",
       "\n",
       "    .dataframe thead th {\n",
       "        text-align: right;\n",
       "    }\n",
       "</style>\n",
       "<table border=\"1\" class=\"dataframe\">\n",
       "  <thead>\n",
       "    <tr style=\"text-align: right;\">\n",
       "      <th></th>\n",
       "      <th>weight</th>\n",
       "      <th>age</th>\n",
       "      <th>height</th>\n",
       "      <th>size</th>\n",
       "    </tr>\n",
       "  </thead>\n",
       "  <tbody>\n",
       "    <tr>\n",
       "      <th>0</th>\n",
       "      <td>62</td>\n",
       "      <td>28.0</td>\n",
       "      <td>172.72</td>\n",
       "      <td>XL</td>\n",
       "    </tr>\n",
       "    <tr>\n",
       "      <th>1</th>\n",
       "      <td>59</td>\n",
       "      <td>36.0</td>\n",
       "      <td>167.64</td>\n",
       "      <td>L</td>\n",
       "    </tr>\n",
       "    <tr>\n",
       "      <th>2</th>\n",
       "      <td>61</td>\n",
       "      <td>34.0</td>\n",
       "      <td>165.10</td>\n",
       "      <td>M</td>\n",
       "    </tr>\n",
       "    <tr>\n",
       "      <th>3</th>\n",
       "      <td>65</td>\n",
       "      <td>27.0</td>\n",
       "      <td>175.26</td>\n",
       "      <td>L</td>\n",
       "    </tr>\n",
       "    <tr>\n",
       "      <th>4</th>\n",
       "      <td>62</td>\n",
       "      <td>45.0</td>\n",
       "      <td>172.72</td>\n",
       "      <td>M</td>\n",
       "    </tr>\n",
       "    <tr>\n",
       "      <th>...</th>\n",
       "      <td>...</td>\n",
       "      <td>...</td>\n",
       "      <td>...</td>\n",
       "      <td>...</td>\n",
       "    </tr>\n",
       "    <tr>\n",
       "      <th>119729</th>\n",
       "      <td>63</td>\n",
       "      <td>42.0</td>\n",
       "      <td>175.26</td>\n",
       "      <td>M</td>\n",
       "    </tr>\n",
       "    <tr>\n",
       "      <th>119730</th>\n",
       "      <td>45</td>\n",
       "      <td>29.0</td>\n",
       "      <td>154.94</td>\n",
       "      <td>S</td>\n",
       "    </tr>\n",
       "    <tr>\n",
       "      <th>119731</th>\n",
       "      <td>61</td>\n",
       "      <td>31.0</td>\n",
       "      <td>172.72</td>\n",
       "      <td>M</td>\n",
       "    </tr>\n",
       "    <tr>\n",
       "      <th>119732</th>\n",
       "      <td>74</td>\n",
       "      <td>31.0</td>\n",
       "      <td>167.64</td>\n",
       "      <td>XL</td>\n",
       "    </tr>\n",
       "    <tr>\n",
       "      <th>119733</th>\n",
       "      <td>70</td>\n",
       "      <td>30.0</td>\n",
       "      <td>167.64</td>\n",
       "      <td>XL</td>\n",
       "    </tr>\n",
       "  </tbody>\n",
       "</table>\n",
       "<p>119734 rows × 4 columns</p>\n",
       "</div>"
      ],
      "text/plain": [
       "        weight   age  height size\n",
       "0           62  28.0  172.72   XL\n",
       "1           59  36.0  167.64    L\n",
       "2           61  34.0  165.10    M\n",
       "3           65  27.0  175.26    L\n",
       "4           62  45.0  172.72    M\n",
       "...        ...   ...     ...  ...\n",
       "119729      63  42.0  175.26    M\n",
       "119730      45  29.0  154.94    S\n",
       "119731      61  31.0  172.72    M\n",
       "119732      74  31.0  167.64   XL\n",
       "119733      70  30.0  167.64   XL\n",
       "\n",
       "[119734 rows x 4 columns]"
      ]
     },
     "execution_count": 15,
     "metadata": {},
     "output_type": "execute_result"
    }
   ],
   "source": [
    "data = pd.read_csv('../data/raw_data.csv')\n",
    "data"
   ]
  },
  {
   "cell_type": "code",
   "execution_count": 16,
   "id": "dee0342b",
   "metadata": {
    "ExecuteTime": {
     "end_time": "2021-09-14T16:56:43.088133Z",
     "start_time": "2021-09-14T16:56:43.045124Z"
    }
   },
   "outputs": [
    {
     "name": "stdout",
     "output_type": "stream",
     "text": [
      "<class 'pandas.core.frame.DataFrame'>\n",
      "RangeIndex: 119734 entries, 0 to 119733\n",
      "Data columns (total 4 columns):\n",
      " #   Column  Non-Null Count   Dtype  \n",
      "---  ------  --------------   -----  \n",
      " 0   weight  119734 non-null  int64  \n",
      " 1   age     119477 non-null  float64\n",
      " 2   height  119404 non-null  float64\n",
      " 3   size    119734 non-null  object \n",
      "dtypes: float64(2), int64(1), object(1)\n",
      "memory usage: 3.7+ MB\n"
     ]
    }
   ],
   "source": [
    "data.info()"
   ]
  },
  {
   "cell_type": "code",
   "execution_count": 17,
   "id": "f26fffab",
   "metadata": {
    "ExecuteTime": {
     "end_time": "2021-09-14T16:56:43.168151Z",
     "start_time": "2021-09-14T16:56:43.091134Z"
    }
   },
   "outputs": [
    {
     "data": {
      "text/html": [
       "<div>\n",
       "<style scoped>\n",
       "    .dataframe tbody tr th:only-of-type {\n",
       "        vertical-align: middle;\n",
       "    }\n",
       "\n",
       "    .dataframe tbody tr th {\n",
       "        vertical-align: top;\n",
       "    }\n",
       "\n",
       "    .dataframe thead th {\n",
       "        text-align: right;\n",
       "    }\n",
       "</style>\n",
       "<table border=\"1\" class=\"dataframe\">\n",
       "  <thead>\n",
       "    <tr style=\"text-align: right;\">\n",
       "      <th></th>\n",
       "      <th>weight</th>\n",
       "      <th>age</th>\n",
       "      <th>height</th>\n",
       "      <th>size</th>\n",
       "    </tr>\n",
       "  </thead>\n",
       "  <tbody>\n",
       "    <tr>\n",
       "      <th>0</th>\n",
       "      <td>62</td>\n",
       "      <td>28.0</td>\n",
       "      <td>172.72</td>\n",
       "      <td>XL</td>\n",
       "    </tr>\n",
       "    <tr>\n",
       "      <th>1</th>\n",
       "      <td>59</td>\n",
       "      <td>36.0</td>\n",
       "      <td>167.64</td>\n",
       "      <td>L</td>\n",
       "    </tr>\n",
       "    <tr>\n",
       "      <th>2</th>\n",
       "      <td>61</td>\n",
       "      <td>34.0</td>\n",
       "      <td>165.10</td>\n",
       "      <td>M</td>\n",
       "    </tr>\n",
       "    <tr>\n",
       "      <th>3</th>\n",
       "      <td>65</td>\n",
       "      <td>27.0</td>\n",
       "      <td>175.26</td>\n",
       "      <td>L</td>\n",
       "    </tr>\n",
       "    <tr>\n",
       "      <th>4</th>\n",
       "      <td>62</td>\n",
       "      <td>45.0</td>\n",
       "      <td>172.72</td>\n",
       "      <td>M</td>\n",
       "    </tr>\n",
       "    <tr>\n",
       "      <th>...</th>\n",
       "      <td>...</td>\n",
       "      <td>...</td>\n",
       "      <td>...</td>\n",
       "      <td>...</td>\n",
       "    </tr>\n",
       "    <tr>\n",
       "      <th>119729</th>\n",
       "      <td>63</td>\n",
       "      <td>42.0</td>\n",
       "      <td>175.26</td>\n",
       "      <td>M</td>\n",
       "    </tr>\n",
       "    <tr>\n",
       "      <th>119730</th>\n",
       "      <td>45</td>\n",
       "      <td>29.0</td>\n",
       "      <td>154.94</td>\n",
       "      <td>S</td>\n",
       "    </tr>\n",
       "    <tr>\n",
       "      <th>119731</th>\n",
       "      <td>61</td>\n",
       "      <td>31.0</td>\n",
       "      <td>172.72</td>\n",
       "      <td>M</td>\n",
       "    </tr>\n",
       "    <tr>\n",
       "      <th>119732</th>\n",
       "      <td>74</td>\n",
       "      <td>31.0</td>\n",
       "      <td>167.64</td>\n",
       "      <td>XL</td>\n",
       "    </tr>\n",
       "    <tr>\n",
       "      <th>119733</th>\n",
       "      <td>70</td>\n",
       "      <td>30.0</td>\n",
       "      <td>167.64</td>\n",
       "      <td>XL</td>\n",
       "    </tr>\n",
       "  </tbody>\n",
       "</table>\n",
       "<p>119153 rows × 4 columns</p>\n",
       "</div>"
      ],
      "text/plain": [
       "        weight   age  height size\n",
       "0           62  28.0  172.72   XL\n",
       "1           59  36.0  167.64    L\n",
       "2           61  34.0  165.10    M\n",
       "3           65  27.0  175.26    L\n",
       "4           62  45.0  172.72    M\n",
       "...        ...   ...     ...  ...\n",
       "119729      63  42.0  175.26    M\n",
       "119730      45  29.0  154.94    S\n",
       "119731      61  31.0  172.72    M\n",
       "119732      74  31.0  167.64   XL\n",
       "119733      70  30.0  167.64   XL\n",
       "\n",
       "[119153 rows x 4 columns]"
      ]
     },
     "execution_count": 17,
     "metadata": {},
     "output_type": "execute_result"
    }
   ],
   "source": [
    "# 1. NaN processing\n",
    "data.isnull().sum()   # age: 257, height: 330\n",
    "\n",
    "# Drop NaN\n",
    "data.dropna(inplace=True)\n",
    "data"
   ]
  },
  {
   "cell_type": "code",
   "execution_count": 18,
   "id": "05149d46",
   "metadata": {
    "ExecuteTime": {
     "end_time": "2021-09-14T16:56:43.215162Z",
     "start_time": "2021-09-14T16:56:43.170157Z"
    }
   },
   "outputs": [
    {
     "name": "stdout",
     "output_type": "stream",
     "text": [
      "<class 'pandas.core.frame.DataFrame'>\n",
      "Int64Index: 119153 entries, 0 to 119733\n",
      "Data columns (total 4 columns):\n",
      " #   Column  Non-Null Count   Dtype  \n",
      "---  ------  --------------   -----  \n",
      " 0   weight  119153 non-null  int64  \n",
      " 1   age     119153 non-null  int32  \n",
      " 2   height  119153 non-null  float64\n",
      " 3   size    119153 non-null  object \n",
      "dtypes: float64(1), int32(1), int64(1), object(1)\n",
      "memory usage: 4.1+ MB\n"
     ]
    }
   ],
   "source": [
    "# 2. age dtype: float -> int\n",
    "data = data.astype({'age':'int'})\n",
    "data.info()"
   ]
  },
  {
   "cell_type": "code",
   "execution_count": 19,
   "id": "91325910",
   "metadata": {
    "ExecuteTime": {
     "end_time": "2021-09-14T16:56:43.247170Z",
     "start_time": "2021-09-14T16:56:43.217162Z"
    }
   },
   "outputs": [
    {
     "data": {
      "text/html": [
       "<div>\n",
       "<style scoped>\n",
       "    .dataframe tbody tr th:only-of-type {\n",
       "        vertical-align: middle;\n",
       "    }\n",
       "\n",
       "    .dataframe tbody tr th {\n",
       "        vertical-align: top;\n",
       "    }\n",
       "\n",
       "    .dataframe thead th {\n",
       "        text-align: right;\n",
       "    }\n",
       "</style>\n",
       "<table border=\"1\" class=\"dataframe\">\n",
       "  <thead>\n",
       "    <tr style=\"text-align: right;\">\n",
       "      <th></th>\n",
       "      <th>weight</th>\n",
       "      <th>age</th>\n",
       "      <th>height</th>\n",
       "      <th>size</th>\n",
       "    </tr>\n",
       "  </thead>\n",
       "  <tbody>\n",
       "    <tr>\n",
       "      <th>0</th>\n",
       "      <td>62</td>\n",
       "      <td>28</td>\n",
       "      <td>172.7</td>\n",
       "      <td>XL</td>\n",
       "    </tr>\n",
       "    <tr>\n",
       "      <th>1</th>\n",
       "      <td>59</td>\n",
       "      <td>36</td>\n",
       "      <td>167.6</td>\n",
       "      <td>L</td>\n",
       "    </tr>\n",
       "    <tr>\n",
       "      <th>2</th>\n",
       "      <td>61</td>\n",
       "      <td>34</td>\n",
       "      <td>165.1</td>\n",
       "      <td>M</td>\n",
       "    </tr>\n",
       "    <tr>\n",
       "      <th>3</th>\n",
       "      <td>65</td>\n",
       "      <td>27</td>\n",
       "      <td>175.3</td>\n",
       "      <td>L</td>\n",
       "    </tr>\n",
       "    <tr>\n",
       "      <th>4</th>\n",
       "      <td>62</td>\n",
       "      <td>45</td>\n",
       "      <td>172.7</td>\n",
       "      <td>M</td>\n",
       "    </tr>\n",
       "    <tr>\n",
       "      <th>...</th>\n",
       "      <td>...</td>\n",
       "      <td>...</td>\n",
       "      <td>...</td>\n",
       "      <td>...</td>\n",
       "    </tr>\n",
       "    <tr>\n",
       "      <th>119729</th>\n",
       "      <td>63</td>\n",
       "      <td>42</td>\n",
       "      <td>175.3</td>\n",
       "      <td>M</td>\n",
       "    </tr>\n",
       "    <tr>\n",
       "      <th>119730</th>\n",
       "      <td>45</td>\n",
       "      <td>29</td>\n",
       "      <td>154.9</td>\n",
       "      <td>S</td>\n",
       "    </tr>\n",
       "    <tr>\n",
       "      <th>119731</th>\n",
       "      <td>61</td>\n",
       "      <td>31</td>\n",
       "      <td>172.7</td>\n",
       "      <td>M</td>\n",
       "    </tr>\n",
       "    <tr>\n",
       "      <th>119732</th>\n",
       "      <td>74</td>\n",
       "      <td>31</td>\n",
       "      <td>167.6</td>\n",
       "      <td>XL</td>\n",
       "    </tr>\n",
       "    <tr>\n",
       "      <th>119733</th>\n",
       "      <td>70</td>\n",
       "      <td>30</td>\n",
       "      <td>167.6</td>\n",
       "      <td>XL</td>\n",
       "    </tr>\n",
       "  </tbody>\n",
       "</table>\n",
       "<p>119153 rows × 4 columns</p>\n",
       "</div>"
      ],
      "text/plain": [
       "        weight  age  height size\n",
       "0           62   28   172.7   XL\n",
       "1           59   36   167.6    L\n",
       "2           61   34   165.1    M\n",
       "3           65   27   175.3    L\n",
       "4           62   45   172.7    M\n",
       "...        ...  ...     ...  ...\n",
       "119729      63   42   175.3    M\n",
       "119730      45   29   154.9    S\n",
       "119731      61   31   172.7    M\n",
       "119732      74   31   167.6   XL\n",
       "119733      70   30   167.6   XL\n",
       "\n",
       "[119153 rows x 4 columns]"
      ]
     },
     "execution_count": 19,
     "metadata": {},
     "output_type": "execute_result"
    }
   ],
   "source": [
    "# 3. height: rounded to one decimal place\n",
    "data['height'] = round(data['height'], 1)\n",
    "data"
   ]
  },
  {
   "cell_type": "markdown",
   "id": "5e6b16bc",
   "metadata": {},
   "source": [
    "### Change the Age Range"
   ]
  },
  {
   "cell_type": "code",
   "execution_count": 20,
   "id": "81a7cb2a",
   "metadata": {
    "ExecuteTime": {
     "end_time": "2021-09-14T16:56:43.293179Z",
     "start_time": "2021-09-14T16:56:43.249170Z"
    }
   },
   "outputs": [
    {
     "data": {
      "text/html": [
       "<div>\n",
       "<style scoped>\n",
       "    .dataframe tbody tr th:only-of-type {\n",
       "        vertical-align: middle;\n",
       "    }\n",
       "\n",
       "    .dataframe tbody tr th {\n",
       "        vertical-align: top;\n",
       "    }\n",
       "\n",
       "    .dataframe thead th {\n",
       "        text-align: right;\n",
       "    }\n",
       "</style>\n",
       "<table border=\"1\" class=\"dataframe\">\n",
       "  <thead>\n",
       "    <tr style=\"text-align: right;\">\n",
       "      <th></th>\n",
       "      <th>weight</th>\n",
       "      <th>age</th>\n",
       "      <th>height</th>\n",
       "    </tr>\n",
       "  </thead>\n",
       "  <tbody>\n",
       "    <tr>\n",
       "      <th>count</th>\n",
       "      <td>119153.000000</td>\n",
       "      <td>119153.000000</td>\n",
       "      <td>119153.000000</td>\n",
       "    </tr>\n",
       "    <tr>\n",
       "      <th>mean</th>\n",
       "      <td>61.756095</td>\n",
       "      <td>34.032714</td>\n",
       "      <td>165.808586</td>\n",
       "    </tr>\n",
       "    <tr>\n",
       "      <th>std</th>\n",
       "      <td>9.942877</td>\n",
       "      <td>8.148302</td>\n",
       "      <td>6.737398</td>\n",
       "    </tr>\n",
       "    <tr>\n",
       "      <th>min</th>\n",
       "      <td>22.000000</td>\n",
       "      <td>0.000000</td>\n",
       "      <td>137.200000</td>\n",
       "    </tr>\n",
       "    <tr>\n",
       "      <th>25%</th>\n",
       "      <td>55.000000</td>\n",
       "      <td>29.000000</td>\n",
       "      <td>160.000000</td>\n",
       "    </tr>\n",
       "    <tr>\n",
       "      <th>50%</th>\n",
       "      <td>61.000000</td>\n",
       "      <td>32.000000</td>\n",
       "      <td>165.100000</td>\n",
       "    </tr>\n",
       "    <tr>\n",
       "      <th>75%</th>\n",
       "      <td>67.000000</td>\n",
       "      <td>37.000000</td>\n",
       "      <td>170.200000</td>\n",
       "    </tr>\n",
       "    <tr>\n",
       "      <th>max</th>\n",
       "      <td>136.000000</td>\n",
       "      <td>117.000000</td>\n",
       "      <td>193.000000</td>\n",
       "    </tr>\n",
       "  </tbody>\n",
       "</table>\n",
       "</div>"
      ],
      "text/plain": [
       "              weight            age         height\n",
       "count  119153.000000  119153.000000  119153.000000\n",
       "mean       61.756095      34.032714     165.808586\n",
       "std         9.942877       8.148302       6.737398\n",
       "min        22.000000       0.000000     137.200000\n",
       "25%        55.000000      29.000000     160.000000\n",
       "50%        61.000000      32.000000     165.100000\n",
       "75%        67.000000      37.000000     170.200000\n",
       "max       136.000000     117.000000     193.000000"
      ]
     },
     "execution_count": 20,
     "metadata": {},
     "output_type": "execute_result"
    }
   ],
   "source": [
    "data.describe()        # Age ranges from 0 to 117 -> unreliable"
   ]
  },
  {
   "cell_type": "code",
   "execution_count": 21,
   "id": "2f139500",
   "metadata": {
    "ExecuteTime": {
     "end_time": "2021-09-14T16:56:43.309199Z",
     "start_time": "2021-09-14T16:56:43.297180Z"
    }
   },
   "outputs": [
    {
     "data": {
      "text/plain": [
       "3      8\n",
       "71     8\n",
       "4      8\n",
       "72     7\n",
       "5      4\n",
       "76     4\n",
       "73     4\n",
       "14     3\n",
       "77     2\n",
       "87     2\n",
       "85     1\n",
       "81     1\n",
       "100    1\n",
       "113    1\n",
       "88     1\n",
       "92     1\n",
       "99     1\n",
       "9      1\n",
       "1      1\n",
       "112    1\n",
       "Name: age, dtype: int64"
      ]
     },
     "execution_count": 21,
     "metadata": {},
     "output_type": "execute_result"
    }
   ],
   "source": [
    "# Age range\n",
    "data.age.value_counts().tail(20)"
   ]
  },
  {
   "cell_type": "code",
   "execution_count": 22,
   "id": "7d2fd747",
   "metadata": {
    "ExecuteTime": {
     "end_time": "2021-09-14T16:56:43.340192Z",
     "start_time": "2021-09-14T16:56:43.312187Z"
    }
   },
   "outputs": [
    {
     "data": {
      "text/html": [
       "<div>\n",
       "<style scoped>\n",
       "    .dataframe tbody tr th:only-of-type {\n",
       "        vertical-align: middle;\n",
       "    }\n",
       "\n",
       "    .dataframe tbody tr th {\n",
       "        vertical-align: top;\n",
       "    }\n",
       "\n",
       "    .dataframe thead th {\n",
       "        text-align: right;\n",
       "    }\n",
       "</style>\n",
       "<table border=\"1\" class=\"dataframe\">\n",
       "  <thead>\n",
       "    <tr style=\"text-align: right;\">\n",
       "      <th></th>\n",
       "      <th>weight</th>\n",
       "      <th>age</th>\n",
       "      <th>height</th>\n",
       "      <th>size</th>\n",
       "    </tr>\n",
       "  </thead>\n",
       "  <tbody>\n",
       "    <tr>\n",
       "      <th>0</th>\n",
       "      <td>62</td>\n",
       "      <td>28</td>\n",
       "      <td>172.7</td>\n",
       "      <td>XL</td>\n",
       "    </tr>\n",
       "    <tr>\n",
       "      <th>1</th>\n",
       "      <td>59</td>\n",
       "      <td>36</td>\n",
       "      <td>167.6</td>\n",
       "      <td>L</td>\n",
       "    </tr>\n",
       "    <tr>\n",
       "      <th>2</th>\n",
       "      <td>61</td>\n",
       "      <td>34</td>\n",
       "      <td>165.1</td>\n",
       "      <td>M</td>\n",
       "    </tr>\n",
       "    <tr>\n",
       "      <th>3</th>\n",
       "      <td>65</td>\n",
       "      <td>27</td>\n",
       "      <td>175.3</td>\n",
       "      <td>L</td>\n",
       "    </tr>\n",
       "    <tr>\n",
       "      <th>4</th>\n",
       "      <td>62</td>\n",
       "      <td>45</td>\n",
       "      <td>172.7</td>\n",
       "      <td>M</td>\n",
       "    </tr>\n",
       "    <tr>\n",
       "      <th>...</th>\n",
       "      <td>...</td>\n",
       "      <td>...</td>\n",
       "      <td>...</td>\n",
       "      <td>...</td>\n",
       "    </tr>\n",
       "    <tr>\n",
       "      <th>119729</th>\n",
       "      <td>63</td>\n",
       "      <td>42</td>\n",
       "      <td>175.3</td>\n",
       "      <td>M</td>\n",
       "    </tr>\n",
       "    <tr>\n",
       "      <th>119730</th>\n",
       "      <td>45</td>\n",
       "      <td>29</td>\n",
       "      <td>154.9</td>\n",
       "      <td>S</td>\n",
       "    </tr>\n",
       "    <tr>\n",
       "      <th>119731</th>\n",
       "      <td>61</td>\n",
       "      <td>31</td>\n",
       "      <td>172.7</td>\n",
       "      <td>M</td>\n",
       "    </tr>\n",
       "    <tr>\n",
       "      <th>119732</th>\n",
       "      <td>74</td>\n",
       "      <td>31</td>\n",
       "      <td>167.6</td>\n",
       "      <td>XL</td>\n",
       "    </tr>\n",
       "    <tr>\n",
       "      <th>119733</th>\n",
       "      <td>70</td>\n",
       "      <td>30</td>\n",
       "      <td>167.6</td>\n",
       "      <td>XL</td>\n",
       "    </tr>\n",
       "  </tbody>\n",
       "</table>\n",
       "<p>117375 rows × 4 columns</p>\n",
       "</div>"
      ],
      "text/plain": [
       "        weight  age  height size\n",
       "0           62   28   172.7   XL\n",
       "1           59   36   167.6    L\n",
       "2           61   34   165.1    M\n",
       "3           65   27   175.3    L\n",
       "4           62   45   172.7    M\n",
       "...        ...  ...     ...  ...\n",
       "119729      63   42   175.3    M\n",
       "119730      45   29   154.9    S\n",
       "119731      61   31   172.7    M\n",
       "119732      74   31   167.6   XL\n",
       "119733      70   30   167.6   XL\n",
       "\n",
       "[117375 rows x 4 columns]"
      ]
     },
     "execution_count": 22,
     "metadata": {},
     "output_type": "execute_result"
    }
   ],
   "source": [
    "# Data is narrowed down with age between 20~60\n",
    "data1 = data[(data.age >= 20) & (data.age <= 60)]\n",
    "data1"
   ]
  },
  {
   "cell_type": "code",
   "execution_count": 23,
   "id": "48e6100d",
   "metadata": {
    "ExecuteTime": {
     "end_time": "2021-09-14T16:56:43.737907Z",
     "start_time": "2021-09-14T16:56:43.342193Z"
    }
   },
   "outputs": [
    {
     "name": "stdout",
     "output_type": "stream",
     "text": [
      "Export completed-------------------------------------\n"
     ]
    }
   ],
   "source": [
    "# Export to csv\n",
    "data1.to_csv('../data/data1.csv')\n",
    "print('Export completed-------------------------------------')"
   ]
  },
  {
   "cell_type": "markdown",
   "id": "cdf95b0d",
   "metadata": {},
   "source": [
    "### Remove Outliers"
   ]
  },
  {
   "cell_type": "code",
   "execution_count": 24,
   "id": "c862b471",
   "metadata": {
    "ExecuteTime": {
     "end_time": "2021-09-14T16:56:43.799921Z",
     "start_time": "2021-09-14T16:56:43.740907Z"
    }
   },
   "outputs": [
    {
     "data": {
      "text/html": [
       "<div>\n",
       "<style scoped>\n",
       "    .dataframe tbody tr th:only-of-type {\n",
       "        vertical-align: middle;\n",
       "    }\n",
       "\n",
       "    .dataframe tbody tr th {\n",
       "        vertical-align: top;\n",
       "    }\n",
       "\n",
       "    .dataframe thead th {\n",
       "        text-align: right;\n",
       "    }\n",
       "</style>\n",
       "<table border=\"1\" class=\"dataframe\">\n",
       "  <thead>\n",
       "    <tr style=\"text-align: right;\">\n",
       "      <th></th>\n",
       "      <th>weight</th>\n",
       "      <th>age</th>\n",
       "      <th>height</th>\n",
       "    </tr>\n",
       "  </thead>\n",
       "  <tbody>\n",
       "    <tr>\n",
       "      <th>count</th>\n",
       "      <td>117375.000000</td>\n",
       "      <td>117375.000000</td>\n",
       "      <td>117375.000000</td>\n",
       "    </tr>\n",
       "    <tr>\n",
       "      <th>mean</th>\n",
       "      <td>61.772124</td>\n",
       "      <td>33.877504</td>\n",
       "      <td>165.814159</td>\n",
       "    </tr>\n",
       "    <tr>\n",
       "      <th>std</th>\n",
       "      <td>9.939778</td>\n",
       "      <td>7.454046</td>\n",
       "      <td>6.741833</td>\n",
       "    </tr>\n",
       "    <tr>\n",
       "      <th>min</th>\n",
       "      <td>22.000000</td>\n",
       "      <td>20.000000</td>\n",
       "      <td>137.200000</td>\n",
       "    </tr>\n",
       "    <tr>\n",
       "      <th>25%</th>\n",
       "      <td>55.000000</td>\n",
       "      <td>29.000000</td>\n",
       "      <td>160.000000</td>\n",
       "    </tr>\n",
       "    <tr>\n",
       "      <th>50%</th>\n",
       "      <td>61.000000</td>\n",
       "      <td>32.000000</td>\n",
       "      <td>165.100000</td>\n",
       "    </tr>\n",
       "    <tr>\n",
       "      <th>75%</th>\n",
       "      <td>67.000000</td>\n",
       "      <td>37.000000</td>\n",
       "      <td>170.200000</td>\n",
       "    </tr>\n",
       "    <tr>\n",
       "      <th>max</th>\n",
       "      <td>136.000000</td>\n",
       "      <td>60.000000</td>\n",
       "      <td>193.000000</td>\n",
       "    </tr>\n",
       "  </tbody>\n",
       "</table>\n",
       "</div>"
      ],
      "text/plain": [
       "              weight            age         height\n",
       "count  117375.000000  117375.000000  117375.000000\n",
       "mean       61.772124      33.877504     165.814159\n",
       "std         9.939778       7.454046       6.741833\n",
       "min        22.000000      20.000000     137.200000\n",
       "25%        55.000000      29.000000     160.000000\n",
       "50%        61.000000      32.000000     165.100000\n",
       "75%        67.000000      37.000000     170.200000\n",
       "max       136.000000      60.000000     193.000000"
      ]
     },
     "execution_count": 24,
     "metadata": {},
     "output_type": "execute_result"
    }
   ],
   "source": [
    "data1.describe()"
   ]
  },
  {
   "cell_type": "code",
   "execution_count": 25,
   "id": "14ecef41",
   "metadata": {
    "ExecuteTime": {
     "end_time": "2021-09-14T16:56:43.911965Z",
     "start_time": "2021-09-14T16:56:43.802923Z"
    }
   },
   "outputs": [
    {
     "name": "stderr",
     "output_type": "stream",
     "text": [
      "<ipython-input-25-f3dc2d24510c>:5: FutureWarning: Automatic reindexing on DataFrame vs Series comparisons is deprecated and will raise ValueError in a future version.  Do `left, right = left.align(right, axis=1, copy=False)` before e.g. `left == right`\n",
      "  outlier_con = (data1 < q1 - 1.5 * IQR) | (data1 > q3 + 1.5 * IQR)\n",
      "<ipython-input-25-f3dc2d24510c>:5: FutureWarning: Automatic reindexing on DataFrame vs Series comparisons is deprecated and will raise ValueError in a future version.  Do `left, right = left.align(right, axis=1, copy=False)` before e.g. `left == right`\n",
      "  outlier_con = (data1 < q1 - 1.5 * IQR) | (data1 > q3 + 1.5 * IQR)\n"
     ]
    },
    {
     "data": {
      "text/html": [
       "<div>\n",
       "<style scoped>\n",
       "    .dataframe tbody tr th:only-of-type {\n",
       "        vertical-align: middle;\n",
       "    }\n",
       "\n",
       "    .dataframe tbody tr th {\n",
       "        vertical-align: top;\n",
       "    }\n",
       "\n",
       "    .dataframe thead th {\n",
       "        text-align: right;\n",
       "    }\n",
       "</style>\n",
       "<table border=\"1\" class=\"dataframe\">\n",
       "  <thead>\n",
       "    <tr style=\"text-align: right;\">\n",
       "      <th></th>\n",
       "      <th>weight</th>\n",
       "      <th>age</th>\n",
       "      <th>height</th>\n",
       "      <th>size</th>\n",
       "    </tr>\n",
       "  </thead>\n",
       "  <tbody>\n",
       "    <tr>\n",
       "      <th>22</th>\n",
       "      <td>55</td>\n",
       "      <td>50</td>\n",
       "      <td>165.1</td>\n",
       "      <td>S</td>\n",
       "    </tr>\n",
       "    <tr>\n",
       "      <th>33</th>\n",
       "      <td>86</td>\n",
       "      <td>48</td>\n",
       "      <td>172.7</td>\n",
       "      <td>XXXL</td>\n",
       "    </tr>\n",
       "    <tr>\n",
       "      <th>40</th>\n",
       "      <td>58</td>\n",
       "      <td>52</td>\n",
       "      <td>162.6</td>\n",
       "      <td>XXXL</td>\n",
       "    </tr>\n",
       "    <tr>\n",
       "      <th>73</th>\n",
       "      <td>113</td>\n",
       "      <td>27</td>\n",
       "      <td>167.6</td>\n",
       "      <td>XXXL</td>\n",
       "    </tr>\n",
       "    <tr>\n",
       "      <th>74</th>\n",
       "      <td>88</td>\n",
       "      <td>30</td>\n",
       "      <td>162.6</td>\n",
       "      <td>XXXL</td>\n",
       "    </tr>\n",
       "    <tr>\n",
       "      <th>...</th>\n",
       "      <td>...</td>\n",
       "      <td>...</td>\n",
       "      <td>...</td>\n",
       "      <td>...</td>\n",
       "    </tr>\n",
       "    <tr>\n",
       "      <th>119685</th>\n",
       "      <td>87</td>\n",
       "      <td>29</td>\n",
       "      <td>165.1</td>\n",
       "      <td>XXXL</td>\n",
       "    </tr>\n",
       "    <tr>\n",
       "      <th>119699</th>\n",
       "      <td>63</td>\n",
       "      <td>50</td>\n",
       "      <td>160.0</td>\n",
       "      <td>XXXL</td>\n",
       "    </tr>\n",
       "    <tr>\n",
       "      <th>119704</th>\n",
       "      <td>70</td>\n",
       "      <td>55</td>\n",
       "      <td>165.1</td>\n",
       "      <td>XXXL</td>\n",
       "    </tr>\n",
       "    <tr>\n",
       "      <th>119710</th>\n",
       "      <td>77</td>\n",
       "      <td>51</td>\n",
       "      <td>165.1</td>\n",
       "      <td>XXXL</td>\n",
       "    </tr>\n",
       "    <tr>\n",
       "      <th>119716</th>\n",
       "      <td>91</td>\n",
       "      <td>28</td>\n",
       "      <td>175.3</td>\n",
       "      <td>XXXL</td>\n",
       "    </tr>\n",
       "  </tbody>\n",
       "</table>\n",
       "<p>8976 rows × 4 columns</p>\n",
       "</div>"
      ],
      "text/plain": [
       "        weight  age  height  size\n",
       "22          55   50   165.1     S\n",
       "33          86   48   172.7  XXXL\n",
       "40          58   52   162.6  XXXL\n",
       "73         113   27   167.6  XXXL\n",
       "74          88   30   162.6  XXXL\n",
       "...        ...  ...     ...   ...\n",
       "119685      87   29   165.1  XXXL\n",
       "119699      63   50   160.0  XXXL\n",
       "119704      70   55   165.1  XXXL\n",
       "119710      77   51   165.1  XXXL\n",
       "119716      91   28   175.3  XXXL\n",
       "\n",
       "[8976 rows x 4 columns]"
      ]
     },
     "execution_count": 25,
     "metadata": {},
     "output_type": "execute_result"
    }
   ],
   "source": [
    "# Calculate IQR\n",
    "q1 = data1.quantile(0.25)    # Return a series\n",
    "q3 = data1.quantile(0.75)\n",
    "IQR = q3 - q1\n",
    "outlier_con = (data1 < q1 - 1.5 * IQR) | (data1 > q3 + 1.5 * IQR)\n",
    "outlier_con = outlier_con.any(axis=1)   # When there's at least one True, it returns True\n",
    "outlier_df = data1[outlier_con]    # Outliers\n",
    "outlier_df"
   ]
  },
  {
   "cell_type": "code",
   "execution_count": 26,
   "id": "293f3d77",
   "metadata": {
    "ExecuteTime": {
     "end_time": "2021-09-14T16:56:43.959976Z",
     "start_time": "2021-09-14T16:56:43.913947Z"
    }
   },
   "outputs": [
    {
     "data": {
      "text/html": [
       "<div>\n",
       "<style scoped>\n",
       "    .dataframe tbody tr th:only-of-type {\n",
       "        vertical-align: middle;\n",
       "    }\n",
       "\n",
       "    .dataframe tbody tr th {\n",
       "        vertical-align: top;\n",
       "    }\n",
       "\n",
       "    .dataframe thead th {\n",
       "        text-align: right;\n",
       "    }\n",
       "</style>\n",
       "<table border=\"1\" class=\"dataframe\">\n",
       "  <thead>\n",
       "    <tr style=\"text-align: right;\">\n",
       "      <th></th>\n",
       "      <th>weight</th>\n",
       "      <th>age</th>\n",
       "      <th>height</th>\n",
       "      <th>size</th>\n",
       "    </tr>\n",
       "  </thead>\n",
       "  <tbody>\n",
       "    <tr>\n",
       "      <th>0</th>\n",
       "      <td>62</td>\n",
       "      <td>28</td>\n",
       "      <td>172.7</td>\n",
       "      <td>XL</td>\n",
       "    </tr>\n",
       "    <tr>\n",
       "      <th>1</th>\n",
       "      <td>59</td>\n",
       "      <td>36</td>\n",
       "      <td>167.6</td>\n",
       "      <td>L</td>\n",
       "    </tr>\n",
       "    <tr>\n",
       "      <th>2</th>\n",
       "      <td>61</td>\n",
       "      <td>34</td>\n",
       "      <td>165.1</td>\n",
       "      <td>M</td>\n",
       "    </tr>\n",
       "    <tr>\n",
       "      <th>3</th>\n",
       "      <td>65</td>\n",
       "      <td>27</td>\n",
       "      <td>175.3</td>\n",
       "      <td>L</td>\n",
       "    </tr>\n",
       "    <tr>\n",
       "      <th>4</th>\n",
       "      <td>62</td>\n",
       "      <td>45</td>\n",
       "      <td>172.7</td>\n",
       "      <td>M</td>\n",
       "    </tr>\n",
       "    <tr>\n",
       "      <th>...</th>\n",
       "      <td>...</td>\n",
       "      <td>...</td>\n",
       "      <td>...</td>\n",
       "      <td>...</td>\n",
       "    </tr>\n",
       "    <tr>\n",
       "      <th>119729</th>\n",
       "      <td>63</td>\n",
       "      <td>42</td>\n",
       "      <td>175.3</td>\n",
       "      <td>M</td>\n",
       "    </tr>\n",
       "    <tr>\n",
       "      <th>119730</th>\n",
       "      <td>45</td>\n",
       "      <td>29</td>\n",
       "      <td>154.9</td>\n",
       "      <td>S</td>\n",
       "    </tr>\n",
       "    <tr>\n",
       "      <th>119731</th>\n",
       "      <td>61</td>\n",
       "      <td>31</td>\n",
       "      <td>172.7</td>\n",
       "      <td>M</td>\n",
       "    </tr>\n",
       "    <tr>\n",
       "      <th>119732</th>\n",
       "      <td>74</td>\n",
       "      <td>31</td>\n",
       "      <td>167.6</td>\n",
       "      <td>XL</td>\n",
       "    </tr>\n",
       "    <tr>\n",
       "      <th>119733</th>\n",
       "      <td>70</td>\n",
       "      <td>30</td>\n",
       "      <td>167.6</td>\n",
       "      <td>XL</td>\n",
       "    </tr>\n",
       "  </tbody>\n",
       "</table>\n",
       "<p>108399 rows × 4 columns</p>\n",
       "</div>"
      ],
      "text/plain": [
       "        weight  age  height size\n",
       "0           62   28   172.7   XL\n",
       "1           59   36   167.6    L\n",
       "2           61   34   165.1    M\n",
       "3           65   27   175.3    L\n",
       "4           62   45   172.7    M\n",
       "...        ...  ...     ...  ...\n",
       "119729      63   42   175.3    M\n",
       "119730      45   29   154.9    S\n",
       "119731      61   31   172.7    M\n",
       "119732      74   31   167.6   XL\n",
       "119733      70   30   167.6   XL\n",
       "\n",
       "[108399 rows x 4 columns]"
      ]
     },
     "execution_count": 26,
     "metadata": {},
     "output_type": "execute_result"
    }
   ],
   "source": [
    "data2 = data1.drop(outlier_df.index, axis=0)\n",
    "data2     # Data without outliers"
   ]
  },
  {
   "cell_type": "code",
   "execution_count": 27,
   "id": "cddbed4c",
   "metadata": {
    "ExecuteTime": {
     "end_time": "2021-09-14T16:56:44.433063Z",
     "start_time": "2021-09-14T16:56:43.962959Z"
    }
   },
   "outputs": [
    {
     "name": "stdout",
     "output_type": "stream",
     "text": [
      "Export completed------------------------------------\n"
     ]
    }
   ],
   "source": [
    "# Export to excel\n",
    "data2.to_csv('../data/data2.csv')\n",
    "print('Export completed------------------------------------')"
   ]
  },
  {
   "cell_type": "markdown",
   "id": "4e31ae73",
   "metadata": {},
   "source": [
    "### Remove Outliers by Size"
   ]
  },
  {
   "cell_type": "code",
   "execution_count": 28,
   "id": "7a6a567e",
   "metadata": {
    "ExecuteTime": {
     "end_time": "2021-09-14T16:56:44.527642Z",
     "start_time": "2021-09-14T16:56:44.436064Z"
    }
   },
   "outputs": [
    {
     "name": "stderr",
     "output_type": "stream",
     "text": [
      "<ipython-input-28-9702926857da>:6: FutureWarning: Automatic reindexing on DataFrame vs Series comparisons is deprecated and will raise ValueError in a future version.  Do `left, right = left.align(right, axis=1, copy=False)` before e.g. `left == right`\n",
      "  condition = (df < q1 - 1.5 * IQR) | (df > q3 + 1.5 * IQR)\n",
      "<ipython-input-28-9702926857da>:6: FutureWarning: Automatic reindexing on DataFrame vs Series comparisons is deprecated and will raise ValueError in a future version.  Do `left, right = left.align(right, axis=1, copy=False)` before e.g. `left == right`\n",
      "  condition = (df < q1 - 1.5 * IQR) | (df > q3 + 1.5 * IQR)\n"
     ]
    }
   ],
   "source": [
    "# Define function to remove outlier\n",
    "def remove_outliers(df):\n",
    "    q1 = df.quantile(0.25)\n",
    "    q3 = df.quantile(0.75)\n",
    "    IQR = q3 - q1\n",
    "    condition = (df < q1 - 1.5 * IQR) | (df > q3 + 1.5 * IQR)\n",
    "    condition = condition.any(axis=1)   # True: outliers\n",
    "    outlier_index = df[condition].index\n",
    "    result = df.drop(outlier_index, axis=0)\n",
    "    return result\n",
    "\n",
    "if __name__ == '__main__':      # Test the function\n",
    "    remove_outliers(data2)"
   ]
  },
  {
   "cell_type": "code",
   "execution_count": 29,
   "id": "3d9ac8fa",
   "metadata": {
    "ExecuteTime": {
     "end_time": "2021-09-14T16:56:44.814705Z",
     "start_time": "2021-09-14T16:56:44.530643Z"
    }
   },
   "outputs": [
    {
     "name": "stderr",
     "output_type": "stream",
     "text": [
      "<ipython-input-28-9702926857da>:6: FutureWarning: Automatic reindexing on DataFrame vs Series comparisons is deprecated and will raise ValueError in a future version.  Do `left, right = left.align(right, axis=1, copy=False)` before e.g. `left == right`\n",
      "  condition = (df < q1 - 1.5 * IQR) | (df > q3 + 1.5 * IQR)\n",
      "<ipython-input-28-9702926857da>:6: FutureWarning: Automatic reindexing on DataFrame vs Series comparisons is deprecated and will raise ValueError in a future version.  Do `left, right = left.align(right, axis=1, copy=False)` before e.g. `left == right`\n",
      "  condition = (df < q1 - 1.5 * IQR) | (df > q3 + 1.5 * IQR)\n",
      "<ipython-input-28-9702926857da>:6: FutureWarning: Automatic reindexing on DataFrame vs Series comparisons is deprecated and will raise ValueError in a future version.  Do `left, right = left.align(right, axis=1, copy=False)` before e.g. `left == right`\n",
      "  condition = (df < q1 - 1.5 * IQR) | (df > q3 + 1.5 * IQR)\n",
      "<ipython-input-28-9702926857da>:6: FutureWarning: Automatic reindexing on DataFrame vs Series comparisons is deprecated and will raise ValueError in a future version.  Do `left, right = left.align(right, axis=1, copy=False)` before e.g. `left == right`\n",
      "  condition = (df < q1 - 1.5 * IQR) | (df > q3 + 1.5 * IQR)\n",
      "<ipython-input-28-9702926857da>:6: FutureWarning: Automatic reindexing on DataFrame vs Series comparisons is deprecated and will raise ValueError in a future version.  Do `left, right = left.align(right, axis=1, copy=False)` before e.g. `left == right`\n",
      "  condition = (df < q1 - 1.5 * IQR) | (df > q3 + 1.5 * IQR)\n",
      "<ipython-input-28-9702926857da>:6: FutureWarning: Automatic reindexing on DataFrame vs Series comparisons is deprecated and will raise ValueError in a future version.  Do `left, right = left.align(right, axis=1, copy=False)` before e.g. `left == right`\n",
      "  condition = (df < q1 - 1.5 * IQR) | (df > q3 + 1.5 * IQR)\n",
      "<ipython-input-28-9702926857da>:6: FutureWarning: Automatic reindexing on DataFrame vs Series comparisons is deprecated and will raise ValueError in a future version.  Do `left, right = left.align(right, axis=1, copy=False)` before e.g. `left == right`\n",
      "  condition = (df < q1 - 1.5 * IQR) | (df > q3 + 1.5 * IQR)\n",
      "<ipython-input-28-9702926857da>:6: FutureWarning: Automatic reindexing on DataFrame vs Series comparisons is deprecated and will raise ValueError in a future version.  Do `left, right = left.align(right, axis=1, copy=False)` before e.g. `left == right`\n",
      "  condition = (df < q1 - 1.5 * IQR) | (df > q3 + 1.5 * IQR)\n",
      "<ipython-input-28-9702926857da>:6: FutureWarning: Automatic reindexing on DataFrame vs Series comparisons is deprecated and will raise ValueError in a future version.  Do `left, right = left.align(right, axis=1, copy=False)` before e.g. `left == right`\n",
      "  condition = (df < q1 - 1.5 * IQR) | (df > q3 + 1.5 * IQR)\n",
      "<ipython-input-28-9702926857da>:6: FutureWarning: Automatic reindexing on DataFrame vs Series comparisons is deprecated and will raise ValueError in a future version.  Do `left, right = left.align(right, axis=1, copy=False)` before e.g. `left == right`\n",
      "  condition = (df < q1 - 1.5 * IQR) | (df > q3 + 1.5 * IQR)\n",
      "<ipython-input-28-9702926857da>:6: FutureWarning: Automatic reindexing on DataFrame vs Series comparisons is deprecated and will raise ValueError in a future version.  Do `left, right = left.align(right, axis=1, copy=False)` before e.g. `left == right`\n",
      "  condition = (df < q1 - 1.5 * IQR) | (df > q3 + 1.5 * IQR)\n",
      "<ipython-input-28-9702926857da>:6: FutureWarning: Automatic reindexing on DataFrame vs Series comparisons is deprecated and will raise ValueError in a future version.  Do `left, right = left.align(right, axis=1, copy=False)` before e.g. `left == right`\n",
      "  condition = (df < q1 - 1.5 * IQR) | (df > q3 + 1.5 * IQR)\n",
      "<ipython-input-28-9702926857da>:6: FutureWarning: Automatic reindexing on DataFrame vs Series comparisons is deprecated and will raise ValueError in a future version.  Do `left, right = left.align(right, axis=1, copy=False)` before e.g. `left == right`\n",
      "  condition = (df < q1 - 1.5 * IQR) | (df > q3 + 1.5 * IQR)\n",
      "<ipython-input-28-9702926857da>:6: FutureWarning: Automatic reindexing on DataFrame vs Series comparisons is deprecated and will raise ValueError in a future version.  Do `left, right = left.align(right, axis=1, copy=False)` before e.g. `left == right`\n",
      "  condition = (df < q1 - 1.5 * IQR) | (df > q3 + 1.5 * IQR)\n"
     ]
    },
    {
     "data": {
      "text/html": [
       "<div>\n",
       "<style scoped>\n",
       "    .dataframe tbody tr th:only-of-type {\n",
       "        vertical-align: middle;\n",
       "    }\n",
       "\n",
       "    .dataframe tbody tr th {\n",
       "        vertical-align: top;\n",
       "    }\n",
       "\n",
       "    .dataframe thead th {\n",
       "        text-align: right;\n",
       "    }\n",
       "</style>\n",
       "<table border=\"1\" class=\"dataframe\">\n",
       "  <thead>\n",
       "    <tr style=\"text-align: right;\">\n",
       "      <th></th>\n",
       "      <th>weight</th>\n",
       "      <th>age</th>\n",
       "      <th>height</th>\n",
       "      <th>size</th>\n",
       "    </tr>\n",
       "  </thead>\n",
       "  <tbody>\n",
       "    <tr>\n",
       "      <th>1</th>\n",
       "      <td>59</td>\n",
       "      <td>36</td>\n",
       "      <td>167.6</td>\n",
       "      <td>L</td>\n",
       "    </tr>\n",
       "    <tr>\n",
       "      <th>3</th>\n",
       "      <td>65</td>\n",
       "      <td>27</td>\n",
       "      <td>175.3</td>\n",
       "      <td>L</td>\n",
       "    </tr>\n",
       "    <tr>\n",
       "      <th>12</th>\n",
       "      <td>64</td>\n",
       "      <td>26</td>\n",
       "      <td>165.1</td>\n",
       "      <td>L</td>\n",
       "    </tr>\n",
       "    <tr>\n",
       "      <th>14</th>\n",
       "      <td>65</td>\n",
       "      <td>33</td>\n",
       "      <td>165.1</td>\n",
       "      <td>L</td>\n",
       "    </tr>\n",
       "    <tr>\n",
       "      <th>15</th>\n",
       "      <td>63</td>\n",
       "      <td>30</td>\n",
       "      <td>167.6</td>\n",
       "      <td>L</td>\n",
       "    </tr>\n",
       "    <tr>\n",
       "      <th>...</th>\n",
       "      <td>...</td>\n",
       "      <td>...</td>\n",
       "      <td>...</td>\n",
       "      <td>...</td>\n",
       "    </tr>\n",
       "    <tr>\n",
       "      <th>119692</th>\n",
       "      <td>76</td>\n",
       "      <td>30</td>\n",
       "      <td>167.6</td>\n",
       "      <td>XXXL</td>\n",
       "    </tr>\n",
       "    <tr>\n",
       "      <th>119707</th>\n",
       "      <td>72</td>\n",
       "      <td>44</td>\n",
       "      <td>162.6</td>\n",
       "      <td>XXXL</td>\n",
       "    </tr>\n",
       "    <tr>\n",
       "      <th>119720</th>\n",
       "      <td>58</td>\n",
       "      <td>35</td>\n",
       "      <td>167.6</td>\n",
       "      <td>XXXL</td>\n",
       "    </tr>\n",
       "    <tr>\n",
       "      <th>119721</th>\n",
       "      <td>62</td>\n",
       "      <td>40</td>\n",
       "      <td>160.0</td>\n",
       "      <td>XXXL</td>\n",
       "    </tr>\n",
       "    <tr>\n",
       "      <th>119727</th>\n",
       "      <td>68</td>\n",
       "      <td>28</td>\n",
       "      <td>170.2</td>\n",
       "      <td>XXXL</td>\n",
       "    </tr>\n",
       "  </tbody>\n",
       "</table>\n",
       "<p>104928 rows × 4 columns</p>\n",
       "</div>"
      ],
      "text/plain": [
       "        weight  age  height  size\n",
       "1           59   36   167.6     L\n",
       "3           65   27   175.3     L\n",
       "12          64   26   165.1     L\n",
       "14          65   33   165.1     L\n",
       "15          63   30   167.6     L\n",
       "...        ...  ...     ...   ...\n",
       "119692      76   30   167.6  XXXL\n",
       "119707      72   44   162.6  XXXL\n",
       "119720      58   35   167.6  XXXL\n",
       "119721      62   40   160.0  XXXL\n",
       "119727      68   28   170.2  XXXL\n",
       "\n",
       "[104928 rows x 4 columns]"
      ]
     },
     "execution_count": 29,
     "metadata": {},
     "output_type": "execute_result"
    }
   ],
   "source": [
    "# Groupby & apply the function above\n",
    "df = data2.groupby(['size']).apply(lambda x: remove_outliers(x))\n",
    "data3 = df.set_index(df.index.get_level_values(1))      # Remove multi-index\n",
    "data3"
   ]
  },
  {
   "cell_type": "code",
   "execution_count": 30,
   "id": "5eab1cfb",
   "metadata": {
    "ExecuteTime": {
     "end_time": "2021-09-14T16:56:45.257584Z",
     "start_time": "2021-09-14T16:56:44.816706Z"
    }
   },
   "outputs": [
    {
     "name": "stdout",
     "output_type": "stream",
     "text": [
      "Export completed-------------------------------------------\n"
     ]
    }
   ],
   "source": [
    "# Export to csv\n",
    "data3.to_csv('../data/data3.csv')\n",
    "print('Export completed-------------------------------------------')"
   ]
  },
  {
   "cell_type": "code",
   "execution_count": 31,
   "id": "6effb401",
   "metadata": {
    "ExecuteTime": {
     "end_time": "2021-09-14T16:56:45.305552Z",
     "start_time": "2021-09-14T16:56:45.259588Z"
    }
   },
   "outputs": [
    {
     "data": {
      "text/html": [
       "<div>\n",
       "<style scoped>\n",
       "    .dataframe tbody tr th:only-of-type {\n",
       "        vertical-align: middle;\n",
       "    }\n",
       "\n",
       "    .dataframe tbody tr th {\n",
       "        vertical-align: top;\n",
       "    }\n",
       "\n",
       "    .dataframe thead th {\n",
       "        text-align: right;\n",
       "    }\n",
       "</style>\n",
       "<table border=\"1\" class=\"dataframe\">\n",
       "  <thead>\n",
       "    <tr style=\"text-align: right;\">\n",
       "      <th></th>\n",
       "      <th>weight</th>\n",
       "      <th>age</th>\n",
       "      <th>height</th>\n",
       "    </tr>\n",
       "  </thead>\n",
       "  <tbody>\n",
       "    <tr>\n",
       "      <th>count</th>\n",
       "      <td>104928.000000</td>\n",
       "      <td>104928.000000</td>\n",
       "      <td>104928.000000</td>\n",
       "    </tr>\n",
       "    <tr>\n",
       "      <th>mean</th>\n",
       "      <td>60.843388</td>\n",
       "      <td>32.721523</td>\n",
       "      <td>165.716827</td>\n",
       "    </tr>\n",
       "    <tr>\n",
       "      <th>std</th>\n",
       "      <td>7.995893</td>\n",
       "      <td>5.913624</td>\n",
       "      <td>6.559870</td>\n",
       "    </tr>\n",
       "    <tr>\n",
       "      <th>min</th>\n",
       "      <td>41.000000</td>\n",
       "      <td>20.000000</td>\n",
       "      <td>144.800000</td>\n",
       "    </tr>\n",
       "    <tr>\n",
       "      <th>25%</th>\n",
       "      <td>55.000000</td>\n",
       "      <td>29.000000</td>\n",
       "      <td>160.000000</td>\n",
       "    </tr>\n",
       "    <tr>\n",
       "      <th>50%</th>\n",
       "      <td>61.000000</td>\n",
       "      <td>32.000000</td>\n",
       "      <td>165.100000</td>\n",
       "    </tr>\n",
       "    <tr>\n",
       "      <th>75%</th>\n",
       "      <td>65.000000</td>\n",
       "      <td>36.000000</td>\n",
       "      <td>170.200000</td>\n",
       "    </tr>\n",
       "    <tr>\n",
       "      <th>max</th>\n",
       "      <td>85.000000</td>\n",
       "      <td>49.000000</td>\n",
       "      <td>185.400000</td>\n",
       "    </tr>\n",
       "  </tbody>\n",
       "</table>\n",
       "</div>"
      ],
      "text/plain": [
       "              weight            age         height\n",
       "count  104928.000000  104928.000000  104928.000000\n",
       "mean       60.843388      32.721523     165.716827\n",
       "std         7.995893       5.913624       6.559870\n",
       "min        41.000000      20.000000     144.800000\n",
       "25%        55.000000      29.000000     160.000000\n",
       "50%        61.000000      32.000000     165.100000\n",
       "75%        65.000000      36.000000     170.200000\n",
       "max        85.000000      49.000000     185.400000"
      ]
     },
     "execution_count": 31,
     "metadata": {},
     "output_type": "execute_result"
    }
   ],
   "source": [
    "data3.describe()"
   ]
  },
  {
   "cell_type": "markdown",
   "id": "cc8fe05e",
   "metadata": {},
   "source": [
    "## Explore Data"
   ]
  },
  {
   "cell_type": "code",
   "execution_count": 32,
   "id": "e083ee4b",
   "metadata": {
    "ExecuteTime": {
     "end_time": "2021-09-14T16:56:45.336542Z",
     "start_time": "2021-09-14T16:56:45.308536Z"
    }
   },
   "outputs": [
    {
     "data": {
      "text/plain": [
       "array(['XL', 'L', 'M', 'S', 'XXS', 'XXXL', 'XXL'], dtype=object)"
      ]
     },
     "execution_count": 32,
     "metadata": {},
     "output_type": "execute_result"
    }
   ],
   "source": [
    "# Check what sizes there are\n",
    "data1['size'].unique()     # XXS ~ XXXL withoug XS"
   ]
  },
  {
   "cell_type": "code",
   "execution_count": 33,
   "id": "e866fcb0",
   "metadata": {
    "ExecuteTime": {
     "end_time": "2021-09-14T16:56:45.368550Z",
     "start_time": "2021-09-14T16:56:45.339546Z"
    }
   },
   "outputs": [
    {
     "data": {
      "text/plain": [
       "M       29191\n",
       "S       21515\n",
       "XXXL    20809\n",
       "XL      18785\n",
       "L       17249\n",
       "XXS      9760\n",
       "XXL        66\n",
       "Name: size, dtype: int64"
      ]
     },
     "execution_count": 33,
     "metadata": {},
     "output_type": "execute_result"
    }
   ],
   "source": [
    "# Check data balance\n",
    "data1['size'].value_counts()   # Very small number in XXL"
   ]
  },
  {
   "cell_type": "markdown",
   "id": "ef3a1fc5",
   "metadata": {},
   "source": [
    "## Train/Test Split"
   ]
  },
  {
   "cell_type": "code",
   "execution_count": 34,
   "id": "c2c5a6ca",
   "metadata": {
    "ExecuteTime": {
     "end_time": "2021-09-14T16:56:47.491410Z",
     "start_time": "2021-09-14T16:56:45.371550Z"
    }
   },
   "outputs": [],
   "source": [
    "from sklearn.model_selection import train_test_split"
   ]
  },
  {
   "cell_type": "code",
   "execution_count": 37,
   "id": "20a13331",
   "metadata": {
    "ExecuteTime": {
     "end_time": "2021-09-14T16:57:18.436512Z",
     "start_time": "2021-09-14T16:57:18.313825Z"
    }
   },
   "outputs": [
    {
     "data": {
      "text/html": [
       "<div>\n",
       "<style scoped>\n",
       "    .dataframe tbody tr th:only-of-type {\n",
       "        vertical-align: middle;\n",
       "    }\n",
       "\n",
       "    .dataframe tbody tr th {\n",
       "        vertical-align: top;\n",
       "    }\n",
       "\n",
       "    .dataframe thead th {\n",
       "        text-align: right;\n",
       "    }\n",
       "</style>\n",
       "<table border=\"1\" class=\"dataframe\">\n",
       "  <thead>\n",
       "    <tr style=\"text-align: right;\">\n",
       "      <th></th>\n",
       "      <th>weight</th>\n",
       "      <th>age</th>\n",
       "      <th>height</th>\n",
       "      <th>size</th>\n",
       "    </tr>\n",
       "  </thead>\n",
       "  <tbody>\n",
       "    <tr>\n",
       "      <th>119692</th>\n",
       "      <td>76</td>\n",
       "      <td>30</td>\n",
       "      <td>167.6</td>\n",
       "      <td>XXXL</td>\n",
       "    </tr>\n",
       "    <tr>\n",
       "      <th>119707</th>\n",
       "      <td>72</td>\n",
       "      <td>44</td>\n",
       "      <td>162.6</td>\n",
       "      <td>XXXL</td>\n",
       "    </tr>\n",
       "    <tr>\n",
       "      <th>119720</th>\n",
       "      <td>58</td>\n",
       "      <td>35</td>\n",
       "      <td>167.6</td>\n",
       "      <td>XXXL</td>\n",
       "    </tr>\n",
       "    <tr>\n",
       "      <th>119721</th>\n",
       "      <td>62</td>\n",
       "      <td>40</td>\n",
       "      <td>160.0</td>\n",
       "      <td>XXXL</td>\n",
       "    </tr>\n",
       "    <tr>\n",
       "      <th>119727</th>\n",
       "      <td>68</td>\n",
       "      <td>28</td>\n",
       "      <td>170.2</td>\n",
       "      <td>XXXL</td>\n",
       "    </tr>\n",
       "  </tbody>\n",
       "</table>\n",
       "</div>"
      ],
      "text/plain": [
       "        weight  age  height  size\n",
       "119692      76   30   167.6  XXXL\n",
       "119707      72   44   162.6  XXXL\n",
       "119720      58   35   167.6  XXXL\n",
       "119721      62   40   160.0  XXXL\n",
       "119727      68   28   170.2  XXXL"
      ]
     },
     "execution_count": 37,
     "metadata": {},
     "output_type": "execute_result"
    }
   ],
   "source": [
    "# Import data\n",
    "data = pd.read_csv('../data/data3.csv', index_col=0)\n",
    "data.tail()"
   ]
  },
  {
   "cell_type": "code",
   "execution_count": 38,
   "id": "1a6e1d77",
   "metadata": {
    "ExecuteTime": {
     "end_time": "2021-09-14T16:57:18.452372Z",
     "start_time": "2021-09-14T16:57:18.439364Z"
    }
   },
   "outputs": [],
   "source": [
    "X = data[['age', 'height', 'weight']]\n",
    "y = data['size']"
   ]
  },
  {
   "cell_type": "code",
   "execution_count": 39,
   "id": "caa84d4c",
   "metadata": {
    "ExecuteTime": {
     "end_time": "2021-09-14T16:57:18.500377Z",
     "start_time": "2021-09-14T16:57:18.456369Z"
    }
   },
   "outputs": [
    {
     "data": {
      "text/plain": [
       "((73449, 3), (31479,))"
      ]
     },
     "execution_count": 39,
     "metadata": {},
     "output_type": "execute_result"
    }
   ],
   "source": [
    "X_train, X_test, y_train, y_test = train_test_split(X, y, test_size=0.3, random_state=5)\n",
    "X_train.shape, y_test.shape"
   ]
  },
  {
   "cell_type": "markdown",
   "id": "595ab11f",
   "metadata": {},
   "source": [
    "## X data standardization"
   ]
  },
  {
   "cell_type": "code",
   "execution_count": 40,
   "id": "219769ec",
   "metadata": {
    "ExecuteTime": {
     "end_time": "2021-09-14T16:57:18.515382Z",
     "start_time": "2021-09-14T16:57:18.503380Z"
    }
   },
   "outputs": [],
   "source": [
    "from sklearn.preprocessing import StandardScaler"
   ]
  },
  {
   "cell_type": "code",
   "execution_count": 41,
   "id": "0a3d5d91",
   "metadata": {
    "ExecuteTime": {
     "end_time": "2021-09-14T16:57:18.547388Z",
     "start_time": "2021-09-14T16:57:18.518381Z"
    }
   },
   "outputs": [
    {
     "data": {
      "text/plain": [
       "array([[-0.80196453,  1.06632893,  0.89425032],\n",
       "       [ 0.54752799, -0.09407571, -0.60708781],\n",
       "       [-0.63327797, -0.09407571,  0.51891579],\n",
       "       ...,\n",
       "       [-0.80196453, -0.47578776, -0.35686479],\n",
       "       [ 1.39096081,  1.84502152,  0.51891579],\n",
       "       [ 1.05358768, -1.65146089, -0.85731083]])"
      ]
     },
     "execution_count": 41,
     "metadata": {},
     "output_type": "execute_result"
    }
   ],
   "source": [
    "# X_train: fit & transform\n",
    "scaler = StandardScaler()\n",
    "X_train_sc = scaler.fit_transform(X_train)\n",
    "X_train_sc"
   ]
  },
  {
   "cell_type": "code",
   "execution_count": 42,
   "id": "0cb112e6",
   "metadata": {
    "ExecuteTime": {
     "end_time": "2021-09-14T16:57:18.563394Z",
     "start_time": "2021-09-14T16:57:18.549388Z"
    }
   },
   "outputs": [
    {
     "data": {
      "text/plain": [
       "array([[-0.4645914 ,  1.46330947,  0.51891579],\n",
       "       [ 2.57176676,  2.22673357,  0.89425032],\n",
       "       [ 0.21015486, -1.65146089,  0.01846974],\n",
       "       ...,\n",
       "       [-0.80196453, -0.47578776, -1.73309141],\n",
       "       [-0.97065109,  1.46330947,  0.89425032],\n",
       "       [-0.29590484, -0.47578776,  0.01846974]])"
      ]
     },
     "execution_count": 42,
     "metadata": {},
     "output_type": "execute_result"
    }
   ],
   "source": [
    "# X_test: transform\n",
    "X_test_sc = scaler.transform(X_test)\n",
    "X_test_sc"
   ]
  },
  {
   "cell_type": "markdown",
   "id": "56514b02",
   "metadata": {},
   "source": [
    "## Logistic Regression"
   ]
  },
  {
   "cell_type": "code",
   "execution_count": 43,
   "id": "c66601cb",
   "metadata": {
    "ExecuteTime": {
     "end_time": "2021-09-14T16:57:18.659413Z",
     "start_time": "2021-09-14T16:57:18.566392Z"
    }
   },
   "outputs": [],
   "source": [
    "from sklearn.linear_model import LogisticRegression"
   ]
  },
  {
   "cell_type": "code",
   "execution_count": 44,
   "id": "e988caef",
   "metadata": {
    "ExecuteTime": {
     "end_time": "2021-09-14T16:57:19.785927Z",
     "start_time": "2021-09-14T16:57:18.664414Z"
    }
   },
   "outputs": [
    {
     "data": {
      "text/plain": [
       "LogisticRegression(solver='saga')"
      ]
     },
     "execution_count": 44,
     "metadata": {},
     "output_type": "execute_result"
    }
   ],
   "source": [
    "logi = LogisticRegression(solver='saga')    # multiclass solver needed\n",
    "logi.fit(X_train_sc, y_train)"
   ]
  },
  {
   "cell_type": "code",
   "execution_count": 45,
   "id": "0404660e",
   "metadata": {
    "ExecuteTime": {
     "end_time": "2021-09-14T16:57:19.925958Z",
     "start_time": "2021-09-14T16:57:19.789928Z"
    }
   },
   "outputs": [
    {
     "data": {
      "text/plain": [
       "0.5141522920041933"
      ]
     },
     "execution_count": 45,
     "metadata": {},
     "output_type": "execute_result"
    }
   ],
   "source": [
    "# Accuracy\n",
    "logi.score(X_test_sc, y_test)"
   ]
  },
  {
   "cell_type": "code",
   "execution_count": 46,
   "id": "3f132c2e",
   "metadata": {
    "ExecuteTime": {
     "end_time": "2021-09-14T16:57:21.188429Z",
     "start_time": "2021-09-14T16:57:19.928959Z"
    }
   },
   "outputs": [
    {
     "name": "stdout",
     "output_type": "stream",
     "text": [
      "              precision    recall  f1-score   support\n",
      "\n",
      "           L       0.37      0.14      0.20      4809\n",
      "           M       0.48      0.67      0.56      8262\n",
      "           S       0.50      0.50      0.50      5787\n",
      "          XL       0.43      0.47      0.45      5115\n",
      "         XXL       0.00      0.00      0.00        10\n",
      "         XXS       0.61      0.46      0.52      2722\n",
      "        XXXL       0.73      0.73      0.73      4774\n",
      "\n",
      "    accuracy                           0.51     31479\n",
      "   macro avg       0.44      0.42      0.42     31479\n",
      "weighted avg       0.51      0.51      0.50     31479\n",
      "\n"
     ]
    }
   ],
   "source": [
    "# Classification report\n",
    "from sklearn.metrics import classification_report\n",
    "\n",
    "print(classification_report(y_test, logi.predict(X_test_sc), zero_division=0))   # Due to the warning, zero_division is set"
   ]
  },
  {
   "cell_type": "markdown",
   "id": "cd65d7be",
   "metadata": {},
   "source": [
    "> **Accuracy: 50.4%, f1 score(weighted): 0.49**"
   ]
  },
  {
   "cell_type": "markdown",
   "id": "4aa59a19",
   "metadata": {},
   "source": [
    "The warning appears without zero_division, as there are some labels that appear in `y_test` but not in `y_pred`. The label can be found through processes as below, and it is `XXL`. References: https://stackoverflow.com/questions/43162506/undefinedmetricwarning-f-score-is-ill-defined-and-being-set-to-0-0-in-labels-wi"
   ]
  },
  {
   "cell_type": "code",
   "execution_count": 47,
   "id": "a627e502",
   "metadata": {
    "ExecuteTime": {
     "end_time": "2021-09-14T16:57:21.406052Z",
     "start_time": "2021-09-14T16:57:21.191430Z"
    }
   },
   "outputs": [
    {
     "data": {
      "text/plain": [
       "array([[ 670, 2274,  157, 1513,    0,    2,  193],\n",
       "       [ 540, 5515, 1466,  639,    0,   81,   21],\n",
       "       [  21, 2176, 2881,    1,    0,  708,    0],\n",
       "       [ 495, 1113,   55, 2388,    0,    0, 1064],\n",
       "       [   0,    2,    0,    4,    0,    0,    4],\n",
       "       [   0,  220, 1255,    0,    0, 1247,    0],\n",
       "       [ 103,  139,    0, 1048,    0,    0, 3484]], dtype=int64)"
      ]
     },
     "execution_count": 47,
     "metadata": {},
     "output_type": "execute_result"
    }
   ],
   "source": [
    "# Confusion matrix\n",
    "from sklearn.metrics import confusion_matrix\n",
    "\n",
    "confusion_matrix(y_test, logi.predict(X_test_sc))"
   ]
  },
  {
   "cell_type": "code",
   "execution_count": 48,
   "id": "229684c2",
   "metadata": {
    "ExecuteTime": {
     "end_time": "2021-09-14T16:57:21.421650Z",
     "start_time": "2021-09-14T16:57:21.408053Z"
    }
   },
   "outputs": [
    {
     "data": {
      "text/plain": [
       "array(['L', 'M', 'S', 'XL', 'XXL', 'XXS', 'XXXL'], dtype=object)"
      ]
     },
     "execution_count": 48,
     "metadata": {},
     "output_type": "execute_result"
    }
   ],
   "source": [
    "logi.classes_    # The order of labels above"
   ]
  },
  {
   "cell_type": "code",
   "execution_count": 49,
   "id": "585b414d",
   "metadata": {
    "ExecuteTime": {
     "end_time": "2021-09-14T16:57:21.467537Z",
     "start_time": "2021-09-14T16:57:21.423580Z"
    }
   },
   "outputs": [
    {
     "data": {
      "text/plain": [
       "M       11439\n",
       "S        5814\n",
       "XL       5593\n",
       "XXXL     4766\n",
       "XXS      2038\n",
       "L        1829\n",
       "dtype: int64"
      ]
     },
     "execution_count": 49,
     "metadata": {},
     "output_type": "execute_result"
    }
   ],
   "source": [
    "# y_pred\n",
    "pd.DataFrame(logi.predict(X_test_sc)).value_counts()"
   ]
  },
  {
   "cell_type": "code",
   "execution_count": 50,
   "id": "a1ee9da9",
   "metadata": {
    "ExecuteTime": {
     "end_time": "2021-09-14T16:57:21.498563Z",
     "start_time": "2021-09-14T16:57:21.469538Z"
    }
   },
   "outputs": [
    {
     "data": {
      "text/plain": [
       "{'XXL'}"
      ]
     },
     "execution_count": 50,
     "metadata": {},
     "output_type": "execute_result"
    }
   ],
   "source": [
    "set(y_test) - set(logi.predict(X_test_sc))"
   ]
  },
  {
   "cell_type": "markdown",
   "id": "076f3818",
   "metadata": {},
   "source": [
    "## Support Vector Machine"
   ]
  },
  {
   "cell_type": "code",
   "execution_count": 51,
   "id": "adf05b26",
   "metadata": {
    "ExecuteTime": {
     "end_time": "2021-09-14T16:57:21.514550Z",
     "start_time": "2021-09-14T16:57:21.500544Z"
    }
   },
   "outputs": [],
   "source": [
    "from sklearn.svm import SVC    # Support Vector Classification"
   ]
  },
  {
   "cell_type": "markdown",
   "id": "45559318",
   "metadata": {},
   "source": [
    "* C: the bigger, the harder margin\n",
    "* gamma: the bigger, the more overfitted"
   ]
  },
  {
   "cell_type": "code",
   "execution_count": 52,
   "id": "2fa5c7c0",
   "metadata": {
    "ExecuteTime": {
     "end_time": "2021-09-14T17:02:48.092594Z",
     "start_time": "2021-09-14T16:57:21.517548Z"
    }
   },
   "outputs": [
    {
     "data": {
      "text/plain": [
       "SVC()"
      ]
     },
     "execution_count": 52,
     "metadata": {},
     "output_type": "execute_result"
    }
   ],
   "source": [
    "svm = SVC()\n",
    "svm.fit(X_train_sc, y_train)   # Takes 3m"
   ]
  },
  {
   "cell_type": "code",
   "execution_count": 53,
   "id": "6218d911",
   "metadata": {
    "ExecuteTime": {
     "end_time": "2021-09-14T17:02:48.108091Z",
     "start_time": "2021-09-14T17:02:48.094577Z"
    }
   },
   "outputs": [
    {
     "data": {
      "text/plain": [
       "array(['L', 'M', 'S', 'XL', 'XXL', 'XXS', 'XXXL'], dtype=object)"
      ]
     },
     "execution_count": 53,
     "metadata": {},
     "output_type": "execute_result"
    }
   ],
   "source": [
    "# Explore trributes\n",
    "svm.classes_"
   ]
  },
  {
   "cell_type": "code",
   "execution_count": 54,
   "id": "5f82a70b",
   "metadata": {
    "ExecuteTime": {
     "end_time": "2021-09-14T17:02:48.155121Z",
     "start_time": "2021-09-14T17:02:48.112601Z"
    }
   },
   "outputs": [
    {
     "data": {
      "text/plain": [
       "0"
      ]
     },
     "execution_count": 54,
     "metadata": {},
     "output_type": "execute_result"
    }
   ],
   "source": [
    "svm.fit_status_    # Correctly fitted: 0"
   ]
  },
  {
   "cell_type": "code",
   "execution_count": 55,
   "id": "a17115f7",
   "metadata": {
    "ExecuteTime": {
     "end_time": "2021-09-14T17:02:48.171122Z",
     "start_time": "2021-09-14T17:02:48.159120Z"
    }
   },
   "outputs": [
    {
     "data": {
      "text/plain": [
       "66423"
      ]
     },
     "execution_count": 55,
     "metadata": {},
     "output_type": "execute_result"
    }
   ],
   "source": [
    "len(svm.support_)    # Indices of support vectors"
   ]
  },
  {
   "cell_type": "code",
   "execution_count": 56,
   "id": "c40d3e29",
   "metadata": {
    "ExecuteTime": {
     "end_time": "2021-09-14T17:02:48.187126Z",
     "start_time": "2021-09-14T17:02:48.175124Z"
    }
   },
   "outputs": [
    {
     "data": {
      "text/plain": [
       "array([[-0.80196453,  1.06632893,  0.89425032],\n",
       "       [-0.63327797,  0.68461688,  0.51891579],\n",
       "       [ 0.04146829,  0.68461688,  0.01846974],\n",
       "       ...,\n",
       "       [ 0.71621455,  1.06632893,  1.39469636],\n",
       "       [ 0.21015486, -0.47578776, -0.4819763 ],\n",
       "       [ 1.05358768, -0.09407571,  1.14447334]])"
      ]
     },
     "execution_count": 56,
     "metadata": {},
     "output_type": "execute_result"
    }
   ],
   "source": [
    "svm.support_vectors_"
   ]
  },
  {
   "cell_type": "code",
   "execution_count": 57,
   "id": "2b956bee",
   "metadata": {
    "ExecuteTime": {
     "end_time": "2021-09-14T17:02:48.203131Z",
     "start_time": "2021-09-14T17:02:48.191127Z"
    }
   },
   "outputs": [
    {
     "data": {
      "text/plain": [
       "(73449, 3)"
      ]
     },
     "execution_count": 57,
     "metadata": {},
     "output_type": "execute_result"
    }
   ],
   "source": [
    "svm.shape_fit_    # (dimensions of training vector X, features)"
   ]
  },
  {
   "cell_type": "code",
   "execution_count": 58,
   "id": "6abdeeb7",
   "metadata": {
    "ExecuteTime": {
     "end_time": "2021-09-14T17:07:56.728719Z",
     "start_time": "2021-09-14T17:02:48.206131Z"
    }
   },
   "outputs": [
    {
     "data": {
      "text/plain": [
       "0.5141522920041933"
      ]
     },
     "execution_count": 58,
     "metadata": {},
     "output_type": "execute_result"
    }
   ],
   "source": [
    "# Evaluation\n",
    "svm.score(X_test_sc, y_test)"
   ]
  },
  {
   "cell_type": "markdown",
   "id": "7cc00206",
   "metadata": {},
   "source": [
    "### Grid Search for Hyperparameters"
   ]
  },
  {
   "cell_type": "code",
   "execution_count": 59,
   "id": "8e505884",
   "metadata": {
    "ExecuteTime": {
     "end_time": "2021-09-14T17:07:56.760431Z",
     "start_time": "2021-09-14T17:07:56.736706Z"
    }
   },
   "outputs": [],
   "source": [
    "from sklearn.model_selection import GridSearchCV"
   ]
  },
  {
   "cell_type": "markdown",
   "id": "970e7f02",
   "metadata": {},
   "source": [
    "#### Grid Search Model 1"
   ]
  },
  {
   "cell_type": "code",
   "execution_count": 60,
   "id": "a704ceea",
   "metadata": {
    "ExecuteTime": {
     "end_time": "2021-09-14T17:07:56.790439Z",
     "start_time": "2021-09-14T17:07:56.769434Z"
    }
   },
   "outputs": [],
   "source": [
    "svm = SVC()\n",
    "params = {'kernel':['poly', 'rbf'], 'C':[0.1, 1], 'gamma':[0.5, 1]} \n",
    "clf = GridSearchCV(svm, params, cv=5)"
   ]
  },
  {
   "cell_type": "code",
   "execution_count": 61,
   "id": "94365471",
   "metadata": {
    "ExecuteTime": {
     "end_time": "2021-09-15T00:16:43.067499Z",
     "start_time": "2021-09-14T17:07:56.793439Z"
    }
   },
   "outputs": [
    {
     "ename": "KeyboardInterrupt",
     "evalue": "",
     "output_type": "error",
     "traceback": [
      "\u001b[1;31m---------------------------------------------------------------------------\u001b[0m",
      "\u001b[1;31mKeyboardInterrupt\u001b[0m                         Traceback (most recent call last)",
      "\u001b[1;32m<ipython-input-61-a8140101a2aa>\u001b[0m in \u001b[0;36m<module>\u001b[1;34m\u001b[0m\n\u001b[1;32m----> 1\u001b[1;33m \u001b[0mclf\u001b[0m\u001b[1;33m.\u001b[0m\u001b[0mfit\u001b[0m\u001b[1;33m(\u001b[0m\u001b[0mX_train_sc\u001b[0m\u001b[1;33m,\u001b[0m \u001b[0my_train\u001b[0m\u001b[1;33m)\u001b[0m\u001b[1;33m\u001b[0m\u001b[1;33m\u001b[0m\u001b[0m\n\u001b[0m",
      "\u001b[1;32m~\\anaconda3\\lib\\site-packages\\sklearn\\utils\\validation.py\u001b[0m in \u001b[0;36minner_f\u001b[1;34m(*args, **kwargs)\u001b[0m\n\u001b[0;32m     61\u001b[0m             \u001b[0mextra_args\u001b[0m \u001b[1;33m=\u001b[0m \u001b[0mlen\u001b[0m\u001b[1;33m(\u001b[0m\u001b[0margs\u001b[0m\u001b[1;33m)\u001b[0m \u001b[1;33m-\u001b[0m \u001b[0mlen\u001b[0m\u001b[1;33m(\u001b[0m\u001b[0mall_args\u001b[0m\u001b[1;33m)\u001b[0m\u001b[1;33m\u001b[0m\u001b[1;33m\u001b[0m\u001b[0m\n\u001b[0;32m     62\u001b[0m             \u001b[1;32mif\u001b[0m \u001b[0mextra_args\u001b[0m \u001b[1;33m<=\u001b[0m \u001b[1;36m0\u001b[0m\u001b[1;33m:\u001b[0m\u001b[1;33m\u001b[0m\u001b[1;33m\u001b[0m\u001b[0m\n\u001b[1;32m---> 63\u001b[1;33m                 \u001b[1;32mreturn\u001b[0m \u001b[0mf\u001b[0m\u001b[1;33m(\u001b[0m\u001b[1;33m*\u001b[0m\u001b[0margs\u001b[0m\u001b[1;33m,\u001b[0m \u001b[1;33m**\u001b[0m\u001b[0mkwargs\u001b[0m\u001b[1;33m)\u001b[0m\u001b[1;33m\u001b[0m\u001b[1;33m\u001b[0m\u001b[0m\n\u001b[0m\u001b[0;32m     64\u001b[0m \u001b[1;33m\u001b[0m\u001b[0m\n\u001b[0;32m     65\u001b[0m             \u001b[1;31m# extra_args > 0\u001b[0m\u001b[1;33m\u001b[0m\u001b[1;33m\u001b[0m\u001b[1;33m\u001b[0m\u001b[0m\n",
      "\u001b[1;32m~\\anaconda3\\lib\\site-packages\\sklearn\\model_selection\\_search.py\u001b[0m in \u001b[0;36mfit\u001b[1;34m(self, X, y, groups, **fit_params)\u001b[0m\n\u001b[0;32m    839\u001b[0m                 \u001b[1;32mreturn\u001b[0m \u001b[0mresults\u001b[0m\u001b[1;33m\u001b[0m\u001b[1;33m\u001b[0m\u001b[0m\n\u001b[0;32m    840\u001b[0m \u001b[1;33m\u001b[0m\u001b[0m\n\u001b[1;32m--> 841\u001b[1;33m             \u001b[0mself\u001b[0m\u001b[1;33m.\u001b[0m\u001b[0m_run_search\u001b[0m\u001b[1;33m(\u001b[0m\u001b[0mevaluate_candidates\u001b[0m\u001b[1;33m)\u001b[0m\u001b[1;33m\u001b[0m\u001b[1;33m\u001b[0m\u001b[0m\n\u001b[0m\u001b[0;32m    842\u001b[0m \u001b[1;33m\u001b[0m\u001b[0m\n\u001b[0;32m    843\u001b[0m             \u001b[1;31m# multimetric is determined here because in the case of a callable\u001b[0m\u001b[1;33m\u001b[0m\u001b[1;33m\u001b[0m\u001b[1;33m\u001b[0m\u001b[0m\n",
      "\u001b[1;32m~\\anaconda3\\lib\\site-packages\\sklearn\\model_selection\\_search.py\u001b[0m in \u001b[0;36m_run_search\u001b[1;34m(self, evaluate_candidates)\u001b[0m\n\u001b[0;32m   1286\u001b[0m     \u001b[1;32mdef\u001b[0m \u001b[0m_run_search\u001b[0m\u001b[1;33m(\u001b[0m\u001b[0mself\u001b[0m\u001b[1;33m,\u001b[0m \u001b[0mevaluate_candidates\u001b[0m\u001b[1;33m)\u001b[0m\u001b[1;33m:\u001b[0m\u001b[1;33m\u001b[0m\u001b[1;33m\u001b[0m\u001b[0m\n\u001b[0;32m   1287\u001b[0m         \u001b[1;34m\"\"\"Search all candidates in param_grid\"\"\"\u001b[0m\u001b[1;33m\u001b[0m\u001b[1;33m\u001b[0m\u001b[0m\n\u001b[1;32m-> 1288\u001b[1;33m         \u001b[0mevaluate_candidates\u001b[0m\u001b[1;33m(\u001b[0m\u001b[0mParameterGrid\u001b[0m\u001b[1;33m(\u001b[0m\u001b[0mself\u001b[0m\u001b[1;33m.\u001b[0m\u001b[0mparam_grid\u001b[0m\u001b[1;33m)\u001b[0m\u001b[1;33m)\u001b[0m\u001b[1;33m\u001b[0m\u001b[1;33m\u001b[0m\u001b[0m\n\u001b[0m\u001b[0;32m   1289\u001b[0m \u001b[1;33m\u001b[0m\u001b[0m\n\u001b[0;32m   1290\u001b[0m \u001b[1;33m\u001b[0m\u001b[0m\n",
      "\u001b[1;32m~\\anaconda3\\lib\\site-packages\\sklearn\\model_selection\\_search.py\u001b[0m in \u001b[0;36mevaluate_candidates\u001b[1;34m(candidate_params, cv, more_results)\u001b[0m\n\u001b[0;32m    793\u001b[0m                               n_splits, n_candidates, n_candidates * n_splits))\n\u001b[0;32m    794\u001b[0m \u001b[1;33m\u001b[0m\u001b[0m\n\u001b[1;32m--> 795\u001b[1;33m                 out = parallel(delayed(_fit_and_score)(clone(base_estimator),\n\u001b[0m\u001b[0;32m    796\u001b[0m                                                        \u001b[0mX\u001b[0m\u001b[1;33m,\u001b[0m \u001b[0my\u001b[0m\u001b[1;33m,\u001b[0m\u001b[1;33m\u001b[0m\u001b[1;33m\u001b[0m\u001b[0m\n\u001b[0;32m    797\u001b[0m                                                        \u001b[0mtrain\u001b[0m\u001b[1;33m=\u001b[0m\u001b[0mtrain\u001b[0m\u001b[1;33m,\u001b[0m \u001b[0mtest\u001b[0m\u001b[1;33m=\u001b[0m\u001b[0mtest\u001b[0m\u001b[1;33m,\u001b[0m\u001b[1;33m\u001b[0m\u001b[1;33m\u001b[0m\u001b[0m\n",
      "\u001b[1;32m~\\anaconda3\\lib\\site-packages\\joblib\\parallel.py\u001b[0m in \u001b[0;36m__call__\u001b[1;34m(self, iterable)\u001b[0m\n\u001b[0;32m   1042\u001b[0m                 \u001b[0mself\u001b[0m\u001b[1;33m.\u001b[0m\u001b[0m_iterating\u001b[0m \u001b[1;33m=\u001b[0m \u001b[0mself\u001b[0m\u001b[1;33m.\u001b[0m\u001b[0m_original_iterator\u001b[0m \u001b[1;32mis\u001b[0m \u001b[1;32mnot\u001b[0m \u001b[1;32mNone\u001b[0m\u001b[1;33m\u001b[0m\u001b[1;33m\u001b[0m\u001b[0m\n\u001b[0;32m   1043\u001b[0m \u001b[1;33m\u001b[0m\u001b[0m\n\u001b[1;32m-> 1044\u001b[1;33m             \u001b[1;32mwhile\u001b[0m \u001b[0mself\u001b[0m\u001b[1;33m.\u001b[0m\u001b[0mdispatch_one_batch\u001b[0m\u001b[1;33m(\u001b[0m\u001b[0miterator\u001b[0m\u001b[1;33m)\u001b[0m\u001b[1;33m:\u001b[0m\u001b[1;33m\u001b[0m\u001b[1;33m\u001b[0m\u001b[0m\n\u001b[0m\u001b[0;32m   1045\u001b[0m                 \u001b[1;32mpass\u001b[0m\u001b[1;33m\u001b[0m\u001b[1;33m\u001b[0m\u001b[0m\n\u001b[0;32m   1046\u001b[0m \u001b[1;33m\u001b[0m\u001b[0m\n",
      "\u001b[1;32m~\\anaconda3\\lib\\site-packages\\joblib\\parallel.py\u001b[0m in \u001b[0;36mdispatch_one_batch\u001b[1;34m(self, iterator)\u001b[0m\n\u001b[0;32m    857\u001b[0m                 \u001b[1;32mreturn\u001b[0m \u001b[1;32mFalse\u001b[0m\u001b[1;33m\u001b[0m\u001b[1;33m\u001b[0m\u001b[0m\n\u001b[0;32m    858\u001b[0m             \u001b[1;32melse\u001b[0m\u001b[1;33m:\u001b[0m\u001b[1;33m\u001b[0m\u001b[1;33m\u001b[0m\u001b[0m\n\u001b[1;32m--> 859\u001b[1;33m                 \u001b[0mself\u001b[0m\u001b[1;33m.\u001b[0m\u001b[0m_dispatch\u001b[0m\u001b[1;33m(\u001b[0m\u001b[0mtasks\u001b[0m\u001b[1;33m)\u001b[0m\u001b[1;33m\u001b[0m\u001b[1;33m\u001b[0m\u001b[0m\n\u001b[0m\u001b[0;32m    860\u001b[0m                 \u001b[1;32mreturn\u001b[0m \u001b[1;32mTrue\u001b[0m\u001b[1;33m\u001b[0m\u001b[1;33m\u001b[0m\u001b[0m\n\u001b[0;32m    861\u001b[0m \u001b[1;33m\u001b[0m\u001b[0m\n",
      "\u001b[1;32m~\\anaconda3\\lib\\site-packages\\joblib\\parallel.py\u001b[0m in \u001b[0;36m_dispatch\u001b[1;34m(self, batch)\u001b[0m\n\u001b[0;32m    775\u001b[0m         \u001b[1;32mwith\u001b[0m \u001b[0mself\u001b[0m\u001b[1;33m.\u001b[0m\u001b[0m_lock\u001b[0m\u001b[1;33m:\u001b[0m\u001b[1;33m\u001b[0m\u001b[1;33m\u001b[0m\u001b[0m\n\u001b[0;32m    776\u001b[0m             \u001b[0mjob_idx\u001b[0m \u001b[1;33m=\u001b[0m \u001b[0mlen\u001b[0m\u001b[1;33m(\u001b[0m\u001b[0mself\u001b[0m\u001b[1;33m.\u001b[0m\u001b[0m_jobs\u001b[0m\u001b[1;33m)\u001b[0m\u001b[1;33m\u001b[0m\u001b[1;33m\u001b[0m\u001b[0m\n\u001b[1;32m--> 777\u001b[1;33m             \u001b[0mjob\u001b[0m \u001b[1;33m=\u001b[0m \u001b[0mself\u001b[0m\u001b[1;33m.\u001b[0m\u001b[0m_backend\u001b[0m\u001b[1;33m.\u001b[0m\u001b[0mapply_async\u001b[0m\u001b[1;33m(\u001b[0m\u001b[0mbatch\u001b[0m\u001b[1;33m,\u001b[0m \u001b[0mcallback\u001b[0m\u001b[1;33m=\u001b[0m\u001b[0mcb\u001b[0m\u001b[1;33m)\u001b[0m\u001b[1;33m\u001b[0m\u001b[1;33m\u001b[0m\u001b[0m\n\u001b[0m\u001b[0;32m    778\u001b[0m             \u001b[1;31m# A job can complete so quickly than its callback is\u001b[0m\u001b[1;33m\u001b[0m\u001b[1;33m\u001b[0m\u001b[1;33m\u001b[0m\u001b[0m\n\u001b[0;32m    779\u001b[0m             \u001b[1;31m# called before we get here, causing self._jobs to\u001b[0m\u001b[1;33m\u001b[0m\u001b[1;33m\u001b[0m\u001b[1;33m\u001b[0m\u001b[0m\n",
      "\u001b[1;32m~\\anaconda3\\lib\\site-packages\\joblib\\_parallel_backends.py\u001b[0m in \u001b[0;36mapply_async\u001b[1;34m(self, func, callback)\u001b[0m\n\u001b[0;32m    206\u001b[0m     \u001b[1;32mdef\u001b[0m \u001b[0mapply_async\u001b[0m\u001b[1;33m(\u001b[0m\u001b[0mself\u001b[0m\u001b[1;33m,\u001b[0m \u001b[0mfunc\u001b[0m\u001b[1;33m,\u001b[0m \u001b[0mcallback\u001b[0m\u001b[1;33m=\u001b[0m\u001b[1;32mNone\u001b[0m\u001b[1;33m)\u001b[0m\u001b[1;33m:\u001b[0m\u001b[1;33m\u001b[0m\u001b[1;33m\u001b[0m\u001b[0m\n\u001b[0;32m    207\u001b[0m         \u001b[1;34m\"\"\"Schedule a func to be run\"\"\"\u001b[0m\u001b[1;33m\u001b[0m\u001b[1;33m\u001b[0m\u001b[0m\n\u001b[1;32m--> 208\u001b[1;33m         \u001b[0mresult\u001b[0m \u001b[1;33m=\u001b[0m \u001b[0mImmediateResult\u001b[0m\u001b[1;33m(\u001b[0m\u001b[0mfunc\u001b[0m\u001b[1;33m)\u001b[0m\u001b[1;33m\u001b[0m\u001b[1;33m\u001b[0m\u001b[0m\n\u001b[0m\u001b[0;32m    209\u001b[0m         \u001b[1;32mif\u001b[0m \u001b[0mcallback\u001b[0m\u001b[1;33m:\u001b[0m\u001b[1;33m\u001b[0m\u001b[1;33m\u001b[0m\u001b[0m\n\u001b[0;32m    210\u001b[0m             \u001b[0mcallback\u001b[0m\u001b[1;33m(\u001b[0m\u001b[0mresult\u001b[0m\u001b[1;33m)\u001b[0m\u001b[1;33m\u001b[0m\u001b[1;33m\u001b[0m\u001b[0m\n",
      "\u001b[1;32m~\\anaconda3\\lib\\site-packages\\joblib\\_parallel_backends.py\u001b[0m in \u001b[0;36m__init__\u001b[1;34m(self, batch)\u001b[0m\n\u001b[0;32m    570\u001b[0m         \u001b[1;31m# Don't delay the application, to avoid keeping the input\u001b[0m\u001b[1;33m\u001b[0m\u001b[1;33m\u001b[0m\u001b[1;33m\u001b[0m\u001b[0m\n\u001b[0;32m    571\u001b[0m         \u001b[1;31m# arguments in memory\u001b[0m\u001b[1;33m\u001b[0m\u001b[1;33m\u001b[0m\u001b[1;33m\u001b[0m\u001b[0m\n\u001b[1;32m--> 572\u001b[1;33m         \u001b[0mself\u001b[0m\u001b[1;33m.\u001b[0m\u001b[0mresults\u001b[0m \u001b[1;33m=\u001b[0m \u001b[0mbatch\u001b[0m\u001b[1;33m(\u001b[0m\u001b[1;33m)\u001b[0m\u001b[1;33m\u001b[0m\u001b[1;33m\u001b[0m\u001b[0m\n\u001b[0m\u001b[0;32m    573\u001b[0m \u001b[1;33m\u001b[0m\u001b[0m\n\u001b[0;32m    574\u001b[0m     \u001b[1;32mdef\u001b[0m \u001b[0mget\u001b[0m\u001b[1;33m(\u001b[0m\u001b[0mself\u001b[0m\u001b[1;33m)\u001b[0m\u001b[1;33m:\u001b[0m\u001b[1;33m\u001b[0m\u001b[1;33m\u001b[0m\u001b[0m\n",
      "\u001b[1;32m~\\anaconda3\\lib\\site-packages\\joblib\\parallel.py\u001b[0m in \u001b[0;36m__call__\u001b[1;34m(self)\u001b[0m\n\u001b[0;32m    260\u001b[0m         \u001b[1;31m# change the default number of processes to -1\u001b[0m\u001b[1;33m\u001b[0m\u001b[1;33m\u001b[0m\u001b[1;33m\u001b[0m\u001b[0m\n\u001b[0;32m    261\u001b[0m         \u001b[1;32mwith\u001b[0m \u001b[0mparallel_backend\u001b[0m\u001b[1;33m(\u001b[0m\u001b[0mself\u001b[0m\u001b[1;33m.\u001b[0m\u001b[0m_backend\u001b[0m\u001b[1;33m,\u001b[0m \u001b[0mn_jobs\u001b[0m\u001b[1;33m=\u001b[0m\u001b[0mself\u001b[0m\u001b[1;33m.\u001b[0m\u001b[0m_n_jobs\u001b[0m\u001b[1;33m)\u001b[0m\u001b[1;33m:\u001b[0m\u001b[1;33m\u001b[0m\u001b[1;33m\u001b[0m\u001b[0m\n\u001b[1;32m--> 262\u001b[1;33m             return [func(*args, **kwargs)\n\u001b[0m\u001b[0;32m    263\u001b[0m                     for func, args, kwargs in self.items]\n\u001b[0;32m    264\u001b[0m \u001b[1;33m\u001b[0m\u001b[0m\n",
      "\u001b[1;32m~\\anaconda3\\lib\\site-packages\\joblib\\parallel.py\u001b[0m in \u001b[0;36m<listcomp>\u001b[1;34m(.0)\u001b[0m\n\u001b[0;32m    260\u001b[0m         \u001b[1;31m# change the default number of processes to -1\u001b[0m\u001b[1;33m\u001b[0m\u001b[1;33m\u001b[0m\u001b[1;33m\u001b[0m\u001b[0m\n\u001b[0;32m    261\u001b[0m         \u001b[1;32mwith\u001b[0m \u001b[0mparallel_backend\u001b[0m\u001b[1;33m(\u001b[0m\u001b[0mself\u001b[0m\u001b[1;33m.\u001b[0m\u001b[0m_backend\u001b[0m\u001b[1;33m,\u001b[0m \u001b[0mn_jobs\u001b[0m\u001b[1;33m=\u001b[0m\u001b[0mself\u001b[0m\u001b[1;33m.\u001b[0m\u001b[0m_n_jobs\u001b[0m\u001b[1;33m)\u001b[0m\u001b[1;33m:\u001b[0m\u001b[1;33m\u001b[0m\u001b[1;33m\u001b[0m\u001b[0m\n\u001b[1;32m--> 262\u001b[1;33m             return [func(*args, **kwargs)\n\u001b[0m\u001b[0;32m    263\u001b[0m                     for func, args, kwargs in self.items]\n\u001b[0;32m    264\u001b[0m \u001b[1;33m\u001b[0m\u001b[0m\n",
      "\u001b[1;32m~\\anaconda3\\lib\\site-packages\\sklearn\\utils\\fixes.py\u001b[0m in \u001b[0;36m__call__\u001b[1;34m(self, *args, **kwargs)\u001b[0m\n\u001b[0;32m    220\u001b[0m     \u001b[1;32mdef\u001b[0m \u001b[0m__call__\u001b[0m\u001b[1;33m(\u001b[0m\u001b[0mself\u001b[0m\u001b[1;33m,\u001b[0m \u001b[1;33m*\u001b[0m\u001b[0margs\u001b[0m\u001b[1;33m,\u001b[0m \u001b[1;33m**\u001b[0m\u001b[0mkwargs\u001b[0m\u001b[1;33m)\u001b[0m\u001b[1;33m:\u001b[0m\u001b[1;33m\u001b[0m\u001b[1;33m\u001b[0m\u001b[0m\n\u001b[0;32m    221\u001b[0m         \u001b[1;32mwith\u001b[0m \u001b[0mconfig_context\u001b[0m\u001b[1;33m(\u001b[0m\u001b[1;33m**\u001b[0m\u001b[0mself\u001b[0m\u001b[1;33m.\u001b[0m\u001b[0mconfig\u001b[0m\u001b[1;33m)\u001b[0m\u001b[1;33m:\u001b[0m\u001b[1;33m\u001b[0m\u001b[1;33m\u001b[0m\u001b[0m\n\u001b[1;32m--> 222\u001b[1;33m             \u001b[1;32mreturn\u001b[0m \u001b[0mself\u001b[0m\u001b[1;33m.\u001b[0m\u001b[0mfunction\u001b[0m\u001b[1;33m(\u001b[0m\u001b[1;33m*\u001b[0m\u001b[0margs\u001b[0m\u001b[1;33m,\u001b[0m \u001b[1;33m**\u001b[0m\u001b[0mkwargs\u001b[0m\u001b[1;33m)\u001b[0m\u001b[1;33m\u001b[0m\u001b[1;33m\u001b[0m\u001b[0m\n\u001b[0m",
      "\u001b[1;32m~\\anaconda3\\lib\\site-packages\\sklearn\\model_selection\\_validation.py\u001b[0m in \u001b[0;36m_fit_and_score\u001b[1;34m(estimator, X, y, scorer, train, test, verbose, parameters, fit_params, return_train_score, return_parameters, return_n_test_samples, return_times, return_estimator, split_progress, candidate_progress, error_score)\u001b[0m\n\u001b[0;32m    591\u001b[0m             \u001b[0mestimator\u001b[0m\u001b[1;33m.\u001b[0m\u001b[0mfit\u001b[0m\u001b[1;33m(\u001b[0m\u001b[0mX_train\u001b[0m\u001b[1;33m,\u001b[0m \u001b[1;33m**\u001b[0m\u001b[0mfit_params\u001b[0m\u001b[1;33m)\u001b[0m\u001b[1;33m\u001b[0m\u001b[1;33m\u001b[0m\u001b[0m\n\u001b[0;32m    592\u001b[0m         \u001b[1;32melse\u001b[0m\u001b[1;33m:\u001b[0m\u001b[1;33m\u001b[0m\u001b[1;33m\u001b[0m\u001b[0m\n\u001b[1;32m--> 593\u001b[1;33m             \u001b[0mestimator\u001b[0m\u001b[1;33m.\u001b[0m\u001b[0mfit\u001b[0m\u001b[1;33m(\u001b[0m\u001b[0mX_train\u001b[0m\u001b[1;33m,\u001b[0m \u001b[0my_train\u001b[0m\u001b[1;33m,\u001b[0m \u001b[1;33m**\u001b[0m\u001b[0mfit_params\u001b[0m\u001b[1;33m)\u001b[0m\u001b[1;33m\u001b[0m\u001b[1;33m\u001b[0m\u001b[0m\n\u001b[0m\u001b[0;32m    594\u001b[0m \u001b[1;33m\u001b[0m\u001b[0m\n\u001b[0;32m    595\u001b[0m     \u001b[1;32mexcept\u001b[0m \u001b[0mException\u001b[0m \u001b[1;32mas\u001b[0m \u001b[0me\u001b[0m\u001b[1;33m:\u001b[0m\u001b[1;33m\u001b[0m\u001b[1;33m\u001b[0m\u001b[0m\n",
      "\u001b[1;32m~\\anaconda3\\lib\\site-packages\\sklearn\\svm\\_base.py\u001b[0m in \u001b[0;36mfit\u001b[1;34m(self, X, y, sample_weight)\u001b[0m\n\u001b[0;32m    224\u001b[0m \u001b[1;33m\u001b[0m\u001b[0m\n\u001b[0;32m    225\u001b[0m         \u001b[0mseed\u001b[0m \u001b[1;33m=\u001b[0m \u001b[0mrnd\u001b[0m\u001b[1;33m.\u001b[0m\u001b[0mrandint\u001b[0m\u001b[1;33m(\u001b[0m\u001b[0mnp\u001b[0m\u001b[1;33m.\u001b[0m\u001b[0miinfo\u001b[0m\u001b[1;33m(\u001b[0m\u001b[1;34m'i'\u001b[0m\u001b[1;33m)\u001b[0m\u001b[1;33m.\u001b[0m\u001b[0mmax\u001b[0m\u001b[1;33m)\u001b[0m\u001b[1;33m\u001b[0m\u001b[1;33m\u001b[0m\u001b[0m\n\u001b[1;32m--> 226\u001b[1;33m         \u001b[0mfit\u001b[0m\u001b[1;33m(\u001b[0m\u001b[0mX\u001b[0m\u001b[1;33m,\u001b[0m \u001b[0my\u001b[0m\u001b[1;33m,\u001b[0m \u001b[0msample_weight\u001b[0m\u001b[1;33m,\u001b[0m \u001b[0msolver_type\u001b[0m\u001b[1;33m,\u001b[0m \u001b[0mkernel\u001b[0m\u001b[1;33m,\u001b[0m \u001b[0mrandom_seed\u001b[0m\u001b[1;33m=\u001b[0m\u001b[0mseed\u001b[0m\u001b[1;33m)\u001b[0m\u001b[1;33m\u001b[0m\u001b[1;33m\u001b[0m\u001b[0m\n\u001b[0m\u001b[0;32m    227\u001b[0m         \u001b[1;31m# see comment on the other call to np.iinfo in this file\u001b[0m\u001b[1;33m\u001b[0m\u001b[1;33m\u001b[0m\u001b[1;33m\u001b[0m\u001b[0m\n\u001b[0;32m    228\u001b[0m \u001b[1;33m\u001b[0m\u001b[0m\n",
      "\u001b[1;32m~\\anaconda3\\lib\\site-packages\\sklearn\\svm\\_base.py\u001b[0m in \u001b[0;36m_dense_fit\u001b[1;34m(self, X, y, sample_weight, solver_type, kernel, random_seed)\u001b[0m\n\u001b[0;32m    275\u001b[0m         \u001b[0mself\u001b[0m\u001b[1;33m.\u001b[0m\u001b[0msupport_\u001b[0m\u001b[1;33m,\u001b[0m \u001b[0mself\u001b[0m\u001b[1;33m.\u001b[0m\u001b[0msupport_vectors_\u001b[0m\u001b[1;33m,\u001b[0m \u001b[0mself\u001b[0m\u001b[1;33m.\u001b[0m\u001b[0m_n_support\u001b[0m\u001b[1;33m,\u001b[0m\u001b[0;31m \u001b[0m\u001b[0;31m\\\u001b[0m\u001b[1;33m\u001b[0m\u001b[1;33m\u001b[0m\u001b[0m\n\u001b[0;32m    276\u001b[0m             \u001b[0mself\u001b[0m\u001b[1;33m.\u001b[0m\u001b[0mdual_coef_\u001b[0m\u001b[1;33m,\u001b[0m \u001b[0mself\u001b[0m\u001b[1;33m.\u001b[0m\u001b[0mintercept_\u001b[0m\u001b[1;33m,\u001b[0m \u001b[0mself\u001b[0m\u001b[1;33m.\u001b[0m\u001b[0m_probA\u001b[0m\u001b[1;33m,\u001b[0m\u001b[0;31m \u001b[0m\u001b[0;31m\\\u001b[0m\u001b[1;33m\u001b[0m\u001b[1;33m\u001b[0m\u001b[0m\n\u001b[1;32m--> 277\u001b[1;33m             self._probB, self.fit_status_ = libsvm.fit(\n\u001b[0m\u001b[0;32m    278\u001b[0m                 \u001b[0mX\u001b[0m\u001b[1;33m,\u001b[0m \u001b[0my\u001b[0m\u001b[1;33m,\u001b[0m\u001b[1;33m\u001b[0m\u001b[1;33m\u001b[0m\u001b[0m\n\u001b[0;32m    279\u001b[0m                 \u001b[0msvm_type\u001b[0m\u001b[1;33m=\u001b[0m\u001b[0msolver_type\u001b[0m\u001b[1;33m,\u001b[0m \u001b[0msample_weight\u001b[0m\u001b[1;33m=\u001b[0m\u001b[0msample_weight\u001b[0m\u001b[1;33m,\u001b[0m\u001b[1;33m\u001b[0m\u001b[1;33m\u001b[0m\u001b[0m\n",
      "\u001b[1;31mKeyboardInterrupt\u001b[0m: "
     ]
    }
   ],
   "source": [
    "clf.fit(X_train_sc, y_train)"
   ]
  },
  {
   "cell_type": "code",
   "execution_count": null,
   "id": "15f807ef",
   "metadata": {
    "ExecuteTime": {
     "end_time": "2021-09-15T00:16:43.071498Z",
     "start_time": "2021-09-14T16:57:18.409Z"
    }
   },
   "outputs": [],
   "source": [
    "clf.cv_results_    # rbf showed the explicitly better result"
   ]
  },
  {
   "cell_type": "code",
   "execution_count": null,
   "id": "ebb72746",
   "metadata": {
    "ExecuteTime": {
     "end_time": "2021-09-15T00:16:43.074498Z",
     "start_time": "2021-09-14T16:57:18.412Z"
    }
   },
   "outputs": [],
   "source": [
    "clf.best_score_"
   ]
  },
  {
   "cell_type": "code",
   "execution_count": null,
   "id": "0629b6c7",
   "metadata": {
    "ExecuteTime": {
     "end_time": "2021-09-15T00:16:43.076498Z",
     "start_time": "2021-09-14T16:57:18.415Z"
    }
   },
   "outputs": [],
   "source": [
    "clf.best_params_"
   ]
  },
  {
   "cell_type": "code",
   "execution_count": null,
   "id": "4848f109",
   "metadata": {
    "ExecuteTime": {
     "end_time": "2021-09-15T00:16:43.078499Z",
     "start_time": "2021-09-14T16:57:18.419Z"
    }
   },
   "outputs": [],
   "source": [
    "clf.best_estimator_"
   ]
  },
  {
   "cell_type": "code",
   "execution_count": null,
   "id": "c3cddd94",
   "metadata": {
    "ExecuteTime": {
     "end_time": "2021-09-15T00:16:43.080499Z",
     "start_time": "2021-09-14T16:57:18.422Z"
    }
   },
   "outputs": [],
   "source": [
    "# Evaluation\n",
    "clf.score(X_test_sc, y_test)"
   ]
  },
  {
   "cell_type": "markdown",
   "id": "fa20d856",
   "metadata": {},
   "source": [
    "#### Grid Search Model 2"
   ]
  },
  {
   "cell_type": "code",
   "execution_count": null,
   "id": "805f3211",
   "metadata": {
    "ExecuteTime": {
     "end_time": "2021-09-15T00:16:43.082500Z",
     "start_time": "2021-09-14T16:57:18.426Z"
    }
   },
   "outputs": [],
   "source": [
    "svm = SVC()\n",
    "params = {'kernel':['rbf'], 'C':[0.01, 0.05], 'gamma':[1, 5]} \n",
    "clf = GridSearchCV(svm, params, cv=5)"
   ]
  },
  {
   "cell_type": "code",
   "execution_count": null,
   "id": "3f8b90fb",
   "metadata": {
    "ExecuteTime": {
     "end_time": "2021-09-15T00:16:43.084500Z",
     "start_time": "2021-09-14T16:57:18.429Z"
    }
   },
   "outputs": [],
   "source": [
    "clf.fit(X_train_sc, y_train)"
   ]
  },
  {
   "cell_type": "code",
   "execution_count": null,
   "id": "5311b8b0",
   "metadata": {
    "ExecuteTime": {
     "end_time": "2021-09-15T00:16:43.086502Z",
     "start_time": "2021-09-14T16:57:18.431Z"
    }
   },
   "outputs": [],
   "source": [
    "clf.cv_results_"
   ]
  },
  {
   "cell_type": "code",
   "execution_count": null,
   "id": "b2d1c241",
   "metadata": {
    "ExecuteTime": {
     "end_time": "2021-09-15T00:16:43.088502Z",
     "start_time": "2021-09-14T16:57:18.433Z"
    }
   },
   "outputs": [],
   "source": [
    "clf.best_score_"
   ]
  },
  {
   "cell_type": "code",
   "execution_count": null,
   "id": "cf537fcb",
   "metadata": {
    "ExecuteTime": {
     "end_time": "2021-09-15T00:16:43.090502Z",
     "start_time": "2021-09-14T16:57:18.437Z"
    }
   },
   "outputs": [],
   "source": [
    "clf.best_params_"
   ]
  },
  {
   "cell_type": "code",
   "execution_count": null,
   "id": "7d094bca",
   "metadata": {
    "ExecuteTime": {
     "end_time": "2021-09-15T00:16:43.092504Z",
     "start_time": "2021-09-14T16:57:18.441Z"
    }
   },
   "outputs": [],
   "source": [
    "clf.best_estimator_"
   ]
  },
  {
   "cell_type": "code",
   "execution_count": null,
   "id": "fa2a8fde",
   "metadata": {
    "ExecuteTime": {
     "end_time": "2021-09-15T00:16:43.093502Z",
     "start_time": "2021-09-14T16:57:18.445Z"
    }
   },
   "outputs": [],
   "source": [
    "# Evaluation\n",
    "clf.score(X_test_sc, y_test)"
   ]
  },
  {
   "cell_type": "markdown",
   "id": "0429808c",
   "metadata": {},
   "source": [
    "> **Best parameter among above: `kernel` = rbf, `C` = 0.05, `gamma` = 5** <br>\n",
    "> **Accuracy: 50.6%**"
   ]
  },
  {
   "cell_type": "markdown",
   "id": "3f4d4ef3",
   "metadata": {
    "heading_collapsed": true
   },
   "source": [
    "## K-nearest Neighbors"
   ]
  },
  {
   "cell_type": "code",
   "execution_count": null,
   "id": "b3e57c59",
   "metadata": {
    "ExecuteTime": {
     "end_time": "2021-09-15T00:16:43.095503Z",
     "start_time": "2021-09-14T16:57:18.450Z"
    },
    "hidden": true
   },
   "outputs": [],
   "source": [
    "from sklearn.neighbors import KNeighborsClassifier"
   ]
  },
  {
   "cell_type": "code",
   "execution_count": null,
   "id": "ac4ceaaf",
   "metadata": {
    "ExecuteTime": {
     "end_time": "2021-09-15T00:16:43.100504Z",
     "start_time": "2021-09-14T16:57:18.453Z"
    },
    "hidden": true
   },
   "outputs": [],
   "source": [
    "# Grid search for the number of neighbors\n",
    "knn = KNeighborsClassifier()\n",
    "params = {'n_neighbors': range(5, 52, 2)}\n",
    "clf = GridSearchCV(knn, params, cv=5, n_jobs=-1)\n",
    "clf.fit(X_train_sc, y_train)    # Scaling isn't need for KNN"
   ]
  },
  {
   "cell_type": "code",
   "execution_count": null,
   "id": "463fd5b6",
   "metadata": {
    "ExecuteTime": {
     "end_time": "2021-09-15T00:16:43.102505Z",
     "start_time": "2021-09-14T16:57:18.456Z"
    },
    "hidden": true
   },
   "outputs": [],
   "source": [
    "# Fitting result\n",
    "clf.cv_results_"
   ]
  },
  {
   "cell_type": "markdown",
   "id": "bfa2adaa",
   "metadata": {
    "hidden": true
   },
   "source": [
    "> Best parameter=41"
   ]
  },
  {
   "cell_type": "code",
   "execution_count": null,
   "id": "e38e6e2e",
   "metadata": {
    "ExecuteTime": {
     "end_time": "2021-09-15T00:16:43.104505Z",
     "start_time": "2021-09-14T16:57:18.461Z"
    },
    "hidden": true
   },
   "outputs": [],
   "source": [
    "# Evaluation with best parameter setting\n",
    "knn = KNeighborsClassifier(n_neighbors=41)\n",
    "knn.fit(X_train_sc, y_train)\n",
    "knn.score(X_test_sc, y_test)"
   ]
  },
  {
   "cell_type": "code",
   "execution_count": null,
   "id": "87879e2d",
   "metadata": {
    "ExecuteTime": {
     "end_time": "2021-09-15T00:16:43.106506Z",
     "start_time": "2021-09-14T16:57:18.465Z"
    },
    "hidden": true
   },
   "outputs": [],
   "source": [
    "print(classification_report(y_test, knn.predict(X_test_sc), zero_division=0))"
   ]
  },
  {
   "cell_type": "markdown",
   "id": "7b1f139d",
   "metadata": {
    "hidden": true
   },
   "source": [
    "> **Accuracy: 49.8%, f1-score(weighted): 0.49**"
   ]
  },
  {
   "cell_type": "markdown",
   "id": "e59f5e58",
   "metadata": {
    "heading_collapsed": true
   },
   "source": [
    "## Decision Tree"
   ]
  },
  {
   "cell_type": "code",
   "execution_count": null,
   "id": "fc444eaa",
   "metadata": {
    "ExecuteTime": {
     "end_time": "2021-09-15T00:16:43.108506Z",
     "start_time": "2021-09-14T16:57:18.471Z"
    },
    "hidden": true
   },
   "outputs": [],
   "source": [
    "from sklearn.tree import DecisionTreeClassifier\n",
    "from sklearn.tree import plot_tree\n",
    "import matplotlib.pyplot as plt"
   ]
  },
  {
   "cell_type": "code",
   "execution_count": null,
   "id": "25a20d26",
   "metadata": {
    "ExecuteTime": {
     "end_time": "2021-09-15T00:16:43.110506Z",
     "start_time": "2021-09-14T16:57:18.476Z"
    },
    "hidden": true
   },
   "outputs": [],
   "source": [
    "dt = DecisionTreeClassifier(max_depth=5, min_samples_split=10, min_samples_leaf=5)\n",
    "dt.fit(X_train, y_train)    # doesn't need to standardize\n",
    "dt.score(X_test, y_test)"
   ]
  },
  {
   "cell_type": "code",
   "execution_count": null,
   "id": "9ecc27d2",
   "metadata": {
    "ExecuteTime": {
     "end_time": "2021-09-15T00:16:43.112506Z",
     "start_time": "2021-09-14T16:57:18.480Z"
    },
    "hidden": true
   },
   "outputs": [],
   "source": [
    "# Plot tree\n",
    "plt.figure(figsize=(50, 60))\n",
    "plot_tree(dt, feature_names=['weight', 'age', 'height'], class_names=True)"
   ]
  },
  {
   "cell_type": "code",
   "execution_count": null,
   "id": "5d4049d3",
   "metadata": {
    "ExecuteTime": {
     "end_time": "2021-09-15T00:16:43.114507Z",
     "start_time": "2021-09-14T16:57:18.485Z"
    },
    "hidden": true
   },
   "outputs": [],
   "source": [
    "# Evaluation\n",
    "print(classification_report(y_test, dt.predict(X_test), zero_division=0))"
   ]
  },
  {
   "cell_type": "markdown",
   "id": "a2a4cfad",
   "metadata": {
    "hidden": true
   },
   "source": [
    "> **Accuracy: 50%, f1-score(weighted): 0.49**"
   ]
  },
  {
   "cell_type": "markdown",
   "id": "f558055d",
   "metadata": {
    "heading_collapsed": true
   },
   "source": [
    "## Naive Bayes"
   ]
  },
  {
   "cell_type": "code",
   "execution_count": null,
   "id": "9b722f3d",
   "metadata": {
    "ExecuteTime": {
     "end_time": "2021-09-15T00:16:43.116508Z",
     "start_time": "2021-09-14T16:57:18.490Z"
    },
    "hidden": true
   },
   "outputs": [],
   "source": [
    "from sklearn.naive_bayes import GaussianNB"
   ]
  },
  {
   "cell_type": "code",
   "execution_count": null,
   "id": "df807170",
   "metadata": {
    "ExecuteTime": {
     "end_time": "2021-09-15T00:16:43.118508Z",
     "start_time": "2021-09-14T16:57:18.493Z"
    },
    "hidden": true
   },
   "outputs": [],
   "source": [
    "nb = GaussianNB()\n",
    "nb.fit(X_train_sc, y_train)\n",
    "nb.score(X_test_sc, y_test)"
   ]
  },
  {
   "cell_type": "code",
   "execution_count": null,
   "id": "da935924",
   "metadata": {
    "ExecuteTime": {
     "end_time": "2021-09-15T00:16:43.120508Z",
     "start_time": "2021-09-14T16:57:18.496Z"
    },
    "hidden": true
   },
   "outputs": [],
   "source": [
    "print(classification_report(y_test, nb.predict(X_test_sc)))"
   ]
  },
  {
   "cell_type": "markdown",
   "id": "69f38328",
   "metadata": {
    "hidden": true
   },
   "source": [
    "> **Accuracy: 47.9%, f1-score(weighted): 0.47**"
   ]
  },
  {
   "cell_type": "markdown",
   "id": "34ebc1da",
   "metadata": {
    "heading_collapsed": true
   },
   "source": [
    "## Ensemble Model 1)  Voting"
   ]
  },
  {
   "cell_type": "code",
   "execution_count": null,
   "id": "b43df1f1",
   "metadata": {
    "ExecuteTime": {
     "end_time": "2021-09-15T00:16:43.122509Z",
     "start_time": "2021-09-14T16:57:18.499Z"
    },
    "hidden": true
   },
   "outputs": [],
   "source": [
    "from sklearn.ensemble import VotingClassifier"
   ]
  },
  {
   "cell_type": "code",
   "execution_count": null,
   "id": "386842ce",
   "metadata": {
    "ExecuteTime": {
     "end_time": "2021-09-15T00:16:43.125510Z",
     "start_time": "2021-09-14T16:57:18.503Z"
    },
    "hidden": true
   },
   "outputs": [],
   "source": [
    "# All classification models used above\n",
    "logi = LogisticRegression(solver='saga')\n",
    "svm = SVC(kernel='rbf', C=0.05, gamma=5, probability=True)\n",
    "knn = KNeighborsClassifier(n_neighbors=41)\n",
    "dt = DecisionTreeClassifier(max_depth=5, min_samples_split=10, min_samples_leaf=5)\n",
    "nb = GaussianNB()\n",
    "\n",
    "vot = VotingClassifier(estimators=[('logi', logi), ('svm', svm), ('knn', knn), ('dt', dt), ('nb', nb)], voting='soft')"
   ]
  },
  {
   "cell_type": "code",
   "execution_count": null,
   "id": "65e647a8",
   "metadata": {
    "ExecuteTime": {
     "end_time": "2021-09-15T00:16:43.127510Z",
     "start_time": "2021-09-14T16:57:18.507Z"
    },
    "hidden": true
   },
   "outputs": [],
   "source": [
    "vot.fit(X_train_sc, y_train)\n",
    "vot.score(X_test_sc, y_test)"
   ]
  },
  {
   "cell_type": "markdown",
   "id": "a832f468",
   "metadata": {
    "heading_collapsed": true
   },
   "source": [
    "## Ensemble Model 2) Bagging - Random Forest"
   ]
  },
  {
   "cell_type": "code",
   "execution_count": null,
   "id": "3a8de8d3",
   "metadata": {
    "ExecuteTime": {
     "end_time": "2021-09-15T00:16:43.128510Z",
     "start_time": "2021-09-14T16:57:18.512Z"
    },
    "hidden": true
   },
   "outputs": [],
   "source": [
    "from sklearn.ensemble import RandomForestClassifier"
   ]
  },
  {
   "cell_type": "code",
   "execution_count": null,
   "id": "143d2fa1",
   "metadata": {
    "ExecuteTime": {
     "end_time": "2021-09-15T00:16:43.130511Z",
     "start_time": "2021-09-14T16:57:18.516Z"
    },
    "hidden": true
   },
   "outputs": [],
   "source": [
    "rf = RandomForestClassifier(max_depth=5, min_samples_split=10, min_samples_leaf=5, n_jobs=-1)\n",
    "rf.fit(X_train, y_train)    # Decision tree doesn't need scaling\n",
    "rf.score(X_test, y_test)"
   ]
  },
  {
   "cell_type": "code",
   "execution_count": null,
   "id": "078b2995",
   "metadata": {
    "ExecuteTime": {
     "end_time": "2021-09-15T00:16:43.132511Z",
     "start_time": "2021-09-14T16:57:18.519Z"
    },
    "hidden": true
   },
   "outputs": [],
   "source": [
    "# Attributes of random forest classifier\n",
    "print('Estimators:', rf.estimators_)\n",
    "print('Base estimator:', rf.base_estimator_)\n",
    "print('Features:', rf.n_features_)\n",
    "print('Outputs:', rf.n_outputs_)\n",
    "print('Feature importances:', rf.feature_importances_)  # The higher, the more important the feature. "
   ]
  },
  {
   "cell_type": "code",
   "execution_count": null,
   "id": "677e2154",
   "metadata": {
    "ExecuteTime": {
     "end_time": "2021-09-15T00:16:43.134512Z",
     "start_time": "2021-09-14T16:57:18.523Z"
    },
    "hidden": true
   },
   "outputs": [],
   "source": [
    "# Grid search\n",
    "rf = RandomForestClassifier()\n",
    "params = {'max_depth':[5, 7, 9, 11], 'min_samples_split':[10, 20, 30, 50], 'min_samples_leaf':[5, 10, 15]}\n",
    "clf = GridSearchCV(rf, params, cv=5, n_jobs=-1)"
   ]
  },
  {
   "cell_type": "code",
   "execution_count": null,
   "id": "b221b013",
   "metadata": {
    "ExecuteTime": {
     "end_time": "2021-09-15T00:16:43.136512Z",
     "start_time": "2021-09-14T16:57:18.528Z"
    },
    "hidden": true
   },
   "outputs": [],
   "source": [
    "clf.fit(X_train, y_train)\n",
    "clf.score(X_test, y_test)"
   ]
  },
  {
   "cell_type": "code",
   "execution_count": null,
   "id": "346e574b",
   "metadata": {
    "ExecuteTime": {
     "end_time": "2021-09-15T00:16:43.138512Z",
     "start_time": "2021-09-14T16:57:18.532Z"
    },
    "hidden": true
   },
   "outputs": [],
   "source": [
    "clf.best_params_"
   ]
  },
  {
   "cell_type": "code",
   "execution_count": null,
   "id": "d7f0b66e",
   "metadata": {
    "ExecuteTime": {
     "end_time": "2021-09-15T00:16:43.140515Z",
     "start_time": "2021-09-14T16:57:18.536Z"
    },
    "hidden": true
   },
   "outputs": [],
   "source": [
    "print(classification_report(y_test, clf.predict(X_test), zero_division=0))"
   ]
  },
  {
   "cell_type": "markdown",
   "id": "df5154a4",
   "metadata": {
    "hidden": true
   },
   "source": [
    "> **Accuracy: 50.5%, f1-score(weighted): 0.49**"
   ]
  },
  {
   "cell_type": "markdown",
   "id": "d467d2f1",
   "metadata": {
    "heading_collapsed": true
   },
   "source": [
    "## Ensemble Model 3) Boosting - XGboost"
   ]
  },
  {
   "cell_type": "code",
   "execution_count": null,
   "id": "f70e2866",
   "metadata": {
    "ExecuteTime": {
     "end_time": "2021-09-15T00:16:43.142514Z",
     "start_time": "2021-09-14T16:57:18.541Z"
    },
    "hidden": true
   },
   "outputs": [],
   "source": [
    "# Install Xgboost library\n",
    "!pip install C:\\Users\\SK\\anaconda3\\Lib\\site-packages\\xgboost-1.4.2-cp38-cp38-win_amd64.whl"
   ]
  },
  {
   "cell_type": "code",
   "execution_count": null,
   "id": "53e9d63b",
   "metadata": {
    "ExecuteTime": {
     "end_time": "2021-09-15T00:16:43.144514Z",
     "start_time": "2021-09-14T16:57:18.544Z"
    },
    "hidden": true
   },
   "outputs": [],
   "source": [
    "from xgboost import XGBClassifier"
   ]
  },
  {
   "cell_type": "code",
   "execution_count": null,
   "id": "8e1fbba0",
   "metadata": {
    "ExecuteTime": {
     "end_time": "2021-09-15T00:16:43.146514Z",
     "start_time": "2021-09-14T16:57:18.547Z"
    },
    "hidden": true
   },
   "outputs": [],
   "source": [
    "# Prepare validation set from train set\n",
    "X_train_xgb, X_val_xgb, y_train_xgb, y_val_xgb = train_test_split(X_train, y_train, test_size=0.3, random_state=5)\n",
    "X_train_xgb.shape, y_val_xgb.shape    # Standardization isn't needed"
   ]
  },
  {
   "cell_type": "code",
   "execution_count": null,
   "id": "f3a9ae16",
   "metadata": {
    "ExecuteTime": {
     "end_time": "2021-09-15T00:16:43.148515Z",
     "start_time": "2021-09-14T16:57:18.550Z"
    },
    "hidden": true
   },
   "outputs": [],
   "source": [
    "xgb = XGBClassifier(n_estimators=400, learning_rate=0.1, n_jobs=16, max_depth=10, objective='multi:softmax')\n",
    "xgb.fit(X_train_xgb, y_train_xgb, eval_set=[(X_val_xgb, y_val_xgb)], eval_metric='mlogloss', early_stopping_rounds=100)"
   ]
  },
  {
   "cell_type": "code",
   "execution_count": null,
   "id": "323fa230",
   "metadata": {
    "ExecuteTime": {
     "end_time": "2021-09-15T00:16:43.150515Z",
     "start_time": "2021-09-14T16:57:18.554Z"
    },
    "hidden": true
   },
   "outputs": [],
   "source": [
    "# Predict with test data\n",
    "y_pred = xgb.predict(X_test)\n",
    "xgb.score(X_test, y_test)"
   ]
  },
  {
   "cell_type": "code",
   "execution_count": null,
   "id": "1e68baab",
   "metadata": {
    "ExecuteTime": {
     "end_time": "2021-09-15T00:16:43.152516Z",
     "start_time": "2021-09-14T16:57:18.558Z"
    },
    "hidden": true
   },
   "outputs": [],
   "source": [
    "# Evaluation\n",
    "import warnings\n",
    "warnings.filterwarnings('ignore')   # To stop getting warning messages\n",
    "\n",
    "print(classification_report(y_test, y_pred))"
   ]
  },
  {
   "cell_type": "markdown",
   "id": "1a57a3f2",
   "metadata": {
    "hidden": true
   },
   "source": [
    "### Grid Search 1"
   ]
  },
  {
   "cell_type": "code",
   "execution_count": null,
   "id": "20ce44bd",
   "metadata": {
    "ExecuteTime": {
     "end_time": "2021-09-15T00:16:43.154516Z",
     "start_time": "2021-09-14T16:57:18.562Z"
    },
    "hidden": true
   },
   "outputs": [],
   "source": [
    "xgb = XGBClassifier(n_jobs=16, objective='multi:softmax')\n",
    "params = {'n_estimators':[500], 'learning_rate':[0.001, 0.01], 'max_depth':[5, 15]}\n",
    "\n",
    "clf = GridSearchCV(xgb, params, cv=5, n_jobs=-1, scoring='accuracy')\n",
    "clf.fit(X_train_xgb, y_train_xgb, eval_set=[(X_val_xgb, y_val_xgb)], eval_metric='mlogloss', early_stopping_rounds=100)"
   ]
  },
  {
   "cell_type": "code",
   "execution_count": null,
   "id": "be2f9005",
   "metadata": {
    "ExecuteTime": {
     "end_time": "2021-09-15T00:16:43.158027Z",
     "start_time": "2021-09-14T16:57:18.566Z"
    },
    "hidden": true
   },
   "outputs": [],
   "source": [
    "print(clf.best_params_)\n",
    "print(clf.best_estimator_)"
   ]
  },
  {
   "cell_type": "code",
   "execution_count": null,
   "id": "f1b36a08",
   "metadata": {
    "ExecuteTime": {
     "end_time": "2021-09-15T00:16:43.161027Z",
     "start_time": "2021-09-14T16:57:18.571Z"
    },
    "hidden": true
   },
   "outputs": [],
   "source": [
    "# Evaluation\n",
    "clf.score(X_test, y_test)"
   ]
  },
  {
   "cell_type": "markdown",
   "id": "a0ba622b",
   "metadata": {
    "hidden": true
   },
   "source": [
    "### Grid Search 2"
   ]
  },
  {
   "cell_type": "code",
   "execution_count": null,
   "id": "69c44a41",
   "metadata": {
    "ExecuteTime": {
     "end_time": "2021-09-15T00:16:43.162028Z",
     "start_time": "2021-09-14T16:57:18.576Z"
    },
    "hidden": true
   },
   "outputs": [],
   "source": [
    "# Grid search 2\n",
    "xgb = XGBClassifier(n_jobs=16, objective='multi:softmax')\n",
    "params = {'n_estimators':[600], 'learning_rate':[0.001, 0.01], 'max_depth':[5, 10]}\n",
    "\n",
    "clf = GridSearchCV(xgb, params, cv=5, n_jobs=-1, scoring='accuracy')\n",
    "clf.fit(X_train_xgb, y_train_xgb, eval_set=[(X_val_xgb, y_val_xgb)], eval_metric='mlogloss', early_stopping_rounds=100)"
   ]
  },
  {
   "cell_type": "code",
   "execution_count": null,
   "id": "b7004a34",
   "metadata": {
    "ExecuteTime": {
     "end_time": "2021-09-15T00:16:43.164028Z",
     "start_time": "2021-09-14T16:57:18.580Z"
    },
    "hidden": true
   },
   "outputs": [],
   "source": [
    "clf.best_params_"
   ]
  },
  {
   "cell_type": "code",
   "execution_count": null,
   "id": "655a1baf",
   "metadata": {
    "ExecuteTime": {
     "end_time": "2021-09-15T00:16:43.166029Z",
     "start_time": "2021-09-14T16:57:18.583Z"
    },
    "hidden": true
   },
   "outputs": [],
   "source": [
    "clf.score(X_test, y_test)"
   ]
  },
  {
   "cell_type": "markdown",
   "id": "cd4cbcfd",
   "metadata": {},
   "source": [
    "## Linear Discriminant Analysis (LDA)"
   ]
  },
  {
   "cell_type": "code",
   "execution_count": null,
   "id": "2e55fce1",
   "metadata": {
    "ExecuteTime": {
     "end_time": "2021-09-15T00:16:43.169029Z",
     "start_time": "2021-09-14T16:57:18.587Z"
    }
   },
   "outputs": [],
   "source": [
    "from sklearn.discriminant_analysis import LinearDiscriminantAnalysis as LDA"
   ]
  },
  {
   "cell_type": "code",
   "execution_count": null,
   "id": "089c8621",
   "metadata": {
    "ExecuteTime": {
     "end_time": "2021-09-15T00:16:43.171030Z",
     "start_time": "2021-09-14T16:57:18.590Z"
    }
   },
   "outputs": [],
   "source": [
    "lda = LDA(n_components=2)\n",
    "lda.fit(X_train_sc, y_train)\n",
    "lda.score(X_test_sc, y_test)"
   ]
  },
  {
   "cell_type": "code",
   "execution_count": null,
   "id": "10e3b9cf",
   "metadata": {
    "ExecuteTime": {
     "end_time": "2021-09-15T00:16:43.173030Z",
     "start_time": "2021-09-14T16:57:18.593Z"
    }
   },
   "outputs": [],
   "source": [
    "# For Tableau visualization\n",
    "X_test_comp = lda.transform(X_test_sc)\n",
    "X_test_comp    # LDA component1, component2"
   ]
  },
  {
   "cell_type": "code",
   "execution_count": null,
   "id": "953f18fc",
   "metadata": {
    "ExecuteTime": {
     "end_time": "2021-09-15T00:16:43.175031Z",
     "start_time": "2021-09-14T16:57:18.597Z"
    }
   },
   "outputs": [],
   "source": [
    "lda_df = pd.DataFrame(X_test_comp, columns=['Component 1', 'Component 2'])\n",
    "lda_df['Prediction'] = lda.predict(X_test_sc)   # Add a column of target\n",
    "lda_df"
   ]
  },
  {
   "cell_type": "code",
   "execution_count": null,
   "id": "934a2797",
   "metadata": {
    "ExecuteTime": {
     "end_time": "2021-09-15T00:16:43.176031Z",
     "start_time": "2021-09-14T16:57:18.601Z"
    }
   },
   "outputs": [],
   "source": [
    "# Export to csv for Tableau\n",
    "lda_df.to_csv('../data/data4_age_included.csv')\n",
    "print('Export completed-------------------------------')"
   ]
  },
  {
   "cell_type": "markdown",
   "id": "ed4e55d2",
   "metadata": {},
   "source": [
    "### Logistic Regression after LDA"
   ]
  },
  {
   "cell_type": "code",
   "execution_count": null,
   "id": "d2130252",
   "metadata": {
    "ExecuteTime": {
     "end_time": "2021-09-15T00:16:43.178541Z",
     "start_time": "2021-09-14T16:57:18.604Z"
    }
   },
   "outputs": [],
   "source": [
    "# Transform X by LDA\n",
    "X_train_comp = lda.transform(X_train_sc)\n",
    "\n",
    "# Logistic Regression\n",
    "logi = LogisticRegression()\n",
    "logi.fit(X_train_comp, y_train)\n",
    "logi.score(X_test_comp, y_test)   # Not much improved"
   ]
  },
  {
   "cell_type": "markdown",
   "id": "19594d5e",
   "metadata": {},
   "source": [
    "## Quadratic Discriminant Analysis (QDA)"
   ]
  },
  {
   "cell_type": "code",
   "execution_count": null,
   "id": "f1a5bd9a",
   "metadata": {
    "ExecuteTime": {
     "end_time": "2021-09-15T00:16:43.181542Z",
     "start_time": "2021-09-14T16:57:18.608Z"
    }
   },
   "outputs": [],
   "source": [
    "from sklearn.discriminant_analysis import QuadraticDiscriminantAnalysis as QDA"
   ]
  },
  {
   "cell_type": "code",
   "execution_count": null,
   "id": "84b92591",
   "metadata": {
    "ExecuteTime": {
     "end_time": "2021-09-15T00:16:43.182542Z",
     "start_time": "2021-09-14T16:57:18.612Z"
    }
   },
   "outputs": [],
   "source": [
    "qda = QDA()\n",
    "qda.fit(X_train_sc, y_train)\n",
    "qda.score(X_test_sc,y_test)    # Not a big difference with LDA"
   ]
  },
  {
   "cell_type": "markdown",
   "id": "93aeea26",
   "metadata": {},
   "source": [
    "## Conclusion"
   ]
  },
  {
   "cell_type": "markdown",
   "id": "751eb5de",
   "metadata": {},
   "source": [
    "**1. Logistic Regression**: Accuracy: 50.4%, f1 score(weighted): 0.49<br>\n",
    "**2. Support Vector Machine**: Accuracy: 50.6%<br>\n",
    "**3. K-Nearest Neighbors**: Accuracy: 49.8%, f1-score(weighted): 0.49<br>\n",
    "**4. Decision Tree**: Accuracy: 50%, f1-score(weighted): 0.49<br>\n",
    "**5. Naive Bayes**: Accuracy: 47.9%, f1-score(weighted): 0.47<br>\n",
    "**6. Ensemble Model 1) Voting**: Accuracy: 50.5%<br>\n",
    "**7. Ensemble Model 2) Bagging - Random Forest**: Accuracy: 50.5%, f1-score(weighted): 0.49<br>\n",
    "**8. Ensemble Model 3) Boosting - XGboost**: Accuracy: 50.6%<br>\n",
    "**9. Linear Discriminant Analysis**: Accuracy: 49.9%<br>\n",
    "**10. Quadratic Discriminant Analysis**: Accuracy: 50.4%<br>"
   ]
  }
 ],
 "metadata": {
  "kernelspec": {
   "display_name": "Python 3",
   "language": "python",
   "name": "python3"
  },
  "language_info": {
   "codemirror_mode": {
    "name": "ipython",
    "version": 3
   },
   "file_extension": ".py",
   "mimetype": "text/x-python",
   "name": "python",
   "nbconvert_exporter": "python",
   "pygments_lexer": "ipython3",
   "version": "3.8.8"
  },
  "toc": {
   "base_numbering": 1,
   "nav_menu": {},
   "number_sections": true,
   "sideBar": true,
   "skip_h1_title": false,
   "title_cell": "Table of Contents",
   "title_sidebar": "Contents",
   "toc_cell": false,
   "toc_position": {},
   "toc_section_display": true,
   "toc_window_display": false
  }
 },
 "nbformat": 4,
 "nbformat_minor": 5
}
