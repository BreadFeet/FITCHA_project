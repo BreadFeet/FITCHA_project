{
 "cells": [
  {
   "cell_type": "markdown",
   "id": "0d0a412e",
   "metadata": {},
   "source": [
    "# Clothes Size Classification"
   ]
  },
  {
   "cell_type": "markdown",
   "id": "817a5ba9",
   "metadata": {
    "heading_collapsed": true
   },
   "source": [
    "## Preprocessing"
   ]
  },
  {
   "cell_type": "code",
   "execution_count": 63,
   "id": "41b1009c",
   "metadata": {
    "ExecuteTime": {
     "end_time": "2021-09-15T00:32:26.834555Z",
     "start_time": "2021-09-15T00:32:26.816280Z"
    },
    "hidden": true
   },
   "outputs": [],
   "source": [
    "import pandas as pd\n",
    "import numpy as np"
   ]
  },
  {
   "cell_type": "code",
   "execution_count": 64,
   "id": "225af997",
   "metadata": {
    "ExecuteTime": {
     "end_time": "2021-09-15T00:32:26.946581Z",
     "start_time": "2021-09-15T00:32:26.837555Z"
    },
    "hidden": true
   },
   "outputs": [
    {
     "data": {
      "text/html": [
       "<div>\n",
       "<style scoped>\n",
       "    .dataframe tbody tr th:only-of-type {\n",
       "        vertical-align: middle;\n",
       "    }\n",
       "\n",
       "    .dataframe tbody tr th {\n",
       "        vertical-align: top;\n",
       "    }\n",
       "\n",
       "    .dataframe thead th {\n",
       "        text-align: right;\n",
       "    }\n",
       "</style>\n",
       "<table border=\"1\" class=\"dataframe\">\n",
       "  <thead>\n",
       "    <tr style=\"text-align: right;\">\n",
       "      <th></th>\n",
       "      <th>weight</th>\n",
       "      <th>age</th>\n",
       "      <th>height</th>\n",
       "      <th>size</th>\n",
       "    </tr>\n",
       "  </thead>\n",
       "  <tbody>\n",
       "    <tr>\n",
       "      <th>0</th>\n",
       "      <td>62</td>\n",
       "      <td>28.0</td>\n",
       "      <td>172.72</td>\n",
       "      <td>XL</td>\n",
       "    </tr>\n",
       "    <tr>\n",
       "      <th>1</th>\n",
       "      <td>59</td>\n",
       "      <td>36.0</td>\n",
       "      <td>167.64</td>\n",
       "      <td>L</td>\n",
       "    </tr>\n",
       "    <tr>\n",
       "      <th>2</th>\n",
       "      <td>61</td>\n",
       "      <td>34.0</td>\n",
       "      <td>165.10</td>\n",
       "      <td>M</td>\n",
       "    </tr>\n",
       "    <tr>\n",
       "      <th>3</th>\n",
       "      <td>65</td>\n",
       "      <td>27.0</td>\n",
       "      <td>175.26</td>\n",
       "      <td>L</td>\n",
       "    </tr>\n",
       "    <tr>\n",
       "      <th>4</th>\n",
       "      <td>62</td>\n",
       "      <td>45.0</td>\n",
       "      <td>172.72</td>\n",
       "      <td>M</td>\n",
       "    </tr>\n",
       "    <tr>\n",
       "      <th>...</th>\n",
       "      <td>...</td>\n",
       "      <td>...</td>\n",
       "      <td>...</td>\n",
       "      <td>...</td>\n",
       "    </tr>\n",
       "    <tr>\n",
       "      <th>119729</th>\n",
       "      <td>63</td>\n",
       "      <td>42.0</td>\n",
       "      <td>175.26</td>\n",
       "      <td>M</td>\n",
       "    </tr>\n",
       "    <tr>\n",
       "      <th>119730</th>\n",
       "      <td>45</td>\n",
       "      <td>29.0</td>\n",
       "      <td>154.94</td>\n",
       "      <td>S</td>\n",
       "    </tr>\n",
       "    <tr>\n",
       "      <th>119731</th>\n",
       "      <td>61</td>\n",
       "      <td>31.0</td>\n",
       "      <td>172.72</td>\n",
       "      <td>M</td>\n",
       "    </tr>\n",
       "    <tr>\n",
       "      <th>119732</th>\n",
       "      <td>74</td>\n",
       "      <td>31.0</td>\n",
       "      <td>167.64</td>\n",
       "      <td>XL</td>\n",
       "    </tr>\n",
       "    <tr>\n",
       "      <th>119733</th>\n",
       "      <td>70</td>\n",
       "      <td>30.0</td>\n",
       "      <td>167.64</td>\n",
       "      <td>XL</td>\n",
       "    </tr>\n",
       "  </tbody>\n",
       "</table>\n",
       "<p>119734 rows × 4 columns</p>\n",
       "</div>"
      ],
      "text/plain": [
       "        weight   age  height size\n",
       "0           62  28.0  172.72   XL\n",
       "1           59  36.0  167.64    L\n",
       "2           61  34.0  165.10    M\n",
       "3           65  27.0  175.26    L\n",
       "4           62  45.0  172.72    M\n",
       "...        ...   ...     ...  ...\n",
       "119729      63  42.0  175.26    M\n",
       "119730      45  29.0  154.94    S\n",
       "119731      61  31.0  172.72    M\n",
       "119732      74  31.0  167.64   XL\n",
       "119733      70  30.0  167.64   XL\n",
       "\n",
       "[119734 rows x 4 columns]"
      ]
     },
     "execution_count": 64,
     "metadata": {},
     "output_type": "execute_result"
    }
   ],
   "source": [
    "data = pd.read_csv('../data/raw_data.csv')\n",
    "data"
   ]
  },
  {
   "cell_type": "code",
   "execution_count": 65,
   "id": "dee0342b",
   "metadata": {
    "ExecuteTime": {
     "end_time": "2021-09-15T00:32:26.995593Z",
     "start_time": "2021-09-15T00:32:26.949580Z"
    },
    "hidden": true
   },
   "outputs": [
    {
     "name": "stdout",
     "output_type": "stream",
     "text": [
      "<class 'pandas.core.frame.DataFrame'>\n",
      "RangeIndex: 119734 entries, 0 to 119733\n",
      "Data columns (total 4 columns):\n",
      " #   Column  Non-Null Count   Dtype  \n",
      "---  ------  --------------   -----  \n",
      " 0   weight  119734 non-null  int64  \n",
      " 1   age     119477 non-null  float64\n",
      " 2   height  119404 non-null  float64\n",
      " 3   size    119734 non-null  object \n",
      "dtypes: float64(2), int64(1), object(1)\n",
      "memory usage: 3.7+ MB\n"
     ]
    }
   ],
   "source": [
    "data.info()"
   ]
  },
  {
   "cell_type": "code",
   "execution_count": 66,
   "id": "f26fffab",
   "metadata": {
    "ExecuteTime": {
     "end_time": "2021-09-15T00:32:27.059605Z",
     "start_time": "2021-09-15T00:32:26.998594Z"
    },
    "hidden": true
   },
   "outputs": [
    {
     "data": {
      "text/html": [
       "<div>\n",
       "<style scoped>\n",
       "    .dataframe tbody tr th:only-of-type {\n",
       "        vertical-align: middle;\n",
       "    }\n",
       "\n",
       "    .dataframe tbody tr th {\n",
       "        vertical-align: top;\n",
       "    }\n",
       "\n",
       "    .dataframe thead th {\n",
       "        text-align: right;\n",
       "    }\n",
       "</style>\n",
       "<table border=\"1\" class=\"dataframe\">\n",
       "  <thead>\n",
       "    <tr style=\"text-align: right;\">\n",
       "      <th></th>\n",
       "      <th>weight</th>\n",
       "      <th>age</th>\n",
       "      <th>height</th>\n",
       "      <th>size</th>\n",
       "    </tr>\n",
       "  </thead>\n",
       "  <tbody>\n",
       "    <tr>\n",
       "      <th>0</th>\n",
       "      <td>62</td>\n",
       "      <td>28.0</td>\n",
       "      <td>172.72</td>\n",
       "      <td>XL</td>\n",
       "    </tr>\n",
       "    <tr>\n",
       "      <th>1</th>\n",
       "      <td>59</td>\n",
       "      <td>36.0</td>\n",
       "      <td>167.64</td>\n",
       "      <td>L</td>\n",
       "    </tr>\n",
       "    <tr>\n",
       "      <th>2</th>\n",
       "      <td>61</td>\n",
       "      <td>34.0</td>\n",
       "      <td>165.10</td>\n",
       "      <td>M</td>\n",
       "    </tr>\n",
       "    <tr>\n",
       "      <th>3</th>\n",
       "      <td>65</td>\n",
       "      <td>27.0</td>\n",
       "      <td>175.26</td>\n",
       "      <td>L</td>\n",
       "    </tr>\n",
       "    <tr>\n",
       "      <th>4</th>\n",
       "      <td>62</td>\n",
       "      <td>45.0</td>\n",
       "      <td>172.72</td>\n",
       "      <td>M</td>\n",
       "    </tr>\n",
       "    <tr>\n",
       "      <th>...</th>\n",
       "      <td>...</td>\n",
       "      <td>...</td>\n",
       "      <td>...</td>\n",
       "      <td>...</td>\n",
       "    </tr>\n",
       "    <tr>\n",
       "      <th>119729</th>\n",
       "      <td>63</td>\n",
       "      <td>42.0</td>\n",
       "      <td>175.26</td>\n",
       "      <td>M</td>\n",
       "    </tr>\n",
       "    <tr>\n",
       "      <th>119730</th>\n",
       "      <td>45</td>\n",
       "      <td>29.0</td>\n",
       "      <td>154.94</td>\n",
       "      <td>S</td>\n",
       "    </tr>\n",
       "    <tr>\n",
       "      <th>119731</th>\n",
       "      <td>61</td>\n",
       "      <td>31.0</td>\n",
       "      <td>172.72</td>\n",
       "      <td>M</td>\n",
       "    </tr>\n",
       "    <tr>\n",
       "      <th>119732</th>\n",
       "      <td>74</td>\n",
       "      <td>31.0</td>\n",
       "      <td>167.64</td>\n",
       "      <td>XL</td>\n",
       "    </tr>\n",
       "    <tr>\n",
       "      <th>119733</th>\n",
       "      <td>70</td>\n",
       "      <td>30.0</td>\n",
       "      <td>167.64</td>\n",
       "      <td>XL</td>\n",
       "    </tr>\n",
       "  </tbody>\n",
       "</table>\n",
       "<p>119153 rows × 4 columns</p>\n",
       "</div>"
      ],
      "text/plain": [
       "        weight   age  height size\n",
       "0           62  28.0  172.72   XL\n",
       "1           59  36.0  167.64    L\n",
       "2           61  34.0  165.10    M\n",
       "3           65  27.0  175.26    L\n",
       "4           62  45.0  172.72    M\n",
       "...        ...   ...     ...  ...\n",
       "119729      63  42.0  175.26    M\n",
       "119730      45  29.0  154.94    S\n",
       "119731      61  31.0  172.72    M\n",
       "119732      74  31.0  167.64   XL\n",
       "119733      70  30.0  167.64   XL\n",
       "\n",
       "[119153 rows x 4 columns]"
      ]
     },
     "execution_count": 66,
     "metadata": {},
     "output_type": "execute_result"
    }
   ],
   "source": [
    "# 1. NaN processing\n",
    "data.isnull().sum()   # age: 257, height: 330\n",
    "\n",
    "# Drop NaN\n",
    "data.dropna(inplace=True)\n",
    "data"
   ]
  },
  {
   "cell_type": "code",
   "execution_count": 67,
   "id": "05149d46",
   "metadata": {
    "ExecuteTime": {
     "end_time": "2021-09-15T00:32:27.106961Z",
     "start_time": "2021-09-15T00:32:27.062606Z"
    },
    "hidden": true
   },
   "outputs": [
    {
     "name": "stdout",
     "output_type": "stream",
     "text": [
      "<class 'pandas.core.frame.DataFrame'>\n",
      "Int64Index: 119153 entries, 0 to 119733\n",
      "Data columns (total 4 columns):\n",
      " #   Column  Non-Null Count   Dtype  \n",
      "---  ------  --------------   -----  \n",
      " 0   weight  119153 non-null  int64  \n",
      " 1   age     119153 non-null  int32  \n",
      " 2   height  119153 non-null  float64\n",
      " 3   size    119153 non-null  object \n",
      "dtypes: float64(1), int32(1), int64(1), object(1)\n",
      "memory usage: 4.1+ MB\n"
     ]
    }
   ],
   "source": [
    "# 2. age dtype: float -> int\n",
    "data = data.astype({'age':'int'})\n",
    "data.info()"
   ]
  },
  {
   "cell_type": "code",
   "execution_count": 68,
   "id": "91325910",
   "metadata": {
    "ExecuteTime": {
     "end_time": "2021-09-15T00:32:27.154964Z",
     "start_time": "2021-09-15T00:32:27.108953Z"
    },
    "hidden": true
   },
   "outputs": [
    {
     "data": {
      "text/html": [
       "<div>\n",
       "<style scoped>\n",
       "    .dataframe tbody tr th:only-of-type {\n",
       "        vertical-align: middle;\n",
       "    }\n",
       "\n",
       "    .dataframe tbody tr th {\n",
       "        vertical-align: top;\n",
       "    }\n",
       "\n",
       "    .dataframe thead th {\n",
       "        text-align: right;\n",
       "    }\n",
       "</style>\n",
       "<table border=\"1\" class=\"dataframe\">\n",
       "  <thead>\n",
       "    <tr style=\"text-align: right;\">\n",
       "      <th></th>\n",
       "      <th>weight</th>\n",
       "      <th>age</th>\n",
       "      <th>height</th>\n",
       "      <th>size</th>\n",
       "    </tr>\n",
       "  </thead>\n",
       "  <tbody>\n",
       "    <tr>\n",
       "      <th>0</th>\n",
       "      <td>62</td>\n",
       "      <td>28</td>\n",
       "      <td>172.7</td>\n",
       "      <td>XL</td>\n",
       "    </tr>\n",
       "    <tr>\n",
       "      <th>1</th>\n",
       "      <td>59</td>\n",
       "      <td>36</td>\n",
       "      <td>167.6</td>\n",
       "      <td>L</td>\n",
       "    </tr>\n",
       "    <tr>\n",
       "      <th>2</th>\n",
       "      <td>61</td>\n",
       "      <td>34</td>\n",
       "      <td>165.1</td>\n",
       "      <td>M</td>\n",
       "    </tr>\n",
       "    <tr>\n",
       "      <th>3</th>\n",
       "      <td>65</td>\n",
       "      <td>27</td>\n",
       "      <td>175.3</td>\n",
       "      <td>L</td>\n",
       "    </tr>\n",
       "    <tr>\n",
       "      <th>4</th>\n",
       "      <td>62</td>\n",
       "      <td>45</td>\n",
       "      <td>172.7</td>\n",
       "      <td>M</td>\n",
       "    </tr>\n",
       "    <tr>\n",
       "      <th>...</th>\n",
       "      <td>...</td>\n",
       "      <td>...</td>\n",
       "      <td>...</td>\n",
       "      <td>...</td>\n",
       "    </tr>\n",
       "    <tr>\n",
       "      <th>119729</th>\n",
       "      <td>63</td>\n",
       "      <td>42</td>\n",
       "      <td>175.3</td>\n",
       "      <td>M</td>\n",
       "    </tr>\n",
       "    <tr>\n",
       "      <th>119730</th>\n",
       "      <td>45</td>\n",
       "      <td>29</td>\n",
       "      <td>154.9</td>\n",
       "      <td>S</td>\n",
       "    </tr>\n",
       "    <tr>\n",
       "      <th>119731</th>\n",
       "      <td>61</td>\n",
       "      <td>31</td>\n",
       "      <td>172.7</td>\n",
       "      <td>M</td>\n",
       "    </tr>\n",
       "    <tr>\n",
       "      <th>119732</th>\n",
       "      <td>74</td>\n",
       "      <td>31</td>\n",
       "      <td>167.6</td>\n",
       "      <td>XL</td>\n",
       "    </tr>\n",
       "    <tr>\n",
       "      <th>119733</th>\n",
       "      <td>70</td>\n",
       "      <td>30</td>\n",
       "      <td>167.6</td>\n",
       "      <td>XL</td>\n",
       "    </tr>\n",
       "  </tbody>\n",
       "</table>\n",
       "<p>119153 rows × 4 columns</p>\n",
       "</div>"
      ],
      "text/plain": [
       "        weight  age  height size\n",
       "0           62   28   172.7   XL\n",
       "1           59   36   167.6    L\n",
       "2           61   34   165.1    M\n",
       "3           65   27   175.3    L\n",
       "4           62   45   172.7    M\n",
       "...        ...  ...     ...  ...\n",
       "119729      63   42   175.3    M\n",
       "119730      45   29   154.9    S\n",
       "119731      61   31   172.7    M\n",
       "119732      74   31   167.6   XL\n",
       "119733      70   30   167.6   XL\n",
       "\n",
       "[119153 rows x 4 columns]"
      ]
     },
     "execution_count": 68,
     "metadata": {},
     "output_type": "execute_result"
    }
   ],
   "source": [
    "# 3. height: rounded to one decimal place\n",
    "data['height'] = round(data['height'], 1)\n",
    "data"
   ]
  },
  {
   "cell_type": "markdown",
   "id": "5e6b16bc",
   "metadata": {
    "heading_collapsed": true,
    "hidden": true
   },
   "source": [
    "### Change the Age Range"
   ]
  },
  {
   "cell_type": "code",
   "execution_count": 69,
   "id": "81a7cb2a",
   "metadata": {
    "ExecuteTime": {
     "end_time": "2021-09-15T00:32:27.218978Z",
     "start_time": "2021-09-15T00:32:27.159966Z"
    },
    "hidden": true
   },
   "outputs": [
    {
     "data": {
      "text/html": [
       "<div>\n",
       "<style scoped>\n",
       "    .dataframe tbody tr th:only-of-type {\n",
       "        vertical-align: middle;\n",
       "    }\n",
       "\n",
       "    .dataframe tbody tr th {\n",
       "        vertical-align: top;\n",
       "    }\n",
       "\n",
       "    .dataframe thead th {\n",
       "        text-align: right;\n",
       "    }\n",
       "</style>\n",
       "<table border=\"1\" class=\"dataframe\">\n",
       "  <thead>\n",
       "    <tr style=\"text-align: right;\">\n",
       "      <th></th>\n",
       "      <th>weight</th>\n",
       "      <th>age</th>\n",
       "      <th>height</th>\n",
       "    </tr>\n",
       "  </thead>\n",
       "  <tbody>\n",
       "    <tr>\n",
       "      <th>count</th>\n",
       "      <td>119153.000000</td>\n",
       "      <td>119153.000000</td>\n",
       "      <td>119153.000000</td>\n",
       "    </tr>\n",
       "    <tr>\n",
       "      <th>mean</th>\n",
       "      <td>61.756095</td>\n",
       "      <td>34.032714</td>\n",
       "      <td>165.808586</td>\n",
       "    </tr>\n",
       "    <tr>\n",
       "      <th>std</th>\n",
       "      <td>9.942877</td>\n",
       "      <td>8.148302</td>\n",
       "      <td>6.737398</td>\n",
       "    </tr>\n",
       "    <tr>\n",
       "      <th>min</th>\n",
       "      <td>22.000000</td>\n",
       "      <td>0.000000</td>\n",
       "      <td>137.200000</td>\n",
       "    </tr>\n",
       "    <tr>\n",
       "      <th>25%</th>\n",
       "      <td>55.000000</td>\n",
       "      <td>29.000000</td>\n",
       "      <td>160.000000</td>\n",
       "    </tr>\n",
       "    <tr>\n",
       "      <th>50%</th>\n",
       "      <td>61.000000</td>\n",
       "      <td>32.000000</td>\n",
       "      <td>165.100000</td>\n",
       "    </tr>\n",
       "    <tr>\n",
       "      <th>75%</th>\n",
       "      <td>67.000000</td>\n",
       "      <td>37.000000</td>\n",
       "      <td>170.200000</td>\n",
       "    </tr>\n",
       "    <tr>\n",
       "      <th>max</th>\n",
       "      <td>136.000000</td>\n",
       "      <td>117.000000</td>\n",
       "      <td>193.000000</td>\n",
       "    </tr>\n",
       "  </tbody>\n",
       "</table>\n",
       "</div>"
      ],
      "text/plain": [
       "              weight            age         height\n",
       "count  119153.000000  119153.000000  119153.000000\n",
       "mean       61.756095      34.032714     165.808586\n",
       "std         9.942877       8.148302       6.737398\n",
       "min        22.000000       0.000000     137.200000\n",
       "25%        55.000000      29.000000     160.000000\n",
       "50%        61.000000      32.000000     165.100000\n",
       "75%        67.000000      37.000000     170.200000\n",
       "max       136.000000     117.000000     193.000000"
      ]
     },
     "execution_count": 69,
     "metadata": {},
     "output_type": "execute_result"
    }
   ],
   "source": [
    "data.describe()        # Age ranges from 0 to 117 -> unreliable"
   ]
  },
  {
   "cell_type": "code",
   "execution_count": 70,
   "id": "2f139500",
   "metadata": {
    "ExecuteTime": {
     "end_time": "2021-09-15T00:32:27.234982Z",
     "start_time": "2021-09-15T00:32:27.222982Z"
    },
    "hidden": true
   },
   "outputs": [
    {
     "data": {
      "text/plain": [
       "3      8\n",
       "71     8\n",
       "4      8\n",
       "72     7\n",
       "5      4\n",
       "76     4\n",
       "73     4\n",
       "14     3\n",
       "77     2\n",
       "87     2\n",
       "85     1\n",
       "81     1\n",
       "100    1\n",
       "113    1\n",
       "88     1\n",
       "92     1\n",
       "99     1\n",
       "9      1\n",
       "1      1\n",
       "112    1\n",
       "Name: age, dtype: int64"
      ]
     },
     "execution_count": 70,
     "metadata": {},
     "output_type": "execute_result"
    }
   ],
   "source": [
    "# Age range\n",
    "data.age.value_counts().tail(20)"
   ]
  },
  {
   "cell_type": "code",
   "execution_count": 71,
   "id": "7d2fd747",
   "metadata": {
    "ExecuteTime": {
     "end_time": "2021-09-15T00:32:27.266005Z",
     "start_time": "2021-09-15T00:32:27.237988Z"
    },
    "hidden": true
   },
   "outputs": [
    {
     "data": {
      "text/html": [
       "<div>\n",
       "<style scoped>\n",
       "    .dataframe tbody tr th:only-of-type {\n",
       "        vertical-align: middle;\n",
       "    }\n",
       "\n",
       "    .dataframe tbody tr th {\n",
       "        vertical-align: top;\n",
       "    }\n",
       "\n",
       "    .dataframe thead th {\n",
       "        text-align: right;\n",
       "    }\n",
       "</style>\n",
       "<table border=\"1\" class=\"dataframe\">\n",
       "  <thead>\n",
       "    <tr style=\"text-align: right;\">\n",
       "      <th></th>\n",
       "      <th>weight</th>\n",
       "      <th>age</th>\n",
       "      <th>height</th>\n",
       "      <th>size</th>\n",
       "    </tr>\n",
       "  </thead>\n",
       "  <tbody>\n",
       "    <tr>\n",
       "      <th>0</th>\n",
       "      <td>62</td>\n",
       "      <td>28</td>\n",
       "      <td>172.7</td>\n",
       "      <td>XL</td>\n",
       "    </tr>\n",
       "    <tr>\n",
       "      <th>1</th>\n",
       "      <td>59</td>\n",
       "      <td>36</td>\n",
       "      <td>167.6</td>\n",
       "      <td>L</td>\n",
       "    </tr>\n",
       "    <tr>\n",
       "      <th>2</th>\n",
       "      <td>61</td>\n",
       "      <td>34</td>\n",
       "      <td>165.1</td>\n",
       "      <td>M</td>\n",
       "    </tr>\n",
       "    <tr>\n",
       "      <th>3</th>\n",
       "      <td>65</td>\n",
       "      <td>27</td>\n",
       "      <td>175.3</td>\n",
       "      <td>L</td>\n",
       "    </tr>\n",
       "    <tr>\n",
       "      <th>4</th>\n",
       "      <td>62</td>\n",
       "      <td>45</td>\n",
       "      <td>172.7</td>\n",
       "      <td>M</td>\n",
       "    </tr>\n",
       "    <tr>\n",
       "      <th>...</th>\n",
       "      <td>...</td>\n",
       "      <td>...</td>\n",
       "      <td>...</td>\n",
       "      <td>...</td>\n",
       "    </tr>\n",
       "    <tr>\n",
       "      <th>119729</th>\n",
       "      <td>63</td>\n",
       "      <td>42</td>\n",
       "      <td>175.3</td>\n",
       "      <td>M</td>\n",
       "    </tr>\n",
       "    <tr>\n",
       "      <th>119730</th>\n",
       "      <td>45</td>\n",
       "      <td>29</td>\n",
       "      <td>154.9</td>\n",
       "      <td>S</td>\n",
       "    </tr>\n",
       "    <tr>\n",
       "      <th>119731</th>\n",
       "      <td>61</td>\n",
       "      <td>31</td>\n",
       "      <td>172.7</td>\n",
       "      <td>M</td>\n",
       "    </tr>\n",
       "    <tr>\n",
       "      <th>119732</th>\n",
       "      <td>74</td>\n",
       "      <td>31</td>\n",
       "      <td>167.6</td>\n",
       "      <td>XL</td>\n",
       "    </tr>\n",
       "    <tr>\n",
       "      <th>119733</th>\n",
       "      <td>70</td>\n",
       "      <td>30</td>\n",
       "      <td>167.6</td>\n",
       "      <td>XL</td>\n",
       "    </tr>\n",
       "  </tbody>\n",
       "</table>\n",
       "<p>117375 rows × 4 columns</p>\n",
       "</div>"
      ],
      "text/plain": [
       "        weight  age  height size\n",
       "0           62   28   172.7   XL\n",
       "1           59   36   167.6    L\n",
       "2           61   34   165.1    M\n",
       "3           65   27   175.3    L\n",
       "4           62   45   172.7    M\n",
       "...        ...  ...     ...  ...\n",
       "119729      63   42   175.3    M\n",
       "119730      45   29   154.9    S\n",
       "119731      61   31   172.7    M\n",
       "119732      74   31   167.6   XL\n",
       "119733      70   30   167.6   XL\n",
       "\n",
       "[117375 rows x 4 columns]"
      ]
     },
     "execution_count": 71,
     "metadata": {},
     "output_type": "execute_result"
    }
   ],
   "source": [
    "# Data is narrowed down with age between 20~60\n",
    "data1 = data[(data.age >= 20) & (data.age <= 60)]\n",
    "data1"
   ]
  },
  {
   "cell_type": "code",
   "execution_count": 72,
   "id": "48e6100d",
   "metadata": {
    "ExecuteTime": {
     "end_time": "2021-09-15T00:32:27.679093Z",
     "start_time": "2021-09-15T00:32:27.267989Z"
    },
    "hidden": true
   },
   "outputs": [
    {
     "name": "stdout",
     "output_type": "stream",
     "text": [
      "Export completed-------------------------------------\n"
     ]
    }
   ],
   "source": [
    "# Export to csv\n",
    "data1.to_csv('../data/data1.csv')\n",
    "print('Export completed-------------------------------------')"
   ]
  },
  {
   "cell_type": "markdown",
   "id": "cdf95b0d",
   "metadata": {
    "heading_collapsed": true,
    "hidden": true
   },
   "source": [
    "### Remove Outliers"
   ]
  },
  {
   "cell_type": "code",
   "execution_count": 73,
   "id": "c862b471",
   "metadata": {
    "ExecuteTime": {
     "end_time": "2021-09-15T00:32:27.725613Z",
     "start_time": "2021-09-15T00:32:27.682093Z"
    },
    "hidden": true
   },
   "outputs": [
    {
     "data": {
      "text/html": [
       "<div>\n",
       "<style scoped>\n",
       "    .dataframe tbody tr th:only-of-type {\n",
       "        vertical-align: middle;\n",
       "    }\n",
       "\n",
       "    .dataframe tbody tr th {\n",
       "        vertical-align: top;\n",
       "    }\n",
       "\n",
       "    .dataframe thead th {\n",
       "        text-align: right;\n",
       "    }\n",
       "</style>\n",
       "<table border=\"1\" class=\"dataframe\">\n",
       "  <thead>\n",
       "    <tr style=\"text-align: right;\">\n",
       "      <th></th>\n",
       "      <th>weight</th>\n",
       "      <th>age</th>\n",
       "      <th>height</th>\n",
       "    </tr>\n",
       "  </thead>\n",
       "  <tbody>\n",
       "    <tr>\n",
       "      <th>count</th>\n",
       "      <td>117375.000000</td>\n",
       "      <td>117375.000000</td>\n",
       "      <td>117375.000000</td>\n",
       "    </tr>\n",
       "    <tr>\n",
       "      <th>mean</th>\n",
       "      <td>61.772124</td>\n",
       "      <td>33.877504</td>\n",
       "      <td>165.814159</td>\n",
       "    </tr>\n",
       "    <tr>\n",
       "      <th>std</th>\n",
       "      <td>9.939778</td>\n",
       "      <td>7.454046</td>\n",
       "      <td>6.741833</td>\n",
       "    </tr>\n",
       "    <tr>\n",
       "      <th>min</th>\n",
       "      <td>22.000000</td>\n",
       "      <td>20.000000</td>\n",
       "      <td>137.200000</td>\n",
       "    </tr>\n",
       "    <tr>\n",
       "      <th>25%</th>\n",
       "      <td>55.000000</td>\n",
       "      <td>29.000000</td>\n",
       "      <td>160.000000</td>\n",
       "    </tr>\n",
       "    <tr>\n",
       "      <th>50%</th>\n",
       "      <td>61.000000</td>\n",
       "      <td>32.000000</td>\n",
       "      <td>165.100000</td>\n",
       "    </tr>\n",
       "    <tr>\n",
       "      <th>75%</th>\n",
       "      <td>67.000000</td>\n",
       "      <td>37.000000</td>\n",
       "      <td>170.200000</td>\n",
       "    </tr>\n",
       "    <tr>\n",
       "      <th>max</th>\n",
       "      <td>136.000000</td>\n",
       "      <td>60.000000</td>\n",
       "      <td>193.000000</td>\n",
       "    </tr>\n",
       "  </tbody>\n",
       "</table>\n",
       "</div>"
      ],
      "text/plain": [
       "              weight            age         height\n",
       "count  117375.000000  117375.000000  117375.000000\n",
       "mean       61.772124      33.877504     165.814159\n",
       "std         9.939778       7.454046       6.741833\n",
       "min        22.000000      20.000000     137.200000\n",
       "25%        55.000000      29.000000     160.000000\n",
       "50%        61.000000      32.000000     165.100000\n",
       "75%        67.000000      37.000000     170.200000\n",
       "max       136.000000      60.000000     193.000000"
      ]
     },
     "execution_count": 73,
     "metadata": {},
     "output_type": "execute_result"
    }
   ],
   "source": [
    "data1.describe()"
   ]
  },
  {
   "cell_type": "code",
   "execution_count": 74,
   "id": "14ecef41",
   "metadata": {
    "ExecuteTime": {
     "end_time": "2021-09-15T00:32:27.835654Z",
     "start_time": "2021-09-15T00:32:27.728613Z"
    },
    "hidden": true
   },
   "outputs": [
    {
     "name": "stderr",
     "output_type": "stream",
     "text": [
      "<ipython-input-74-f3dc2d24510c>:5: FutureWarning: Automatic reindexing on DataFrame vs Series comparisons is deprecated and will raise ValueError in a future version.  Do `left, right = left.align(right, axis=1, copy=False)` before e.g. `left == right`\n",
      "  outlier_con = (data1 < q1 - 1.5 * IQR) | (data1 > q3 + 1.5 * IQR)\n",
      "<ipython-input-74-f3dc2d24510c>:5: FutureWarning: Automatic reindexing on DataFrame vs Series comparisons is deprecated and will raise ValueError in a future version.  Do `left, right = left.align(right, axis=1, copy=False)` before e.g. `left == right`\n",
      "  outlier_con = (data1 < q1 - 1.5 * IQR) | (data1 > q3 + 1.5 * IQR)\n"
     ]
    },
    {
     "data": {
      "text/html": [
       "<div>\n",
       "<style scoped>\n",
       "    .dataframe tbody tr th:only-of-type {\n",
       "        vertical-align: middle;\n",
       "    }\n",
       "\n",
       "    .dataframe tbody tr th {\n",
       "        vertical-align: top;\n",
       "    }\n",
       "\n",
       "    .dataframe thead th {\n",
       "        text-align: right;\n",
       "    }\n",
       "</style>\n",
       "<table border=\"1\" class=\"dataframe\">\n",
       "  <thead>\n",
       "    <tr style=\"text-align: right;\">\n",
       "      <th></th>\n",
       "      <th>weight</th>\n",
       "      <th>age</th>\n",
       "      <th>height</th>\n",
       "      <th>size</th>\n",
       "    </tr>\n",
       "  </thead>\n",
       "  <tbody>\n",
       "    <tr>\n",
       "      <th>22</th>\n",
       "      <td>55</td>\n",
       "      <td>50</td>\n",
       "      <td>165.1</td>\n",
       "      <td>S</td>\n",
       "    </tr>\n",
       "    <tr>\n",
       "      <th>33</th>\n",
       "      <td>86</td>\n",
       "      <td>48</td>\n",
       "      <td>172.7</td>\n",
       "      <td>XXXL</td>\n",
       "    </tr>\n",
       "    <tr>\n",
       "      <th>40</th>\n",
       "      <td>58</td>\n",
       "      <td>52</td>\n",
       "      <td>162.6</td>\n",
       "      <td>XXXL</td>\n",
       "    </tr>\n",
       "    <tr>\n",
       "      <th>73</th>\n",
       "      <td>113</td>\n",
       "      <td>27</td>\n",
       "      <td>167.6</td>\n",
       "      <td>XXXL</td>\n",
       "    </tr>\n",
       "    <tr>\n",
       "      <th>74</th>\n",
       "      <td>88</td>\n",
       "      <td>30</td>\n",
       "      <td>162.6</td>\n",
       "      <td>XXXL</td>\n",
       "    </tr>\n",
       "    <tr>\n",
       "      <th>...</th>\n",
       "      <td>...</td>\n",
       "      <td>...</td>\n",
       "      <td>...</td>\n",
       "      <td>...</td>\n",
       "    </tr>\n",
       "    <tr>\n",
       "      <th>119685</th>\n",
       "      <td>87</td>\n",
       "      <td>29</td>\n",
       "      <td>165.1</td>\n",
       "      <td>XXXL</td>\n",
       "    </tr>\n",
       "    <tr>\n",
       "      <th>119699</th>\n",
       "      <td>63</td>\n",
       "      <td>50</td>\n",
       "      <td>160.0</td>\n",
       "      <td>XXXL</td>\n",
       "    </tr>\n",
       "    <tr>\n",
       "      <th>119704</th>\n",
       "      <td>70</td>\n",
       "      <td>55</td>\n",
       "      <td>165.1</td>\n",
       "      <td>XXXL</td>\n",
       "    </tr>\n",
       "    <tr>\n",
       "      <th>119710</th>\n",
       "      <td>77</td>\n",
       "      <td>51</td>\n",
       "      <td>165.1</td>\n",
       "      <td>XXXL</td>\n",
       "    </tr>\n",
       "    <tr>\n",
       "      <th>119716</th>\n",
       "      <td>91</td>\n",
       "      <td>28</td>\n",
       "      <td>175.3</td>\n",
       "      <td>XXXL</td>\n",
       "    </tr>\n",
       "  </tbody>\n",
       "</table>\n",
       "<p>8976 rows × 4 columns</p>\n",
       "</div>"
      ],
      "text/plain": [
       "        weight  age  height  size\n",
       "22          55   50   165.1     S\n",
       "33          86   48   172.7  XXXL\n",
       "40          58   52   162.6  XXXL\n",
       "73         113   27   167.6  XXXL\n",
       "74          88   30   162.6  XXXL\n",
       "...        ...  ...     ...   ...\n",
       "119685      87   29   165.1  XXXL\n",
       "119699      63   50   160.0  XXXL\n",
       "119704      70   55   165.1  XXXL\n",
       "119710      77   51   165.1  XXXL\n",
       "119716      91   28   175.3  XXXL\n",
       "\n",
       "[8976 rows x 4 columns]"
      ]
     },
     "execution_count": 74,
     "metadata": {},
     "output_type": "execute_result"
    }
   ],
   "source": [
    "# Calculate IQR\n",
    "q1 = data1.quantile(0.25)    # Return a series\n",
    "q3 = data1.quantile(0.75)\n",
    "IQR = q3 - q1\n",
    "outlier_con = (data1 < q1 - 1.5 * IQR) | (data1 > q3 + 1.5 * IQR)\n",
    "outlier_con = outlier_con.any(axis=1)   # When there's at least one True, it returns True\n",
    "outlier_df = data1[outlier_con]    # Outliers\n",
    "outlier_df"
   ]
  },
  {
   "cell_type": "code",
   "execution_count": 75,
   "id": "293f3d77",
   "metadata": {
    "ExecuteTime": {
     "end_time": "2021-09-15T00:32:27.883648Z",
     "start_time": "2021-09-15T00:32:27.838653Z"
    },
    "hidden": true
   },
   "outputs": [
    {
     "data": {
      "text/html": [
       "<div>\n",
       "<style scoped>\n",
       "    .dataframe tbody tr th:only-of-type {\n",
       "        vertical-align: middle;\n",
       "    }\n",
       "\n",
       "    .dataframe tbody tr th {\n",
       "        vertical-align: top;\n",
       "    }\n",
       "\n",
       "    .dataframe thead th {\n",
       "        text-align: right;\n",
       "    }\n",
       "</style>\n",
       "<table border=\"1\" class=\"dataframe\">\n",
       "  <thead>\n",
       "    <tr style=\"text-align: right;\">\n",
       "      <th></th>\n",
       "      <th>weight</th>\n",
       "      <th>age</th>\n",
       "      <th>height</th>\n",
       "      <th>size</th>\n",
       "    </tr>\n",
       "  </thead>\n",
       "  <tbody>\n",
       "    <tr>\n",
       "      <th>0</th>\n",
       "      <td>62</td>\n",
       "      <td>28</td>\n",
       "      <td>172.7</td>\n",
       "      <td>XL</td>\n",
       "    </tr>\n",
       "    <tr>\n",
       "      <th>1</th>\n",
       "      <td>59</td>\n",
       "      <td>36</td>\n",
       "      <td>167.6</td>\n",
       "      <td>L</td>\n",
       "    </tr>\n",
       "    <tr>\n",
       "      <th>2</th>\n",
       "      <td>61</td>\n",
       "      <td>34</td>\n",
       "      <td>165.1</td>\n",
       "      <td>M</td>\n",
       "    </tr>\n",
       "    <tr>\n",
       "      <th>3</th>\n",
       "      <td>65</td>\n",
       "      <td>27</td>\n",
       "      <td>175.3</td>\n",
       "      <td>L</td>\n",
       "    </tr>\n",
       "    <tr>\n",
       "      <th>4</th>\n",
       "      <td>62</td>\n",
       "      <td>45</td>\n",
       "      <td>172.7</td>\n",
       "      <td>M</td>\n",
       "    </tr>\n",
       "    <tr>\n",
       "      <th>...</th>\n",
       "      <td>...</td>\n",
       "      <td>...</td>\n",
       "      <td>...</td>\n",
       "      <td>...</td>\n",
       "    </tr>\n",
       "    <tr>\n",
       "      <th>119729</th>\n",
       "      <td>63</td>\n",
       "      <td>42</td>\n",
       "      <td>175.3</td>\n",
       "      <td>M</td>\n",
       "    </tr>\n",
       "    <tr>\n",
       "      <th>119730</th>\n",
       "      <td>45</td>\n",
       "      <td>29</td>\n",
       "      <td>154.9</td>\n",
       "      <td>S</td>\n",
       "    </tr>\n",
       "    <tr>\n",
       "      <th>119731</th>\n",
       "      <td>61</td>\n",
       "      <td>31</td>\n",
       "      <td>172.7</td>\n",
       "      <td>M</td>\n",
       "    </tr>\n",
       "    <tr>\n",
       "      <th>119732</th>\n",
       "      <td>74</td>\n",
       "      <td>31</td>\n",
       "      <td>167.6</td>\n",
       "      <td>XL</td>\n",
       "    </tr>\n",
       "    <tr>\n",
       "      <th>119733</th>\n",
       "      <td>70</td>\n",
       "      <td>30</td>\n",
       "      <td>167.6</td>\n",
       "      <td>XL</td>\n",
       "    </tr>\n",
       "  </tbody>\n",
       "</table>\n",
       "<p>108399 rows × 4 columns</p>\n",
       "</div>"
      ],
      "text/plain": [
       "        weight  age  height size\n",
       "0           62   28   172.7   XL\n",
       "1           59   36   167.6    L\n",
       "2           61   34   165.1    M\n",
       "3           65   27   175.3    L\n",
       "4           62   45   172.7    M\n",
       "...        ...  ...     ...  ...\n",
       "119729      63   42   175.3    M\n",
       "119730      45   29   154.9    S\n",
       "119731      61   31   172.7    M\n",
       "119732      74   31   167.6   XL\n",
       "119733      70   30   167.6   XL\n",
       "\n",
       "[108399 rows x 4 columns]"
      ]
     },
     "execution_count": 75,
     "metadata": {},
     "output_type": "execute_result"
    }
   ],
   "source": [
    "data2 = data1.drop(outlier_df.index, axis=0)\n",
    "data2     # Data without outliers"
   ]
  },
  {
   "cell_type": "code",
   "execution_count": 76,
   "id": "cddbed4c",
   "metadata": {
    "ExecuteTime": {
     "end_time": "2021-09-15T00:32:28.278736Z",
     "start_time": "2021-09-15T00:32:27.885647Z"
    },
    "hidden": true
   },
   "outputs": [
    {
     "name": "stdout",
     "output_type": "stream",
     "text": [
      "Export completed------------------------------------\n"
     ]
    }
   ],
   "source": [
    "# Export to excel\n",
    "data2.to_csv('../data/data2.csv')\n",
    "print('Export completed------------------------------------')"
   ]
  },
  {
   "cell_type": "markdown",
   "id": "4e31ae73",
   "metadata": {
    "heading_collapsed": true,
    "hidden": true
   },
   "source": [
    "### Remove Outliers by Size"
   ]
  },
  {
   "cell_type": "code",
   "execution_count": 77,
   "id": "7a6a567e",
   "metadata": {
    "ExecuteTime": {
     "end_time": "2021-09-15T00:32:28.374285Z",
     "start_time": "2021-09-15T00:32:28.280736Z"
    },
    "hidden": true
   },
   "outputs": [
    {
     "name": "stderr",
     "output_type": "stream",
     "text": [
      "<ipython-input-77-9702926857da>:6: FutureWarning: Automatic reindexing on DataFrame vs Series comparisons is deprecated and will raise ValueError in a future version.  Do `left, right = left.align(right, axis=1, copy=False)` before e.g. `left == right`\n",
      "  condition = (df < q1 - 1.5 * IQR) | (df > q3 + 1.5 * IQR)\n",
      "<ipython-input-77-9702926857da>:6: FutureWarning: Automatic reindexing on DataFrame vs Series comparisons is deprecated and will raise ValueError in a future version.  Do `left, right = left.align(right, axis=1, copy=False)` before e.g. `left == right`\n",
      "  condition = (df < q1 - 1.5 * IQR) | (df > q3 + 1.5 * IQR)\n"
     ]
    }
   ],
   "source": [
    "# Define function to remove outlier\n",
    "def remove_outliers(df):\n",
    "    q1 = df.quantile(0.25)\n",
    "    q3 = df.quantile(0.75)\n",
    "    IQR = q3 - q1\n",
    "    condition = (df < q1 - 1.5 * IQR) | (df > q3 + 1.5 * IQR)\n",
    "    condition = condition.any(axis=1)   # True: outliers\n",
    "    outlier_index = df[condition].index\n",
    "    result = df.drop(outlier_index, axis=0)\n",
    "    return result\n",
    "\n",
    "if __name__ == '__main__':      # Test the function\n",
    "    remove_outliers(data2)"
   ]
  },
  {
   "cell_type": "code",
   "execution_count": 78,
   "id": "3d9ac8fa",
   "metadata": {
    "ExecuteTime": {
     "end_time": "2021-09-15T00:32:28.625328Z",
     "start_time": "2021-09-15T00:32:28.376269Z"
    },
    "hidden": true
   },
   "outputs": [
    {
     "name": "stderr",
     "output_type": "stream",
     "text": [
      "<ipython-input-77-9702926857da>:6: FutureWarning: Automatic reindexing on DataFrame vs Series comparisons is deprecated and will raise ValueError in a future version.  Do `left, right = left.align(right, axis=1, copy=False)` before e.g. `left == right`\n",
      "  condition = (df < q1 - 1.5 * IQR) | (df > q3 + 1.5 * IQR)\n",
      "<ipython-input-77-9702926857da>:6: FutureWarning: Automatic reindexing on DataFrame vs Series comparisons is deprecated and will raise ValueError in a future version.  Do `left, right = left.align(right, axis=1, copy=False)` before e.g. `left == right`\n",
      "  condition = (df < q1 - 1.5 * IQR) | (df > q3 + 1.5 * IQR)\n",
      "<ipython-input-77-9702926857da>:6: FutureWarning: Automatic reindexing on DataFrame vs Series comparisons is deprecated and will raise ValueError in a future version.  Do `left, right = left.align(right, axis=1, copy=False)` before e.g. `left == right`\n",
      "  condition = (df < q1 - 1.5 * IQR) | (df > q3 + 1.5 * IQR)\n",
      "<ipython-input-77-9702926857da>:6: FutureWarning: Automatic reindexing on DataFrame vs Series comparisons is deprecated and will raise ValueError in a future version.  Do `left, right = left.align(right, axis=1, copy=False)` before e.g. `left == right`\n",
      "  condition = (df < q1 - 1.5 * IQR) | (df > q3 + 1.5 * IQR)\n",
      "<ipython-input-77-9702926857da>:6: FutureWarning: Automatic reindexing on DataFrame vs Series comparisons is deprecated and will raise ValueError in a future version.  Do `left, right = left.align(right, axis=1, copy=False)` before e.g. `left == right`\n",
      "  condition = (df < q1 - 1.5 * IQR) | (df > q3 + 1.5 * IQR)\n",
      "<ipython-input-77-9702926857da>:6: FutureWarning: Automatic reindexing on DataFrame vs Series comparisons is deprecated and will raise ValueError in a future version.  Do `left, right = left.align(right, axis=1, copy=False)` before e.g. `left == right`\n",
      "  condition = (df < q1 - 1.5 * IQR) | (df > q3 + 1.5 * IQR)\n",
      "<ipython-input-77-9702926857da>:6: FutureWarning: Automatic reindexing on DataFrame vs Series comparisons is deprecated and will raise ValueError in a future version.  Do `left, right = left.align(right, axis=1, copy=False)` before e.g. `left == right`\n",
      "  condition = (df < q1 - 1.5 * IQR) | (df > q3 + 1.5 * IQR)\n",
      "<ipython-input-77-9702926857da>:6: FutureWarning: Automatic reindexing on DataFrame vs Series comparisons is deprecated and will raise ValueError in a future version.  Do `left, right = left.align(right, axis=1, copy=False)` before e.g. `left == right`\n",
      "  condition = (df < q1 - 1.5 * IQR) | (df > q3 + 1.5 * IQR)\n",
      "<ipython-input-77-9702926857da>:6: FutureWarning: Automatic reindexing on DataFrame vs Series comparisons is deprecated and will raise ValueError in a future version.  Do `left, right = left.align(right, axis=1, copy=False)` before e.g. `left == right`\n",
      "  condition = (df < q1 - 1.5 * IQR) | (df > q3 + 1.5 * IQR)\n",
      "<ipython-input-77-9702926857da>:6: FutureWarning: Automatic reindexing on DataFrame vs Series comparisons is deprecated and will raise ValueError in a future version.  Do `left, right = left.align(right, axis=1, copy=False)` before e.g. `left == right`\n",
      "  condition = (df < q1 - 1.5 * IQR) | (df > q3 + 1.5 * IQR)\n",
      "<ipython-input-77-9702926857da>:6: FutureWarning: Automatic reindexing on DataFrame vs Series comparisons is deprecated and will raise ValueError in a future version.  Do `left, right = left.align(right, axis=1, copy=False)` before e.g. `left == right`\n",
      "  condition = (df < q1 - 1.5 * IQR) | (df > q3 + 1.5 * IQR)\n",
      "<ipython-input-77-9702926857da>:6: FutureWarning: Automatic reindexing on DataFrame vs Series comparisons is deprecated and will raise ValueError in a future version.  Do `left, right = left.align(right, axis=1, copy=False)` before e.g. `left == right`\n",
      "  condition = (df < q1 - 1.5 * IQR) | (df > q3 + 1.5 * IQR)\n",
      "<ipython-input-77-9702926857da>:6: FutureWarning: Automatic reindexing on DataFrame vs Series comparisons is deprecated and will raise ValueError in a future version.  Do `left, right = left.align(right, axis=1, copy=False)` before e.g. `left == right`\n",
      "  condition = (df < q1 - 1.5 * IQR) | (df > q3 + 1.5 * IQR)\n",
      "<ipython-input-77-9702926857da>:6: FutureWarning: Automatic reindexing on DataFrame vs Series comparisons is deprecated and will raise ValueError in a future version.  Do `left, right = left.align(right, axis=1, copy=False)` before e.g. `left == right`\n",
      "  condition = (df < q1 - 1.5 * IQR) | (df > q3 + 1.5 * IQR)\n"
     ]
    },
    {
     "data": {
      "text/html": [
       "<div>\n",
       "<style scoped>\n",
       "    .dataframe tbody tr th:only-of-type {\n",
       "        vertical-align: middle;\n",
       "    }\n",
       "\n",
       "    .dataframe tbody tr th {\n",
       "        vertical-align: top;\n",
       "    }\n",
       "\n",
       "    .dataframe thead th {\n",
       "        text-align: right;\n",
       "    }\n",
       "</style>\n",
       "<table border=\"1\" class=\"dataframe\">\n",
       "  <thead>\n",
       "    <tr style=\"text-align: right;\">\n",
       "      <th></th>\n",
       "      <th>weight</th>\n",
       "      <th>age</th>\n",
       "      <th>height</th>\n",
       "      <th>size</th>\n",
       "    </tr>\n",
       "  </thead>\n",
       "  <tbody>\n",
       "    <tr>\n",
       "      <th>1</th>\n",
       "      <td>59</td>\n",
       "      <td>36</td>\n",
       "      <td>167.6</td>\n",
       "      <td>L</td>\n",
       "    </tr>\n",
       "    <tr>\n",
       "      <th>3</th>\n",
       "      <td>65</td>\n",
       "      <td>27</td>\n",
       "      <td>175.3</td>\n",
       "      <td>L</td>\n",
       "    </tr>\n",
       "    <tr>\n",
       "      <th>12</th>\n",
       "      <td>64</td>\n",
       "      <td>26</td>\n",
       "      <td>165.1</td>\n",
       "      <td>L</td>\n",
       "    </tr>\n",
       "    <tr>\n",
       "      <th>14</th>\n",
       "      <td>65</td>\n",
       "      <td>33</td>\n",
       "      <td>165.1</td>\n",
       "      <td>L</td>\n",
       "    </tr>\n",
       "    <tr>\n",
       "      <th>15</th>\n",
       "      <td>63</td>\n",
       "      <td>30</td>\n",
       "      <td>167.6</td>\n",
       "      <td>L</td>\n",
       "    </tr>\n",
       "    <tr>\n",
       "      <th>...</th>\n",
       "      <td>...</td>\n",
       "      <td>...</td>\n",
       "      <td>...</td>\n",
       "      <td>...</td>\n",
       "    </tr>\n",
       "    <tr>\n",
       "      <th>119692</th>\n",
       "      <td>76</td>\n",
       "      <td>30</td>\n",
       "      <td>167.6</td>\n",
       "      <td>XXXL</td>\n",
       "    </tr>\n",
       "    <tr>\n",
       "      <th>119707</th>\n",
       "      <td>72</td>\n",
       "      <td>44</td>\n",
       "      <td>162.6</td>\n",
       "      <td>XXXL</td>\n",
       "    </tr>\n",
       "    <tr>\n",
       "      <th>119720</th>\n",
       "      <td>58</td>\n",
       "      <td>35</td>\n",
       "      <td>167.6</td>\n",
       "      <td>XXXL</td>\n",
       "    </tr>\n",
       "    <tr>\n",
       "      <th>119721</th>\n",
       "      <td>62</td>\n",
       "      <td>40</td>\n",
       "      <td>160.0</td>\n",
       "      <td>XXXL</td>\n",
       "    </tr>\n",
       "    <tr>\n",
       "      <th>119727</th>\n",
       "      <td>68</td>\n",
       "      <td>28</td>\n",
       "      <td>170.2</td>\n",
       "      <td>XXXL</td>\n",
       "    </tr>\n",
       "  </tbody>\n",
       "</table>\n",
       "<p>104928 rows × 4 columns</p>\n",
       "</div>"
      ],
      "text/plain": [
       "        weight  age  height  size\n",
       "1           59   36   167.6     L\n",
       "3           65   27   175.3     L\n",
       "12          64   26   165.1     L\n",
       "14          65   33   165.1     L\n",
       "15          63   30   167.6     L\n",
       "...        ...  ...     ...   ...\n",
       "119692      76   30   167.6  XXXL\n",
       "119707      72   44   162.6  XXXL\n",
       "119720      58   35   167.6  XXXL\n",
       "119721      62   40   160.0  XXXL\n",
       "119727      68   28   170.2  XXXL\n",
       "\n",
       "[104928 rows x 4 columns]"
      ]
     },
     "execution_count": 78,
     "metadata": {},
     "output_type": "execute_result"
    }
   ],
   "source": [
    "# Groupby & apply the function above\n",
    "df = data2.groupby(['size']).apply(lambda x: remove_outliers(x))\n",
    "data3 = df.set_index(df.index.get_level_values(1))      # Remove multi-index\n",
    "data3"
   ]
  },
  {
   "cell_type": "code",
   "execution_count": 79,
   "id": "5eab1cfb",
   "metadata": {
    "ExecuteTime": {
     "end_time": "2021-09-15T00:32:28.976712Z",
     "start_time": "2021-09-15T00:32:28.629326Z"
    },
    "hidden": true
   },
   "outputs": [
    {
     "name": "stdout",
     "output_type": "stream",
     "text": [
      "Export completed-------------------------------------------\n"
     ]
    }
   ],
   "source": [
    "# Export to csv\n",
    "data3.to_csv('../data/data3.csv')\n",
    "print('Export completed-------------------------------------------')"
   ]
  },
  {
   "cell_type": "code",
   "execution_count": 80,
   "id": "6effb401",
   "metadata": {
    "ExecuteTime": {
     "end_time": "2021-09-15T00:32:29.022941Z",
     "start_time": "2021-09-15T00:32:28.979405Z"
    },
    "hidden": true
   },
   "outputs": [
    {
     "data": {
      "text/html": [
       "<div>\n",
       "<style scoped>\n",
       "    .dataframe tbody tr th:only-of-type {\n",
       "        vertical-align: middle;\n",
       "    }\n",
       "\n",
       "    .dataframe tbody tr th {\n",
       "        vertical-align: top;\n",
       "    }\n",
       "\n",
       "    .dataframe thead th {\n",
       "        text-align: right;\n",
       "    }\n",
       "</style>\n",
       "<table border=\"1\" class=\"dataframe\">\n",
       "  <thead>\n",
       "    <tr style=\"text-align: right;\">\n",
       "      <th></th>\n",
       "      <th>weight</th>\n",
       "      <th>age</th>\n",
       "      <th>height</th>\n",
       "    </tr>\n",
       "  </thead>\n",
       "  <tbody>\n",
       "    <tr>\n",
       "      <th>count</th>\n",
       "      <td>104928.000000</td>\n",
       "      <td>104928.000000</td>\n",
       "      <td>104928.000000</td>\n",
       "    </tr>\n",
       "    <tr>\n",
       "      <th>mean</th>\n",
       "      <td>60.843388</td>\n",
       "      <td>32.721523</td>\n",
       "      <td>165.716827</td>\n",
       "    </tr>\n",
       "    <tr>\n",
       "      <th>std</th>\n",
       "      <td>7.995893</td>\n",
       "      <td>5.913624</td>\n",
       "      <td>6.559870</td>\n",
       "    </tr>\n",
       "    <tr>\n",
       "      <th>min</th>\n",
       "      <td>41.000000</td>\n",
       "      <td>20.000000</td>\n",
       "      <td>144.800000</td>\n",
       "    </tr>\n",
       "    <tr>\n",
       "      <th>25%</th>\n",
       "      <td>55.000000</td>\n",
       "      <td>29.000000</td>\n",
       "      <td>160.000000</td>\n",
       "    </tr>\n",
       "    <tr>\n",
       "      <th>50%</th>\n",
       "      <td>61.000000</td>\n",
       "      <td>32.000000</td>\n",
       "      <td>165.100000</td>\n",
       "    </tr>\n",
       "    <tr>\n",
       "      <th>75%</th>\n",
       "      <td>65.000000</td>\n",
       "      <td>36.000000</td>\n",
       "      <td>170.200000</td>\n",
       "    </tr>\n",
       "    <tr>\n",
       "      <th>max</th>\n",
       "      <td>85.000000</td>\n",
       "      <td>49.000000</td>\n",
       "      <td>185.400000</td>\n",
       "    </tr>\n",
       "  </tbody>\n",
       "</table>\n",
       "</div>"
      ],
      "text/plain": [
       "              weight            age         height\n",
       "count  104928.000000  104928.000000  104928.000000\n",
       "mean       60.843388      32.721523     165.716827\n",
       "std         7.995893       5.913624       6.559870\n",
       "min        41.000000      20.000000     144.800000\n",
       "25%        55.000000      29.000000     160.000000\n",
       "50%        61.000000      32.000000     165.100000\n",
       "75%        65.000000      36.000000     170.200000\n",
       "max        85.000000      49.000000     185.400000"
      ]
     },
     "execution_count": 80,
     "metadata": {},
     "output_type": "execute_result"
    }
   ],
   "source": [
    "data3.describe()"
   ]
  },
  {
   "cell_type": "markdown",
   "id": "cc8fe05e",
   "metadata": {
    "heading_collapsed": true
   },
   "source": [
    "## Explore Data"
   ]
  },
  {
   "cell_type": "code",
   "execution_count": 81,
   "id": "e083ee4b",
   "metadata": {
    "ExecuteTime": {
     "end_time": "2021-09-15T00:32:29.053947Z",
     "start_time": "2021-09-15T00:32:29.024924Z"
    },
    "hidden": true
   },
   "outputs": [
    {
     "data": {
      "text/plain": [
       "array(['XL', 'L', 'M', 'S', 'XXS', 'XXXL', 'XXL'], dtype=object)"
      ]
     },
     "execution_count": 81,
     "metadata": {},
     "output_type": "execute_result"
    }
   ],
   "source": [
    "# Check what sizes there are\n",
    "data1['size'].unique()     # XXS ~ XXXL withoug XS"
   ]
  },
  {
   "cell_type": "code",
   "execution_count": 82,
   "id": "e866fcb0",
   "metadata": {
    "ExecuteTime": {
     "end_time": "2021-09-15T00:32:29.085937Z",
     "start_time": "2021-09-15T00:32:29.056929Z"
    },
    "hidden": true
   },
   "outputs": [
    {
     "data": {
      "text/plain": [
       "M       29191\n",
       "S       21515\n",
       "XXXL    20809\n",
       "XL      18785\n",
       "L       17249\n",
       "XXS      9760\n",
       "XXL        66\n",
       "Name: size, dtype: int64"
      ]
     },
     "execution_count": 82,
     "metadata": {},
     "output_type": "execute_result"
    }
   ],
   "source": [
    "# Check data balance\n",
    "data1['size'].value_counts()   # Very small number in XXL"
   ]
  },
  {
   "cell_type": "markdown",
   "id": "ef3a1fc5",
   "metadata": {
    "heading_collapsed": true
   },
   "source": [
    "## Train/Test Split"
   ]
  },
  {
   "cell_type": "code",
   "execution_count": 83,
   "id": "c2c5a6ca",
   "metadata": {
    "ExecuteTime": {
     "end_time": "2021-09-15T00:32:29.101943Z",
     "start_time": "2021-09-15T00:32:29.088956Z"
    },
    "hidden": true
   },
   "outputs": [],
   "source": [
    "from sklearn.model_selection import train_test_split"
   ]
  },
  {
   "cell_type": "code",
   "execution_count": 84,
   "id": "20a13331",
   "metadata": {
    "ExecuteTime": {
     "end_time": "2021-09-15T00:32:29.212965Z",
     "start_time": "2021-09-15T00:32:29.104942Z"
    },
    "hidden": true
   },
   "outputs": [
    {
     "data": {
      "text/html": [
       "<div>\n",
       "<style scoped>\n",
       "    .dataframe tbody tr th:only-of-type {\n",
       "        vertical-align: middle;\n",
       "    }\n",
       "\n",
       "    .dataframe tbody tr th {\n",
       "        vertical-align: top;\n",
       "    }\n",
       "\n",
       "    .dataframe thead th {\n",
       "        text-align: right;\n",
       "    }\n",
       "</style>\n",
       "<table border=\"1\" class=\"dataframe\">\n",
       "  <thead>\n",
       "    <tr style=\"text-align: right;\">\n",
       "      <th></th>\n",
       "      <th>weight</th>\n",
       "      <th>age</th>\n",
       "      <th>height</th>\n",
       "      <th>size</th>\n",
       "    </tr>\n",
       "  </thead>\n",
       "  <tbody>\n",
       "    <tr>\n",
       "      <th>119692</th>\n",
       "      <td>76</td>\n",
       "      <td>30</td>\n",
       "      <td>167.6</td>\n",
       "      <td>XXXL</td>\n",
       "    </tr>\n",
       "    <tr>\n",
       "      <th>119707</th>\n",
       "      <td>72</td>\n",
       "      <td>44</td>\n",
       "      <td>162.6</td>\n",
       "      <td>XXXL</td>\n",
       "    </tr>\n",
       "    <tr>\n",
       "      <th>119720</th>\n",
       "      <td>58</td>\n",
       "      <td>35</td>\n",
       "      <td>167.6</td>\n",
       "      <td>XXXL</td>\n",
       "    </tr>\n",
       "    <tr>\n",
       "      <th>119721</th>\n",
       "      <td>62</td>\n",
       "      <td>40</td>\n",
       "      <td>160.0</td>\n",
       "      <td>XXXL</td>\n",
       "    </tr>\n",
       "    <tr>\n",
       "      <th>119727</th>\n",
       "      <td>68</td>\n",
       "      <td>28</td>\n",
       "      <td>170.2</td>\n",
       "      <td>XXXL</td>\n",
       "    </tr>\n",
       "  </tbody>\n",
       "</table>\n",
       "</div>"
      ],
      "text/plain": [
       "        weight  age  height  size\n",
       "119692      76   30   167.6  XXXL\n",
       "119707      72   44   162.6  XXXL\n",
       "119720      58   35   167.6  XXXL\n",
       "119721      62   40   160.0  XXXL\n",
       "119727      68   28   170.2  XXXL"
      ]
     },
     "execution_count": 84,
     "metadata": {},
     "output_type": "execute_result"
    }
   ],
   "source": [
    "# Import data\n",
    "data = pd.read_csv('../data/data3.csv', index_col=0)\n",
    "data.tail()"
   ]
  },
  {
   "cell_type": "code",
   "execution_count": 85,
   "id": "1a6e1d77",
   "metadata": {
    "ExecuteTime": {
     "end_time": "2021-09-15T00:32:29.228984Z",
     "start_time": "2021-09-15T00:32:29.218982Z"
    },
    "hidden": true
   },
   "outputs": [],
   "source": [
    "X = data[['age', 'height', 'weight']]\n",
    "y = data['size']"
   ]
  },
  {
   "cell_type": "code",
   "execution_count": 86,
   "id": "caa84d4c",
   "metadata": {
    "ExecuteTime": {
     "end_time": "2021-09-15T00:32:29.276979Z",
     "start_time": "2021-09-15T00:32:29.232969Z"
    },
    "hidden": true
   },
   "outputs": [
    {
     "data": {
      "text/plain": [
       "((73449, 3), (31479,))"
      ]
     },
     "execution_count": 86,
     "metadata": {},
     "output_type": "execute_result"
    }
   ],
   "source": [
    "X_train, X_test, y_train, y_test = train_test_split(X, y, test_size=0.3, random_state=5)\n",
    "X_train.shape, y_test.shape"
   ]
  },
  {
   "cell_type": "markdown",
   "id": "595ab11f",
   "metadata": {},
   "source": [
    "## X data standardization"
   ]
  },
  {
   "cell_type": "code",
   "execution_count": 87,
   "id": "219769ec",
   "metadata": {
    "ExecuteTime": {
     "end_time": "2021-09-15T00:32:29.292001Z",
     "start_time": "2021-09-15T00:32:29.279980Z"
    }
   },
   "outputs": [],
   "source": [
    "from sklearn.preprocessing import StandardScaler"
   ]
  },
  {
   "cell_type": "code",
   "execution_count": 88,
   "id": "0a3d5d91",
   "metadata": {
    "ExecuteTime": {
     "end_time": "2021-09-15T00:32:29.323991Z",
     "start_time": "2021-09-15T00:32:29.294987Z"
    }
   },
   "outputs": [
    {
     "data": {
      "text/plain": [
       "array([[-0.80196453,  1.06632893,  0.89425032],\n",
       "       [ 0.54752799, -0.09407571, -0.60708781],\n",
       "       [-0.63327797, -0.09407571,  0.51891579],\n",
       "       ...,\n",
       "       [-0.80196453, -0.47578776, -0.35686479],\n",
       "       [ 1.39096081,  1.84502152,  0.51891579],\n",
       "       [ 1.05358768, -1.65146089, -0.85731083]])"
      ]
     },
     "execution_count": 88,
     "metadata": {},
     "output_type": "execute_result"
    }
   ],
   "source": [
    "# X_train: fit & transform\n",
    "scaler = StandardScaler()\n",
    "X_train_sc = scaler.fit_transform(X_train)\n",
    "X_train_sc"
   ]
  },
  {
   "cell_type": "code",
   "execution_count": 89,
   "id": "0cb112e6",
   "metadata": {
    "ExecuteTime": {
     "end_time": "2021-09-15T00:32:29.339996Z",
     "start_time": "2021-09-15T00:32:29.326990Z"
    }
   },
   "outputs": [
    {
     "data": {
      "text/plain": [
       "array([[-0.4645914 ,  1.46330947,  0.51891579],\n",
       "       [ 2.57176676,  2.22673357,  0.89425032],\n",
       "       [ 0.21015486, -1.65146089,  0.01846974],\n",
       "       ...,\n",
       "       [-0.80196453, -0.47578776, -1.73309141],\n",
       "       [-0.97065109,  1.46330947,  0.89425032],\n",
       "       [-0.29590484, -0.47578776,  0.01846974]])"
      ]
     },
     "execution_count": 89,
     "metadata": {},
     "output_type": "execute_result"
    }
   ],
   "source": [
    "# X_test: transform\n",
    "X_test_sc = scaler.transform(X_test)\n",
    "X_test_sc"
   ]
  },
  {
   "cell_type": "markdown",
   "id": "56514b02",
   "metadata": {
    "heading_collapsed": true
   },
   "source": [
    "## Logistic Regression"
   ]
  },
  {
   "cell_type": "code",
   "execution_count": 90,
   "id": "c66601cb",
   "metadata": {
    "ExecuteTime": {
     "end_time": "2021-09-15T00:32:29.356008Z",
     "start_time": "2021-09-15T00:32:29.342997Z"
    },
    "hidden": true
   },
   "outputs": [],
   "source": [
    "from sklearn.linear_model import LogisticRegression"
   ]
  },
  {
   "cell_type": "code",
   "execution_count": 91,
   "id": "e988caef",
   "metadata": {
    "ExecuteTime": {
     "end_time": "2021-09-15T00:32:30.540815Z",
     "start_time": "2021-09-15T00:32:29.358998Z"
    },
    "hidden": true
   },
   "outputs": [
    {
     "data": {
      "text/plain": [
       "LogisticRegression(solver='saga')"
      ]
     },
     "execution_count": 91,
     "metadata": {},
     "output_type": "execute_result"
    }
   ],
   "source": [
    "logi = LogisticRegression(solver='saga')    # multiclass solver needed\n",
    "logi.fit(X_train_sc, y_train)"
   ]
  },
  {
   "cell_type": "code",
   "execution_count": 92,
   "id": "0404660e",
   "metadata": {
    "ExecuteTime": {
     "end_time": "2021-09-15T00:32:30.635345Z",
     "start_time": "2021-09-15T00:32:30.543815Z"
    },
    "hidden": true
   },
   "outputs": [
    {
     "data": {
      "text/plain": [
       "0.5141840592140793"
      ]
     },
     "execution_count": 92,
     "metadata": {},
     "output_type": "execute_result"
    }
   ],
   "source": [
    "# Accuracy\n",
    "logi.score(X_test_sc, y_test)"
   ]
  },
  {
   "cell_type": "code",
   "execution_count": 93,
   "id": "3f132c2e",
   "metadata": {
    "ExecuteTime": {
     "end_time": "2021-09-15T00:32:31.857508Z",
     "start_time": "2021-09-15T00:32:30.638346Z"
    },
    "hidden": true
   },
   "outputs": [
    {
     "name": "stdout",
     "output_type": "stream",
     "text": [
      "              precision    recall  f1-score   support\n",
      "\n",
      "           L       0.37      0.14      0.20      4809\n",
      "           M       0.48      0.67      0.56      8262\n",
      "           S       0.50      0.50      0.50      5787\n",
      "          XL       0.43      0.47      0.45      5115\n",
      "         XXL       0.00      0.00      0.00        10\n",
      "         XXS       0.61      0.46      0.52      2722\n",
      "        XXXL       0.73      0.73      0.73      4774\n",
      "\n",
      "    accuracy                           0.51     31479\n",
      "   macro avg       0.44      0.42      0.42     31479\n",
      "weighted avg       0.51      0.51      0.50     31479\n",
      "\n"
     ]
    }
   ],
   "source": [
    "# Classification report\n",
    "from sklearn.metrics import classification_report\n",
    "\n",
    "print(classification_report(y_test, logi.predict(X_test_sc), zero_division=0))   # Due to the warning, zero_division is set"
   ]
  },
  {
   "cell_type": "markdown",
   "id": "cd65d7be",
   "metadata": {
    "hidden": true
   },
   "source": [
    "> **Accuracy: 51.4%, f1 score(weighted): 0.50**"
   ]
  },
  {
   "cell_type": "markdown",
   "id": "4aa59a19",
   "metadata": {
    "hidden": true
   },
   "source": [
    "The warning appears without zero_division, as there are some labels that appear in `y_test` but not in `y_pred`. The label can be found through processes as below, and it is `XXL`. References: https://stackoverflow.com/questions/43162506/undefinedmetricwarning-f-score-is-ill-defined-and-being-set-to-0-0-in-labels-wi"
   ]
  },
  {
   "cell_type": "code",
   "execution_count": 94,
   "id": "a627e502",
   "metadata": {
    "ExecuteTime": {
     "end_time": "2021-09-15T00:32:32.078894Z",
     "start_time": "2021-09-15T00:32:31.860502Z"
    },
    "hidden": true
   },
   "outputs": [
    {
     "data": {
      "text/plain": [
       "array([[ 670, 2274,  157, 1513,    0,    2,  193],\n",
       "       [ 539, 5516, 1466,  639,    0,   81,   21],\n",
       "       [  21, 2176, 2881,    1,    0,  708,    0],\n",
       "       [ 495, 1113,   55, 2388,    0,    0, 1064],\n",
       "       [   0,    2,    0,    4,    0,    0,    4],\n",
       "       [   0,  220, 1255,    0,    0, 1247,    0],\n",
       "       [ 103,  139,    0, 1048,    0,    0, 3484]], dtype=int64)"
      ]
     },
     "execution_count": 94,
     "metadata": {},
     "output_type": "execute_result"
    }
   ],
   "source": [
    "# Confusion matrix\n",
    "from sklearn.metrics import confusion_matrix\n",
    "\n",
    "confusion_matrix(y_test, logi.predict(X_test_sc))"
   ]
  },
  {
   "cell_type": "code",
   "execution_count": 95,
   "id": "229684c2",
   "metadata": {
    "ExecuteTime": {
     "end_time": "2021-09-15T00:32:32.094403Z",
     "start_time": "2021-09-15T00:32:32.080894Z"
    },
    "hidden": true
   },
   "outputs": [
    {
     "data": {
      "text/plain": [
       "array(['L', 'M', 'S', 'XL', 'XXL', 'XXS', 'XXXL'], dtype=object)"
      ]
     },
     "execution_count": 95,
     "metadata": {},
     "output_type": "execute_result"
    }
   ],
   "source": [
    "logi.classes_    # The order of labels above"
   ]
  },
  {
   "cell_type": "code",
   "execution_count": 96,
   "id": "585b414d",
   "metadata": {
    "ExecuteTime": {
     "end_time": "2021-09-15T00:32:32.126409Z",
     "start_time": "2021-09-15T00:32:32.096404Z"
    },
    "hidden": true
   },
   "outputs": [
    {
     "data": {
      "text/plain": [
       "M       11440\n",
       "S        5814\n",
       "XL       5593\n",
       "XXXL     4766\n",
       "XXS      2038\n",
       "L        1828\n",
       "dtype: int64"
      ]
     },
     "execution_count": 96,
     "metadata": {},
     "output_type": "execute_result"
    }
   ],
   "source": [
    "# y_pred\n",
    "pd.DataFrame(logi.predict(X_test_sc)).value_counts()"
   ]
  },
  {
   "cell_type": "code",
   "execution_count": 97,
   "id": "a1ee9da9",
   "metadata": {
    "ExecuteTime": {
     "end_time": "2021-09-15T00:32:32.158418Z",
     "start_time": "2021-09-15T00:32:32.129411Z"
    },
    "hidden": true
   },
   "outputs": [
    {
     "data": {
      "text/plain": [
       "{'XXL'}"
      ]
     },
     "execution_count": 97,
     "metadata": {},
     "output_type": "execute_result"
    }
   ],
   "source": [
    "set(y_test) - set(logi.predict(X_test_sc))"
   ]
  },
  {
   "cell_type": "markdown",
   "id": "076f3818",
   "metadata": {
    "heading_collapsed": true
   },
   "source": [
    "## Support Vector Machine"
   ]
  },
  {
   "cell_type": "code",
   "execution_count": 98,
   "id": "adf05b26",
   "metadata": {
    "ExecuteTime": {
     "end_time": "2021-09-15T00:32:32.174419Z",
     "start_time": "2021-09-15T00:32:32.161418Z"
    },
    "hidden": true
   },
   "outputs": [],
   "source": [
    "from sklearn.svm import SVC    # Support Vector Classification"
   ]
  },
  {
   "cell_type": "markdown",
   "id": "45559318",
   "metadata": {
    "hidden": true
   },
   "source": [
    "* C: the bigger, the harder margin\n",
    "* gamma: the bigger, the more overfitted"
   ]
  },
  {
   "cell_type": "code",
   "execution_count": 99,
   "id": "2fa5c7c0",
   "metadata": {
    "ExecuteTime": {
     "end_time": "2021-09-15T00:38:08.198132Z",
     "start_time": "2021-09-15T00:32:32.177421Z"
    },
    "hidden": true
   },
   "outputs": [
    {
     "data": {
      "text/plain": [
       "SVC()"
      ]
     },
     "execution_count": 99,
     "metadata": {},
     "output_type": "execute_result"
    }
   ],
   "source": [
    "svm = SVC()\n",
    "svm.fit(X_train_sc, y_train)   # Takes 3m"
   ]
  },
  {
   "cell_type": "code",
   "execution_count": 100,
   "id": "6218d911",
   "metadata": {
    "ExecuteTime": {
     "end_time": "2021-09-15T00:38:08.213628Z",
     "start_time": "2021-09-15T00:38:08.200117Z"
    },
    "hidden": true
   },
   "outputs": [
    {
     "data": {
      "text/plain": [
       "array(['L', 'M', 'S', 'XL', 'XXL', 'XXS', 'XXXL'], dtype=object)"
      ]
     },
     "execution_count": 100,
     "metadata": {},
     "output_type": "execute_result"
    }
   ],
   "source": [
    "# Explore trributes\n",
    "svm.classes_"
   ]
  },
  {
   "cell_type": "code",
   "execution_count": 101,
   "id": "5f82a70b",
   "metadata": {
    "ExecuteTime": {
     "end_time": "2021-09-15T00:38:08.229631Z",
     "start_time": "2021-09-15T00:38:08.217629Z"
    },
    "hidden": true
   },
   "outputs": [
    {
     "data": {
      "text/plain": [
       "0"
      ]
     },
     "execution_count": 101,
     "metadata": {},
     "output_type": "execute_result"
    }
   ],
   "source": [
    "svm.fit_status_    # Correctly fitted: 0"
   ]
  },
  {
   "cell_type": "code",
   "execution_count": 102,
   "id": "a17115f7",
   "metadata": {
    "ExecuteTime": {
     "end_time": "2021-09-15T00:38:08.244635Z",
     "start_time": "2021-09-15T00:38:08.232632Z"
    },
    "hidden": true
   },
   "outputs": [
    {
     "data": {
      "text/plain": [
       "66423"
      ]
     },
     "execution_count": 102,
     "metadata": {},
     "output_type": "execute_result"
    }
   ],
   "source": [
    "len(svm.support_)    # Indices of support vectors"
   ]
  },
  {
   "cell_type": "code",
   "execution_count": 103,
   "id": "c40d3e29",
   "metadata": {
    "ExecuteTime": {
     "end_time": "2021-09-15T00:38:08.259639Z",
     "start_time": "2021-09-15T00:38:08.248636Z"
    },
    "hidden": true
   },
   "outputs": [
    {
     "data": {
      "text/plain": [
       "array([[-0.80196453,  1.06632893,  0.89425032],\n",
       "       [-0.63327797,  0.68461688,  0.51891579],\n",
       "       [ 0.04146829,  0.68461688,  0.01846974],\n",
       "       ...,\n",
       "       [ 0.71621455,  1.06632893,  1.39469636],\n",
       "       [ 0.21015486, -0.47578776, -0.4819763 ],\n",
       "       [ 1.05358768, -0.09407571,  1.14447334]])"
      ]
     },
     "execution_count": 103,
     "metadata": {},
     "output_type": "execute_result"
    }
   ],
   "source": [
    "svm.support_vectors_"
   ]
  },
  {
   "cell_type": "code",
   "execution_count": 104,
   "id": "2b956bee",
   "metadata": {
    "ExecuteTime": {
     "end_time": "2021-09-15T00:38:08.275642Z",
     "start_time": "2021-09-15T00:38:08.263640Z"
    },
    "hidden": true
   },
   "outputs": [
    {
     "data": {
      "text/plain": [
       "(73449, 3)"
      ]
     },
     "execution_count": 104,
     "metadata": {},
     "output_type": "execute_result"
    }
   ],
   "source": [
    "svm.shape_fit_    # (dimensions of training vector X, features)"
   ]
  },
  {
   "cell_type": "code",
   "execution_count": 105,
   "id": "6abdeeb7",
   "metadata": {
    "ExecuteTime": {
     "end_time": "2021-09-15T00:43:24.067451Z",
     "start_time": "2021-09-15T00:38:08.284644Z"
    },
    "hidden": true
   },
   "outputs": [
    {
     "data": {
      "text/plain": [
       "0.5141522920041933"
      ]
     },
     "execution_count": 105,
     "metadata": {},
     "output_type": "execute_result"
    }
   ],
   "source": [
    "# Evaluation\n",
    "svm.score(X_test_sc, y_test)"
   ]
  },
  {
   "cell_type": "markdown",
   "id": "7cc00206",
   "metadata": {
    "hidden": true
   },
   "source": [
    "### Grid Search for Hyperparameters"
   ]
  },
  {
   "cell_type": "code",
   "execution_count": 106,
   "id": "8e505884",
   "metadata": {
    "ExecuteTime": {
     "end_time": "2021-09-15T00:43:24.084454Z",
     "start_time": "2021-09-15T00:43:24.070466Z"
    },
    "hidden": true
   },
   "outputs": [],
   "source": [
    "from sklearn.model_selection import GridSearchCV"
   ]
  },
  {
   "cell_type": "markdown",
   "id": "970e7f02",
   "metadata": {
    "hidden": true
   },
   "source": [
    "#### Grid Search Model 1"
   ]
  },
  {
   "cell_type": "code",
   "execution_count": 107,
   "id": "a704ceea",
   "metadata": {
    "ExecuteTime": {
     "end_time": "2021-09-15T00:43:24.099458Z",
     "start_time": "2021-09-15T00:43:24.087454Z"
    },
    "hidden": true
   },
   "outputs": [],
   "source": [
    "svm = SVC()\n",
    "params = {'kernel':['poly', 'rbf'], 'C':[0.1, 1], 'gamma':[0.5, 1]} \n",
    "clf = GridSearchCV(svm, params, cv=5)"
   ]
  },
  {
   "cell_type": "code",
   "execution_count": 108,
   "id": "94365471",
   "metadata": {
    "ExecuteTime": {
     "end_time": "2021-09-15T03:42:31.476066Z",
     "start_time": "2021-09-15T00:43:24.102459Z"
    },
    "hidden": true
   },
   "outputs": [
    {
     "data": {
      "text/plain": [
       "GridSearchCV(cv=5, estimator=SVC(),\n",
       "             param_grid={'C': [0.1, 1], 'gamma': [0.5, 1],\n",
       "                         'kernel': ['poly', 'rbf']})"
      ]
     },
     "execution_count": 108,
     "metadata": {},
     "output_type": "execute_result"
    }
   ],
   "source": [
    "clf.fit(X_train_sc, y_train)"
   ]
  },
  {
   "cell_type": "code",
   "execution_count": 109,
   "id": "15f807ef",
   "metadata": {
    "ExecuteTime": {
     "end_time": "2021-09-15T03:42:31.508055Z",
     "start_time": "2021-09-15T03:42:31.481051Z"
    },
    "collapsed": true,
    "hidden": true
   },
   "outputs": [
    {
     "data": {
      "text/plain": [
       "{'mean_fit_time': array([207.83548775, 147.47092576, 112.42045007,  97.5963789 ,\n",
       "        126.71727905,  99.00942907, 628.19286122, 227.03079486]),\n",
       " 'std_fit_time': array([ 2.41709841, 55.34679711,  0.97776991,  2.58728862,  1.73108682,\n",
       "         2.7442667 , 33.13761565,  0.34135009]),\n",
       " 'mean_score_time': array([ 43.52637701,  82.3354569 ,  18.40426974,  53.69514065,\n",
       "         20.13799877,  54.59064898,  43.67316985, 115.01285572]),\n",
       " 'std_score_time': array([ 0.56824986, 34.55075057,  0.20548713,  1.43563496,  0.53510475,\n",
       "         1.4600689 ,  0.53526383,  0.46342148]),\n",
       " 'param_C': masked_array(data=[0.1, 0.1, 0.1, 0.1, 1, 1, 1, 1],\n",
       "              mask=[False, False, False, False, False, False, False, False],\n",
       "        fill_value='?',\n",
       "             dtype=object),\n",
       " 'param_gamma': masked_array(data=[0.5, 0.5, 1, 1, 0.5, 0.5, 1, 1],\n",
       "              mask=[False, False, False, False, False, False, False, False],\n",
       "        fill_value='?',\n",
       "             dtype=object),\n",
       " 'param_kernel': masked_array(data=['poly', 'rbf', 'poly', 'rbf', 'poly', 'rbf', 'poly',\n",
       "                    'rbf'],\n",
       "              mask=[False, False, False, False, False, False, False, False],\n",
       "        fill_value='?',\n",
       "             dtype=object),\n",
       " 'params': [{'C': 0.1, 'gamma': 0.5, 'kernel': 'poly'},\n",
       "  {'C': 0.1, 'gamma': 0.5, 'kernel': 'rbf'},\n",
       "  {'C': 0.1, 'gamma': 1, 'kernel': 'poly'},\n",
       "  {'C': 0.1, 'gamma': 1, 'kernel': 'rbf'},\n",
       "  {'C': 1, 'gamma': 0.5, 'kernel': 'poly'},\n",
       "  {'C': 1, 'gamma': 0.5, 'kernel': 'rbf'},\n",
       "  {'C': 1, 'gamma': 1, 'kernel': 'poly'},\n",
       "  {'C': 1, 'gamma': 1, 'kernel': 'rbf'}],\n",
       " 'split0_test_score': array([0.47243022, 0.51375085, 0.47324711, 0.51701838, 0.47324711,\n",
       "        0.51558884, 0.47317903, 0.51899251]),\n",
       " 'split1_test_score': array([0.47549353, 0.50884956, 0.47562968, 0.51068754, 0.47576583,\n",
       "        0.50905378, 0.47569775, 0.50959837]),\n",
       " 'split2_test_score': array([0.46643975, 0.50258679, 0.46814159, 0.50578625, 0.4678693 ,\n",
       "        0.50524166, 0.46875425, 0.50782845]),\n",
       " 'split3_test_score': array([0.47270252, 0.50721579, 0.47256637, 0.50653506, 0.4724983 ,\n",
       "        0.50769231, 0.47256637, 0.50837304]),\n",
       " 'split4_test_score': array([0.47518551, 0.51657703, 0.47566206, 0.51582817, 0.47593437,\n",
       "        0.51535162, 0.47654708, 0.51630472]),\n",
       " 'mean_test_score': array([0.47245031, 0.50979601, 0.47304936, 0.51117108, 0.47306298,\n",
       "        0.51058564, 0.4733489 , 0.51221942]),\n",
       " 'std_test_score': array([0.00325372, 0.00492238, 0.0027511 , 0.00461741, 0.00292839,\n",
       "        0.00417187, 0.00273852, 0.00454994]),\n",
       " 'rank_test_score': array([8, 4, 7, 2, 6, 3, 5, 1])}"
      ]
     },
     "execution_count": 109,
     "metadata": {},
     "output_type": "execute_result"
    }
   ],
   "source": [
    "clf.cv_results_    # rbf showed the explicitly better result"
   ]
  },
  {
   "cell_type": "code",
   "execution_count": 110,
   "id": "ebb72746",
   "metadata": {
    "ExecuteTime": {
     "end_time": "2021-09-15T03:42:31.555601Z",
     "start_time": "2021-09-15T03:42:31.511072Z"
    },
    "hidden": true
   },
   "outputs": [
    {
     "data": {
      "text/plain": [
       "0.512219418716376"
      ]
     },
     "execution_count": 110,
     "metadata": {},
     "output_type": "execute_result"
    }
   ],
   "source": [
    "clf.best_score_"
   ]
  },
  {
   "cell_type": "code",
   "execution_count": 111,
   "id": "0629b6c7",
   "metadata": {
    "ExecuteTime": {
     "end_time": "2021-09-15T03:42:31.571588Z",
     "start_time": "2021-09-15T03:42:31.558587Z"
    },
    "hidden": true
   },
   "outputs": [
    {
     "data": {
      "text/plain": [
       "{'C': 1, 'gamma': 1, 'kernel': 'rbf'}"
      ]
     },
     "execution_count": 111,
     "metadata": {},
     "output_type": "execute_result"
    }
   ],
   "source": [
    "clf.best_params_"
   ]
  },
  {
   "cell_type": "code",
   "execution_count": 112,
   "id": "4848f109",
   "metadata": {
    "ExecuteTime": {
     "end_time": "2021-09-15T03:42:31.587608Z",
     "start_time": "2021-09-15T03:42:31.574590Z"
    },
    "collapsed": true,
    "hidden": true
   },
   "outputs": [
    {
     "data": {
      "text/plain": [
       "SVC(C=1, gamma=1)"
      ]
     },
     "execution_count": 112,
     "metadata": {},
     "output_type": "execute_result"
    }
   ],
   "source": [
    "clf.best_estimator_"
   ]
  },
  {
   "cell_type": "code",
   "execution_count": 113,
   "id": "c3cddd94",
   "metadata": {
    "ExecuteTime": {
     "end_time": "2021-09-15T03:47:35.620674Z",
     "start_time": "2021-09-15T03:42:31.590592Z"
    },
    "hidden": true
   },
   "outputs": [
    {
     "data": {
      "text/plain": [
       "0.5171384097334731"
      ]
     },
     "execution_count": 113,
     "metadata": {},
     "output_type": "execute_result"
    }
   ],
   "source": [
    "# Evaluation\n",
    "clf.score(X_test_sc, y_test)"
   ]
  },
  {
   "cell_type": "markdown",
   "id": "fa20d856",
   "metadata": {
    "hidden": true
   },
   "source": [
    "#### Grid Search Model 2"
   ]
  },
  {
   "cell_type": "code",
   "execution_count": 114,
   "id": "805f3211",
   "metadata": {
    "ExecuteTime": {
     "end_time": "2021-09-15T03:47:35.636186Z",
     "start_time": "2021-09-15T03:47:35.623637Z"
    },
    "hidden": true
   },
   "outputs": [],
   "source": [
    "svm = SVC()\n",
    "params = {'kernel':['rbf'], 'C':[0.01, 0.05], 'gamma':[1, 5]} \n",
    "clf = GridSearchCV(svm, params, cv=5)"
   ]
  },
  {
   "cell_type": "code",
   "execution_count": 115,
   "id": "3f8b90fb",
   "metadata": {
    "ExecuteTime": {
     "end_time": "2021-09-15T06:03:34.681701Z",
     "start_time": "2021-09-15T03:47:35.639717Z"
    },
    "hidden": true
   },
   "outputs": [
    {
     "data": {
      "text/plain": [
       "GridSearchCV(cv=5, estimator=SVC(),\n",
       "             param_grid={'C': [0.01, 0.05], 'gamma': [1, 5], 'kernel': ['rbf']})"
      ]
     },
     "execution_count": 115,
     "metadata": {},
     "output_type": "execute_result"
    }
   ],
   "source": [
    "clf.fit(X_train_sc, y_train)"
   ]
  },
  {
   "cell_type": "code",
   "execution_count": 116,
   "id": "5311b8b0",
   "metadata": {
    "ExecuteTime": {
     "end_time": "2021-09-15T06:03:34.696910Z",
     "start_time": "2021-09-15T06:03:34.682702Z"
    },
    "collapsed": true,
    "hidden": true
   },
   "outputs": [
    {
     "data": {
      "text/plain": [
       "{'mean_fit_time': array([253.49895635, 361.9177525 , 217.95765224, 282.88035984]),\n",
       " 'std_fit_time': array([0.55717962, 1.34736615, 0.67445198, 1.21541536]),\n",
       " 'mean_score_time': array([122.75625844, 126.27970662, 117.7193491 , 111.95638456]),\n",
       " 'std_score_time': array([ 0.69761038,  0.6130128 ,  0.5415053 , 16.78603998]),\n",
       " 'param_C': masked_array(data=[0.01, 0.01, 0.05, 0.05],\n",
       "              mask=[False, False, False, False],\n",
       "        fill_value='?',\n",
       "             dtype=object),\n",
       " 'param_gamma': masked_array(data=[1, 5, 1, 5],\n",
       "              mask=[False, False, False, False],\n",
       "        fill_value='?',\n",
       "             dtype=object),\n",
       " 'param_kernel': masked_array(data=['rbf', 'rbf', 'rbf', 'rbf'],\n",
       "              mask=[False, False, False, False],\n",
       "        fill_value='?',\n",
       "             dtype=object),\n",
       " 'params': [{'C': 0.01, 'gamma': 1, 'kernel': 'rbf'},\n",
       "  {'C': 0.01, 'gamma': 5, 'kernel': 'rbf'},\n",
       "  {'C': 0.05, 'gamma': 1, 'kernel': 'rbf'},\n",
       "  {'C': 0.05, 'gamma': 5, 'kernel': 'rbf'}],\n",
       " 'split0_test_score': array([0.50633084, 0.4827774 , 0.51341048, 0.51552076]),\n",
       " 'split1_test_score': array([0.50217835, 0.47365555, 0.50993873, 0.51395507]),\n",
       " 'split2_test_score': array([0.49891082, 0.47004765, 0.50469707, 0.50769231]),\n",
       " 'split3_test_score': array([0.50115725, 0.47910143, 0.50687543, 0.5082369 ]),\n",
       " 'split4_test_score': array([0.50867996, 0.48035945, 0.51664511, 0.5132412 ]),\n",
       " 'mean_test_score': array([0.50345145, 0.4771883 , 0.51031336, 0.51172925]),\n",
       " 'std_test_score': array([0.0035533 , 0.00465668, 0.00431707, 0.00316573]),\n",
       " 'rank_test_score': array([3, 4, 2, 1])}"
      ]
     },
     "execution_count": 116,
     "metadata": {},
     "output_type": "execute_result"
    }
   ],
   "source": [
    "clf.cv_results_"
   ]
  },
  {
   "cell_type": "code",
   "execution_count": 117,
   "id": "b2d1c241",
   "metadata": {
    "ExecuteTime": {
     "end_time": "2021-09-15T06:03:34.712699Z",
     "start_time": "2021-09-15T06:03:34.697911Z"
    },
    "hidden": true
   },
   "outputs": [
    {
     "data": {
      "text/plain": [
       "0.5117292476678135"
      ]
     },
     "execution_count": 117,
     "metadata": {},
     "output_type": "execute_result"
    }
   ],
   "source": [
    "clf.best_score_"
   ]
  },
  {
   "cell_type": "code",
   "execution_count": 118,
   "id": "cf537fcb",
   "metadata": {
    "ExecuteTime": {
     "end_time": "2021-09-15T06:03:34.728682Z",
     "start_time": "2021-09-15T06:03:34.713700Z"
    },
    "hidden": true
   },
   "outputs": [
    {
     "data": {
      "text/plain": [
       "{'C': 0.05, 'gamma': 5, 'kernel': 'rbf'}"
      ]
     },
     "execution_count": 118,
     "metadata": {},
     "output_type": "execute_result"
    }
   ],
   "source": [
    "clf.best_params_"
   ]
  },
  {
   "cell_type": "code",
   "execution_count": 119,
   "id": "7d094bca",
   "metadata": {
    "ExecuteTime": {
     "end_time": "2021-09-15T06:03:34.743592Z",
     "start_time": "2021-09-15T06:03:34.729684Z"
    },
    "hidden": true
   },
   "outputs": [
    {
     "data": {
      "text/plain": [
       "SVC(C=0.05, gamma=5)"
      ]
     },
     "execution_count": 119,
     "metadata": {},
     "output_type": "execute_result"
    }
   ],
   "source": [
    "clf.best_estimator_"
   ]
  },
  {
   "cell_type": "code",
   "execution_count": 120,
   "id": "fa2a8fde",
   "metadata": {
    "ExecuteTime": {
     "end_time": "2021-09-15T06:05:53.595222Z",
     "start_time": "2021-09-15T06:03:34.744594Z"
    },
    "hidden": true
   },
   "outputs": [
    {
     "data": {
      "text/plain": [
       "0.5165348327456399"
      ]
     },
     "execution_count": 120,
     "metadata": {},
     "output_type": "execute_result"
    }
   ],
   "source": [
    "# Evaluation\n",
    "clf.score(X_test_sc, y_test)"
   ]
  },
  {
   "cell_type": "markdown",
   "id": "aad0325f",
   "metadata": {
    "hidden": true
   },
   "source": [
    "#### Grid Search 3"
   ]
  },
  {
   "cell_type": "code",
   "execution_count": 165,
   "id": "7a92e730",
   "metadata": {
    "ExecuteTime": {
     "end_time": "2021-09-15T09:36:43.887824Z",
     "start_time": "2021-09-15T09:36:43.876280Z"
    },
    "hidden": true
   },
   "outputs": [],
   "source": [
    "svm = SVC()\n",
    "params = {'kernel':['rbf'], 'C':[5, 10], 'gamma':[5, 10]} \n",
    "clf = GridSearchCV(svm, params, cv=5)"
   ]
  },
  {
   "cell_type": "code",
   "execution_count": 166,
   "id": "879d0044",
   "metadata": {
    "ExecuteTime": {
     "end_time": "2021-09-15T12:08:40.183219Z",
     "start_time": "2021-09-15T09:37:53.258469Z"
    },
    "hidden": true
   },
   "outputs": [
    {
     "data": {
      "text/plain": [
       "GridSearchCV(cv=5, estimator=SVC(),\n",
       "             param_grid={'C': [5, 10], 'gamma': [5, 10], 'kernel': ['rbf']})"
      ]
     },
     "execution_count": 166,
     "metadata": {},
     "output_type": "execute_result"
    }
   ],
   "source": [
    "clf.fit(X_train_sc, y_train)"
   ]
  },
  {
   "cell_type": "code",
   "execution_count": 167,
   "id": "859d3a1c",
   "metadata": {
    "ExecuteTime": {
     "end_time": "2021-09-15T12:08:40.215226Z",
     "start_time": "2021-09-15T12:08:40.190220Z"
    },
    "hidden": true
   },
   "outputs": [
    {
     "data": {
      "text/plain": [
       "{'C': 5, 'gamma': 5, 'kernel': 'rbf'}"
      ]
     },
     "execution_count": 167,
     "metadata": {},
     "output_type": "execute_result"
    }
   ],
   "source": [
    "clf.best_params_"
   ]
  },
  {
   "cell_type": "code",
   "execution_count": 168,
   "id": "e0c4233c",
   "metadata": {
    "ExecuteTime": {
     "end_time": "2021-09-15T12:14:22.565339Z",
     "start_time": "2021-09-15T12:08:40.220227Z"
    },
    "hidden": true
   },
   "outputs": [
    {
     "data": {
      "text/plain": [
       "0.5178055211410781"
      ]
     },
     "execution_count": 168,
     "metadata": {},
     "output_type": "execute_result"
    }
   ],
   "source": [
    "clf.score(X_test_sc, y_test)"
   ]
  },
  {
   "cell_type": "markdown",
   "id": "0429808c",
   "metadata": {
    "hidden": true
   },
   "source": [
    "> **Best parameter among above: `kernel` = rbf, `C` = 5, `gamma` = 5** <br>\n",
    "> **Accuracy: 51.8%**"
   ]
  },
  {
   "cell_type": "markdown",
   "id": "3f4d4ef3",
   "metadata": {
    "heading_collapsed": true
   },
   "source": [
    "## K-nearest Neighbors"
   ]
  },
  {
   "cell_type": "code",
   "execution_count": 121,
   "id": "b3e57c59",
   "metadata": {
    "ExecuteTime": {
     "end_time": "2021-09-15T06:05:53.658199Z",
     "start_time": "2021-09-15T06:05:53.596223Z"
    },
    "hidden": true
   },
   "outputs": [],
   "source": [
    "from sklearn.neighbors import KNeighborsClassifier"
   ]
  },
  {
   "cell_type": "code",
   "execution_count": 122,
   "id": "ac4ceaaf",
   "metadata": {
    "ExecuteTime": {
     "end_time": "2021-09-15T06:06:08.826975Z",
     "start_time": "2021-09-15T06:05:53.659200Z"
    },
    "hidden": true
   },
   "outputs": [
    {
     "data": {
      "text/plain": [
       "GridSearchCV(cv=5, estimator=KNeighborsClassifier(), n_jobs=-1,\n",
       "             param_grid={'n_neighbors': range(5, 52, 2)})"
      ]
     },
     "execution_count": 122,
     "metadata": {},
     "output_type": "execute_result"
    }
   ],
   "source": [
    "# Grid search for the number of neighbors\n",
    "knn = KNeighborsClassifier()\n",
    "params = {'n_neighbors': range(5, 52, 2)}\n",
    "clf = GridSearchCV(knn, params, cv=5, n_jobs=-1)\n",
    "clf.fit(X_train_sc, y_train)    # Scaling isn't need for KNN"
   ]
  },
  {
   "cell_type": "code",
   "execution_count": 123,
   "id": "463fd5b6",
   "metadata": {
    "ExecuteTime": {
     "end_time": "2021-09-15T06:06:08.842200Z",
     "start_time": "2021-09-15T06:06:08.827977Z"
    },
    "hidden": true,
    "scrolled": true
   },
   "outputs": [
    {
     "data": {
      "text/plain": [
       "{'mean_fit_time': array([0.37714691, 0.36595016, 0.4178822 , 0.3705935 , 0.35358515,\n",
       "        0.33389506, 0.33021202, 0.34921694, 0.33809114, 0.31090355,\n",
       "        0.33739953, 0.34862323, 0.31730003, 0.34579463, 0.35008111,\n",
       "        0.33578172, 0.35179119, 0.33598089, 0.32798228, 0.31711345,\n",
       "        0.33288226, 0.32217956, 0.33550787, 0.31767178]),\n",
       " 'std_fit_time': array([0.00868779, 0.0163539 , 0.0537522 , 0.03159622, 0.0122502 ,\n",
       "        0.01085677, 0.01184084, 0.00631339, 0.01967549, 0.0064187 ,\n",
       "        0.02346686, 0.01511657, 0.01269985, 0.03604895, 0.02611173,\n",
       "        0.0194813 , 0.02811397, 0.010421  , 0.01798843, 0.01521934,\n",
       "        0.01069555, 0.00776309, 0.02197554, 0.01311173]),\n",
       " 'mean_score_time': array([0.84586139, 0.83886008, 0.94255137, 0.91066589, 0.87295933,\n",
       "        0.91598067, 0.83627238, 0.90834494, 0.94175229, 0.85849013,\n",
       "        0.92957458, 1.01509547, 0.94127293, 1.00469713, 1.07370915,\n",
       "        1.13112025, 0.99419155, 1.090869  , 1.08376555, 1.05231128,\n",
       "        1.09772196, 1.12102089, 1.00675249, 0.71362939]),\n",
       " 'std_score_time': array([0.05499452, 0.02432346, 0.04861271, 0.04503698, 0.03149332,\n",
       "        0.05737616, 0.03270361, 0.03303448, 0.02959453, 0.03993984,\n",
       "        0.03270015, 0.05115622, 0.04051695, 0.08093512, 0.0220416 ,\n",
       "        0.05082133, 0.04265799, 0.03764185, 0.04120453, 0.05857085,\n",
       "        0.05045571, 0.00813574, 0.10216506, 0.09434051]),\n",
       " 'param_n_neighbors': masked_array(data=[5, 7, 9, 11, 13, 15, 17, 19, 21, 23, 25, 27, 29, 31,\n",
       "                    33, 35, 37, 39, 41, 43, 45, 47, 49, 51],\n",
       "              mask=[False, False, False, False, False, False, False, False,\n",
       "                    False, False, False, False, False, False, False, False,\n",
       "                    False, False, False, False, False, False, False, False],\n",
       "        fill_value='?',\n",
       "             dtype=object),\n",
       " 'params': [{'n_neighbors': 5},\n",
       "  {'n_neighbors': 7},\n",
       "  {'n_neighbors': 9},\n",
       "  {'n_neighbors': 11},\n",
       "  {'n_neighbors': 13},\n",
       "  {'n_neighbors': 15},\n",
       "  {'n_neighbors': 17},\n",
       "  {'n_neighbors': 19},\n",
       "  {'n_neighbors': 21},\n",
       "  {'n_neighbors': 23},\n",
       "  {'n_neighbors': 25},\n",
       "  {'n_neighbors': 27},\n",
       "  {'n_neighbors': 29},\n",
       "  {'n_neighbors': 31},\n",
       "  {'n_neighbors': 33},\n",
       "  {'n_neighbors': 35},\n",
       "  {'n_neighbors': 37},\n",
       "  {'n_neighbors': 39},\n",
       "  {'n_neighbors': 41},\n",
       "  {'n_neighbors': 43},\n",
       "  {'n_neighbors': 45},\n",
       "  {'n_neighbors': 47},\n",
       "  {'n_neighbors': 49},\n",
       "  {'n_neighbors': 51}],\n",
       " 'split0_test_score': array([0.46473792, 0.48168822, 0.48849558, 0.49067393, 0.49591559,\n",
       "        0.49577944, 0.49986385, 0.49993193, 0.50313138, 0.50469707,\n",
       "        0.50381212, 0.50701157, 0.50388019, 0.50490129, 0.50503744,\n",
       "        0.50748809, 0.50537781, 0.50844112, 0.50748809, 0.50864534,\n",
       "        0.5115725 , 0.51320626, 0.51307012, 0.5136147 ]),\n",
       " 'split1_test_score': array([0.46752893, 0.48434309, 0.49046971, 0.49046971, 0.49298843,\n",
       "        0.49673247, 0.50027229, 0.50217835, 0.50027229, 0.50183799,\n",
       "        0.50217835, 0.50646698, 0.50748809, 0.50585432, 0.50701157,\n",
       "        0.50884956, 0.50857726, 0.50776038, 0.51000681, 0.50891763,\n",
       "        0.50939415, 0.50918993, 0.5102791 , 0.50905378]),\n",
       " 'split2_test_score': array([0.46868618, 0.47597005, 0.48189244, 0.49006127, 0.49455412,\n",
       "        0.49496256, 0.49298843, 0.49646018, 0.49700477, 0.49714091,\n",
       "        0.49816201, 0.50149762, 0.50054459, 0.50224643, 0.50306331,\n",
       "        0.50326753, 0.50285909, 0.50258679, 0.50068074, 0.50279101,\n",
       "        0.50251872, 0.50299523, 0.50496937, 0.50544588]),\n",
       " 'split3_test_score': array([0.46249149, 0.47338325, 0.48270933, 0.4840708 , 0.48849558,\n",
       "        0.49353302, 0.495371  , 0.49802587, 0.50013615, 0.50299523,\n",
       "        0.49972771, 0.50401634, 0.50558203, 0.50190606, 0.50326753,\n",
       "        0.5033356 , 0.50503744, 0.50646698, 0.50476515, 0.50415248,\n",
       "        0.50469707, 0.50551396, 0.50578625, 0.50490129]),\n",
       " 'split4_test_score': array([0.46844578, 0.48008714, 0.49084349, 0.49628974, 0.49785554,\n",
       "        0.50200831, 0.50112329, 0.50173599, 0.50166791, 0.5029614 ,\n",
       "        0.50268909, 0.50289332, 0.5007829 , 0.50445912, 0.50541221,\n",
       "        0.50602492, 0.5057526 , 0.50799918, 0.50765879, 0.50725032,\n",
       "        0.50663762, 0.50840765, 0.50922459, 0.50970114]),\n",
       " 'mean_test_score': array([0.46637806, 0.47909435, 0.48688211, 0.49031309, 0.49396185,\n",
       "        0.49660316, 0.49792377, 0.49966646, 0.5004425 , 0.50192652,\n",
       "        0.50131386, 0.50437717, 0.50365556, 0.50387344, 0.50475841,\n",
       "        0.50579314, 0.50552084, 0.50665089, 0.50611991, 0.50635136,\n",
       "        0.50696401, 0.50786261, 0.50866588, 0.50854336]),\n",
       " 'std_test_score': array([0.00239678, 0.00394058, 0.00383342, 0.00387052, 0.00316722,\n",
       "        0.00289925, 0.00317461, 0.00217416, 0.00203335, 0.00256121,\n",
       "        0.00206542, 0.00209434, 0.00269742, 0.00153891, 0.00146138,\n",
       "        0.002222  , 0.00182945, 0.00213563, 0.00318647, 0.00245631,\n",
       "        0.00322955, 0.00345893, 0.00297551, 0.00316792]),\n",
       " 'rank_test_score': array([24, 23, 22, 21, 20, 19, 18, 17, 16, 14, 15, 11, 13, 12, 10,  8,  9,\n",
       "         5,  7,  6,  4,  3,  1,  2])}"
      ]
     },
     "execution_count": 123,
     "metadata": {},
     "output_type": "execute_result"
    }
   ],
   "source": [
    "# Fitting result\n",
    "clf.cv_results_"
   ]
  },
  {
   "cell_type": "markdown",
   "id": "bfa2adaa",
   "metadata": {
    "hidden": true
   },
   "source": [
    "> Best parameter=49"
   ]
  },
  {
   "cell_type": "code",
   "execution_count": 173,
   "id": "e38e6e2e",
   "metadata": {
    "ExecuteTime": {
     "end_time": "2021-09-15T12:52:33.260724Z",
     "start_time": "2021-09-15T12:52:30.268710Z"
    },
    "hidden": true
   },
   "outputs": [
    {
     "data": {
      "text/plain": [
       "0.5096731154102735"
      ]
     },
     "execution_count": 173,
     "metadata": {},
     "output_type": "execute_result"
    }
   ],
   "source": [
    "# Evaluation with best parameter setting\n",
    "knn = KNeighborsClassifier(n_neighbors=49)\n",
    "knn.fit(X_train_sc, y_train)\n",
    "knn.score(X_test_sc, y_test)"
   ]
  },
  {
   "cell_type": "code",
   "execution_count": 175,
   "id": "34fff406",
   "metadata": {
    "ExecuteTime": {
     "end_time": "2021-09-15T12:58:57.095618Z",
     "start_time": "2021-09-15T12:53:13.474283Z"
    },
    "hidden": true
   },
   "outputs": [
    {
     "data": {
      "text/plain": [
       "0.5178055211410781"
      ]
     },
     "execution_count": 175,
     "metadata": {},
     "output_type": "execute_result"
    }
   ],
   "source": [
    "clf.score(X_test_sc, y_test)"
   ]
  },
  {
   "cell_type": "code",
   "execution_count": 174,
   "id": "87879e2d",
   "metadata": {
    "ExecuteTime": {
     "end_time": "2021-09-15T12:52:37.130745Z",
     "start_time": "2021-09-15T12:52:33.264724Z"
    },
    "hidden": true
   },
   "outputs": [
    {
     "name": "stdout",
     "output_type": "stream",
     "text": [
      "              precision    recall  f1-score   support\n",
      "\n",
      "           L       0.36      0.26      0.30      4809\n",
      "           M       0.49      0.61      0.54      8262\n",
      "           S       0.49      0.54      0.51      5787\n",
      "          XL       0.44      0.41      0.43      5115\n",
      "         XXL       0.00      0.00      0.00        10\n",
      "         XXS       0.61      0.43      0.50      2722\n",
      "        XXXL       0.74      0.71      0.72      4774\n",
      "\n",
      "    accuracy                           0.51     31479\n",
      "   macro avg       0.45      0.42      0.43     31479\n",
      "weighted avg       0.51      0.51      0.50     31479\n",
      "\n"
     ]
    }
   ],
   "source": [
    "print(classification_report(y_test, knn.predict(X_test_sc), zero_division=0))"
   ]
  },
  {
   "cell_type": "markdown",
   "id": "7b1f139d",
   "metadata": {
    "hidden": true
   },
   "source": [
    "> **Accuracy: 51.8%, f1-score(weighted): 0.50**"
   ]
  },
  {
   "cell_type": "markdown",
   "id": "e59f5e58",
   "metadata": {
    "heading_collapsed": true
   },
   "source": [
    "## Decision Tree"
   ]
  },
  {
   "cell_type": "code",
   "execution_count": 126,
   "id": "fc444eaa",
   "metadata": {
    "ExecuteTime": {
     "end_time": "2021-09-15T06:06:11.895261Z",
     "start_time": "2021-09-15T06:06:11.472043Z"
    },
    "hidden": true
   },
   "outputs": [],
   "source": [
    "from sklearn.tree import DecisionTreeClassifier\n",
    "from sklearn.tree import plot_tree\n",
    "import matplotlib.pyplot as plt"
   ]
  },
  {
   "cell_type": "code",
   "execution_count": 127,
   "id": "25a20d26",
   "metadata": {
    "ExecuteTime": {
     "end_time": "2021-09-15T06:06:12.006842Z",
     "start_time": "2021-09-15T06:06:11.896262Z"
    },
    "hidden": true
   },
   "outputs": [
    {
     "data": {
      "text/plain": [
       "0.5067822993106516"
      ]
     },
     "execution_count": 127,
     "metadata": {},
     "output_type": "execute_result"
    }
   ],
   "source": [
    "dt = DecisionTreeClassifier(max_depth=5, min_samples_split=10, min_samples_leaf=5)\n",
    "dt.fit(X_train, y_train)    # doesn't need to standardize\n",
    "dt.score(X_test, y_test)"
   ]
  },
  {
   "cell_type": "code",
   "execution_count": 128,
   "id": "9ecc27d2",
   "metadata": {
    "ExecuteTime": {
     "end_time": "2021-09-15T06:06:14.608583Z",
     "start_time": "2021-09-15T06:06:12.007843Z"
    },
    "collapsed": true,
    "hidden": true
   },
   "outputs": [
    {
     "data": {
      "text/plain": [
       "[Text(1395.0, 2989.7999999999997, 'height <= 62.5\\ngini = 0.818\\nsamples = 73449\\nvalue = [11150, 19059, 13459, 12298, 48, 6375, 11060]\\nclass = y[1]'),\n",
       " Text(637.3706896551724, 2446.2, 'height <= 54.5\\ngini = 0.742\\nsamples = 44914\\nvalue = [5505, 16066, 13459, 3011, 8, 6375, 490]\\nclass = y[1]'),\n",
       " Text(264.5689655172414, 1902.6, 'height <= 49.5\\ngini = 0.65\\nsamples = 17342\\nvalue = [312, 3382, 7823, 115, 1, 5709, 0]\\nclass = y[2]'),\n",
       " Text(96.20689655172414, 1358.9999999999998, 'height <= 45.5\\ngini = 0.515\\nsamples = 4957\\nvalue = [0, 222, 1798, 0, 0, 2937, 0]\\nclass = y[5]'),\n",
       " Text(48.10344827586207, 815.3999999999996, 'gini = 0.0\\nsamples = 588\\nvalue = [0, 0, 0, 0, 0, 588, 0]\\nclass = y[5]'),\n",
       " Text(144.31034482758622, 815.3999999999996, 'weight <= 37.5\\ngini = 0.539\\nsamples = 4369\\nvalue = [0, 222, 1798, 0, 0, 2349, 0]\\nclass = y[5]'),\n",
       " Text(96.20689655172414, 271.7999999999997, 'gini = 0.527\\nsamples = 3747\\nvalue = [0, 170, 1459, 0, 0, 2118, 0]\\nclass = y[5]'),\n",
       " Text(192.41379310344828, 271.7999999999997, 'gini = 0.558\\nsamples = 622\\nvalue = [0, 52, 339, 0, 0, 231, 0]\\nclass = y[2]'),\n",
       " Text(432.93103448275866, 1358.9999999999998, 'height <= 52.5\\ngini = 0.647\\nsamples = 12385\\nvalue = [312, 3160, 6025, 115, 1, 2772, 0]\\nclass = y[2]'),\n",
       " Text(336.7241379310345, 815.3999999999996, 'weight <= 42.5\\ngini = 0.627\\nsamples = 5150\\nvalue = [72, 910, 2513, 0, 0, 1655, 0]\\nclass = y[2]'),\n",
       " Text(288.62068965517244, 271.7999999999997, 'gini = 0.621\\nsamples = 4917\\nvalue = [64, 801, 2413, 0, 0, 1639, 0]\\nclass = y[2]'),\n",
       " Text(384.82758620689657, 271.7999999999997, 'gini = 0.591\\nsamples = 233\\nvalue = [8, 109, 100, 0, 0, 16, 0]\\nclass = y[1]'),\n",
       " Text(529.1379310344828, 815.3999999999996, 'weight <= 45.5\\ngini = 0.642\\nsamples = 7235\\nvalue = [240, 2250, 3512, 115, 1, 1117, 0]\\nclass = y[2]'),\n",
       " Text(481.0344827586207, 271.7999999999997, 'gini = 0.638\\nsamples = 7100\\nvalue = [219, 2143, 3512, 108, 1, 1117, 0]\\nclass = y[2]'),\n",
       " Text(577.2413793103449, 271.7999999999997, 'gini = 0.345\\nsamples = 135\\nvalue = [21, 107, 0, 7, 0, 0, 0]\\nclass = y[1]'),\n",
       " Text(1010.1724137931035, 1902.6, 'height <= 58.5\\ngini = 0.699\\nsamples = 27572\\nvalue = [5193, 12684, 5636, 2896, 7, 666, 490]\\nclass = y[1]'),\n",
       " Text(817.7586206896552, 1358.9999999999998, 'height <= 56.5\\ngini = 0.666\\nsamples = 17635\\nvalue = [2342, 8556, 4846, 1090, 3, 654, 144]\\nclass = y[1]'),\n",
       " Text(721.551724137931, 815.3999999999996, 'weight <= 45.5\\ngini = 0.652\\nsamples = 7744\\nvalue = [656, 3475, 2843, 277, 0, 463, 30]\\nclass = y[1]'),\n",
       " Text(673.448275862069, 271.7999999999997, 'gini = 0.649\\nsamples = 7470\\nvalue = [599, 3300, 2843, 239, 0, 463, 26]\\nclass = y[1]'),\n",
       " Text(769.6551724137931, 271.7999999999997, 'gini = 0.529\\nsamples = 274\\nvalue = [57, 175, 0, 38, 0, 0, 4]\\nclass = y[1]'),\n",
       " Text(913.9655172413793, 815.3999999999996, 'age <= 168.9\\ngini = 0.659\\nsamples = 9891\\nvalue = [1686, 5081, 2003, 813, 3, 191, 114]\\nclass = y[1]'),\n",
       " Text(865.8620689655173, 271.7999999999997, 'gini = 0.663\\nsamples = 7036\\nvalue = [1358, 3595, 1201, 667, 3, 118, 94]\\nclass = y[1]'),\n",
       " Text(962.0689655172414, 271.7999999999997, 'gini = 0.634\\nsamples = 2855\\nvalue = [328, 1486, 802, 146, 0, 73, 20]\\nclass = y[1]'),\n",
       " Text(1202.5862068965519, 1358.9999999999998, 'weight <= 37.5\\ngini = 0.705\\nsamples = 9937\\nvalue = [2851, 4128, 790, 1806, 4, 12, 346]\\nclass = y[1]'),\n",
       " Text(1106.3793103448277, 815.3999999999996, 'age <= 163.85\\ngini = 0.688\\nsamples = 7767\\nvalue = [2117, 3502, 710, 1247, 2, 10, 179]\\nclass = y[1]'),\n",
       " Text(1058.2758620689656, 271.7999999999997, 'gini = 0.712\\nsamples = 2595\\nvalue = [826, 953, 168, 563, 2, 6, 77]\\nclass = y[1]'),\n",
       " Text(1154.4827586206898, 271.7999999999997, 'gini = 0.666\\nsamples = 5172\\nvalue = [1291, 2549, 542, 684, 0, 4, 102]\\nclass = y[1]'),\n",
       " Text(1298.7931034482758, 815.3999999999996, 'weight <= 44.5\\ngini = 0.729\\nsamples = 2170\\nvalue = [734, 626, 80, 559, 2, 2, 167]\\nclass = y[0]'),\n",
       " Text(1250.689655172414, 271.7999999999997, 'gini = 0.716\\nsamples = 1505\\nvalue = [525, 496, 77, 332, 1, 2, 72]\\nclass = y[0]'),\n",
       " Text(1346.896551724138, 271.7999999999997, 'gini = 0.726\\nsamples = 665\\nvalue = [209, 130, 3, 227, 1, 0, 95]\\nclass = y[3]'),\n",
       " Text(2152.629310344828, 2446.2, 'height <= 70.5\\ngini = 0.707\\nsamples = 28535\\nvalue = [5645, 2993, 0, 9287, 40, 0, 10570]\\nclass = y[6]'),\n",
       " Text(1779.8275862068967, 1902.6, 'height <= 66.5\\ngini = 0.72\\nsamples = 19245\\nvalue = [5315, 2993, 0, 7310, 34, 0, 3593]\\nclass = y[3]'),\n",
       " Text(1587.4137931034484, 1358.9999999999998, 'weight <= 33.5\\ngini = 0.712\\nsamples = 11556\\nvalue = [3823, 2597, 0, 3966, 16, 0, 1154]\\nclass = y[3]'),\n",
       " Text(1491.2068965517242, 815.3999999999996, 'height <= 64.5\\ngini = 0.704\\nsamples = 6948\\nvalue = [2466, 1837, 0, 2147, 8, 0, 490]\\nclass = y[0]'),\n",
       " Text(1443.103448275862, 271.7999999999997, 'gini = 0.696\\nsamples = 3941\\nvalue = [1407, 1249, 0, 1070, 5, 0, 210]\\nclass = y[0]'),\n",
       " Text(1539.3103448275863, 271.7999999999997, 'gini = 0.701\\nsamples = 3007\\nvalue = [1059, 588, 0, 1077, 3, 0, 280]\\nclass = y[3]'),\n",
       " Text(1683.6206896551726, 815.3999999999996, 'height <= 64.5\\ngini = 0.709\\nsamples = 4608\\nvalue = [1357, 760, 0, 1819, 8, 0, 664]\\nclass = y[3]'),\n",
       " Text(1635.5172413793105, 271.7999999999997, 'gini = 0.712\\nsamples = 2590\\nvalue = [852, 538, 0, 913, 3, 0, 284]\\nclass = y[3]'),\n",
       " Text(1731.7241379310346, 271.7999999999997, 'gini = 0.688\\nsamples = 2018\\nvalue = [505, 222, 0, 906, 5, 0, 380]\\nclass = y[3]'),\n",
       " Text(1972.2413793103449, 1358.9999999999998, 'age <= 163.85\\ngini = 0.67\\nsamples = 7689\\nvalue = [1492, 396, 0, 3344, 18, 0, 2439]\\nclass = y[3]'),\n",
       " Text(1876.0344827586207, 815.3999999999996, 'height <= 68.5\\ngini = 0.639\\nsamples = 1879\\nvalue = [248, 81, 0, 643, 16, 0, 891]\\nclass = y[6]'),\n",
       " Text(1827.9310344827586, 271.7999999999997, 'gini = 0.67\\nsamples = 1276\\nvalue = [196, 81, 0, 456, 10, 0, 533]\\nclass = y[6]'),\n",
       " Text(1924.1379310344828, 271.7999999999997, 'gini = 0.544\\nsamples = 603\\nvalue = [52, 0, 0, 187, 6, 0, 358]\\nclass = y[6]'),\n",
       " Text(2068.448275862069, 815.3999999999996, 'height <= 69.5\\ngini = 0.664\\nsamples = 5810\\nvalue = [1244, 315, 0, 2701, 2, 0, 1548]\\nclass = y[3]'),\n",
       " Text(2020.344827586207, 271.7999999999997, 'gini = 0.673\\nsamples = 3923\\nvalue = [947, 315, 0, 1827, 1, 0, 833]\\nclass = y[3]'),\n",
       " Text(2116.551724137931, 271.7999999999997, 'gini = 0.617\\nsamples = 1887\\nvalue = [297, 0, 0, 874, 1, 0, 715]\\nclass = y[3]'),\n",
       " Text(2525.4310344827586, 1902.6, 'height <= 75.5\\ngini = 0.389\\nsamples = 9290\\nvalue = [330, 0, 0, 1977, 6, 0, 6977]\\nclass = y[6]'),\n",
       " Text(2357.0689655172414, 1358.9999999999998, 'age <= 166.35\\ngini = 0.507\\nsamples = 5223\\nvalue = [330, 0, 0, 1616, 3, 0, 3274]\\nclass = y[6]'),\n",
       " Text(2260.862068965517, 815.3999999999996, 'weight <= 35.5\\ngini = 0.413\\nsamples = 1725\\nvalue = [73, 0, 0, 387, 3, 0, 1262]\\nclass = y[6]'),\n",
       " Text(2212.7586206896553, 271.7999999999997, 'gini = 0.453\\nsamples = 1182\\nvalue = [58, 0, 0, 304, 2, 0, 818]\\nclass = y[6]'),\n",
       " Text(2308.9655172413795, 271.7999999999997, 'gini = 0.307\\nsamples = 543\\nvalue = [15, 0, 0, 83, 1, 0, 444]\\nclass = y[6]'),\n",
       " Text(2453.2758620689656, 815.3999999999996, 'height <= 72.5\\ngini = 0.54\\nsamples = 3498\\nvalue = [257, 0, 0, 1229, 0, 0, 2012]\\nclass = y[6]'),\n",
       " Text(2405.1724137931037, 271.7999999999997, 'gini = 0.578\\nsamples = 2091\\nvalue = [203, 0, 0, 838, 0, 0, 1050]\\nclass = y[6]'),\n",
       " Text(2501.379310344828, 271.7999999999997, 'gini = 0.454\\nsamples = 1407\\nvalue = [54, 0, 0, 391, 0, 0, 962]\\nclass = y[6]'),\n",
       " Text(2693.793103448276, 1358.9999999999998, 'height <= 80.5\\ngini = 0.163\\nsamples = 4067\\nvalue = [0, 0, 0, 361, 3, 0, 3703]\\nclass = y[6]'),\n",
       " Text(2645.689655172414, 815.3999999999996, 'weight <= 31.5\\ngini = 0.24\\nsamples = 2610\\nvalue = [0, 0, 0, 361, 3, 0, 2246]\\nclass = y[6]'),\n",
       " Text(2597.5862068965516, 271.7999999999997, 'gini = 0.306\\nsamples = 1071\\nvalue = [0, 0, 0, 199, 2, 0, 870]\\nclass = y[6]'),\n",
       " Text(2693.793103448276, 271.7999999999997, 'gini = 0.19\\nsamples = 1539\\nvalue = [0, 0, 0, 162, 1, 0, 1376]\\nclass = y[6]'),\n",
       " Text(2741.896551724138, 815.3999999999996, 'gini = 0.0\\nsamples = 1457\\nvalue = [0, 0, 0, 0, 0, 0, 1457]\\nclass = y[6]')]"
      ]
     },
     "execution_count": 128,
     "metadata": {},
     "output_type": "execute_result"
    },
    {
     "data": {
      "image/png": "[encoded data removed]",
      "text/plain": [
       "<Figure size 3600x4320 with 1 Axes>"
      ]
     },
     "metadata": {
      "needs_background": "light"
     },
     "output_type": "display_data"
    }
   ],
   "source": [
    "# Plot tree\n",
    "plt.figure(figsize=(50, 60))\n",
    "plot_tree(dt, feature_names=['weight', 'age', 'height'], class_names=True)"
   ]
  },
  {
   "cell_type": "code",
   "execution_count": 129,
   "id": "5d4049d3",
   "metadata": {
    "ExecuteTime": {
     "end_time": "2021-09-15T06:06:15.125524Z",
     "start_time": "2021-09-15T06:06:14.609583Z"
    },
    "hidden": true
   },
   "outputs": [
    {
     "name": "stdout",
     "output_type": "stream",
     "text": [
      "              precision    recall  f1-score   support\n",
      "\n",
      "           L       0.36      0.18      0.24      4809\n",
      "           M       0.48      0.65      0.55      8262\n",
      "           S       0.50      0.47      0.48      5787\n",
      "          XL       0.41      0.48      0.44      5115\n",
      "         XXL       0.00      0.00      0.00        10\n",
      "         XXS       0.64      0.43      0.51      2722\n",
      "        XXXL       0.71      0.71      0.71      4774\n",
      "\n",
      "    accuracy                           0.51     31479\n",
      "   macro avg       0.44      0.42      0.42     31479\n",
      "weighted avg       0.50      0.51      0.49     31479\n",
      "\n"
     ]
    }
   ],
   "source": [
    "# Evaluation\n",
    "print(classification_report(y_test, dt.predict(X_test), zero_division=0))"
   ]
  },
  {
   "cell_type": "markdown",
   "id": "a2a4cfad",
   "metadata": {
    "hidden": true
   },
   "source": [
    "> **Accuracy: 50.7%, f1-score(weighted): 0.49**"
   ]
  },
  {
   "cell_type": "markdown",
   "id": "f558055d",
   "metadata": {
    "heading_collapsed": true
   },
   "source": [
    "## Naive Bayes"
   ]
  },
  {
   "cell_type": "code",
   "execution_count": 130,
   "id": "9b722f3d",
   "metadata": {
    "ExecuteTime": {
     "end_time": "2021-09-15T06:06:15.141283Z",
     "start_time": "2021-09-15T06:06:15.130526Z"
    },
    "hidden": true
   },
   "outputs": [],
   "source": [
    "from sklearn.naive_bayes import GaussianNB"
   ]
  },
  {
   "cell_type": "code",
   "execution_count": 131,
   "id": "df807170",
   "metadata": {
    "ExecuteTime": {
     "end_time": "2021-09-15T06:06:15.221301Z",
     "start_time": "2021-09-15T06:06:15.142284Z"
    },
    "hidden": true
   },
   "outputs": [
    {
     "data": {
      "text/plain": [
       "0.48448171797071066"
      ]
     },
     "execution_count": 131,
     "metadata": {},
     "output_type": "execute_result"
    }
   ],
   "source": [
    "nb = GaussianNB()\n",
    "nb.fit(X_train_sc, y_train)\n",
    "nb.score(X_test_sc, y_test)"
   ]
  },
  {
   "cell_type": "code",
   "execution_count": 132,
   "id": "da935924",
   "metadata": {
    "ExecuteTime": {
     "end_time": "2021-09-15T06:06:15.579656Z",
     "start_time": "2021-09-15T06:06:15.222301Z"
    },
    "hidden": true
   },
   "outputs": [
    {
     "name": "stderr",
     "output_type": "stream",
     "text": [
      "C:\\Users\\SK\\anaconda3\\lib\\site-packages\\sklearn\\metrics\\_classification.py:1245: UndefinedMetricWarning: Precision and F-score are ill-defined and being set to 0.0 in labels with no predicted samples. Use `zero_division` parameter to control this behavior.\n",
      "  _warn_prf(average, modifier, msg_start, len(result))\n",
      "C:\\Users\\SK\\anaconda3\\lib\\site-packages\\sklearn\\metrics\\_classification.py:1245: UndefinedMetricWarning: Precision and F-score are ill-defined and being set to 0.0 in labels with no predicted samples. Use `zero_division` parameter to control this behavior.\n",
      "  _warn_prf(average, modifier, msg_start, len(result))\n"
     ]
    },
    {
     "name": "stdout",
     "output_type": "stream",
     "text": [
      "              precision    recall  f1-score   support\n",
      "\n",
      "           L       0.35      0.19      0.24      4809\n",
      "           M       0.45      0.60      0.52      8262\n",
      "           S       0.45      0.49      0.47      5787\n",
      "          XL       0.41      0.40      0.40      5115\n",
      "         XXL       0.00      0.00      0.00        10\n",
      "         XXS       0.57      0.49      0.53      2722\n",
      "        XXXL       0.74      0.67      0.70      4774\n",
      "\n",
      "    accuracy                           0.48     31479\n",
      "   macro avg       0.42      0.40      0.41     31479\n",
      "weighted avg       0.48      0.48      0.48     31479\n",
      "\n"
     ]
    },
    {
     "name": "stderr",
     "output_type": "stream",
     "text": [
      "C:\\Users\\SK\\anaconda3\\lib\\site-packages\\sklearn\\metrics\\_classification.py:1245: UndefinedMetricWarning: Precision and F-score are ill-defined and being set to 0.0 in labels with no predicted samples. Use `zero_division` parameter to control this behavior.\n",
      "  _warn_prf(average, modifier, msg_start, len(result))\n"
     ]
    }
   ],
   "source": [
    "print(classification_report(y_test, nb.predict(X_test_sc)))"
   ]
  },
  {
   "cell_type": "markdown",
   "id": "69f38328",
   "metadata": {
    "hidden": true
   },
   "source": [
    "> **Accuracy: 48.4%, f1-score(weighted): 0.48**"
   ]
  },
  {
   "cell_type": "markdown",
   "id": "34ebc1da",
   "metadata": {
    "heading_collapsed": true
   },
   "source": [
    "## Ensemble Model 1)  Voting"
   ]
  },
  {
   "cell_type": "code",
   "execution_count": 133,
   "id": "b43df1f1",
   "metadata": {
    "ExecuteTime": {
     "end_time": "2021-09-15T06:06:15.609655Z",
     "start_time": "2021-09-15T06:06:15.580656Z"
    },
    "hidden": true
   },
   "outputs": [],
   "source": [
    "from sklearn.ensemble import VotingClassifier"
   ]
  },
  {
   "cell_type": "code",
   "execution_count": 176,
   "id": "386842ce",
   "metadata": {
    "ExecuteTime": {
     "end_time": "2021-09-15T12:58:57.159184Z",
     "start_time": "2021-09-15T12:58:57.098603Z"
    },
    "hidden": true
   },
   "outputs": [],
   "source": [
    "# All classification models used above\n",
    "# Soft voting\n",
    "logi = LogisticRegression(solver='saga')\n",
    "svm = SVC(kernel='rbf', C=5, gamma=5, probability=True)\n",
    "knn = KNeighborsClassifier(n_neighbors=49)\n",
    "dt = DecisionTreeClassifier(max_depth=5, min_samples_split=10, min_samples_leaf=5)\n",
    "nb = GaussianNB()\n",
    "\n",
    "vot = VotingClassifier(estimators=[('logi', logi), ('svm', svm), ('knn', knn), ('dt', dt), ('nb', nb)], voting='soft')"
   ]
  },
  {
   "cell_type": "code",
   "execution_count": 177,
   "id": "65e647a8",
   "metadata": {
    "ExecuteTime": {
     "end_time": "2021-09-15T15:05:49.939855Z",
     "start_time": "2021-09-15T12:58:57.166183Z"
    },
    "hidden": true
   },
   "outputs": [
    {
     "data": {
      "text/plain": [
       "0.5192350455859461"
      ]
     },
     "execution_count": 177,
     "metadata": {},
     "output_type": "execute_result"
    }
   ],
   "source": [
    "vot.fit(X_train_sc, y_train)\n",
    "vot.score(X_test_sc, y_test)"
   ]
  },
  {
   "cell_type": "code",
   "execution_count": 178,
   "id": "14302855",
   "metadata": {
    "ExecuteTime": {
     "end_time": "2021-09-15T15:05:49.955010Z",
     "start_time": "2021-09-15T15:05:49.945855Z"
    },
    "hidden": true
   },
   "outputs": [],
   "source": [
    "# Hard voting\n",
    "vot = VotingClassifier(estimators=[('logi', logi), ('svm', svm), ('knn', knn), ('dt', dt), ('nb', nb)], voting='hard')"
   ]
  },
  {
   "cell_type": "code",
   "execution_count": 179,
   "id": "8549666c",
   "metadata": {
    "ExecuteTime": {
     "end_time": "2021-09-15T16:15:38.086404Z",
     "start_time": "2021-09-15T15:05:49.958382Z"
    },
    "hidden": true
   },
   "outputs": [
    {
     "data": {
      "text/plain": [
       "0.5181867276597096"
      ]
     },
     "execution_count": 179,
     "metadata": {},
     "output_type": "execute_result"
    }
   ],
   "source": [
    "vot.fit(X_train_sc, y_train)\n",
    "vot.score(X_test_sc, y_test)"
   ]
  },
  {
   "cell_type": "markdown",
   "id": "5b29e7af",
   "metadata": {
    "hidden": true
   },
   "source": [
    "> **Soft Voting: Accuracy: 51.9%**"
   ]
  },
  {
   "cell_type": "markdown",
   "id": "a832f468",
   "metadata": {},
   "source": [
    "## Ensemble Model 2) Bagging - Random Forest"
   ]
  },
  {
   "cell_type": "code",
   "execution_count": 136,
   "id": "3a8de8d3",
   "metadata": {
    "ExecuteTime": {
     "end_time": "2021-09-15T06:29:30.216382Z",
     "start_time": "2021-09-15T06:29:30.201372Z"
    }
   },
   "outputs": [],
   "source": [
    "from sklearn.ensemble import RandomForestClassifier"
   ]
  },
  {
   "cell_type": "code",
   "execution_count": 137,
   "id": "143d2fa1",
   "metadata": {
    "ExecuteTime": {
     "end_time": "2021-09-15T06:29:30.723299Z",
     "start_time": "2021-09-15T06:29:30.217382Z"
    }
   },
   "outputs": [
    {
     "data": {
      "text/plain": [
       "0.5026525620254773"
      ]
     },
     "execution_count": 137,
     "metadata": {},
     "output_type": "execute_result"
    }
   ],
   "source": [
    "rf = RandomForestClassifier(max_depth=5, min_samples_split=10, min_samples_leaf=5, n_jobs=-1)\n",
    "rf.fit(X_train, y_train)    # Decision tree doesn't need scaling\n",
    "rf.score(X_test, y_test)"
   ]
  },
  {
   "cell_type": "code",
   "execution_count": 138,
   "id": "078b2995",
   "metadata": {
    "ExecuteTime": {
     "end_time": "2021-09-15T06:29:30.771300Z",
     "start_time": "2021-09-15T06:29:30.724290Z"
    }
   },
   "outputs": [
    {
     "name": "stdout",
     "output_type": "stream",
     "text": [
      "Estimators: [DecisionTreeClassifier(max_depth=5, max_features='auto', min_samples_leaf=5,\n",
      "                       min_samples_split=10, random_state=1194545674), DecisionTreeClassifier(max_depth=5, max_features='auto', min_samples_leaf=5,\n",
      "                       min_samples_split=10, random_state=1014892200), DecisionTreeClassifier(max_depth=5, max_features='auto', min_samples_leaf=5,\n",
      "                       min_samples_split=10, random_state=1613952528), DecisionTreeClassifier(max_depth=5, max_features='auto', min_samples_leaf=5,\n",
      "                       min_samples_split=10, random_state=1171057185), DecisionTreeClassifier(max_depth=5, max_features='auto', min_samples_leaf=5,\n",
      "                       min_samples_split=10, random_state=594914993), DecisionTreeClassifier(max_depth=5, max_features='auto', min_samples_leaf=5,\n",
      "                       min_samples_split=10, random_state=670946744), DecisionTreeClassifier(max_depth=5, max_features='auto', min_samples_leaf=5,\n",
      "                       min_samples_split=10, random_state=18211940), DecisionTreeClassifier(max_depth=5, max_features='auto', min_samples_leaf=5,\n",
      "                       min_samples_split=10, random_state=109016224), DecisionTreeClassifier(max_depth=5, max_features='auto', min_samples_leaf=5,\n",
      "                       min_samples_split=10, random_state=20739030), DecisionTreeClassifier(max_depth=5, max_features='auto', min_samples_leaf=5,\n",
      "                       min_samples_split=10, random_state=231205843), DecisionTreeClassifier(max_depth=5, max_features='auto', min_samples_leaf=5,\n",
      "                       min_samples_split=10, random_state=1060469096), DecisionTreeClassifier(max_depth=5, max_features='auto', min_samples_leaf=5,\n",
      "                       min_samples_split=10, random_state=1023049215), DecisionTreeClassifier(max_depth=5, max_features='auto', min_samples_leaf=5,\n",
      "                       min_samples_split=10, random_state=340110209), DecisionTreeClassifier(max_depth=5, max_features='auto', min_samples_leaf=5,\n",
      "                       min_samples_split=10, random_state=1279160458), DecisionTreeClassifier(max_depth=5, max_features='auto', min_samples_leaf=5,\n",
      "                       min_samples_split=10, random_state=1519563585), DecisionTreeClassifier(max_depth=5, max_features='auto', min_samples_leaf=5,\n",
      "                       min_samples_split=10, random_state=237130414), DecisionTreeClassifier(max_depth=5, max_features='auto', min_samples_leaf=5,\n",
      "                       min_samples_split=10, random_state=1997233778), DecisionTreeClassifier(max_depth=5, max_features='auto', min_samples_leaf=5,\n",
      "                       min_samples_split=10, random_state=775610438), DecisionTreeClassifier(max_depth=5, max_features='auto', min_samples_leaf=5,\n",
      "                       min_samples_split=10, random_state=2110549817), DecisionTreeClassifier(max_depth=5, max_features='auto', min_samples_leaf=5,\n",
      "                       min_samples_split=10, random_state=305676934), DecisionTreeClassifier(max_depth=5, max_features='auto', min_samples_leaf=5,\n",
      "                       min_samples_split=10, random_state=1656929767), DecisionTreeClassifier(max_depth=5, max_features='auto', min_samples_leaf=5,\n",
      "                       min_samples_split=10, random_state=2003040243), DecisionTreeClassifier(max_depth=5, max_features='auto', min_samples_leaf=5,\n",
      "                       min_samples_split=10, random_state=1744682040), DecisionTreeClassifier(max_depth=5, max_features='auto', min_samples_leaf=5,\n",
      "                       min_samples_split=10, random_state=1153308640), DecisionTreeClassifier(max_depth=5, max_features='auto', min_samples_leaf=5,\n",
      "                       min_samples_split=10, random_state=1490489032), DecisionTreeClassifier(max_depth=5, max_features='auto', min_samples_leaf=5,\n",
      "                       min_samples_split=10, random_state=1082876922), DecisionTreeClassifier(max_depth=5, max_features='auto', min_samples_leaf=5,\n",
      "                       min_samples_split=10, random_state=1260596877), DecisionTreeClassifier(max_depth=5, max_features='auto', min_samples_leaf=5,\n",
      "                       min_samples_split=10, random_state=772261944), DecisionTreeClassifier(max_depth=5, max_features='auto', min_samples_leaf=5,\n",
      "                       min_samples_split=10, random_state=1432378701), DecisionTreeClassifier(max_depth=5, max_features='auto', min_samples_leaf=5,\n",
      "                       min_samples_split=10, random_state=1769813168), DecisionTreeClassifier(max_depth=5, max_features='auto', min_samples_leaf=5,\n",
      "                       min_samples_split=10, random_state=347807435), DecisionTreeClassifier(max_depth=5, max_features='auto', min_samples_leaf=5,\n",
      "                       min_samples_split=10, random_state=371363094), DecisionTreeClassifier(max_depth=5, max_features='auto', min_samples_leaf=5,\n",
      "                       min_samples_split=10, random_state=390635265), DecisionTreeClassifier(max_depth=5, max_features='auto', min_samples_leaf=5,\n",
      "                       min_samples_split=10, random_state=1041095446), DecisionTreeClassifier(max_depth=5, max_features='auto', min_samples_leaf=5,\n",
      "                       min_samples_split=10, random_state=1386665966), DecisionTreeClassifier(max_depth=5, max_features='auto', min_samples_leaf=5,\n",
      "                       min_samples_split=10, random_state=72139498), DecisionTreeClassifier(max_depth=5, max_features='auto', min_samples_leaf=5,\n",
      "                       min_samples_split=10, random_state=1926984664), DecisionTreeClassifier(max_depth=5, max_features='auto', min_samples_leaf=5,\n",
      "                       min_samples_split=10, random_state=154117271), DecisionTreeClassifier(max_depth=5, max_features='auto', min_samples_leaf=5,\n",
      "                       min_samples_split=10, random_state=216555620), DecisionTreeClassifier(max_depth=5, max_features='auto', min_samples_leaf=5,\n",
      "                       min_samples_split=10, random_state=641777411), DecisionTreeClassifier(max_depth=5, max_features='auto', min_samples_leaf=5,\n",
      "                       min_samples_split=10, random_state=1513688128), DecisionTreeClassifier(max_depth=5, max_features='auto', min_samples_leaf=5,\n",
      "                       min_samples_split=10, random_state=1985116879), DecisionTreeClassifier(max_depth=5, max_features='auto', min_samples_leaf=5,\n",
      "                       min_samples_split=10, random_state=1600085716), DecisionTreeClassifier(max_depth=5, max_features='auto', min_samples_leaf=5,\n",
      "                       min_samples_split=10, random_state=951953427), DecisionTreeClassifier(max_depth=5, max_features='auto', min_samples_leaf=5,\n",
      "                       min_samples_split=10, random_state=32742909), DecisionTreeClassifier(max_depth=5, max_features='auto', min_samples_leaf=5,\n",
      "                       min_samples_split=10, random_state=1679151596), DecisionTreeClassifier(max_depth=5, max_features='auto', min_samples_leaf=5,\n",
      "                       min_samples_split=10, random_state=1037669868), DecisionTreeClassifier(max_depth=5, max_features='auto', min_samples_leaf=5,\n",
      "                       min_samples_split=10, random_state=162428647), DecisionTreeClassifier(max_depth=5, max_features='auto', min_samples_leaf=5,\n",
      "                       min_samples_split=10, random_state=1421582900), DecisionTreeClassifier(max_depth=5, max_features='auto', min_samples_leaf=5,\n",
      "                       min_samples_split=10, random_state=979116084), DecisionTreeClassifier(max_depth=5, max_features='auto', min_samples_leaf=5,\n",
      "                       min_samples_split=10, random_state=1660642220), DecisionTreeClassifier(max_depth=5, max_features='auto', min_samples_leaf=5,\n",
      "                       min_samples_split=10, random_state=180579100), DecisionTreeClassifier(max_depth=5, max_features='auto', min_samples_leaf=5,\n",
      "                       min_samples_split=10, random_state=273815686), DecisionTreeClassifier(max_depth=5, max_features='auto', min_samples_leaf=5,\n",
      "                       min_samples_split=10, random_state=397549314), DecisionTreeClassifier(max_depth=5, max_features='auto', min_samples_leaf=5,\n",
      "                       min_samples_split=10, random_state=2102596981), DecisionTreeClassifier(max_depth=5, max_features='auto', min_samples_leaf=5,\n",
      "                       min_samples_split=10, random_state=1882132367), DecisionTreeClassifier(max_depth=5, max_features='auto', min_samples_leaf=5,\n",
      "                       min_samples_split=10, random_state=38237797), DecisionTreeClassifier(max_depth=5, max_features='auto', min_samples_leaf=5,\n",
      "                       min_samples_split=10, random_state=1547080849), DecisionTreeClassifier(max_depth=5, max_features='auto', min_samples_leaf=5,\n",
      "                       min_samples_split=10, random_state=281998896), DecisionTreeClassifier(max_depth=5, max_features='auto', min_samples_leaf=5,\n",
      "                       min_samples_split=10, random_state=1320231876), DecisionTreeClassifier(max_depth=5, max_features='auto', min_samples_leaf=5,\n",
      "                       min_samples_split=10, random_state=473659078), DecisionTreeClassifier(max_depth=5, max_features='auto', min_samples_leaf=5,\n",
      "                       min_samples_split=10, random_state=1838316494), DecisionTreeClassifier(max_depth=5, max_features='auto', min_samples_leaf=5,\n",
      "                       min_samples_split=10, random_state=1823846130), DecisionTreeClassifier(max_depth=5, max_features='auto', min_samples_leaf=5,\n",
      "                       min_samples_split=10, random_state=519440704), DecisionTreeClassifier(max_depth=5, max_features='auto', min_samples_leaf=5,\n",
      "                       min_samples_split=10, random_state=1252463714), DecisionTreeClassifier(max_depth=5, max_features='auto', min_samples_leaf=5,\n",
      "                       min_samples_split=10, random_state=1376720821), DecisionTreeClassifier(max_depth=5, max_features='auto', min_samples_leaf=5,\n",
      "                       min_samples_split=10, random_state=1116045906), DecisionTreeClassifier(max_depth=5, max_features='auto', min_samples_leaf=5,\n",
      "                       min_samples_split=10, random_state=954986350), DecisionTreeClassifier(max_depth=5, max_features='auto', min_samples_leaf=5,\n",
      "                       min_samples_split=10, random_state=1428563879), DecisionTreeClassifier(max_depth=5, max_features='auto', min_samples_leaf=5,\n",
      "                       min_samples_split=10, random_state=630759384), DecisionTreeClassifier(max_depth=5, max_features='auto', min_samples_leaf=5,\n",
      "                       min_samples_split=10, random_state=128702547), DecisionTreeClassifier(max_depth=5, max_features='auto', min_samples_leaf=5,\n",
      "                       min_samples_split=10, random_state=1201386155), DecisionTreeClassifier(max_depth=5, max_features='auto', min_samples_leaf=5,\n",
      "                       min_samples_split=10, random_state=396005435), DecisionTreeClassifier(max_depth=5, max_features='auto', min_samples_leaf=5,\n",
      "                       min_samples_split=10, random_state=504258263), DecisionTreeClassifier(max_depth=5, max_features='auto', min_samples_leaf=5,\n",
      "                       min_samples_split=10, random_state=415268703), DecisionTreeClassifier(max_depth=5, max_features='auto', min_samples_leaf=5,\n",
      "                       min_samples_split=10, random_state=858197090), DecisionTreeClassifier(max_depth=5, max_features='auto', min_samples_leaf=5,\n",
      "                       min_samples_split=10, random_state=85615192), DecisionTreeClassifier(max_depth=5, max_features='auto', min_samples_leaf=5,\n",
      "                       min_samples_split=10, random_state=508568579), DecisionTreeClassifier(max_depth=5, max_features='auto', min_samples_leaf=5,\n",
      "                       min_samples_split=10, random_state=1805282914), DecisionTreeClassifier(max_depth=5, max_features='auto', min_samples_leaf=5,\n",
      "                       min_samples_split=10, random_state=542688148), DecisionTreeClassifier(max_depth=5, max_features='auto', min_samples_leaf=5,\n",
      "                       min_samples_split=10, random_state=1024487110), DecisionTreeClassifier(max_depth=5, max_features='auto', min_samples_leaf=5,\n",
      "                       min_samples_split=10, random_state=608715835), DecisionTreeClassifier(max_depth=5, max_features='auto', min_samples_leaf=5,\n",
      "                       min_samples_split=10, random_state=1921316951), DecisionTreeClassifier(max_depth=5, max_features='auto', min_samples_leaf=5,\n",
      "                       min_samples_split=10, random_state=209379460), DecisionTreeClassifier(max_depth=5, max_features='auto', min_samples_leaf=5,\n",
      "                       min_samples_split=10, random_state=2021394100), DecisionTreeClassifier(max_depth=5, max_features='auto', min_samples_leaf=5,\n",
      "                       min_samples_split=10, random_state=131107647), DecisionTreeClassifier(max_depth=5, max_features='auto', min_samples_leaf=5,\n",
      "                       min_samples_split=10, random_state=1590523167), DecisionTreeClassifier(max_depth=5, max_features='auto', min_samples_leaf=5,\n",
      "                       min_samples_split=10, random_state=619363567), DecisionTreeClassifier(max_depth=5, max_features='auto', min_samples_leaf=5,\n",
      "                       min_samples_split=10, random_state=297512060), DecisionTreeClassifier(max_depth=5, max_features='auto', min_samples_leaf=5,\n",
      "                       min_samples_split=10, random_state=481083735), DecisionTreeClassifier(max_depth=5, max_features='auto', min_samples_leaf=5,\n",
      "                       min_samples_split=10, random_state=1263259114), DecisionTreeClassifier(max_depth=5, max_features='auto', min_samples_leaf=5,\n",
      "                       min_samples_split=10, random_state=663409523), DecisionTreeClassifier(max_depth=5, max_features='auto', min_samples_leaf=5,\n",
      "                       min_samples_split=10, random_state=1557829829), DecisionTreeClassifier(max_depth=5, max_features='auto', min_samples_leaf=5,\n",
      "                       min_samples_split=10, random_state=1958302361), DecisionTreeClassifier(max_depth=5, max_features='auto', min_samples_leaf=5,\n",
      "                       min_samples_split=10, random_state=1854087604), DecisionTreeClassifier(max_depth=5, max_features='auto', min_samples_leaf=5,\n",
      "                       min_samples_split=10, random_state=1099533503), DecisionTreeClassifier(max_depth=5, max_features='auto', min_samples_leaf=5,\n",
      "                       min_samples_split=10, random_state=1589116552), DecisionTreeClassifier(max_depth=5, max_features='auto', min_samples_leaf=5,\n",
      "                       min_samples_split=10, random_state=269021755), DecisionTreeClassifier(max_depth=5, max_features='auto', min_samples_leaf=5,\n",
      "                       min_samples_split=10, random_state=1391525669), DecisionTreeClassifier(max_depth=5, max_features='auto', min_samples_leaf=5,\n",
      "                       min_samples_split=10, random_state=104267038)]\n",
      "Base estimator: DecisionTreeClassifier()\n",
      "Features: 3\n",
      "Outputs: 1\n",
      "Feature importances: [0.03916172 0.05518827 0.90565002]\n"
     ]
    }
   ],
   "source": [
    "# Attributes of random forest classifier\n",
    "print('Estimators:', rf.estimators_)\n",
    "print('Base estimator:', rf.base_estimator_)\n",
    "print('Features:', rf.n_features_)\n",
    "print('Outputs:', rf.n_outputs_)\n",
    "print('Feature importances:', rf.feature_importances_)  # The higher, the more important the feature. "
   ]
  },
  {
   "cell_type": "code",
   "execution_count": 212,
   "id": "677e2154",
   "metadata": {
    "ExecuteTime": {
     "end_time": "2021-09-16T06:13:46.746324Z",
     "start_time": "2021-09-16T06:13:46.738362Z"
    }
   },
   "outputs": [],
   "source": [
    "# Grid search - Selected!!\n",
    "rf = RandomForestClassifier()\n",
    "params = {'max_depth':[5, 7, 9, 11], 'min_samples_split':[10, 20, 30, 50], 'min_samples_leaf':[5, 10, 15]}\n",
    "rf_clf = GridSearchCV(rf, params, cv=5, n_jobs=-1)"
   ]
  },
  {
   "cell_type": "code",
   "execution_count": 213,
   "id": "b221b013",
   "metadata": {
    "ExecuteTime": {
     "end_time": "2021-09-16T06:15:16.232682Z",
     "start_time": "2021-09-16T06:13:47.902070Z"
    }
   },
   "outputs": [
    {
     "data": {
      "text/plain": [
       "0.5218717240064805"
      ]
     },
     "execution_count": 213,
     "metadata": {},
     "output_type": "execute_result"
    }
   ],
   "source": [
    "rf_clf.fit(X_train, y_train)\n",
    "rf_clf.score(X_test, y_test)"
   ]
  },
  {
   "cell_type": "code",
   "execution_count": 214,
   "id": "346e574b",
   "metadata": {
    "ExecuteTime": {
     "end_time": "2021-09-16T06:15:16.248462Z",
     "start_time": "2021-09-16T06:15:16.234683Z"
    }
   },
   "outputs": [
    {
     "data": {
      "text/plain": [
       "{'max_depth': 11, 'min_samples_leaf': 5, 'min_samples_split': 20}"
      ]
     },
     "execution_count": 214,
     "metadata": {},
     "output_type": "execute_result"
    }
   ],
   "source": [
    "rf_clf.best_params_"
   ]
  },
  {
   "cell_type": "code",
   "execution_count": 215,
   "id": "d7f0b66e",
   "metadata": {
    "ExecuteTime": {
     "end_time": "2021-09-16T06:15:17.263576Z",
     "start_time": "2021-09-16T06:15:16.250461Z"
    }
   },
   "outputs": [
    {
     "name": "stdout",
     "output_type": "stream",
     "text": [
      "              precision    recall  f1-score   support\n",
      "\n",
      "           L       0.38      0.23      0.29      4809\n",
      "           M       0.50      0.64      0.56      8262\n",
      "           S       0.50      0.54      0.52      5787\n",
      "          XL       0.45      0.43      0.44      5115\n",
      "         XXL       0.00      0.00      0.00        10\n",
      "         XXS       0.62      0.45      0.52      2722\n",
      "        XXXL       0.74      0.72      0.73      4774\n",
      "\n",
      "    accuracy                           0.52     31479\n",
      "   macro avg       0.45      0.43      0.44     31479\n",
      "weighted avg       0.52      0.52      0.51     31479\n",
      "\n"
     ]
    }
   ],
   "source": [
    "print(classification_report(y_test, rf_clf.predict(X_test), zero_division=0))"
   ]
  },
  {
   "cell_type": "markdown",
   "id": "df5154a4",
   "metadata": {},
   "source": [
    "> **Accuracy: 52.3%, f1-score(weighted): 0.51**"
   ]
  },
  {
   "cell_type": "markdown",
   "id": "9773b44d",
   "metadata": {},
   "source": [
    "### Pickle the Best Model"
   ]
  },
  {
   "cell_type": "code",
   "execution_count": 216,
   "id": "6a88dc45",
   "metadata": {
    "ExecuteTime": {
     "end_time": "2021-09-16T06:15:17.295585Z",
     "start_time": "2021-09-16T06:15:17.264576Z"
    }
   },
   "outputs": [],
   "source": [
    "# Dump into pickle\n",
    "import pickle\n",
    "\n",
    "with open('best_model.pickle', 'wb') as f:\n",
    "    pickle.dump(rf_clf, f)"
   ]
  },
  {
   "cell_type": "code",
   "execution_count": 217,
   "id": "c19e5691",
   "metadata": {
    "ExecuteTime": {
     "end_time": "2021-09-16T06:15:17.784236Z",
     "start_time": "2021-09-16T06:15:17.296586Z"
    }
   },
   "outputs": [
    {
     "data": {
      "text/plain": [
       "0.5218717240064805"
      ]
     },
     "execution_count": 217,
     "metadata": {},
     "output_type": "execute_result"
    }
   ],
   "source": [
    "# Load pickle\n",
    "with open('best_model.pickle', 'rb') as f:\n",
    "    model = pickle.load(f)\n",
    "model.score(X_test, y_test)"
   ]
  },
  {
   "cell_type": "markdown",
   "id": "d467d2f1",
   "metadata": {
    "heading_collapsed": true
   },
   "source": [
    "## Ensemble Model 3) Boosting - XGboost"
   ]
  },
  {
   "cell_type": "code",
   "execution_count": 143,
   "id": "f70e2866",
   "metadata": {
    "ExecuteTime": {
     "end_time": "2021-09-15T06:31:00.878515Z",
     "start_time": "2021-09-15T06:30:57.940559Z"
    },
    "hidden": true
   },
   "outputs": [
    {
     "name": "stdout",
     "output_type": "stream",
     "text": [
      "Processing c:\\users\\sk\\anaconda3\\lib\\site-packages\\xgboost-1.4.2-cp38-cp38-win_amd64.whl\n",
      "Requirement already satisfied: scipy in c:\\users\\sk\\anaconda3\\lib\\site-packages (from xgboost==1.4.2) (1.6.2)\n",
      "Requirement already satisfied: numpy in c:\\users\\sk\\anaconda3\\lib\\site-packages (from xgboost==1.4.2) (1.20.1)\n",
      "xgboost is already installed with the same version as the provided wheel. Use --force-reinstall to force an installation of the wheel.\n"
     ]
    }
   ],
   "source": [
    "# Install Xgboost library\n",
    "!pip install C:\\Users\\SK\\anaconda3\\Lib\\site-packages\\xgboost-1.4.2-cp38-cp38-win_amd64.whl"
   ]
  },
  {
   "cell_type": "code",
   "execution_count": 144,
   "id": "53e9d63b",
   "metadata": {
    "ExecuteTime": {
     "end_time": "2021-09-15T06:31:00.924989Z",
     "start_time": "2021-09-15T06:31:00.879517Z"
    },
    "hidden": true
   },
   "outputs": [],
   "source": [
    "from xgboost import XGBClassifier"
   ]
  },
  {
   "cell_type": "code",
   "execution_count": 145,
   "id": "8e1fbba0",
   "metadata": {
    "ExecuteTime": {
     "end_time": "2021-09-15T06:31:00.940991Z",
     "start_time": "2021-09-15T06:31:00.925988Z"
    },
    "hidden": true
   },
   "outputs": [
    {
     "data": {
      "text/plain": [
       "((51414, 3), (22035,))"
      ]
     },
     "execution_count": 145,
     "metadata": {},
     "output_type": "execute_result"
    }
   ],
   "source": [
    "# Prepare validation set from train set\n",
    "X_train_xgb, X_val_xgb, y_train_xgb, y_val_xgb = train_test_split(X_train, y_train, test_size=0.3, random_state=5)\n",
    "X_train_xgb.shape, y_val_xgb.shape    # Standardization isn't needed"
   ]
  },
  {
   "cell_type": "code",
   "execution_count": 146,
   "id": "f3a9ae16",
   "metadata": {
    "ExecuteTime": {
     "end_time": "2021-09-15T06:31:17.499979Z",
     "start_time": "2021-09-15T06:31:00.941992Z"
    },
    "collapsed": true,
    "hidden": true
   },
   "outputs": [
    {
     "name": "stdout",
     "output_type": "stream",
     "text": [
      "[0]\tvalidation_0-mlogloss:1.84267\n",
      "[1]\tvalidation_0-mlogloss:1.75899\n",
      "[2]\tvalidation_0-mlogloss:1.68873\n"
     ]
    },
    {
     "name": "stderr",
     "output_type": "stream",
     "text": [
      "C:\\Users\\SK\\anaconda3\\lib\\site-packages\\xgboost\\sklearn.py:1146: UserWarning: The use of label encoder in XGBClassifier is deprecated and will be removed in a future release. To remove this warning, do the following: 1) Pass option use_label_encoder=False when constructing XGBClassifier object; and 2) Encode your labels (y) as integers starting with 0, i.e. 0, 1, 2, ..., [num_class - 1].\n",
      "  warnings.warn(label_encoder_deprecation_msg, UserWarning)\n"
     ]
    },
    {
     "name": "stdout",
     "output_type": "stream",
     "text": [
      "[3]\tvalidation_0-mlogloss:1.62859\n",
      "[4]\tvalidation_0-mlogloss:1.57654\n",
      "[5]\tvalidation_0-mlogloss:1.53106\n",
      "[6]\tvalidation_0-mlogloss:1.49110\n",
      "[7]\tvalidation_0-mlogloss:1.45568\n",
      "[8]\tvalidation_0-mlogloss:1.42419\n",
      "[9]\tvalidation_0-mlogloss:1.39616\n",
      "[10]\tvalidation_0-mlogloss:1.37086\n",
      "[11]\tvalidation_0-mlogloss:1.34811\n",
      "[12]\tvalidation_0-mlogloss:1.32756\n",
      "[13]\tvalidation_0-mlogloss:1.30887\n",
      "[14]\tvalidation_0-mlogloss:1.29190\n",
      "[15]\tvalidation_0-mlogloss:1.27656\n",
      "[16]\tvalidation_0-mlogloss:1.26258\n",
      "[17]\tvalidation_0-mlogloss:1.24987\n",
      "[18]\tvalidation_0-mlogloss:1.23825\n",
      "[19]\tvalidation_0-mlogloss:1.22762\n",
      "[20]\tvalidation_0-mlogloss:1.21789\n",
      "[21]\tvalidation_0-mlogloss:1.20893\n",
      "[22]\tvalidation_0-mlogloss:1.20060\n",
      "[23]\tvalidation_0-mlogloss:1.19297\n",
      "[24]\tvalidation_0-mlogloss:1.18595\n",
      "[25]\tvalidation_0-mlogloss:1.17940\n",
      "[26]\tvalidation_0-mlogloss:1.17343\n",
      "[27]\tvalidation_0-mlogloss:1.16789\n",
      "[28]\tvalidation_0-mlogloss:1.16273\n",
      "[29]\tvalidation_0-mlogloss:1.15790\n",
      "[30]\tvalidation_0-mlogloss:1.15344\n",
      "[31]\tvalidation_0-mlogloss:1.14930\n",
      "[32]\tvalidation_0-mlogloss:1.14548\n",
      "[33]\tvalidation_0-mlogloss:1.14195\n",
      "[34]\tvalidation_0-mlogloss:1.13868\n",
      "[35]\tvalidation_0-mlogloss:1.13559\n",
      "[36]\tvalidation_0-mlogloss:1.13275\n",
      "[37]\tvalidation_0-mlogloss:1.13007\n",
      "[38]\tvalidation_0-mlogloss:1.12759\n",
      "[39]\tvalidation_0-mlogloss:1.12528\n",
      "[40]\tvalidation_0-mlogloss:1.12316\n",
      "[41]\tvalidation_0-mlogloss:1.12117\n",
      "[42]\tvalidation_0-mlogloss:1.11932\n",
      "[43]\tvalidation_0-mlogloss:1.11761\n",
      "[44]\tvalidation_0-mlogloss:1.11602\n",
      "[45]\tvalidation_0-mlogloss:1.11453\n",
      "[46]\tvalidation_0-mlogloss:1.11315\n",
      "[47]\tvalidation_0-mlogloss:1.11183\n",
      "[48]\tvalidation_0-mlogloss:1.11061\n",
      "[49]\tvalidation_0-mlogloss:1.10946\n",
      "[50]\tvalidation_0-mlogloss:1.10840\n",
      "[51]\tvalidation_0-mlogloss:1.10747\n",
      "[52]\tvalidation_0-mlogloss:1.10658\n",
      "[53]\tvalidation_0-mlogloss:1.10567\n",
      "[54]\tvalidation_0-mlogloss:1.10482\n",
      "[55]\tvalidation_0-mlogloss:1.10407\n",
      "[56]\tvalidation_0-mlogloss:1.10336\n",
      "[57]\tvalidation_0-mlogloss:1.10266\n",
      "[58]\tvalidation_0-mlogloss:1.10202\n",
      "[59]\tvalidation_0-mlogloss:1.10141\n",
      "[60]\tvalidation_0-mlogloss:1.10084\n",
      "[61]\tvalidation_0-mlogloss:1.10033\n",
      "[62]\tvalidation_0-mlogloss:1.09987\n",
      "[63]\tvalidation_0-mlogloss:1.09943\n",
      "[64]\tvalidation_0-mlogloss:1.09902\n",
      "[65]\tvalidation_0-mlogloss:1.09865\n",
      "[66]\tvalidation_0-mlogloss:1.09831\n",
      "[67]\tvalidation_0-mlogloss:1.09798\n",
      "[68]\tvalidation_0-mlogloss:1.09767\n",
      "[69]\tvalidation_0-mlogloss:1.09738\n",
      "[70]\tvalidation_0-mlogloss:1.09709\n",
      "[71]\tvalidation_0-mlogloss:1.09682\n",
      "[72]\tvalidation_0-mlogloss:1.09658\n",
      "[73]\tvalidation_0-mlogloss:1.09636\n",
      "[74]\tvalidation_0-mlogloss:1.09616\n",
      "[75]\tvalidation_0-mlogloss:1.09595\n",
      "[76]\tvalidation_0-mlogloss:1.09576\n",
      "[77]\tvalidation_0-mlogloss:1.09559\n",
      "[78]\tvalidation_0-mlogloss:1.09547\n",
      "[79]\tvalidation_0-mlogloss:1.09536\n",
      "[80]\tvalidation_0-mlogloss:1.09523\n",
      "[81]\tvalidation_0-mlogloss:1.09514\n",
      "[82]\tvalidation_0-mlogloss:1.09505\n",
      "[83]\tvalidation_0-mlogloss:1.09498\n",
      "[84]\tvalidation_0-mlogloss:1.09491\n",
      "[85]\tvalidation_0-mlogloss:1.09483\n",
      "[86]\tvalidation_0-mlogloss:1.09481\n",
      "[87]\tvalidation_0-mlogloss:1.09475\n",
      "[88]\tvalidation_0-mlogloss:1.09466\n",
      "[89]\tvalidation_0-mlogloss:1.09465\n",
      "[90]\tvalidation_0-mlogloss:1.09465\n",
      "[91]\tvalidation_0-mlogloss:1.09465\n",
      "[92]\tvalidation_0-mlogloss:1.09467\n",
      "[93]\tvalidation_0-mlogloss:1.09463\n",
      "[94]\tvalidation_0-mlogloss:1.09462\n",
      "[95]\tvalidation_0-mlogloss:1.09461\n",
      "[96]\tvalidation_0-mlogloss:1.09467\n",
      "[97]\tvalidation_0-mlogloss:1.09469\n",
      "[98]\tvalidation_0-mlogloss:1.09470\n",
      "[99]\tvalidation_0-mlogloss:1.09472\n",
      "[100]\tvalidation_0-mlogloss:1.09479\n",
      "[101]\tvalidation_0-mlogloss:1.09483\n",
      "[102]\tvalidation_0-mlogloss:1.09488\n",
      "[103]\tvalidation_0-mlogloss:1.09494\n",
      "[104]\tvalidation_0-mlogloss:1.09497\n",
      "[105]\tvalidation_0-mlogloss:1.09503\n",
      "[106]\tvalidation_0-mlogloss:1.09508\n",
      "[107]\tvalidation_0-mlogloss:1.09515\n",
      "[108]\tvalidation_0-mlogloss:1.09525\n",
      "[109]\tvalidation_0-mlogloss:1.09535\n",
      "[110]\tvalidation_0-mlogloss:1.09540\n",
      "[111]\tvalidation_0-mlogloss:1.09546\n",
      "[112]\tvalidation_0-mlogloss:1.09556\n",
      "[113]\tvalidation_0-mlogloss:1.09561\n",
      "[114]\tvalidation_0-mlogloss:1.09569\n",
      "[115]\tvalidation_0-mlogloss:1.09575\n",
      "[116]\tvalidation_0-mlogloss:1.09585\n",
      "[117]\tvalidation_0-mlogloss:1.09596\n",
      "[118]\tvalidation_0-mlogloss:1.09603\n",
      "[119]\tvalidation_0-mlogloss:1.09611\n",
      "[120]\tvalidation_0-mlogloss:1.09620\n",
      "[121]\tvalidation_0-mlogloss:1.09633\n",
      "[122]\tvalidation_0-mlogloss:1.09642\n",
      "[123]\tvalidation_0-mlogloss:1.09651\n",
      "[124]\tvalidation_0-mlogloss:1.09660\n",
      "[125]\tvalidation_0-mlogloss:1.09675\n",
      "[126]\tvalidation_0-mlogloss:1.09687\n",
      "[127]\tvalidation_0-mlogloss:1.09702\n",
      "[128]\tvalidation_0-mlogloss:1.09714\n",
      "[129]\tvalidation_0-mlogloss:1.09726\n",
      "[130]\tvalidation_0-mlogloss:1.09743\n",
      "[131]\tvalidation_0-mlogloss:1.09752\n",
      "[132]\tvalidation_0-mlogloss:1.09765\n",
      "[133]\tvalidation_0-mlogloss:1.09779\n",
      "[134]\tvalidation_0-mlogloss:1.09787\n",
      "[135]\tvalidation_0-mlogloss:1.09803\n",
      "[136]\tvalidation_0-mlogloss:1.09818\n",
      "[137]\tvalidation_0-mlogloss:1.09832\n",
      "[138]\tvalidation_0-mlogloss:1.09849\n",
      "[139]\tvalidation_0-mlogloss:1.09861\n",
      "[140]\tvalidation_0-mlogloss:1.09874\n",
      "[141]\tvalidation_0-mlogloss:1.09887\n",
      "[142]\tvalidation_0-mlogloss:1.09902\n",
      "[143]\tvalidation_0-mlogloss:1.09909\n",
      "[144]\tvalidation_0-mlogloss:1.09920\n",
      "[145]\tvalidation_0-mlogloss:1.09932\n",
      "[146]\tvalidation_0-mlogloss:1.09943\n",
      "[147]\tvalidation_0-mlogloss:1.09957\n",
      "[148]\tvalidation_0-mlogloss:1.09973\n",
      "[149]\tvalidation_0-mlogloss:1.09984\n",
      "[150]\tvalidation_0-mlogloss:1.09998\n",
      "[151]\tvalidation_0-mlogloss:1.10008\n",
      "[152]\tvalidation_0-mlogloss:1.10021\n",
      "[153]\tvalidation_0-mlogloss:1.10039\n",
      "[154]\tvalidation_0-mlogloss:1.10052\n",
      "[155]\tvalidation_0-mlogloss:1.10072\n",
      "[156]\tvalidation_0-mlogloss:1.10091\n",
      "[157]\tvalidation_0-mlogloss:1.10105\n",
      "[158]\tvalidation_0-mlogloss:1.10121\n",
      "[159]\tvalidation_0-mlogloss:1.10141\n",
      "[160]\tvalidation_0-mlogloss:1.10152\n",
      "[161]\tvalidation_0-mlogloss:1.10166\n",
      "[162]\tvalidation_0-mlogloss:1.10175\n",
      "[163]\tvalidation_0-mlogloss:1.10189\n",
      "[164]\tvalidation_0-mlogloss:1.10205\n",
      "[165]\tvalidation_0-mlogloss:1.10219\n",
      "[166]\tvalidation_0-mlogloss:1.10232\n",
      "[167]\tvalidation_0-mlogloss:1.10247\n",
      "[168]\tvalidation_0-mlogloss:1.10263\n",
      "[169]\tvalidation_0-mlogloss:1.10271\n",
      "[170]\tvalidation_0-mlogloss:1.10288\n",
      "[171]\tvalidation_0-mlogloss:1.10303\n",
      "[172]\tvalidation_0-mlogloss:1.10315\n",
      "[173]\tvalidation_0-mlogloss:1.10330\n",
      "[174]\tvalidation_0-mlogloss:1.10343\n",
      "[175]\tvalidation_0-mlogloss:1.10356\n",
      "[176]\tvalidation_0-mlogloss:1.10372\n",
      "[177]\tvalidation_0-mlogloss:1.10392\n",
      "[178]\tvalidation_0-mlogloss:1.10407\n",
      "[179]\tvalidation_0-mlogloss:1.10423\n",
      "[180]\tvalidation_0-mlogloss:1.10437\n",
      "[181]\tvalidation_0-mlogloss:1.10454\n",
      "[182]\tvalidation_0-mlogloss:1.10466\n",
      "[183]\tvalidation_0-mlogloss:1.10477\n",
      "[184]\tvalidation_0-mlogloss:1.10494\n",
      "[185]\tvalidation_0-mlogloss:1.10509\n",
      "[186]\tvalidation_0-mlogloss:1.10531\n",
      "[187]\tvalidation_0-mlogloss:1.10546\n",
      "[188]\tvalidation_0-mlogloss:1.10567\n",
      "[189]\tvalidation_0-mlogloss:1.10587\n",
      "[190]\tvalidation_0-mlogloss:1.10608\n",
      "[191]\tvalidation_0-mlogloss:1.10628\n",
      "[192]\tvalidation_0-mlogloss:1.10649\n",
      "[193]\tvalidation_0-mlogloss:1.10669\n",
      "[194]\tvalidation_0-mlogloss:1.10684\n",
      "[195]\tvalidation_0-mlogloss:1.10701\n"
     ]
    },
    {
     "data": {
      "text/plain": [
       "XGBClassifier(base_score=0.5, booster='gbtree', colsample_bylevel=1,\n",
       "              colsample_bynode=1, colsample_bytree=1, gamma=0, gpu_id=-1,\n",
       "              importance_type='gain', interaction_constraints='',\n",
       "              learning_rate=0.1, max_delta_step=0, max_depth=10,\n",
       "              min_child_weight=1, missing=nan, monotone_constraints='()',\n",
       "              n_estimators=400, n_jobs=16, num_parallel_tree=1,\n",
       "              objective='multi:softprob', random_state=0, reg_alpha=0,\n",
       "              reg_lambda=1, scale_pos_weight=None, subsample=1,\n",
       "              tree_method='exact', validate_parameters=1, verbosity=None)"
      ]
     },
     "execution_count": 146,
     "metadata": {},
     "output_type": "execute_result"
    }
   ],
   "source": [
    "xgb = XGBClassifier(n_estimators=400, learning_rate=0.1, n_jobs=16, max_depth=10, objective='multi:softmax')\n",
    "xgb.fit(X_train_xgb, y_train_xgb, eval_set=[(X_val_xgb, y_val_xgb)], eval_metric='mlogloss', early_stopping_rounds=100)"
   ]
  },
  {
   "cell_type": "code",
   "execution_count": 147,
   "id": "323fa230",
   "metadata": {
    "ExecuteTime": {
     "end_time": "2021-09-15T06:31:17.765557Z",
     "start_time": "2021-09-15T06:31:17.501484Z"
    },
    "hidden": true
   },
   "outputs": [
    {
     "data": {
      "text/plain": [
       "0.5190126751167445"
      ]
     },
     "execution_count": 147,
     "metadata": {},
     "output_type": "execute_result"
    }
   ],
   "source": [
    "# Predict with test data\n",
    "y_pred = xgb.predict(X_test)\n",
    "xgb.score(X_test, y_test)"
   ]
  },
  {
   "cell_type": "code",
   "execution_count": 148,
   "id": "1e68baab",
   "metadata": {
    "ExecuteTime": {
     "end_time": "2021-09-15T06:31:18.401442Z",
     "start_time": "2021-09-15T06:31:17.767558Z"
    },
    "hidden": true
   },
   "outputs": [
    {
     "name": "stdout",
     "output_type": "stream",
     "text": [
      "              precision    recall  f1-score   support\n",
      "\n",
      "           L       0.38      0.20      0.26      4809\n",
      "           M       0.49      0.63      0.55      8262\n",
      "           S       0.50      0.55      0.52      5787\n",
      "          XL       0.44      0.47      0.45      5115\n",
      "         XXL       0.00      0.00      0.00        10\n",
      "         XXS       0.61      0.45      0.52      2722\n",
      "        XXXL       0.74      0.70      0.72      4774\n",
      "\n",
      "    accuracy                           0.52     31479\n",
      "   macro avg       0.45      0.43      0.43     31479\n",
      "weighted avg       0.52      0.52      0.51     31479\n",
      "\n"
     ]
    }
   ],
   "source": [
    "# Evaluation\n",
    "import warnings\n",
    "warnings.filterwarnings('ignore')   # To stop getting warning messages\n",
    "\n",
    "print(classification_report(y_test, y_pred))"
   ]
  },
  {
   "cell_type": "markdown",
   "id": "1a57a3f2",
   "metadata": {
    "hidden": true
   },
   "source": [
    "### Grid Search 1"
   ]
  },
  {
   "cell_type": "code",
   "execution_count": 149,
   "id": "20ce44bd",
   "metadata": {
    "ExecuteTime": {
     "end_time": "2021-09-15T06:42:57.326280Z",
     "start_time": "2021-09-15T06:31:18.402452Z"
    },
    "hidden": true
   },
   "outputs": [
    {
     "name": "stdout",
     "output_type": "stream",
     "text": [
      "[0]\tvalidation_0-mlogloss:1.94484\n",
      "[1]\tvalidation_0-mlogloss:1.94377\n",
      "[2]\tvalidation_0-mlogloss:1.94271\n",
      "[3]\tvalidation_0-mlogloss:1.94164\n",
      "[4]\tvalidation_0-mlogloss:1.94058\n",
      "[5]\tvalidation_0-mlogloss:1.93952\n",
      "[6]\tvalidation_0-mlogloss:1.93847\n",
      "[7]\tvalidation_0-mlogloss:1.93741\n",
      "[8]\tvalidation_0-mlogloss:1.93636\n",
      "[9]\tvalidation_0-mlogloss:1.93531\n",
      "[10]\tvalidation_0-mlogloss:1.93426\n",
      "[11]\tvalidation_0-mlogloss:1.93322\n",
      "[12]\tvalidation_0-mlogloss:1.93218\n",
      "[13]\tvalidation_0-mlogloss:1.93114\n",
      "[14]\tvalidation_0-mlogloss:1.93010\n",
      "[15]\tvalidation_0-mlogloss:1.92906\n",
      "[16]\tvalidation_0-mlogloss:1.92803\n",
      "[17]\tvalidation_0-mlogloss:1.92700\n",
      "[18]\tvalidation_0-mlogloss:1.92597\n",
      "[19]\tvalidation_0-mlogloss:1.92494\n",
      "[20]\tvalidation_0-mlogloss:1.92391\n",
      "[21]\tvalidation_0-mlogloss:1.92289\n",
      "[22]\tvalidation_0-mlogloss:1.92187\n",
      "[23]\tvalidation_0-mlogloss:1.92085\n",
      "[24]\tvalidation_0-mlogloss:1.91983\n",
      "[25]\tvalidation_0-mlogloss:1.91882\n",
      "[26]\tvalidation_0-mlogloss:1.91781\n",
      "[27]\tvalidation_0-mlogloss:1.91680\n",
      "[28]\tvalidation_0-mlogloss:1.91579\n",
      "[29]\tvalidation_0-mlogloss:1.91478\n",
      "[30]\tvalidation_0-mlogloss:1.91378\n",
      "[31]\tvalidation_0-mlogloss:1.91277\n",
      "[32]\tvalidation_0-mlogloss:1.91178\n",
      "[33]\tvalidation_0-mlogloss:1.91078\n",
      "[34]\tvalidation_0-mlogloss:1.90978\n",
      "[35]\tvalidation_0-mlogloss:1.90879\n",
      "[36]\tvalidation_0-mlogloss:1.90779\n",
      "[37]\tvalidation_0-mlogloss:1.90680\n",
      "[38]\tvalidation_0-mlogloss:1.90582\n",
      "[39]\tvalidation_0-mlogloss:1.90483\n",
      "[40]\tvalidation_0-mlogloss:1.90385\n",
      "[41]\tvalidation_0-mlogloss:1.90286\n",
      "[42]\tvalidation_0-mlogloss:1.90188\n",
      "[43]\tvalidation_0-mlogloss:1.90090\n",
      "[44]\tvalidation_0-mlogloss:1.89993\n",
      "[45]\tvalidation_0-mlogloss:1.89895\n",
      "[46]\tvalidation_0-mlogloss:1.89798\n",
      "[47]\tvalidation_0-mlogloss:1.89701\n",
      "[48]\tvalidation_0-mlogloss:1.89604\n",
      "[49]\tvalidation_0-mlogloss:1.89507\n",
      "[50]\tvalidation_0-mlogloss:1.89411\n",
      "[51]\tvalidation_0-mlogloss:1.89314\n",
      "[52]\tvalidation_0-mlogloss:1.89218\n",
      "[53]\tvalidation_0-mlogloss:1.89122\n",
      "[54]\tvalidation_0-mlogloss:1.89026\n",
      "[55]\tvalidation_0-mlogloss:1.88931\n",
      "[56]\tvalidation_0-mlogloss:1.88835\n",
      "[57]\tvalidation_0-mlogloss:1.88740\n",
      "[58]\tvalidation_0-mlogloss:1.88645\n",
      "[59]\tvalidation_0-mlogloss:1.88550\n",
      "[60]\tvalidation_0-mlogloss:1.88455\n",
      "[61]\tvalidation_0-mlogloss:1.88361\n",
      "[62]\tvalidation_0-mlogloss:1.88266\n",
      "[63]\tvalidation_0-mlogloss:1.88172\n",
      "[64]\tvalidation_0-mlogloss:1.88078\n",
      "[65]\tvalidation_0-mlogloss:1.87985\n",
      "[66]\tvalidation_0-mlogloss:1.87891\n",
      "[67]\tvalidation_0-mlogloss:1.87797\n",
      "[68]\tvalidation_0-mlogloss:1.87704\n",
      "[69]\tvalidation_0-mlogloss:1.87611\n",
      "[70]\tvalidation_0-mlogloss:1.87518\n",
      "[71]\tvalidation_0-mlogloss:1.87426\n",
      "[72]\tvalidation_0-mlogloss:1.87333\n",
      "[73]\tvalidation_0-mlogloss:1.87241\n",
      "[74]\tvalidation_0-mlogloss:1.87148\n",
      "[75]\tvalidation_0-mlogloss:1.87056\n",
      "[76]\tvalidation_0-mlogloss:1.86964\n",
      "[77]\tvalidation_0-mlogloss:1.86873\n",
      "[78]\tvalidation_0-mlogloss:1.86781\n",
      "[79]\tvalidation_0-mlogloss:1.86690\n",
      "[80]\tvalidation_0-mlogloss:1.86598\n",
      "[81]\tvalidation_0-mlogloss:1.86507\n",
      "[82]\tvalidation_0-mlogloss:1.86416\n",
      "[83]\tvalidation_0-mlogloss:1.86326\n",
      "[84]\tvalidation_0-mlogloss:1.86235\n",
      "[85]\tvalidation_0-mlogloss:1.86145\n",
      "[86]\tvalidation_0-mlogloss:1.86054\n",
      "[87]\tvalidation_0-mlogloss:1.85965\n",
      "[88]\tvalidation_0-mlogloss:1.85875\n",
      "[89]\tvalidation_0-mlogloss:1.85785\n",
      "[90]\tvalidation_0-mlogloss:1.85695\n",
      "[91]\tvalidation_0-mlogloss:1.85606\n",
      "[92]\tvalidation_0-mlogloss:1.85517\n",
      "[93]\tvalidation_0-mlogloss:1.85428\n",
      "[94]\tvalidation_0-mlogloss:1.85339\n",
      "[95]\tvalidation_0-mlogloss:1.85250\n",
      "[96]\tvalidation_0-mlogloss:1.85162\n",
      "[97]\tvalidation_0-mlogloss:1.85073\n",
      "[98]\tvalidation_0-mlogloss:1.84985\n",
      "[99]\tvalidation_0-mlogloss:1.84897\n",
      "[100]\tvalidation_0-mlogloss:1.84809\n",
      "[101]\tvalidation_0-mlogloss:1.84722\n",
      "[102]\tvalidation_0-mlogloss:1.84634\n",
      "[103]\tvalidation_0-mlogloss:1.84547\n",
      "[104]\tvalidation_0-mlogloss:1.84459\n",
      "[105]\tvalidation_0-mlogloss:1.84372\n",
      "[106]\tvalidation_0-mlogloss:1.84285\n",
      "[107]\tvalidation_0-mlogloss:1.84199\n",
      "[108]\tvalidation_0-mlogloss:1.84112\n",
      "[109]\tvalidation_0-mlogloss:1.84025\n",
      "[110]\tvalidation_0-mlogloss:1.83939\n",
      "[111]\tvalidation_0-mlogloss:1.83853\n",
      "[112]\tvalidation_0-mlogloss:1.83767\n",
      "[113]\tvalidation_0-mlogloss:1.83681\n",
      "[114]\tvalidation_0-mlogloss:1.83596\n",
      "[115]\tvalidation_0-mlogloss:1.83510\n",
      "[116]\tvalidation_0-mlogloss:1.83425\n",
      "[117]\tvalidation_0-mlogloss:1.83340\n",
      "[118]\tvalidation_0-mlogloss:1.83254\n",
      "[119]\tvalidation_0-mlogloss:1.83170\n",
      "[120]\tvalidation_0-mlogloss:1.83085\n",
      "[121]\tvalidation_0-mlogloss:1.83000\n",
      "[122]\tvalidation_0-mlogloss:1.82916\n",
      "[123]\tvalidation_0-mlogloss:1.82831\n",
      "[124]\tvalidation_0-mlogloss:1.82747\n",
      "[125]\tvalidation_0-mlogloss:1.82663\n",
      "[126]\tvalidation_0-mlogloss:1.82579\n",
      "[127]\tvalidation_0-mlogloss:1.82495\n",
      "[128]\tvalidation_0-mlogloss:1.82412\n",
      "[129]\tvalidation_0-mlogloss:1.82328\n",
      "[130]\tvalidation_0-mlogloss:1.82245\n",
      "[131]\tvalidation_0-mlogloss:1.82161\n",
      "[132]\tvalidation_0-mlogloss:1.82078\n",
      "[133]\tvalidation_0-mlogloss:1.81995\n",
      "[134]\tvalidation_0-mlogloss:1.81913\n",
      "[135]\tvalidation_0-mlogloss:1.81830\n",
      "[136]\tvalidation_0-mlogloss:1.81747\n",
      "[137]\tvalidation_0-mlogloss:1.81665\n",
      "[138]\tvalidation_0-mlogloss:1.81583\n",
      "[139]\tvalidation_0-mlogloss:1.81501\n",
      "[140]\tvalidation_0-mlogloss:1.81419\n",
      "[141]\tvalidation_0-mlogloss:1.81337\n",
      "[142]\tvalidation_0-mlogloss:1.81255\n",
      "[143]\tvalidation_0-mlogloss:1.81174\n",
      "[144]\tvalidation_0-mlogloss:1.81092\n",
      "[145]\tvalidation_0-mlogloss:1.81011\n",
      "[146]\tvalidation_0-mlogloss:1.80930\n",
      "[147]\tvalidation_0-mlogloss:1.80849\n",
      "[148]\tvalidation_0-mlogloss:1.80768\n",
      "[149]\tvalidation_0-mlogloss:1.80687\n",
      "[150]\tvalidation_0-mlogloss:1.80607\n",
      "[151]\tvalidation_0-mlogloss:1.80527\n",
      "[152]\tvalidation_0-mlogloss:1.80446\n",
      "[153]\tvalidation_0-mlogloss:1.80366\n",
      "[154]\tvalidation_0-mlogloss:1.80286\n",
      "[155]\tvalidation_0-mlogloss:1.80206\n",
      "[156]\tvalidation_0-mlogloss:1.80127\n",
      "[157]\tvalidation_0-mlogloss:1.80047\n",
      "[158]\tvalidation_0-mlogloss:1.79967\n",
      "[159]\tvalidation_0-mlogloss:1.79888\n",
      "[160]\tvalidation_0-mlogloss:1.79809\n",
      "[161]\tvalidation_0-mlogloss:1.79730\n",
      "[162]\tvalidation_0-mlogloss:1.79651\n",
      "[163]\tvalidation_0-mlogloss:1.79572\n",
      "[164]\tvalidation_0-mlogloss:1.79493\n",
      "[165]\tvalidation_0-mlogloss:1.79415\n",
      "[166]\tvalidation_0-mlogloss:1.79336\n",
      "[167]\tvalidation_0-mlogloss:1.79258\n",
      "[168]\tvalidation_0-mlogloss:1.79180\n",
      "[169]\tvalidation_0-mlogloss:1.79102\n",
      "[170]\tvalidation_0-mlogloss:1.79024\n",
      "[171]\tvalidation_0-mlogloss:1.78946\n",
      "[172]\tvalidation_0-mlogloss:1.78869\n",
      "[173]\tvalidation_0-mlogloss:1.78791\n",
      "[174]\tvalidation_0-mlogloss:1.78714\n",
      "[175]\tvalidation_0-mlogloss:1.78637\n",
      "[176]\tvalidation_0-mlogloss:1.78559\n",
      "[177]\tvalidation_0-mlogloss:1.78483\n",
      "[178]\tvalidation_0-mlogloss:1.78406\n",
      "[179]\tvalidation_0-mlogloss:1.78329\n",
      "[180]\tvalidation_0-mlogloss:1.78252\n",
      "[181]\tvalidation_0-mlogloss:1.78176\n",
      "[182]\tvalidation_0-mlogloss:1.78100\n",
      "[183]\tvalidation_0-mlogloss:1.78023\n",
      "[184]\tvalidation_0-mlogloss:1.77947\n",
      "[185]\tvalidation_0-mlogloss:1.77871\n",
      "[186]\tvalidation_0-mlogloss:1.77796\n",
      "[187]\tvalidation_0-mlogloss:1.77720\n",
      "[188]\tvalidation_0-mlogloss:1.77644\n",
      "[189]\tvalidation_0-mlogloss:1.77569\n",
      "[190]\tvalidation_0-mlogloss:1.77493\n",
      "[191]\tvalidation_0-mlogloss:1.77418\n",
      "[192]\tvalidation_0-mlogloss:1.77343\n",
      "[193]\tvalidation_0-mlogloss:1.77268\n",
      "[194]\tvalidation_0-mlogloss:1.77194\n",
      "[195]\tvalidation_0-mlogloss:1.77119\n",
      "[196]\tvalidation_0-mlogloss:1.77044\n",
      "[197]\tvalidation_0-mlogloss:1.76970\n",
      "[198]\tvalidation_0-mlogloss:1.76896\n",
      "[199]\tvalidation_0-mlogloss:1.76821\n",
      "[200]\tvalidation_0-mlogloss:1.76747\n",
      "[201]\tvalidation_0-mlogloss:1.76673\n",
      "[202]\tvalidation_0-mlogloss:1.76599\n",
      "[203]\tvalidation_0-mlogloss:1.76526\n",
      "[204]\tvalidation_0-mlogloss:1.76452\n",
      "[205]\tvalidation_0-mlogloss:1.76378\n",
      "[206]\tvalidation_0-mlogloss:1.76305\n",
      "[207]\tvalidation_0-mlogloss:1.76232\n",
      "[208]\tvalidation_0-mlogloss:1.76158\n",
      "[209]\tvalidation_0-mlogloss:1.76085\n",
      "[210]\tvalidation_0-mlogloss:1.76012\n",
      "[211]\tvalidation_0-mlogloss:1.75940\n",
      "[212]\tvalidation_0-mlogloss:1.75867\n",
      "[213]\tvalidation_0-mlogloss:1.75794\n",
      "[214]\tvalidation_0-mlogloss:1.75722\n",
      "[215]\tvalidation_0-mlogloss:1.75649\n",
      "[216]\tvalidation_0-mlogloss:1.75577\n",
      "[217]\tvalidation_0-mlogloss:1.75505\n",
      "[218]\tvalidation_0-mlogloss:1.75433\n",
      "[219]\tvalidation_0-mlogloss:1.75361\n",
      "[220]\tvalidation_0-mlogloss:1.75290\n",
      "[221]\tvalidation_0-mlogloss:1.75218\n",
      "[222]\tvalidation_0-mlogloss:1.75146\n",
      "[223]\tvalidation_0-mlogloss:1.75075\n",
      "[224]\tvalidation_0-mlogloss:1.75004\n",
      "[225]\tvalidation_0-mlogloss:1.74932\n",
      "[226]\tvalidation_0-mlogloss:1.74861\n",
      "[227]\tvalidation_0-mlogloss:1.74790\n",
      "[228]\tvalidation_0-mlogloss:1.74719\n",
      "[229]\tvalidation_0-mlogloss:1.74649\n",
      "[230]\tvalidation_0-mlogloss:1.74578\n"
     ]
    },
    {
     "name": "stdout",
     "output_type": "stream",
     "text": [
      "[231]\tvalidation_0-mlogloss:1.74508\n",
      "[232]\tvalidation_0-mlogloss:1.74437\n",
      "[233]\tvalidation_0-mlogloss:1.74367\n",
      "[234]\tvalidation_0-mlogloss:1.74297\n",
      "[235]\tvalidation_0-mlogloss:1.74227\n",
      "[236]\tvalidation_0-mlogloss:1.74157\n",
      "[237]\tvalidation_0-mlogloss:1.74087\n",
      "[238]\tvalidation_0-mlogloss:1.74017\n",
      "[239]\tvalidation_0-mlogloss:1.73947\n",
      "[240]\tvalidation_0-mlogloss:1.73878\n",
      "[241]\tvalidation_0-mlogloss:1.73808\n",
      "[242]\tvalidation_0-mlogloss:1.73739\n",
      "[243]\tvalidation_0-mlogloss:1.73670\n",
      "[244]\tvalidation_0-mlogloss:1.73601\n",
      "[245]\tvalidation_0-mlogloss:1.73532\n",
      "[246]\tvalidation_0-mlogloss:1.73463\n",
      "[247]\tvalidation_0-mlogloss:1.73394\n",
      "[248]\tvalidation_0-mlogloss:1.73325\n",
      "[249]\tvalidation_0-mlogloss:1.73257\n",
      "[250]\tvalidation_0-mlogloss:1.73188\n",
      "[251]\tvalidation_0-mlogloss:1.73120\n",
      "[252]\tvalidation_0-mlogloss:1.73052\n",
      "[253]\tvalidation_0-mlogloss:1.72983\n",
      "[254]\tvalidation_0-mlogloss:1.72915\n",
      "[255]\tvalidation_0-mlogloss:1.72847\n",
      "[256]\tvalidation_0-mlogloss:1.72779\n",
      "[257]\tvalidation_0-mlogloss:1.72712\n",
      "[258]\tvalidation_0-mlogloss:1.72644\n",
      "[259]\tvalidation_0-mlogloss:1.72576\n",
      "[260]\tvalidation_0-mlogloss:1.72509\n",
      "[261]\tvalidation_0-mlogloss:1.72442\n",
      "[262]\tvalidation_0-mlogloss:1.72375\n",
      "[263]\tvalidation_0-mlogloss:1.72308\n",
      "[264]\tvalidation_0-mlogloss:1.72241\n",
      "[265]\tvalidation_0-mlogloss:1.72174\n",
      "[266]\tvalidation_0-mlogloss:1.72107\n",
      "[267]\tvalidation_0-mlogloss:1.72040\n",
      "[268]\tvalidation_0-mlogloss:1.71974\n",
      "[269]\tvalidation_0-mlogloss:1.71907\n",
      "[270]\tvalidation_0-mlogloss:1.71840\n",
      "[271]\tvalidation_0-mlogloss:1.71774\n",
      "[272]\tvalidation_0-mlogloss:1.71708\n",
      "[273]\tvalidation_0-mlogloss:1.71642\n",
      "[274]\tvalidation_0-mlogloss:1.71576\n",
      "[275]\tvalidation_0-mlogloss:1.71510\n",
      "[276]\tvalidation_0-mlogloss:1.71444\n",
      "[277]\tvalidation_0-mlogloss:1.71379\n",
      "[278]\tvalidation_0-mlogloss:1.71313\n",
      "[279]\tvalidation_0-mlogloss:1.71248\n",
      "[280]\tvalidation_0-mlogloss:1.71182\n",
      "[281]\tvalidation_0-mlogloss:1.71117\n",
      "[282]\tvalidation_0-mlogloss:1.71052\n",
      "[283]\tvalidation_0-mlogloss:1.70986\n",
      "[284]\tvalidation_0-mlogloss:1.70921\n",
      "[285]\tvalidation_0-mlogloss:1.70857\n",
      "[286]\tvalidation_0-mlogloss:1.70792\n",
      "[287]\tvalidation_0-mlogloss:1.70727\n",
      "[288]\tvalidation_0-mlogloss:1.70663\n",
      "[289]\tvalidation_0-mlogloss:1.70598\n",
      "[290]\tvalidation_0-mlogloss:1.70534\n",
      "[291]\tvalidation_0-mlogloss:1.70469\n",
      "[292]\tvalidation_0-mlogloss:1.70405\n",
      "[293]\tvalidation_0-mlogloss:1.70341\n",
      "[294]\tvalidation_0-mlogloss:1.70277\n",
      "[295]\tvalidation_0-mlogloss:1.70213\n",
      "[296]\tvalidation_0-mlogloss:1.70149\n",
      "[297]\tvalidation_0-mlogloss:1.70085\n",
      "[298]\tvalidation_0-mlogloss:1.70022\n",
      "[299]\tvalidation_0-mlogloss:1.69958\n",
      "[300]\tvalidation_0-mlogloss:1.69894\n",
      "[301]\tvalidation_0-mlogloss:1.69831\n",
      "[302]\tvalidation_0-mlogloss:1.69768\n",
      "[303]\tvalidation_0-mlogloss:1.69704\n",
      "[304]\tvalidation_0-mlogloss:1.69641\n",
      "[305]\tvalidation_0-mlogloss:1.69578\n",
      "[306]\tvalidation_0-mlogloss:1.69515\n",
      "[307]\tvalidation_0-mlogloss:1.69452\n",
      "[308]\tvalidation_0-mlogloss:1.69389\n",
      "[309]\tvalidation_0-mlogloss:1.69326\n",
      "[310]\tvalidation_0-mlogloss:1.69264\n",
      "[311]\tvalidation_0-mlogloss:1.69201\n",
      "[312]\tvalidation_0-mlogloss:1.69139\n",
      "[313]\tvalidation_0-mlogloss:1.69076\n",
      "[314]\tvalidation_0-mlogloss:1.69014\n",
      "[315]\tvalidation_0-mlogloss:1.68952\n",
      "[316]\tvalidation_0-mlogloss:1.68890\n",
      "[317]\tvalidation_0-mlogloss:1.68828\n",
      "[318]\tvalidation_0-mlogloss:1.68766\n",
      "[319]\tvalidation_0-mlogloss:1.68704\n",
      "[320]\tvalidation_0-mlogloss:1.68643\n",
      "[321]\tvalidation_0-mlogloss:1.68581\n",
      "[322]\tvalidation_0-mlogloss:1.68519\n",
      "[323]\tvalidation_0-mlogloss:1.68458\n",
      "[324]\tvalidation_0-mlogloss:1.68396\n",
      "[325]\tvalidation_0-mlogloss:1.68335\n",
      "[326]\tvalidation_0-mlogloss:1.68274\n",
      "[327]\tvalidation_0-mlogloss:1.68213\n",
      "[328]\tvalidation_0-mlogloss:1.68152\n",
      "[329]\tvalidation_0-mlogloss:1.68091\n",
      "[330]\tvalidation_0-mlogloss:1.68030\n",
      "[331]\tvalidation_0-mlogloss:1.67969\n",
      "[332]\tvalidation_0-mlogloss:1.67909\n",
      "[333]\tvalidation_0-mlogloss:1.67848\n",
      "[334]\tvalidation_0-mlogloss:1.67788\n",
      "[335]\tvalidation_0-mlogloss:1.67727\n",
      "[336]\tvalidation_0-mlogloss:1.67667\n",
      "[337]\tvalidation_0-mlogloss:1.67607\n",
      "[338]\tvalidation_0-mlogloss:1.67547\n",
      "[339]\tvalidation_0-mlogloss:1.67487\n",
      "[340]\tvalidation_0-mlogloss:1.67427\n",
      "[341]\tvalidation_0-mlogloss:1.67367\n",
      "[342]\tvalidation_0-mlogloss:1.67307\n",
      "[343]\tvalidation_0-mlogloss:1.67247\n",
      "[344]\tvalidation_0-mlogloss:1.67188\n",
      "[345]\tvalidation_0-mlogloss:1.67128\n",
      "[346]\tvalidation_0-mlogloss:1.67069\n",
      "[347]\tvalidation_0-mlogloss:1.67010\n",
      "[348]\tvalidation_0-mlogloss:1.66950\n",
      "[349]\tvalidation_0-mlogloss:1.66891\n",
      "[350]\tvalidation_0-mlogloss:1.66832\n",
      "[351]\tvalidation_0-mlogloss:1.66773\n",
      "[352]\tvalidation_0-mlogloss:1.66714\n",
      "[353]\tvalidation_0-mlogloss:1.66655\n",
      "[354]\tvalidation_0-mlogloss:1.66596\n",
      "[355]\tvalidation_0-mlogloss:1.66538\n",
      "[356]\tvalidation_0-mlogloss:1.66479\n",
      "[357]\tvalidation_0-mlogloss:1.66421\n",
      "[358]\tvalidation_0-mlogloss:1.66362\n",
      "[359]\tvalidation_0-mlogloss:1.66304\n",
      "[360]\tvalidation_0-mlogloss:1.66246\n",
      "[361]\tvalidation_0-mlogloss:1.66187\n",
      "[362]\tvalidation_0-mlogloss:1.66129\n",
      "[363]\tvalidation_0-mlogloss:1.66071\n",
      "[364]\tvalidation_0-mlogloss:1.66013\n",
      "[365]\tvalidation_0-mlogloss:1.65955\n",
      "[366]\tvalidation_0-mlogloss:1.65898\n",
      "[367]\tvalidation_0-mlogloss:1.65840\n",
      "[368]\tvalidation_0-mlogloss:1.65783\n",
      "[369]\tvalidation_0-mlogloss:1.65725\n",
      "[370]\tvalidation_0-mlogloss:1.65668\n",
      "[371]\tvalidation_0-mlogloss:1.65610\n",
      "[372]\tvalidation_0-mlogloss:1.65553\n",
      "[373]\tvalidation_0-mlogloss:1.65496\n",
      "[374]\tvalidation_0-mlogloss:1.65439\n",
      "[375]\tvalidation_0-mlogloss:1.65382\n",
      "[376]\tvalidation_0-mlogloss:1.65325\n",
      "[377]\tvalidation_0-mlogloss:1.65268\n",
      "[378]\tvalidation_0-mlogloss:1.65211\n",
      "[379]\tvalidation_0-mlogloss:1.65154\n",
      "[380]\tvalidation_0-mlogloss:1.65097\n",
      "[381]\tvalidation_0-mlogloss:1.65041\n",
      "[382]\tvalidation_0-mlogloss:1.64984\n",
      "[383]\tvalidation_0-mlogloss:1.64928\n",
      "[384]\tvalidation_0-mlogloss:1.64872\n",
      "[385]\tvalidation_0-mlogloss:1.64815\n",
      "[386]\tvalidation_0-mlogloss:1.64759\n",
      "[387]\tvalidation_0-mlogloss:1.64703\n",
      "[388]\tvalidation_0-mlogloss:1.64647\n",
      "[389]\tvalidation_0-mlogloss:1.64591\n",
      "[390]\tvalidation_0-mlogloss:1.64535\n",
      "[391]\tvalidation_0-mlogloss:1.64479\n",
      "[392]\tvalidation_0-mlogloss:1.64424\n",
      "[393]\tvalidation_0-mlogloss:1.64368\n",
      "[394]\tvalidation_0-mlogloss:1.64312\n",
      "[395]\tvalidation_0-mlogloss:1.64257\n",
      "[396]\tvalidation_0-mlogloss:1.64201\n",
      "[397]\tvalidation_0-mlogloss:1.64146\n",
      "[398]\tvalidation_0-mlogloss:1.64090\n",
      "[399]\tvalidation_0-mlogloss:1.64035\n",
      "[400]\tvalidation_0-mlogloss:1.63980\n",
      "[401]\tvalidation_0-mlogloss:1.63925\n",
      "[402]\tvalidation_0-mlogloss:1.63870\n",
      "[403]\tvalidation_0-mlogloss:1.63815\n",
      "[404]\tvalidation_0-mlogloss:1.63760\n",
      "[405]\tvalidation_0-mlogloss:1.63705\n",
      "[406]\tvalidation_0-mlogloss:1.63651\n",
      "[407]\tvalidation_0-mlogloss:1.63596\n",
      "[408]\tvalidation_0-mlogloss:1.63541\n",
      "[409]\tvalidation_0-mlogloss:1.63487\n",
      "[410]\tvalidation_0-mlogloss:1.63433\n",
      "[411]\tvalidation_0-mlogloss:1.63378\n",
      "[412]\tvalidation_0-mlogloss:1.63324\n",
      "[413]\tvalidation_0-mlogloss:1.63270\n",
      "[414]\tvalidation_0-mlogloss:1.63216\n",
      "[415]\tvalidation_0-mlogloss:1.63162\n",
      "[416]\tvalidation_0-mlogloss:1.63108\n",
      "[417]\tvalidation_0-mlogloss:1.63054\n",
      "[418]\tvalidation_0-mlogloss:1.63000\n",
      "[419]\tvalidation_0-mlogloss:1.62947\n",
      "[420]\tvalidation_0-mlogloss:1.62893\n",
      "[421]\tvalidation_0-mlogloss:1.62839\n",
      "[422]\tvalidation_0-mlogloss:1.62786\n",
      "[423]\tvalidation_0-mlogloss:1.62732\n",
      "[424]\tvalidation_0-mlogloss:1.62679\n",
      "[425]\tvalidation_0-mlogloss:1.62626\n",
      "[426]\tvalidation_0-mlogloss:1.62573\n",
      "[427]\tvalidation_0-mlogloss:1.62519\n",
      "[428]\tvalidation_0-mlogloss:1.62467\n",
      "[429]\tvalidation_0-mlogloss:1.62414\n",
      "[430]\tvalidation_0-mlogloss:1.62361\n",
      "[431]\tvalidation_0-mlogloss:1.62308\n",
      "[432]\tvalidation_0-mlogloss:1.62255\n",
      "[433]\tvalidation_0-mlogloss:1.62202\n",
      "[434]\tvalidation_0-mlogloss:1.62150\n",
      "[435]\tvalidation_0-mlogloss:1.62097\n",
      "[436]\tvalidation_0-mlogloss:1.62045\n",
      "[437]\tvalidation_0-mlogloss:1.61992\n",
      "[438]\tvalidation_0-mlogloss:1.61940\n",
      "[439]\tvalidation_0-mlogloss:1.61888\n",
      "[440]\tvalidation_0-mlogloss:1.61836\n",
      "[441]\tvalidation_0-mlogloss:1.61784\n",
      "[442]\tvalidation_0-mlogloss:1.61732\n",
      "[443]\tvalidation_0-mlogloss:1.61680\n",
      "[444]\tvalidation_0-mlogloss:1.61628\n",
      "[445]\tvalidation_0-mlogloss:1.61576\n",
      "[446]\tvalidation_0-mlogloss:1.61524\n",
      "[447]\tvalidation_0-mlogloss:1.61473\n",
      "[448]\tvalidation_0-mlogloss:1.61421\n",
      "[449]\tvalidation_0-mlogloss:1.61370\n",
      "[450]\tvalidation_0-mlogloss:1.61318\n",
      "[451]\tvalidation_0-mlogloss:1.61267\n",
      "[452]\tvalidation_0-mlogloss:1.61216\n",
      "[453]\tvalidation_0-mlogloss:1.61164\n",
      "[454]\tvalidation_0-mlogloss:1.61113\n",
      "[455]\tvalidation_0-mlogloss:1.61062\n",
      "[456]\tvalidation_0-mlogloss:1.61011\n",
      "[457]\tvalidation_0-mlogloss:1.60960\n",
      "[458]\tvalidation_0-mlogloss:1.60909\n"
     ]
    },
    {
     "name": "stdout",
     "output_type": "stream",
     "text": [
      "[459]\tvalidation_0-mlogloss:1.60859\n",
      "[460]\tvalidation_0-mlogloss:1.60808\n",
      "[461]\tvalidation_0-mlogloss:1.60757\n",
      "[462]\tvalidation_0-mlogloss:1.60706\n",
      "[463]\tvalidation_0-mlogloss:1.60656\n",
      "[464]\tvalidation_0-mlogloss:1.60605\n",
      "[465]\tvalidation_0-mlogloss:1.60555\n",
      "[466]\tvalidation_0-mlogloss:1.60504\n",
      "[467]\tvalidation_0-mlogloss:1.60454\n",
      "[468]\tvalidation_0-mlogloss:1.60404\n",
      "[469]\tvalidation_0-mlogloss:1.60353\n",
      "[470]\tvalidation_0-mlogloss:1.60303\n",
      "[471]\tvalidation_0-mlogloss:1.60253\n",
      "[472]\tvalidation_0-mlogloss:1.60203\n",
      "[473]\tvalidation_0-mlogloss:1.60153\n",
      "[474]\tvalidation_0-mlogloss:1.60103\n",
      "[475]\tvalidation_0-mlogloss:1.60054\n",
      "[476]\tvalidation_0-mlogloss:1.60004\n",
      "[477]\tvalidation_0-mlogloss:1.59954\n",
      "[478]\tvalidation_0-mlogloss:1.59905\n",
      "[479]\tvalidation_0-mlogloss:1.59855\n",
      "[480]\tvalidation_0-mlogloss:1.59806\n",
      "[481]\tvalidation_0-mlogloss:1.59756\n",
      "[482]\tvalidation_0-mlogloss:1.59707\n",
      "[483]\tvalidation_0-mlogloss:1.59657\n",
      "[484]\tvalidation_0-mlogloss:1.59608\n",
      "[485]\tvalidation_0-mlogloss:1.59559\n",
      "[486]\tvalidation_0-mlogloss:1.59510\n",
      "[487]\tvalidation_0-mlogloss:1.59461\n",
      "[488]\tvalidation_0-mlogloss:1.59412\n",
      "[489]\tvalidation_0-mlogloss:1.59363\n",
      "[490]\tvalidation_0-mlogloss:1.59314\n",
      "[491]\tvalidation_0-mlogloss:1.59265\n",
      "[492]\tvalidation_0-mlogloss:1.59217\n",
      "[493]\tvalidation_0-mlogloss:1.59168\n",
      "[494]\tvalidation_0-mlogloss:1.59119\n",
      "[495]\tvalidation_0-mlogloss:1.59071\n",
      "[496]\tvalidation_0-mlogloss:1.59022\n",
      "[497]\tvalidation_0-mlogloss:1.58974\n",
      "[498]\tvalidation_0-mlogloss:1.58926\n",
      "[499]\tvalidation_0-mlogloss:1.58877\n"
     ]
    },
    {
     "data": {
      "text/plain": [
       "GridSearchCV(cv=5,\n",
       "             estimator=XGBClassifier(base_score=None, booster=None,\n",
       "                                     colsample_bylevel=None,\n",
       "                                     colsample_bynode=None,\n",
       "                                     colsample_bytree=None, gamma=None,\n",
       "                                     gpu_id=None, importance_type='gain',\n",
       "                                     interaction_constraints=None,\n",
       "                                     learning_rate=None, max_delta_step=None,\n",
       "                                     max_depth=None, min_child_weight=None,\n",
       "                                     missing=nan, monotone_constraints=None,\n",
       "                                     n_estimators=100, n_jobs=16,\n",
       "                                     num_parallel_tree=None,\n",
       "                                     objective='multi:softmax',\n",
       "                                     random_state=None, reg_alpha=None,\n",
       "                                     reg_lambda=None, scale_pos_weight=None,\n",
       "                                     subsample=None, tree_method=None,\n",
       "                                     validate_parameters=None, verbosity=None),\n",
       "             n_jobs=-1,\n",
       "             param_grid={'learning_rate': [0.001, 0.01], 'max_depth': [5, 15],\n",
       "                         'n_estimators': [500]},\n",
       "             scoring='accuracy')"
      ]
     },
     "execution_count": 149,
     "metadata": {},
     "output_type": "execute_result"
    }
   ],
   "source": [
    "xgb = XGBClassifier(n_jobs=16, objective='multi:softmax')\n",
    "params = {'n_estimators':[500], 'learning_rate':[0.001, 0.01], 'max_depth':[5, 15]}\n",
    "\n",
    "clf = GridSearchCV(xgb, params, cv=5, n_jobs=-1, scoring='accuracy')\n",
    "clf.fit(X_train_xgb, y_train_xgb, eval_set=[(X_val_xgb, y_val_xgb)], eval_metric='mlogloss', early_stopping_rounds=100)"
   ]
  },
  {
   "cell_type": "code",
   "execution_count": 150,
   "id": "be2f9005",
   "metadata": {
    "ExecuteTime": {
     "end_time": "2021-09-15T06:42:57.341775Z",
     "start_time": "2021-09-15T06:42:57.330772Z"
    },
    "hidden": true
   },
   "outputs": [
    {
     "name": "stdout",
     "output_type": "stream",
     "text": [
      "{'learning_rate': 0.001, 'max_depth': 15, 'n_estimators': 500}\n",
      "XGBClassifier(base_score=0.5, booster='gbtree', colsample_bylevel=1,\n",
      "              colsample_bynode=1, colsample_bytree=1, gamma=0, gpu_id=-1,\n",
      "              importance_type='gain', interaction_constraints='',\n",
      "              learning_rate=0.001, max_delta_step=0, max_depth=15,\n",
      "              min_child_weight=1, missing=nan, monotone_constraints='()',\n",
      "              n_estimators=500, n_jobs=16, num_parallel_tree=1,\n",
      "              objective='multi:softprob', random_state=0, reg_alpha=0,\n",
      "              reg_lambda=1, scale_pos_weight=None, subsample=1,\n",
      "              tree_method='exact', validate_parameters=1, verbosity=None)\n"
     ]
    }
   ],
   "source": [
    "print(clf.best_params_)\n",
    "print(clf.best_estimator_)"
   ]
  },
  {
   "cell_type": "code",
   "execution_count": 151,
   "id": "f1b36a08",
   "metadata": {
    "ExecuteTime": {
     "end_time": "2021-09-15T06:42:58.417041Z",
     "start_time": "2021-09-15T06:42:57.343775Z"
    },
    "hidden": true
   },
   "outputs": [
    {
     "data": {
      "text/plain": [
       "0.5143746624733949"
      ]
     },
     "execution_count": 151,
     "metadata": {},
     "output_type": "execute_result"
    }
   ],
   "source": [
    "# Evaluation\n",
    "clf.score(X_test, y_test)"
   ]
  },
  {
   "cell_type": "markdown",
   "id": "a0ba622b",
   "metadata": {
    "hidden": true
   },
   "source": [
    "### Grid Search 2"
   ]
  },
  {
   "cell_type": "code",
   "execution_count": 152,
   "id": "69c44a41",
   "metadata": {
    "ExecuteTime": {
     "end_time": "2021-09-15T06:48:21.724152Z",
     "start_time": "2021-09-15T06:42:58.419040Z"
    },
    "hidden": true
   },
   "outputs": [
    {
     "name": "stdout",
     "output_type": "stream",
     "text": [
      "[0]\tvalidation_0-mlogloss:1.93529\n",
      "[1]\tvalidation_0-mlogloss:1.92489\n",
      "[2]\tvalidation_0-mlogloss:1.91471\n",
      "[3]\tvalidation_0-mlogloss:1.90475\n",
      "[4]\tvalidation_0-mlogloss:1.89498\n",
      "[5]\tvalidation_0-mlogloss:1.88539\n",
      "[6]\tvalidation_0-mlogloss:1.87599\n",
      "[7]\tvalidation_0-mlogloss:1.86677\n",
      "[8]\tvalidation_0-mlogloss:1.85771\n",
      "[9]\tvalidation_0-mlogloss:1.84882\n",
      "[10]\tvalidation_0-mlogloss:1.84010\n",
      "[11]\tvalidation_0-mlogloss:1.83152\n",
      "[12]\tvalidation_0-mlogloss:1.82310\n",
      "[13]\tvalidation_0-mlogloss:1.81481\n",
      "[14]\tvalidation_0-mlogloss:1.80668\n",
      "[15]\tvalidation_0-mlogloss:1.79866\n",
      "[16]\tvalidation_0-mlogloss:1.79078\n",
      "[17]\tvalidation_0-mlogloss:1.78304\n",
      "[18]\tvalidation_0-mlogloss:1.77542\n",
      "[19]\tvalidation_0-mlogloss:1.76793\n",
      "[20]\tvalidation_0-mlogloss:1.76056\n",
      "[21]\tvalidation_0-mlogloss:1.75331\n",
      "[22]\tvalidation_0-mlogloss:1.74616\n",
      "[23]\tvalidation_0-mlogloss:1.73913\n",
      "[24]\tvalidation_0-mlogloss:1.73220\n",
      "[25]\tvalidation_0-mlogloss:1.72538\n",
      "[26]\tvalidation_0-mlogloss:1.71867\n",
      "[27]\tvalidation_0-mlogloss:1.71204\n",
      "[28]\tvalidation_0-mlogloss:1.70552\n",
      "[29]\tvalidation_0-mlogloss:1.69909\n",
      "[30]\tvalidation_0-mlogloss:1.69275\n",
      "[31]\tvalidation_0-mlogloss:1.68650\n",
      "[32]\tvalidation_0-mlogloss:1.68034\n",
      "[33]\tvalidation_0-mlogloss:1.67427\n",
      "[34]\tvalidation_0-mlogloss:1.66829\n",
      "[35]\tvalidation_0-mlogloss:1.66238\n",
      "[36]\tvalidation_0-mlogloss:1.65656\n",
      "[37]\tvalidation_0-mlogloss:1.65082\n",
      "[38]\tvalidation_0-mlogloss:1.64515\n",
      "[39]\tvalidation_0-mlogloss:1.63957\n",
      "[40]\tvalidation_0-mlogloss:1.63407\n",
      "[41]\tvalidation_0-mlogloss:1.62864\n",
      "[42]\tvalidation_0-mlogloss:1.62327\n",
      "[43]\tvalidation_0-mlogloss:1.61798\n",
      "[44]\tvalidation_0-mlogloss:1.61276\n",
      "[45]\tvalidation_0-mlogloss:1.60761\n",
      "[46]\tvalidation_0-mlogloss:1.60252\n",
      "[47]\tvalidation_0-mlogloss:1.59751\n",
      "[48]\tvalidation_0-mlogloss:1.59255\n",
      "[49]\tvalidation_0-mlogloss:1.58766\n",
      "[50]\tvalidation_0-mlogloss:1.58283\n",
      "[51]\tvalidation_0-mlogloss:1.57808\n",
      "[52]\tvalidation_0-mlogloss:1.57337\n",
      "[53]\tvalidation_0-mlogloss:1.56873\n",
      "[54]\tvalidation_0-mlogloss:1.56414\n",
      "[55]\tvalidation_0-mlogloss:1.55962\n",
      "[56]\tvalidation_0-mlogloss:1.55514\n",
      "[57]\tvalidation_0-mlogloss:1.55073\n",
      "[58]\tvalidation_0-mlogloss:1.54635\n",
      "[59]\tvalidation_0-mlogloss:1.54205\n",
      "[60]\tvalidation_0-mlogloss:1.53778\n",
      "[61]\tvalidation_0-mlogloss:1.53357\n",
      "[62]\tvalidation_0-mlogloss:1.52942\n",
      "[63]\tvalidation_0-mlogloss:1.52530\n",
      "[64]\tvalidation_0-mlogloss:1.52125\n",
      "[65]\tvalidation_0-mlogloss:1.51723\n",
      "[66]\tvalidation_0-mlogloss:1.51327\n",
      "[67]\tvalidation_0-mlogloss:1.50934\n",
      "[68]\tvalidation_0-mlogloss:1.50547\n",
      "[69]\tvalidation_0-mlogloss:1.50164\n",
      "[70]\tvalidation_0-mlogloss:1.49787\n",
      "[71]\tvalidation_0-mlogloss:1.49413\n",
      "[72]\tvalidation_0-mlogloss:1.49044\n",
      "[73]\tvalidation_0-mlogloss:1.48680\n",
      "[74]\tvalidation_0-mlogloss:1.48318\n",
      "[75]\tvalidation_0-mlogloss:1.47963\n",
      "[76]\tvalidation_0-mlogloss:1.47612\n",
      "[77]\tvalidation_0-mlogloss:1.47263\n",
      "[78]\tvalidation_0-mlogloss:1.46919\n",
      "[79]\tvalidation_0-mlogloss:1.46579\n",
      "[80]\tvalidation_0-mlogloss:1.46243\n",
      "[81]\tvalidation_0-mlogloss:1.45911\n",
      "[82]\tvalidation_0-mlogloss:1.45581\n",
      "[83]\tvalidation_0-mlogloss:1.45256\n",
      "[84]\tvalidation_0-mlogloss:1.44934\n",
      "[85]\tvalidation_0-mlogloss:1.44615\n",
      "[86]\tvalidation_0-mlogloss:1.44301\n",
      "[87]\tvalidation_0-mlogloss:1.43990\n",
      "[88]\tvalidation_0-mlogloss:1.43683\n",
      "[89]\tvalidation_0-mlogloss:1.43378\n",
      "[90]\tvalidation_0-mlogloss:1.43078\n",
      "[91]\tvalidation_0-mlogloss:1.42780\n",
      "[92]\tvalidation_0-mlogloss:1.42486\n",
      "[93]\tvalidation_0-mlogloss:1.42195\n",
      "[94]\tvalidation_0-mlogloss:1.41906\n",
      "[95]\tvalidation_0-mlogloss:1.41622\n",
      "[96]\tvalidation_0-mlogloss:1.41339\n",
      "[97]\tvalidation_0-mlogloss:1.41061\n",
      "[98]\tvalidation_0-mlogloss:1.40785\n",
      "[99]\tvalidation_0-mlogloss:1.40512\n",
      "[100]\tvalidation_0-mlogloss:1.40242\n",
      "[101]\tvalidation_0-mlogloss:1.39974\n",
      "[102]\tvalidation_0-mlogloss:1.39710\n",
      "[103]\tvalidation_0-mlogloss:1.39449\n",
      "[104]\tvalidation_0-mlogloss:1.39190\n",
      "[105]\tvalidation_0-mlogloss:1.38933\n",
      "[106]\tvalidation_0-mlogloss:1.38679\n",
      "[107]\tvalidation_0-mlogloss:1.38429\n",
      "[108]\tvalidation_0-mlogloss:1.38180\n",
      "[109]\tvalidation_0-mlogloss:1.37933\n",
      "[110]\tvalidation_0-mlogloss:1.37690\n",
      "[111]\tvalidation_0-mlogloss:1.37448\n",
      "[112]\tvalidation_0-mlogloss:1.37210\n",
      "[113]\tvalidation_0-mlogloss:1.36973\n",
      "[114]\tvalidation_0-mlogloss:1.36740\n",
      "[115]\tvalidation_0-mlogloss:1.36508\n",
      "[116]\tvalidation_0-mlogloss:1.36278\n",
      "[117]\tvalidation_0-mlogloss:1.36051\n",
      "[118]\tvalidation_0-mlogloss:1.35826\n",
      "[119]\tvalidation_0-mlogloss:1.35603\n",
      "[120]\tvalidation_0-mlogloss:1.35383\n",
      "[121]\tvalidation_0-mlogloss:1.35165\n",
      "[122]\tvalidation_0-mlogloss:1.34949\n",
      "[123]\tvalidation_0-mlogloss:1.34735\n",
      "[124]\tvalidation_0-mlogloss:1.34524\n",
      "[125]\tvalidation_0-mlogloss:1.34314\n",
      "[126]\tvalidation_0-mlogloss:1.34106\n",
      "[127]\tvalidation_0-mlogloss:1.33901\n",
      "[128]\tvalidation_0-mlogloss:1.33698\n",
      "[129]\tvalidation_0-mlogloss:1.33496\n",
      "[130]\tvalidation_0-mlogloss:1.33297\n",
      "[131]\tvalidation_0-mlogloss:1.33099\n",
      "[132]\tvalidation_0-mlogloss:1.32903\n",
      "[133]\tvalidation_0-mlogloss:1.32710\n",
      "[134]\tvalidation_0-mlogloss:1.32517\n",
      "[135]\tvalidation_0-mlogloss:1.32328\n",
      "[136]\tvalidation_0-mlogloss:1.32139\n",
      "[137]\tvalidation_0-mlogloss:1.31952\n",
      "[138]\tvalidation_0-mlogloss:1.31767\n",
      "[139]\tvalidation_0-mlogloss:1.31583\n",
      "[140]\tvalidation_0-mlogloss:1.31402\n",
      "[141]\tvalidation_0-mlogloss:1.31221\n",
      "[142]\tvalidation_0-mlogloss:1.31044\n",
      "[143]\tvalidation_0-mlogloss:1.30867\n",
      "[144]\tvalidation_0-mlogloss:1.30693\n",
      "[145]\tvalidation_0-mlogloss:1.30520\n",
      "[146]\tvalidation_0-mlogloss:1.30348\n",
      "[147]\tvalidation_0-mlogloss:1.30179\n",
      "[148]\tvalidation_0-mlogloss:1.30011\n",
      "[149]\tvalidation_0-mlogloss:1.29845\n",
      "[150]\tvalidation_0-mlogloss:1.29681\n",
      "[151]\tvalidation_0-mlogloss:1.29518\n",
      "[152]\tvalidation_0-mlogloss:1.29356\n",
      "[153]\tvalidation_0-mlogloss:1.29196\n",
      "[154]\tvalidation_0-mlogloss:1.29038\n",
      "[155]\tvalidation_0-mlogloss:1.28881\n",
      "[156]\tvalidation_0-mlogloss:1.28726\n",
      "[157]\tvalidation_0-mlogloss:1.28572\n",
      "[158]\tvalidation_0-mlogloss:1.28420\n",
      "[159]\tvalidation_0-mlogloss:1.28269\n",
      "[160]\tvalidation_0-mlogloss:1.28119\n",
      "[161]\tvalidation_0-mlogloss:1.27970\n",
      "[162]\tvalidation_0-mlogloss:1.27821\n",
      "[163]\tvalidation_0-mlogloss:1.27675\n",
      "[164]\tvalidation_0-mlogloss:1.27530\n",
      "[165]\tvalidation_0-mlogloss:1.27386\n",
      "[166]\tvalidation_0-mlogloss:1.27243\n",
      "[167]\tvalidation_0-mlogloss:1.27102\n",
      "[168]\tvalidation_0-mlogloss:1.26963\n",
      "[169]\tvalidation_0-mlogloss:1.26824\n",
      "[170]\tvalidation_0-mlogloss:1.26687\n",
      "[171]\tvalidation_0-mlogloss:1.26552\n",
      "[172]\tvalidation_0-mlogloss:1.26417\n",
      "[173]\tvalidation_0-mlogloss:1.26283\n",
      "[174]\tvalidation_0-mlogloss:1.26151\n",
      "[175]\tvalidation_0-mlogloss:1.26021\n",
      "[176]\tvalidation_0-mlogloss:1.25891\n",
      "[177]\tvalidation_0-mlogloss:1.25763\n",
      "[178]\tvalidation_0-mlogloss:1.25636\n",
      "[179]\tvalidation_0-mlogloss:1.25510\n",
      "[180]\tvalidation_0-mlogloss:1.25386\n",
      "[181]\tvalidation_0-mlogloss:1.25262\n",
      "[182]\tvalidation_0-mlogloss:1.25140\n",
      "[183]\tvalidation_0-mlogloss:1.25019\n",
      "[184]\tvalidation_0-mlogloss:1.24899\n",
      "[185]\tvalidation_0-mlogloss:1.24780\n",
      "[186]\tvalidation_0-mlogloss:1.24662\n",
      "[187]\tvalidation_0-mlogloss:1.24544\n",
      "[188]\tvalidation_0-mlogloss:1.24428\n",
      "[189]\tvalidation_0-mlogloss:1.24313\n",
      "[190]\tvalidation_0-mlogloss:1.24199\n",
      "[191]\tvalidation_0-mlogloss:1.24087\n",
      "[192]\tvalidation_0-mlogloss:1.23975\n",
      "[193]\tvalidation_0-mlogloss:1.23864\n",
      "[194]\tvalidation_0-mlogloss:1.23753\n",
      "[195]\tvalidation_0-mlogloss:1.23644\n",
      "[196]\tvalidation_0-mlogloss:1.23535\n",
      "[197]\tvalidation_0-mlogloss:1.23428\n",
      "[198]\tvalidation_0-mlogloss:1.23322\n",
      "[199]\tvalidation_0-mlogloss:1.23217\n",
      "[200]\tvalidation_0-mlogloss:1.23112\n",
      "[201]\tvalidation_0-mlogloss:1.23009\n",
      "[202]\tvalidation_0-mlogloss:1.22906\n",
      "[203]\tvalidation_0-mlogloss:1.22804\n",
      "[204]\tvalidation_0-mlogloss:1.22703\n",
      "[205]\tvalidation_0-mlogloss:1.22603\n",
      "[206]\tvalidation_0-mlogloss:1.22503\n",
      "[207]\tvalidation_0-mlogloss:1.22405\n",
      "[208]\tvalidation_0-mlogloss:1.22306\n",
      "[209]\tvalidation_0-mlogloss:1.22210\n",
      "[210]\tvalidation_0-mlogloss:1.22114\n",
      "[211]\tvalidation_0-mlogloss:1.22019\n",
      "[212]\tvalidation_0-mlogloss:1.21925\n",
      "[213]\tvalidation_0-mlogloss:1.21831\n",
      "[214]\tvalidation_0-mlogloss:1.21738\n",
      "[215]\tvalidation_0-mlogloss:1.21647\n",
      "[216]\tvalidation_0-mlogloss:1.21555\n",
      "[217]\tvalidation_0-mlogloss:1.21465\n",
      "[218]\tvalidation_0-mlogloss:1.21376\n",
      "[219]\tvalidation_0-mlogloss:1.21287\n",
      "[220]\tvalidation_0-mlogloss:1.21199\n",
      "[221]\tvalidation_0-mlogloss:1.21112\n",
      "[222]\tvalidation_0-mlogloss:1.21026\n",
      "[223]\tvalidation_0-mlogloss:1.20941\n",
      "[224]\tvalidation_0-mlogloss:1.20856\n",
      "[225]\tvalidation_0-mlogloss:1.20771\n",
      "[226]\tvalidation_0-mlogloss:1.20687\n",
      "[227]\tvalidation_0-mlogloss:1.20604\n",
      "[228]\tvalidation_0-mlogloss:1.20521\n",
      "[229]\tvalidation_0-mlogloss:1.20439\n",
      "[230]\tvalidation_0-mlogloss:1.20357\n"
     ]
    },
    {
     "name": "stdout",
     "output_type": "stream",
     "text": [
      "[231]\tvalidation_0-mlogloss:1.20276\n",
      "[232]\tvalidation_0-mlogloss:1.20196\n",
      "[233]\tvalidation_0-mlogloss:1.20116\n",
      "[234]\tvalidation_0-mlogloss:1.20037\n",
      "[235]\tvalidation_0-mlogloss:1.19959\n",
      "[236]\tvalidation_0-mlogloss:1.19881\n",
      "[237]\tvalidation_0-mlogloss:1.19804\n",
      "[238]\tvalidation_0-mlogloss:1.19727\n",
      "[239]\tvalidation_0-mlogloss:1.19652\n",
      "[240]\tvalidation_0-mlogloss:1.19577\n",
      "[241]\tvalidation_0-mlogloss:1.19502\n",
      "[242]\tvalidation_0-mlogloss:1.19428\n",
      "[243]\tvalidation_0-mlogloss:1.19354\n",
      "[244]\tvalidation_0-mlogloss:1.19281\n",
      "[245]\tvalidation_0-mlogloss:1.19208\n",
      "[246]\tvalidation_0-mlogloss:1.19136\n",
      "[247]\tvalidation_0-mlogloss:1.19064\n",
      "[248]\tvalidation_0-mlogloss:1.18993\n",
      "[249]\tvalidation_0-mlogloss:1.18922\n",
      "[250]\tvalidation_0-mlogloss:1.18852\n",
      "[251]\tvalidation_0-mlogloss:1.18783\n",
      "[252]\tvalidation_0-mlogloss:1.18714\n",
      "[253]\tvalidation_0-mlogloss:1.18645\n",
      "[254]\tvalidation_0-mlogloss:1.18577\n",
      "[255]\tvalidation_0-mlogloss:1.18510\n",
      "[256]\tvalidation_0-mlogloss:1.18444\n",
      "[257]\tvalidation_0-mlogloss:1.18377\n",
      "[258]\tvalidation_0-mlogloss:1.18312\n",
      "[259]\tvalidation_0-mlogloss:1.18247\n",
      "[260]\tvalidation_0-mlogloss:1.18181\n",
      "[261]\tvalidation_0-mlogloss:1.18118\n",
      "[262]\tvalidation_0-mlogloss:1.18054\n",
      "[263]\tvalidation_0-mlogloss:1.17991\n",
      "[264]\tvalidation_0-mlogloss:1.17928\n",
      "[265]\tvalidation_0-mlogloss:1.17866\n",
      "[266]\tvalidation_0-mlogloss:1.17804\n",
      "[267]\tvalidation_0-mlogloss:1.17743\n",
      "[268]\tvalidation_0-mlogloss:1.17682\n",
      "[269]\tvalidation_0-mlogloss:1.17622\n",
      "[270]\tvalidation_0-mlogloss:1.17561\n",
      "[271]\tvalidation_0-mlogloss:1.17502\n",
      "[272]\tvalidation_0-mlogloss:1.17443\n",
      "[273]\tvalidation_0-mlogloss:1.17384\n",
      "[274]\tvalidation_0-mlogloss:1.17326\n",
      "[275]\tvalidation_0-mlogloss:1.17269\n",
      "[276]\tvalidation_0-mlogloss:1.17212\n",
      "[277]\tvalidation_0-mlogloss:1.17156\n",
      "[278]\tvalidation_0-mlogloss:1.17100\n",
      "[279]\tvalidation_0-mlogloss:1.17045\n",
      "[280]\tvalidation_0-mlogloss:1.16990\n",
      "[281]\tvalidation_0-mlogloss:1.16936\n",
      "[282]\tvalidation_0-mlogloss:1.16882\n",
      "[283]\tvalidation_0-mlogloss:1.16828\n",
      "[284]\tvalidation_0-mlogloss:1.16776\n",
      "[285]\tvalidation_0-mlogloss:1.16722\n",
      "[286]\tvalidation_0-mlogloss:1.16670\n",
      "[287]\tvalidation_0-mlogloss:1.16618\n",
      "[288]\tvalidation_0-mlogloss:1.16566\n",
      "[289]\tvalidation_0-mlogloss:1.16515\n",
      "[290]\tvalidation_0-mlogloss:1.16464\n",
      "[291]\tvalidation_0-mlogloss:1.16414\n",
      "[292]\tvalidation_0-mlogloss:1.16363\n",
      "[293]\tvalidation_0-mlogloss:1.16314\n",
      "[294]\tvalidation_0-mlogloss:1.16264\n",
      "[295]\tvalidation_0-mlogloss:1.16215\n",
      "[296]\tvalidation_0-mlogloss:1.16166\n",
      "[297]\tvalidation_0-mlogloss:1.16117\n",
      "[298]\tvalidation_0-mlogloss:1.16069\n",
      "[299]\tvalidation_0-mlogloss:1.16021\n",
      "[300]\tvalidation_0-mlogloss:1.15974\n",
      "[301]\tvalidation_0-mlogloss:1.15927\n",
      "[302]\tvalidation_0-mlogloss:1.15880\n",
      "[303]\tvalidation_0-mlogloss:1.15833\n",
      "[304]\tvalidation_0-mlogloss:1.15786\n",
      "[305]\tvalidation_0-mlogloss:1.15740\n",
      "[306]\tvalidation_0-mlogloss:1.15694\n",
      "[307]\tvalidation_0-mlogloss:1.15648\n",
      "[308]\tvalidation_0-mlogloss:1.15604\n",
      "[309]\tvalidation_0-mlogloss:1.15559\n",
      "[310]\tvalidation_0-mlogloss:1.15514\n",
      "[311]\tvalidation_0-mlogloss:1.15470\n",
      "[312]\tvalidation_0-mlogloss:1.15427\n",
      "[313]\tvalidation_0-mlogloss:1.15384\n",
      "[314]\tvalidation_0-mlogloss:1.15341\n",
      "[315]\tvalidation_0-mlogloss:1.15298\n",
      "[316]\tvalidation_0-mlogloss:1.15256\n",
      "[317]\tvalidation_0-mlogloss:1.15214\n",
      "[318]\tvalidation_0-mlogloss:1.15172\n",
      "[319]\tvalidation_0-mlogloss:1.15131\n",
      "[320]\tvalidation_0-mlogloss:1.15090\n",
      "[321]\tvalidation_0-mlogloss:1.15049\n",
      "[322]\tvalidation_0-mlogloss:1.15009\n",
      "[323]\tvalidation_0-mlogloss:1.14968\n",
      "[324]\tvalidation_0-mlogloss:1.14929\n",
      "[325]\tvalidation_0-mlogloss:1.14889\n",
      "[326]\tvalidation_0-mlogloss:1.14851\n",
      "[327]\tvalidation_0-mlogloss:1.14811\n",
      "[328]\tvalidation_0-mlogloss:1.14773\n",
      "[329]\tvalidation_0-mlogloss:1.14734\n",
      "[330]\tvalidation_0-mlogloss:1.14696\n",
      "[331]\tvalidation_0-mlogloss:1.14659\n",
      "[332]\tvalidation_0-mlogloss:1.14621\n",
      "[333]\tvalidation_0-mlogloss:1.14584\n",
      "[334]\tvalidation_0-mlogloss:1.14547\n",
      "[335]\tvalidation_0-mlogloss:1.14511\n",
      "[336]\tvalidation_0-mlogloss:1.14475\n",
      "[337]\tvalidation_0-mlogloss:1.14439\n",
      "[338]\tvalidation_0-mlogloss:1.14404\n",
      "[339]\tvalidation_0-mlogloss:1.14369\n",
      "[340]\tvalidation_0-mlogloss:1.14334\n",
      "[341]\tvalidation_0-mlogloss:1.14299\n",
      "[342]\tvalidation_0-mlogloss:1.14264\n",
      "[343]\tvalidation_0-mlogloss:1.14230\n",
      "[344]\tvalidation_0-mlogloss:1.14196\n",
      "[345]\tvalidation_0-mlogloss:1.14162\n",
      "[346]\tvalidation_0-mlogloss:1.14129\n",
      "[347]\tvalidation_0-mlogloss:1.14095\n",
      "[348]\tvalidation_0-mlogloss:1.14062\n",
      "[349]\tvalidation_0-mlogloss:1.14029\n",
      "[350]\tvalidation_0-mlogloss:1.13996\n",
      "[351]\tvalidation_0-mlogloss:1.13963\n",
      "[352]\tvalidation_0-mlogloss:1.13931\n",
      "[353]\tvalidation_0-mlogloss:1.13899\n",
      "[354]\tvalidation_0-mlogloss:1.13867\n",
      "[355]\tvalidation_0-mlogloss:1.13836\n",
      "[356]\tvalidation_0-mlogloss:1.13804\n",
      "[357]\tvalidation_0-mlogloss:1.13772\n",
      "[358]\tvalidation_0-mlogloss:1.13741\n",
      "[359]\tvalidation_0-mlogloss:1.13710\n",
      "[360]\tvalidation_0-mlogloss:1.13680\n",
      "[361]\tvalidation_0-mlogloss:1.13649\n",
      "[362]\tvalidation_0-mlogloss:1.13619\n",
      "[363]\tvalidation_0-mlogloss:1.13589\n",
      "[364]\tvalidation_0-mlogloss:1.13559\n",
      "[365]\tvalidation_0-mlogloss:1.13529\n",
      "[366]\tvalidation_0-mlogloss:1.13500\n",
      "[367]\tvalidation_0-mlogloss:1.13471\n",
      "[368]\tvalidation_0-mlogloss:1.13442\n",
      "[369]\tvalidation_0-mlogloss:1.13413\n",
      "[370]\tvalidation_0-mlogloss:1.13384\n",
      "[371]\tvalidation_0-mlogloss:1.13356\n",
      "[372]\tvalidation_0-mlogloss:1.13328\n",
      "[373]\tvalidation_0-mlogloss:1.13301\n",
      "[374]\tvalidation_0-mlogloss:1.13273\n",
      "[375]\tvalidation_0-mlogloss:1.13245\n",
      "[376]\tvalidation_0-mlogloss:1.13218\n",
      "[377]\tvalidation_0-mlogloss:1.13192\n",
      "[378]\tvalidation_0-mlogloss:1.13165\n",
      "[379]\tvalidation_0-mlogloss:1.13138\n",
      "[380]\tvalidation_0-mlogloss:1.13112\n",
      "[381]\tvalidation_0-mlogloss:1.13086\n",
      "[382]\tvalidation_0-mlogloss:1.13060\n",
      "[383]\tvalidation_0-mlogloss:1.13034\n",
      "[384]\tvalidation_0-mlogloss:1.13008\n",
      "[385]\tvalidation_0-mlogloss:1.12983\n",
      "[386]\tvalidation_0-mlogloss:1.12958\n",
      "[387]\tvalidation_0-mlogloss:1.12933\n",
      "[388]\tvalidation_0-mlogloss:1.12908\n",
      "[389]\tvalidation_0-mlogloss:1.12884\n",
      "[390]\tvalidation_0-mlogloss:1.12859\n",
      "[391]\tvalidation_0-mlogloss:1.12835\n",
      "[392]\tvalidation_0-mlogloss:1.12811\n",
      "[393]\tvalidation_0-mlogloss:1.12787\n",
      "[394]\tvalidation_0-mlogloss:1.12763\n",
      "[395]\tvalidation_0-mlogloss:1.12740\n",
      "[396]\tvalidation_0-mlogloss:1.12717\n",
      "[397]\tvalidation_0-mlogloss:1.12694\n",
      "[398]\tvalidation_0-mlogloss:1.12670\n",
      "[399]\tvalidation_0-mlogloss:1.12648\n",
      "[400]\tvalidation_0-mlogloss:1.12625\n",
      "[401]\tvalidation_0-mlogloss:1.12602\n",
      "[402]\tvalidation_0-mlogloss:1.12580\n",
      "[403]\tvalidation_0-mlogloss:1.12557\n",
      "[404]\tvalidation_0-mlogloss:1.12535\n",
      "[405]\tvalidation_0-mlogloss:1.12513\n",
      "[406]\tvalidation_0-mlogloss:1.12491\n",
      "[407]\tvalidation_0-mlogloss:1.12470\n",
      "[408]\tvalidation_0-mlogloss:1.12448\n",
      "[409]\tvalidation_0-mlogloss:1.12427\n",
      "[410]\tvalidation_0-mlogloss:1.12406\n",
      "[411]\tvalidation_0-mlogloss:1.12385\n",
      "[412]\tvalidation_0-mlogloss:1.12364\n",
      "[413]\tvalidation_0-mlogloss:1.12343\n",
      "[414]\tvalidation_0-mlogloss:1.12322\n",
      "[415]\tvalidation_0-mlogloss:1.12302\n",
      "[416]\tvalidation_0-mlogloss:1.12282\n",
      "[417]\tvalidation_0-mlogloss:1.12262\n",
      "[418]\tvalidation_0-mlogloss:1.12241\n",
      "[419]\tvalidation_0-mlogloss:1.12222\n",
      "[420]\tvalidation_0-mlogloss:1.12202\n",
      "[421]\tvalidation_0-mlogloss:1.12182\n",
      "[422]\tvalidation_0-mlogloss:1.12163\n",
      "[423]\tvalidation_0-mlogloss:1.12144\n",
      "[424]\tvalidation_0-mlogloss:1.12124\n",
      "[425]\tvalidation_0-mlogloss:1.12105\n",
      "[426]\tvalidation_0-mlogloss:1.12086\n",
      "[427]\tvalidation_0-mlogloss:1.12068\n",
      "[428]\tvalidation_0-mlogloss:1.12049\n",
      "[429]\tvalidation_0-mlogloss:1.12031\n",
      "[430]\tvalidation_0-mlogloss:1.12013\n",
      "[431]\tvalidation_0-mlogloss:1.11994\n",
      "[432]\tvalidation_0-mlogloss:1.11976\n",
      "[433]\tvalidation_0-mlogloss:1.11959\n",
      "[434]\tvalidation_0-mlogloss:1.11941\n",
      "[435]\tvalidation_0-mlogloss:1.11924\n",
      "[436]\tvalidation_0-mlogloss:1.11906\n",
      "[437]\tvalidation_0-mlogloss:1.11889\n",
      "[438]\tvalidation_0-mlogloss:1.11872\n",
      "[439]\tvalidation_0-mlogloss:1.11855\n",
      "[440]\tvalidation_0-mlogloss:1.11838\n",
      "[441]\tvalidation_0-mlogloss:1.11821\n",
      "[442]\tvalidation_0-mlogloss:1.11804\n",
      "[443]\tvalidation_0-mlogloss:1.11788\n",
      "[444]\tvalidation_0-mlogloss:1.11772\n",
      "[445]\tvalidation_0-mlogloss:1.11755\n",
      "[446]\tvalidation_0-mlogloss:1.11739\n",
      "[447]\tvalidation_0-mlogloss:1.11724\n",
      "[448]\tvalidation_0-mlogloss:1.11708\n",
      "[449]\tvalidation_0-mlogloss:1.11692\n",
      "[450]\tvalidation_0-mlogloss:1.11677\n",
      "[451]\tvalidation_0-mlogloss:1.11661\n",
      "[452]\tvalidation_0-mlogloss:1.11645\n",
      "[453]\tvalidation_0-mlogloss:1.11630\n",
      "[454]\tvalidation_0-mlogloss:1.11615\n",
      "[455]\tvalidation_0-mlogloss:1.11600\n",
      "[456]\tvalidation_0-mlogloss:1.11585\n",
      "[457]\tvalidation_0-mlogloss:1.11570\n",
      "[458]\tvalidation_0-mlogloss:1.11555\n"
     ]
    },
    {
     "name": "stdout",
     "output_type": "stream",
     "text": [
      "[459]\tvalidation_0-mlogloss:1.11540\n",
      "[460]\tvalidation_0-mlogloss:1.11525\n",
      "[461]\tvalidation_0-mlogloss:1.11511\n",
      "[462]\tvalidation_0-mlogloss:1.11496\n",
      "[463]\tvalidation_0-mlogloss:1.11482\n",
      "[464]\tvalidation_0-mlogloss:1.11468\n",
      "[465]\tvalidation_0-mlogloss:1.11453\n",
      "[466]\tvalidation_0-mlogloss:1.11439\n",
      "[467]\tvalidation_0-mlogloss:1.11425\n",
      "[468]\tvalidation_0-mlogloss:1.11411\n",
      "[469]\tvalidation_0-mlogloss:1.11397\n",
      "[470]\tvalidation_0-mlogloss:1.11383\n",
      "[471]\tvalidation_0-mlogloss:1.11370\n",
      "[472]\tvalidation_0-mlogloss:1.11356\n",
      "[473]\tvalidation_0-mlogloss:1.11343\n",
      "[474]\tvalidation_0-mlogloss:1.11329\n",
      "[475]\tvalidation_0-mlogloss:1.11316\n",
      "[476]\tvalidation_0-mlogloss:1.11302\n",
      "[477]\tvalidation_0-mlogloss:1.11289\n",
      "[478]\tvalidation_0-mlogloss:1.11275\n",
      "[479]\tvalidation_0-mlogloss:1.11262\n",
      "[480]\tvalidation_0-mlogloss:1.11249\n",
      "[481]\tvalidation_0-mlogloss:1.11236\n",
      "[482]\tvalidation_0-mlogloss:1.11223\n",
      "[483]\tvalidation_0-mlogloss:1.11210\n",
      "[484]\tvalidation_0-mlogloss:1.11197\n",
      "[485]\tvalidation_0-mlogloss:1.11185\n",
      "[486]\tvalidation_0-mlogloss:1.11172\n",
      "[487]\tvalidation_0-mlogloss:1.11160\n",
      "[488]\tvalidation_0-mlogloss:1.11147\n",
      "[489]\tvalidation_0-mlogloss:1.11135\n",
      "[490]\tvalidation_0-mlogloss:1.11122\n",
      "[491]\tvalidation_0-mlogloss:1.11110\n",
      "[492]\tvalidation_0-mlogloss:1.11098\n",
      "[493]\tvalidation_0-mlogloss:1.11086\n",
      "[494]\tvalidation_0-mlogloss:1.11073\n",
      "[495]\tvalidation_0-mlogloss:1.11061\n",
      "[496]\tvalidation_0-mlogloss:1.11049\n",
      "[497]\tvalidation_0-mlogloss:1.11037\n",
      "[498]\tvalidation_0-mlogloss:1.11025\n",
      "[499]\tvalidation_0-mlogloss:1.11013\n",
      "[500]\tvalidation_0-mlogloss:1.11001\n",
      "[501]\tvalidation_0-mlogloss:1.10989\n",
      "[502]\tvalidation_0-mlogloss:1.10978\n",
      "[503]\tvalidation_0-mlogloss:1.10966\n",
      "[504]\tvalidation_0-mlogloss:1.10955\n",
      "[505]\tvalidation_0-mlogloss:1.10943\n",
      "[506]\tvalidation_0-mlogloss:1.10932\n",
      "[507]\tvalidation_0-mlogloss:1.10921\n",
      "[508]\tvalidation_0-mlogloss:1.10910\n",
      "[509]\tvalidation_0-mlogloss:1.10899\n",
      "[510]\tvalidation_0-mlogloss:1.10889\n",
      "[511]\tvalidation_0-mlogloss:1.10878\n",
      "[512]\tvalidation_0-mlogloss:1.10868\n",
      "[513]\tvalidation_0-mlogloss:1.10857\n",
      "[514]\tvalidation_0-mlogloss:1.10847\n",
      "[515]\tvalidation_0-mlogloss:1.10837\n",
      "[516]\tvalidation_0-mlogloss:1.10827\n",
      "[517]\tvalidation_0-mlogloss:1.10817\n",
      "[518]\tvalidation_0-mlogloss:1.10806\n",
      "[519]\tvalidation_0-mlogloss:1.10796\n",
      "[520]\tvalidation_0-mlogloss:1.10786\n",
      "[521]\tvalidation_0-mlogloss:1.10777\n",
      "[522]\tvalidation_0-mlogloss:1.10767\n",
      "[523]\tvalidation_0-mlogloss:1.10757\n",
      "[524]\tvalidation_0-mlogloss:1.10747\n",
      "[525]\tvalidation_0-mlogloss:1.10738\n",
      "[526]\tvalidation_0-mlogloss:1.10728\n",
      "[527]\tvalidation_0-mlogloss:1.10719\n",
      "[528]\tvalidation_0-mlogloss:1.10709\n",
      "[529]\tvalidation_0-mlogloss:1.10700\n",
      "[530]\tvalidation_0-mlogloss:1.10691\n",
      "[531]\tvalidation_0-mlogloss:1.10682\n",
      "[532]\tvalidation_0-mlogloss:1.10672\n",
      "[533]\tvalidation_0-mlogloss:1.10664\n",
      "[534]\tvalidation_0-mlogloss:1.10654\n",
      "[535]\tvalidation_0-mlogloss:1.10646\n",
      "[536]\tvalidation_0-mlogloss:1.10637\n",
      "[537]\tvalidation_0-mlogloss:1.10628\n",
      "[538]\tvalidation_0-mlogloss:1.10620\n",
      "[539]\tvalidation_0-mlogloss:1.10611\n",
      "[540]\tvalidation_0-mlogloss:1.10602\n",
      "[541]\tvalidation_0-mlogloss:1.10593\n",
      "[542]\tvalidation_0-mlogloss:1.10585\n",
      "[543]\tvalidation_0-mlogloss:1.10577\n",
      "[544]\tvalidation_0-mlogloss:1.10568\n",
      "[545]\tvalidation_0-mlogloss:1.10560\n",
      "[546]\tvalidation_0-mlogloss:1.10552\n",
      "[547]\tvalidation_0-mlogloss:1.10543\n",
      "[548]\tvalidation_0-mlogloss:1.10535\n",
      "[549]\tvalidation_0-mlogloss:1.10527\n",
      "[550]\tvalidation_0-mlogloss:1.10519\n",
      "[551]\tvalidation_0-mlogloss:1.10511\n",
      "[552]\tvalidation_0-mlogloss:1.10502\n",
      "[553]\tvalidation_0-mlogloss:1.10494\n",
      "[554]\tvalidation_0-mlogloss:1.10486\n",
      "[555]\tvalidation_0-mlogloss:1.10478\n",
      "[556]\tvalidation_0-mlogloss:1.10470\n",
      "[557]\tvalidation_0-mlogloss:1.10463\n",
      "[558]\tvalidation_0-mlogloss:1.10455\n",
      "[559]\tvalidation_0-mlogloss:1.10448\n",
      "[560]\tvalidation_0-mlogloss:1.10440\n",
      "[561]\tvalidation_0-mlogloss:1.10432\n",
      "[562]\tvalidation_0-mlogloss:1.10425\n",
      "[563]\tvalidation_0-mlogloss:1.10418\n",
      "[564]\tvalidation_0-mlogloss:1.10410\n",
      "[565]\tvalidation_0-mlogloss:1.10403\n",
      "[566]\tvalidation_0-mlogloss:1.10395\n",
      "[567]\tvalidation_0-mlogloss:1.10388\n",
      "[568]\tvalidation_0-mlogloss:1.10381\n",
      "[569]\tvalidation_0-mlogloss:1.10374\n",
      "[570]\tvalidation_0-mlogloss:1.10367\n",
      "[571]\tvalidation_0-mlogloss:1.10360\n",
      "[572]\tvalidation_0-mlogloss:1.10353\n",
      "[573]\tvalidation_0-mlogloss:1.10346\n",
      "[574]\tvalidation_0-mlogloss:1.10339\n",
      "[575]\tvalidation_0-mlogloss:1.10332\n",
      "[576]\tvalidation_0-mlogloss:1.10326\n",
      "[577]\tvalidation_0-mlogloss:1.10319\n",
      "[578]\tvalidation_0-mlogloss:1.10313\n",
      "[579]\tvalidation_0-mlogloss:1.10306\n",
      "[580]\tvalidation_0-mlogloss:1.10301\n",
      "[581]\tvalidation_0-mlogloss:1.10294\n",
      "[582]\tvalidation_0-mlogloss:1.10288\n",
      "[583]\tvalidation_0-mlogloss:1.10282\n",
      "[584]\tvalidation_0-mlogloss:1.10275\n",
      "[585]\tvalidation_0-mlogloss:1.10269\n",
      "[586]\tvalidation_0-mlogloss:1.10263\n",
      "[587]\tvalidation_0-mlogloss:1.10257\n",
      "[588]\tvalidation_0-mlogloss:1.10251\n",
      "[589]\tvalidation_0-mlogloss:1.10245\n",
      "[590]\tvalidation_0-mlogloss:1.10239\n",
      "[591]\tvalidation_0-mlogloss:1.10233\n",
      "[592]\tvalidation_0-mlogloss:1.10227\n",
      "[593]\tvalidation_0-mlogloss:1.10221\n",
      "[594]\tvalidation_0-mlogloss:1.10215\n",
      "[595]\tvalidation_0-mlogloss:1.10210\n",
      "[596]\tvalidation_0-mlogloss:1.10204\n",
      "[597]\tvalidation_0-mlogloss:1.10198\n",
      "[598]\tvalidation_0-mlogloss:1.10192\n",
      "[599]\tvalidation_0-mlogloss:1.10187\n"
     ]
    },
    {
     "data": {
      "text/plain": [
       "GridSearchCV(cv=5,\n",
       "             estimator=XGBClassifier(base_score=None, booster=None,\n",
       "                                     colsample_bylevel=None,\n",
       "                                     colsample_bynode=None,\n",
       "                                     colsample_bytree=None, gamma=None,\n",
       "                                     gpu_id=None, importance_type='gain',\n",
       "                                     interaction_constraints=None,\n",
       "                                     learning_rate=None, max_delta_step=None,\n",
       "                                     max_depth=None, min_child_weight=None,\n",
       "                                     missing=nan, monotone_constraints=None,\n",
       "                                     n_estimators=100, n_jobs=16,\n",
       "                                     num_parallel_tree=None,\n",
       "                                     objective='multi:softmax',\n",
       "                                     random_state=None, reg_alpha=None,\n",
       "                                     reg_lambda=None, scale_pos_weight=None,\n",
       "                                     subsample=None, tree_method=None,\n",
       "                                     validate_parameters=None, verbosity=None),\n",
       "             n_jobs=-1,\n",
       "             param_grid={'learning_rate': [0.001, 0.01], 'max_depth': [5, 10],\n",
       "                         'n_estimators': [600]},\n",
       "             scoring='accuracy')"
      ]
     },
     "execution_count": 152,
     "metadata": {},
     "output_type": "execute_result"
    }
   ],
   "source": [
    "# Grid search 2\n",
    "xgb = XGBClassifier(n_jobs=16, objective='multi:softmax')\n",
    "params = {'n_estimators':[600], 'learning_rate':[0.001, 0.01], 'max_depth':[5, 10]}\n",
    "\n",
    "clf = GridSearchCV(xgb, params, cv=5, n_jobs=-1, scoring='accuracy')\n",
    "clf.fit(X_train_xgb, y_train_xgb, eval_set=[(X_val_xgb, y_val_xgb)], eval_metric='mlogloss', early_stopping_rounds=100)"
   ]
  },
  {
   "cell_type": "code",
   "execution_count": 153,
   "id": "b7004a34",
   "metadata": {
    "ExecuteTime": {
     "end_time": "2021-09-15T06:48:21.739523Z",
     "start_time": "2021-09-15T06:48:21.727153Z"
    },
    "hidden": true
   },
   "outputs": [
    {
     "data": {
      "text/plain": [
       "{'learning_rate': 0.01, 'max_depth': 10, 'n_estimators': 600}"
      ]
     },
     "execution_count": 153,
     "metadata": {},
     "output_type": "execute_result"
    }
   ],
   "source": [
    "clf.best_params_"
   ]
  },
  {
   "cell_type": "code",
   "execution_count": 154,
   "id": "655a1baf",
   "metadata": {
    "ExecuteTime": {
     "end_time": "2021-09-15T06:48:22.246670Z",
     "start_time": "2021-09-15T06:48:21.741524Z"
    },
    "hidden": true
   },
   "outputs": [
    {
     "data": {
      "text/plain": [
       "0.5189809079068586"
      ]
     },
     "execution_count": 154,
     "metadata": {},
     "output_type": "execute_result"
    }
   ],
   "source": [
    "clf.score(X_test, y_test)"
   ]
  },
  {
   "cell_type": "markdown",
   "id": "ad7db4ab",
   "metadata": {
    "hidden": true
   },
   "source": [
    "> **Accuracy: 51.9%, f1-score(weighted): 0.51**"
   ]
  },
  {
   "cell_type": "markdown",
   "id": "cd4cbcfd",
   "metadata": {
    "heading_collapsed": true
   },
   "source": [
    "## Linear Discriminant Analysis (LDA)"
   ]
  },
  {
   "cell_type": "code",
   "execution_count": 155,
   "id": "2e55fce1",
   "metadata": {
    "ExecuteTime": {
     "end_time": "2021-09-15T06:48:22.294681Z",
     "start_time": "2021-09-15T06:48:22.247670Z"
    },
    "hidden": true
   },
   "outputs": [],
   "source": [
    "from sklearn.discriminant_analysis import LinearDiscriminantAnalysis as LDA"
   ]
  },
  {
   "cell_type": "code",
   "execution_count": 156,
   "id": "089c8621",
   "metadata": {
    "ExecuteTime": {
     "end_time": "2021-09-15T06:48:22.595670Z",
     "start_time": "2021-09-15T06:48:22.295681Z"
    },
    "hidden": true
   },
   "outputs": [
    {
     "data": {
      "text/plain": [
       "0.5095460465707297"
      ]
     },
     "execution_count": 156,
     "metadata": {},
     "output_type": "execute_result"
    }
   ],
   "source": [
    "lda = LDA(n_components=2)\n",
    "lda.fit(X_train_sc, y_train)\n",
    "lda.score(X_test_sc, y_test)"
   ]
  },
  {
   "cell_type": "code",
   "execution_count": 157,
   "id": "10e3b9cf",
   "metadata": {
    "ExecuteTime": {
     "end_time": "2021-09-15T06:48:22.912565Z",
     "start_time": "2021-09-15T06:48:22.596671Z"
    },
    "hidden": true
   },
   "outputs": [
    {
     "data": {
      "text/plain": [
       "array([[-0.59081947,  1.30891491],\n",
       "       [-1.82369588,  2.57797201],\n",
       "       [-0.42905739, -1.77028635],\n",
       "       ...,\n",
       "       [ 3.41933971, -0.0042407 ],\n",
       "       [-1.20313454,  1.06742517],\n",
       "       [-0.07038226, -0.58320797]])"
      ]
     },
     "execution_count": 157,
     "metadata": {},
     "output_type": "execute_result"
    }
   ],
   "source": [
    "# For Tableau visualization\n",
    "X_test_comp = lda.transform(X_test_sc)\n",
    "X_test_comp    # LDA component1, component2"
   ]
  },
  {
   "cell_type": "code",
   "execution_count": 158,
   "id": "953f18fc",
   "metadata": {
    "ExecuteTime": {
     "end_time": "2021-09-15T06:48:22.944573Z",
     "start_time": "2021-09-15T06:48:22.913566Z"
    },
    "hidden": true
   },
   "outputs": [
    {
     "data": {
      "text/html": [
       "<div>\n",
       "<style scoped>\n",
       "    .dataframe tbody tr th:only-of-type {\n",
       "        vertical-align: middle;\n",
       "    }\n",
       "\n",
       "    .dataframe tbody tr th {\n",
       "        vertical-align: top;\n",
       "    }\n",
       "\n",
       "    .dataframe thead th {\n",
       "        text-align: right;\n",
       "    }\n",
       "</style>\n",
       "<table border=\"1\" class=\"dataframe\">\n",
       "  <thead>\n",
       "    <tr style=\"text-align: right;\">\n",
       "      <th></th>\n",
       "      <th>Component 1</th>\n",
       "      <th>Component 2</th>\n",
       "      <th>Prediction</th>\n",
       "    </tr>\n",
       "  </thead>\n",
       "  <tbody>\n",
       "    <tr>\n",
       "      <th>0</th>\n",
       "      <td>-0.590819</td>\n",
       "      <td>1.308915</td>\n",
       "      <td>L</td>\n",
       "    </tr>\n",
       "    <tr>\n",
       "      <th>1</th>\n",
       "      <td>-1.823696</td>\n",
       "      <td>2.577972</td>\n",
       "      <td>XL</td>\n",
       "    </tr>\n",
       "    <tr>\n",
       "      <th>2</th>\n",
       "      <td>-0.429057</td>\n",
       "      <td>-1.770286</td>\n",
       "      <td>M</td>\n",
       "    </tr>\n",
       "    <tr>\n",
       "      <th>3</th>\n",
       "      <td>-0.049638</td>\n",
       "      <td>0.877308</td>\n",
       "      <td>M</td>\n",
       "    </tr>\n",
       "    <tr>\n",
       "      <th>4</th>\n",
       "      <td>-1.143651</td>\n",
       "      <td>0.023722</td>\n",
       "      <td>XL</td>\n",
       "    </tr>\n",
       "    <tr>\n",
       "      <th>...</th>\n",
       "      <td>...</td>\n",
       "      <td>...</td>\n",
       "      <td>...</td>\n",
       "    </tr>\n",
       "    <tr>\n",
       "      <th>31474</th>\n",
       "      <td>0.414566</td>\n",
       "      <td>-0.708678</td>\n",
       "      <td>M</td>\n",
       "    </tr>\n",
       "    <tr>\n",
       "      <th>31475</th>\n",
       "      <td>-2.526342</td>\n",
       "      <td>-2.269115</td>\n",
       "      <td>XXXL</td>\n",
       "    </tr>\n",
       "    <tr>\n",
       "      <th>31476</th>\n",
       "      <td>3.419340</td>\n",
       "      <td>-0.004241</td>\n",
       "      <td>XXS</td>\n",
       "    </tr>\n",
       "    <tr>\n",
       "      <th>31477</th>\n",
       "      <td>-1.203135</td>\n",
       "      <td>1.067425</td>\n",
       "      <td>XL</td>\n",
       "    </tr>\n",
       "    <tr>\n",
       "      <th>31478</th>\n",
       "      <td>-0.070382</td>\n",
       "      <td>-0.583208</td>\n",
       "      <td>M</td>\n",
       "    </tr>\n",
       "  </tbody>\n",
       "</table>\n",
       "<p>31479 rows × 3 columns</p>\n",
       "</div>"
      ],
      "text/plain": [
       "       Component 1  Component 2 Prediction\n",
       "0        -0.590819     1.308915          L\n",
       "1        -1.823696     2.577972         XL\n",
       "2        -0.429057    -1.770286          M\n",
       "3        -0.049638     0.877308          M\n",
       "4        -1.143651     0.023722         XL\n",
       "...            ...          ...        ...\n",
       "31474     0.414566    -0.708678          M\n",
       "31475    -2.526342    -2.269115       XXXL\n",
       "31476     3.419340    -0.004241        XXS\n",
       "31477    -1.203135     1.067425         XL\n",
       "31478    -0.070382    -0.583208          M\n",
       "\n",
       "[31479 rows x 3 columns]"
      ]
     },
     "execution_count": 158,
     "metadata": {},
     "output_type": "execute_result"
    }
   ],
   "source": [
    "lda_df = pd.DataFrame(X_test_comp, columns=['Component 1', 'Component 2'])\n",
    "lda_df['Prediction'] = lda.predict(X_test_sc)   # Add a column of target\n",
    "lda_df"
   ]
  },
  {
   "cell_type": "code",
   "execution_count": 159,
   "id": "934a2797",
   "metadata": {
    "ExecuteTime": {
     "end_time": "2021-09-15T06:48:23.072602Z",
     "start_time": "2021-09-15T06:48:22.946573Z"
    },
    "hidden": true
   },
   "outputs": [
    {
     "name": "stdout",
     "output_type": "stream",
     "text": [
      "Export completed-------------------------------\n"
     ]
    }
   ],
   "source": [
    "# Export to csv for Tableau\n",
    "lda_df.to_csv('../data/data4_age_included.csv')\n",
    "print('Export completed-------------------------------')"
   ]
  },
  {
   "cell_type": "markdown",
   "id": "ed4e55d2",
   "metadata": {
    "hidden": true
   },
   "source": [
    "### Logistic Regression after LDA"
   ]
  },
  {
   "cell_type": "code",
   "execution_count": 160,
   "id": "d2130252",
   "metadata": {
    "ExecuteTime": {
     "end_time": "2021-09-15T06:48:25.675568Z",
     "start_time": "2021-09-15T06:48:23.073602Z"
    },
    "hidden": true
   },
   "outputs": [
    {
     "data": {
      "text/plain": [
       "0.5156135836589473"
      ]
     },
     "execution_count": 160,
     "metadata": {},
     "output_type": "execute_result"
    }
   ],
   "source": [
    "# Transform X by LDA\n",
    "X_train_comp = lda.transform(X_train_sc)\n",
    "\n",
    "# Logistic Regression\n",
    "logi = LogisticRegression()\n",
    "logi.fit(X_train_comp, y_train)\n",
    "logi.score(X_test_comp, y_test)   # Not much improved"
   ]
  },
  {
   "cell_type": "code",
   "execution_count": 169,
   "id": "49756de5",
   "metadata": {
    "ExecuteTime": {
     "end_time": "2021-09-15T12:14:23.819019Z",
     "start_time": "2021-09-15T12:14:22.569326Z"
    },
    "hidden": true
   },
   "outputs": [
    {
     "name": "stdout",
     "output_type": "stream",
     "text": [
      "              precision    recall  f1-score   support\n",
      "\n",
      "           L       0.38      0.14      0.21      4809\n",
      "           M       0.48      0.67      0.56      8262\n",
      "           S       0.50      0.50      0.50      5787\n",
      "          XL       0.43      0.46      0.45      5115\n",
      "         XXL       0.00      0.00      0.00        10\n",
      "         XXS       0.62      0.45      0.52      2722\n",
      "        XXXL       0.73      0.73      0.73      4774\n",
      "\n",
      "    accuracy                           0.52     31479\n",
      "   macro avg       0.45      0.42      0.42     31479\n",
      "weighted avg       0.51      0.52      0.50     31479\n",
      "\n"
     ]
    }
   ],
   "source": [
    "print(classification_report(y_test, logi.predict(X_test_comp)))"
   ]
  },
  {
   "cell_type": "markdown",
   "id": "32dbfa00",
   "metadata": {
    "hidden": true
   },
   "source": [
    "> **Accuracy: 51.6%**"
   ]
  },
  {
   "cell_type": "markdown",
   "id": "19594d5e",
   "metadata": {
    "heading_collapsed": true
   },
   "source": [
    "## Quadratic Discriminant Analysis (QDA)"
   ]
  },
  {
   "cell_type": "code",
   "execution_count": 161,
   "id": "f1a5bd9a",
   "metadata": {
    "ExecuteTime": {
     "end_time": "2021-09-15T06:48:25.691571Z",
     "start_time": "2021-09-15T06:48:25.677570Z"
    },
    "hidden": true
   },
   "outputs": [],
   "source": [
    "from sklearn.discriminant_analysis import QuadraticDiscriminantAnalysis as QDA"
   ]
  },
  {
   "cell_type": "code",
   "execution_count": 162,
   "id": "84b92591",
   "metadata": {
    "ExecuteTime": {
     "end_time": "2021-09-15T06:48:25.787517Z",
     "start_time": "2021-09-15T06:48:25.693572Z"
    },
    "hidden": true
   },
   "outputs": [
    {
     "data": {
      "text/plain": [
       "0.5149782394612281"
      ]
     },
     "execution_count": 162,
     "metadata": {},
     "output_type": "execute_result"
    }
   ],
   "source": [
    "qda = QDA()\n",
    "qda.fit(X_train_sc, y_train)\n",
    "qda.score(X_test_sc,y_test)    # Not a big difference with LDA"
   ]
  },
  {
   "cell_type": "markdown",
   "id": "b07ef093",
   "metadata": {
    "hidden": true
   },
   "source": [
    "> **Accuracy: 51.5%**"
   ]
  },
  {
   "cell_type": "markdown",
   "id": "93aeea26",
   "metadata": {},
   "source": [
    "## Conclusion"
   ]
  },
  {
   "cell_type": "markdown",
   "id": "751eb5de",
   "metadata": {},
   "source": [
    "**1. Logistic Regression**: Accuracy: 51.4%, f1 score(weighted): 0.50<br>\n",
    "**2. Support Vector Machine**: Accuracy: 51.8%<br>\n",
    "**3. K-Nearest Neighbors**: Accuracy: 51.8%, f1-score(weighted): 0.50<br>\n",
    "**4. Decision Tree**: Accuracy: 50.7%, f1-score(weighted): 0.49<br>\n",
    "**5. Naive Bayes**: Accuracy: 48.4%, f1-score(weighted): 0.48<br>\n",
    "**6. Ensemble Model 1) Voting**: Accuracy: 51.9%<br>\n",
    "**7. Ensemble Model 2) Bagging - Random Forest**: Accuracy: 52.3%, f1-score(weighted): 0.51 **[selected]**<br>\n",
    "**8. Ensemble Model 3) Boosting - XGboost**: Accuracy: 51.9%, f1-score(weighted): 0.51<br>\n",
    "**9. Linear Discriminant Analysis**: Accuracy: 51.6%<br>\n",
    "**10. Quadratic Discriminant Analysis**: Accuracy: 51.5%<br>"
   ]
  }
 ],
 "metadata": {
  "kernelspec": {
   "display_name": "Python 3",
   "language": "python",
   "name": "python3"
  },
  "language_info": {
   "codemirror_mode": {
    "name": "ipython",
    "version": 3
   },
   "file_extension": ".py",
   "mimetype": "text/x-python",
   "name": "python",
   "nbconvert_exporter": "python",
   "pygments_lexer": "ipython3",
   "version": "3.8.8"
  },
  "toc": {
   "base_numbering": 1,
   "nav_menu": {},
   "number_sections": true,
   "sideBar": true,
   "skip_h1_title": false,
   "title_cell": "Table of Contents",
   "title_sidebar": "Contents",
   "toc_cell": false,
   "toc_position": {},
   "toc_section_display": true,
   "toc_window_display": false
  }
 },
 "nbformat": 4,
 "nbformat_minor": 5
}
